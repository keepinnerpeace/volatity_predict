{
 "cells": [
  {
   "cell_type": "markdown",
   "id": "969f2a55",
   "metadata": {},
   "source": [
    "背景：\n",
    "通过过去的10分钟订单簿数据和交易数据，预测接下来10分钟的股票波动率\n",
    "112支股票，3830个时间窗口，414287个目标波动率，每个时间窗口有600个意向数据(理想情况下，目前平均每个时间窗口有400多个意向数据)\n",
    "每个时间窗口有600个交易数据(理想情况下，目前平均每个时间窗口有80多个交易数据)"
   ]
  },
  {
   "cell_type": "markdown",
   "id": "8939e6a5",
   "metadata": {},
   "source": [
    "1、做了什么工作？\n",
    "\n",
    "2、怎么实现的？\n",
    "\n",
    "3、为什么这么做？\n",
    "\n",
    "4、要是自己自己会怎么做？\n",
    "\n",
    "5、有哪些工作是可以应用到后续的实践中的？"
   ]
  },
  {
   "cell_type": "markdown",
   "id": "f2b0be6e",
   "metadata": {},
   "source": [
    "112支股票的time_id都是一致的"
   ]
  },
  {
   "cell_type": "code",
   "execution_count": 1,
   "id": "6a6531bb",
   "metadata": {
    "execution": {
     "iopub.execute_input": "2022-01-23T02:25:59.618292Z",
     "iopub.status.busy": "2022-01-23T02:25:59.616635Z",
     "iopub.status.idle": "2022-01-23T02:26:03.021510Z",
     "shell.execute_reply": "2022-01-23T02:26:03.020936Z",
     "shell.execute_reply.started": "2022-01-19T11:20:17.036084Z"
    },
    "papermill": {
     "duration": 3.439413,
     "end_time": "2022-01-23T02:26:03.021680",
     "exception": false,
     "start_time": "2022-01-23T02:25:59.582267",
     "status": "completed"
    },
    "tags": []
   },
   "outputs": [
    {
     "data": {
      "text/html": [
       "<style type='text/css'>\n",
       ".datatable table.frame { margin-bottom: 0; }\n",
       ".datatable table.frame thead { border-bottom: none; }\n",
       ".datatable table.frame tr.coltypes td {  color: #FFFFFF;  line-height: 6px;  padding: 0 0.5em;}\n",
       ".datatable .bool    { background: #DDDD99; }\n",
       ".datatable .object  { background: #565656; }\n",
       ".datatable .int     { background: #5D9E5D; }\n",
       ".datatable .float   { background: #4040CC; }\n",
       ".datatable .str     { background: #CC4040; }\n",
       ".datatable .time    { background: #40CC40; }\n",
       ".datatable .row_index {  background: var(--jp-border-color3);  border-right: 1px solid var(--jp-border-color0);  color: var(--jp-ui-font-color3);  font-size: 9px;}\n",
       ".datatable .frame tbody td { text-align: left; }\n",
       ".datatable .frame tr.coltypes .row_index {  background: var(--jp-border-color0);}\n",
       ".datatable th:nth-child(2) { padding-left: 12px; }\n",
       ".datatable .hellipsis {  color: var(--jp-cell-editor-border-color);}\n",
       ".datatable .vellipsis {  background: var(--jp-layout-color0);  color: var(--jp-cell-editor-border-color);}\n",
       ".datatable .na {  color: var(--jp-cell-editor-border-color);  font-size: 80%;}\n",
       ".datatable .sp {  opacity: 0.25;}\n",
       ".datatable .footer { font-size: 9px; }\n",
       ".datatable .frame_dimensions {  background: var(--jp-border-color3);  border-top: 1px solid var(--jp-border-color0);  color: var(--jp-ui-font-color3);  display: inline-block;  opacity: 0.6;  padding: 1px 10px 1px 5px;}\n",
       "</style>\n"
      ],
      "text/plain": [
       "<IPython.core.display.HTML object>"
      ]
     },
     "metadata": {},
     "output_type": "display_data"
    }
   ],
   "source": [
    "import gc\n",
    "import glob\n",
    "import os\n",
    "import time\n",
    "import traceback\n",
    "from contextlib import contextmanager\n",
    "from enum import Enum\n",
    "from typing import Dict, List, Optional, Tuple\n",
    "\n",
    "import seaborn as sns\n",
    "import pandas as pd\n",
    "import numpy as np\n",
    "import matplotlib.pyplot as plt\n",
    "import lightgbm as lgb\n",
    "from IPython.display import display\n",
    "\n",
    "from joblib import delayed, Parallel\n",
    "from sklearn.decomposition import LatentDirichletAllocation\n",
    "from sklearn.manifold import TSNE\n",
    "from sklearn.model_selection import GroupKFold\n",
    "from sklearn.neighbors import NearestNeighbors\n",
    "from sklearn.preprocessing import minmax_scale\n",
    "from tqdm import tqdm_notebook as tqdm\n",
    "\n",
    "\n",
    "%matplotlib inline\n",
    "\n",
    "DATA_DIR = '../input'\n",
    "\n",
    "# data configurations\n",
    "USE_PRECOMPUTE_FEATURES = True  \n",
    "# Load precomputed features for train.csv from private dataset (just for speed up)\n",
    "\n",
    "# model & ensemble configurations\n",
    "PREDICT_CNN = True\n",
    "PREDICT_MLP = True\n",
    "PREDICT_GBDT = True\n",
    "PREDICT_TABNET = False\n",
    "\n",
    "GBDT_NUM_MODELS = 5 #3\n",
    "GBDT_LR = 0.02  # 0.1\n",
    "\n",
    "NN_VALID_TH = 0.185\n",
    "NN_MODEL_TOP_N = 3\n",
    "TAB_MODEL_TOP_N = 3\n",
    "ENSEMBLE_METHOD = 'mean'\n",
    "NN_NUM_MODELS = 10\n",
    "TABNET_NUM_MODELS = 5\n",
    "\n",
    "# for saving quota\n",
    "IS_1ST_STAGE = False\n",
    "SHORTCUT_NN_IN_1ST_STAGE = False  # early-stop training to save GPU quota\n",
    "SHORTCUT_GBDT_IN_1ST_STAGE = False\n",
    "MEMORY_TEST_MODE = False\n",
    "\n",
    "# for ablation studies\n",
    "CV_SPLIT = 'time'  # 'time': time-series KFold 'group': GroupKFold by stock-id\n",
    "USE_PRICE_NN_FEATURES = True  # Use nearest neighbor features that rely on tick size\n",
    "USE_VOL_NN_FEATURES = True  # Use nearest neighbor features that can be calculated without tick size\n",
    "USE_SIZE_NN_FEATURES = True  # Use nearest neighbor features that can be calculated without tick size\n",
    "USE_RANDOM_NN_FEATURES = False  # Use random index to aggregate neighbors\n",
    "\n",
    "USE_TIME_ID_NN = True  # Use time-id based neighbors\n",
    "USE_STOCK_ID_NN = True  # Use stock-id based neighbors\n",
    "\n",
    "ENABLE_RANK_NORMALIZATION = True  # Enable rank-normalization\n",
    "\n",
    "\n",
    "@contextmanager\n",
    "def timer(name: str):\n",
    "    s = time.time()\n",
    "    yield\n",
    "    elapsed = time.time() - s\n",
    "    print(f'[{name}] {elapsed: .3f}sec')\n",
    "    \n",
    "def print_trace(name: str = ''):\n",
    "    print(f'ERROR RAISED IN {name or \"anonymous\"}')\n",
    "    print(traceback.format_exc())"
   ]
  },
  {
   "cell_type": "code",
   "execution_count": 2,
   "id": "5450aeb6",
   "metadata": {
    "execution": {
     "iopub.execute_input": "2022-01-23T02:26:03.083062Z",
     "iopub.status.busy": "2022-01-23T02:26:03.082368Z",
     "iopub.status.idle": "2022-01-23T02:26:30.045911Z",
     "shell.execute_reply": "2022-01-23T02:26:30.045272Z",
     "shell.execute_reply.started": "2022-01-19T11:20:20.281019Z"
    },
    "papermill": {
     "duration": 26.995924,
     "end_time": "2022-01-23T02:26:30.046046",
     "exception": false,
     "start_time": "2022-01-23T02:26:03.050122",
     "status": "completed"
    },
    "tags": []
   },
   "outputs": [
    {
     "name": "stdout",
     "output_type": "stream",
     "text": [
      "\u001b[33mWARNING: Running pip as root will break packages and permissions. You should install packages reliably by using venv: https://pip.pypa.io/warnings/venv\u001b[0m\r\n"
     ]
    }
   ],
   "source": [
    "!pip -q install ../input/pytorchtabnet/pytorch_tabnet-2.0.1-py3-none-any.whl"
   ]
  },
  {
   "cell_type": "code",
   "execution_count": 3,
   "id": "1e9283ac",
   "metadata": {
    "execution": {
     "iopub.execute_input": "2022-01-23T02:26:30.105533Z",
     "iopub.status.busy": "2022-01-23T02:26:30.104748Z",
     "iopub.status.idle": "2022-01-23T02:26:30.415719Z",
     "shell.execute_reply": "2022-01-23T02:26:30.416330Z",
     "shell.execute_reply.started": "2022-01-19T11:20:47.625381Z"
    },
    "papermill": {
     "duration": 0.341799,
     "end_time": "2022-01-23T02:26:30.416539",
     "exception": false,
     "start_time": "2022-01-23T02:26:30.074740",
     "status": "completed"
    },
    "tags": []
   },
   "outputs": [],
   "source": [
    "train = pd.read_csv(os.path.join(DATA_DIR, 'optiver-realized-volatility-prediction', 'train.csv'))\n",
    "stock_ids = set(train['stock_id'])"
   ]
  },
  {
   "cell_type": "markdown",
   "id": "8ca302f1",
   "metadata": {},
   "source": [
    "没有缺失值，数据质量很高，原始数据共有13个特征：\n",
    "\n",
    "实际交易数据里面包含4个：具体交易时间、交易价格、交易数量、\n",
    "交易订单数量\n",
    "\n",
    "交易意向数据里面有9个特征，最具竞争力的第一第二买卖价格、数量、具体发生的时间。"
   ]
  },
  {
   "cell_type": "markdown",
   "id": "8e67a8c8",
   "metadata": {
    "papermill": {
     "duration": 0.030693,
     "end_time": "2022-01-23T02:26:30.479103",
     "exception": false,
     "start_time": "2022-01-23T02:26:30.448410",
     "status": "completed"
    },
    "tags": []
   },
   "source": [
    "## Feature Engineering\n",
    "\n",
    "### Base Features"
   ]
  },
  {
   "cell_type": "markdown",
   "id": "0e35546a",
   "metadata": {},
   "source": [
    "book_train特征数量49个，四个时间窗口：150/300/450/600s\n",
    "\n",
    "trade_train特征数量4个，四个时间窗口：150/300/450/600s\n",
    "\n",
    "共计49+4=53*4=212个\n",
    "\n",
    "每只股票每个时间窗口都有一个最小的价格刻度，\n",
    "\n",
    "基础特征构造阶段一共有213个特征，实际是54个，不过是53个特征\n",
    "\n",
    "多加了几个时间窗口"
   ]
  },
  {
   "cell_type": "code",
   "execution_count": 4,
   "id": "8a9bcf32",
   "metadata": {
    "_kg_hide-input": true,
    "execution": {
     "iopub.execute_input": "2022-01-23T02:26:30.573125Z",
     "iopub.status.busy": "2022-01-23T02:26:30.553308Z",
     "iopub.status.idle": "2022-01-23T02:26:30.575466Z",
     "shell.execute_reply": "2022-01-23T02:26:30.575064Z",
     "shell.execute_reply.started": "2022-01-19T11:20:47.920189Z"
    },
    "papermill": {
     "duration": 0.067985,
     "end_time": "2022-01-23T02:26:30.575573",
     "exception": false,
     "start_time": "2022-01-23T02:26:30.507588",
     "status": "completed"
    },
    "tags": []
   },
   "outputs": [],
   "source": [
    "class DataBlock(Enum):\n",
    "    TRAIN = 1\n",
    "    TEST = 2\n",
    "    BOTH = 3\n",
    "\n",
    "\n",
    "def load_stock_data(stock_id: int, directory: str) -> pd.DataFrame:\n",
    "    return pd.read_parquet(os.path.join(DATA_DIR, 'optiver-realized-volatility-prediction', \n",
    "                                        directory, f'stock_id={stock_id}'))\n",
    "\n",
    "\n",
    "def load_data(stock_id: int, stem: str, block: DataBlock) -> pd.DataFrame:\n",
    "    if block == DataBlock.TRAIN:\n",
    "        return load_stock_data(stock_id, f'{stem}_train.parquet')\n",
    "    elif block == DataBlock.TEST:\n",
    "        return load_stock_data(stock_id, f'{stem}_test.parquet')\n",
    "    else:\n",
    "        return pd.concat([\n",
    "            load_data(stock_id, stem, DataBlock.TRAIN),\n",
    "            load_data(stock_id, stem, DataBlock.TEST)\n",
    "        ]).reset_index(drop=True)\n",
    "\n",
    "def load_book(stock_id: int, block: DataBlock=DataBlock.TRAIN) -> pd.DataFrame:\n",
    "    return load_data(stock_id, 'book', block)\n",
    "\n",
    "\n",
    "def load_trade(stock_id: int, block=DataBlock.TRAIN) -> pd.DataFrame:\n",
    "    return load_data(stock_id, 'trade', block)\n",
    "\n",
    "\n",
    "def calc_wap1(df: pd.DataFrame) -> pd.Series:\n",
    "    wap = (df['bid_price1'] * df['ask_size1'] + \n",
    "           df['ask_price1'] * df['bid_size1']) / (df['bid_size1'] + df['ask_size1'])\n",
    "    return wap\n",
    "\n",
    "\n",
    "def calc_wap2(df: pd.DataFrame) -> pd.Series:\n",
    "    wap = (df['bid_price2'] * df['ask_size2'] + \n",
    "           df['ask_price2'] * df['bid_size2']) / (df['bid_size2'] + df['ask_size2'])\n",
    "    return wap\n",
    "\n",
    "\n",
    "def realized_volatility(series):\n",
    "    return np.sqrt(np.sum(series**2))\n",
    "\n",
    "\n",
    "def log_return(series: np.ndarray):\n",
    "    return np.log(series).diff()\n",
    "\n",
    "\n",
    "def log_return_df2(series: np.ndarray):\n",
    "    return np.log(series).diff(2)\n",
    "\n",
    "\n",
    "\n",
    "def flatten_name(prefix, src_names):\n",
    "    ret = []\n",
    "    for c in src_names:\n",
    "        if c[0] in ['time_id', 'stock_id']:\n",
    "            ret.append(c[0])\n",
    "        else:\n",
    "            ret.append('.'.join([prefix] + list(c)))\n",
    "    return ret\n",
    "\n",
    "\n",
    "#订单簿数据特征构造\n",
    "def make_book_feature(stock_id, block = DataBlock.TRAIN):\n",
    "    book = load_book(stock_id, block)\n",
    "    #使用买卖双方的最好价格和数量来计算加权平均价格\n",
    "    book['wap1'] = calc_wap1(book)\n",
    "    #使用买卖双方的第二好价格和数量来计算加权平均价格\n",
    "    book['wap2'] = calc_wap2(book)\n",
    "    #计算对数回报\n",
    "    book['log_return1'] = book.groupby(['time_id'])['wap1'].apply(log_return)\n",
    "    book['log_return2'] = book.groupby(['time_id'])['wap2'].apply(log_return)\n",
    "    #直接使用买卖双方的价格计算对数回报\n",
    "    book['log_return_ask1'] = book.groupby(['time_id'])['ask_price1'].apply(log_return)\n",
    "    book['log_return_ask2'] = book.groupby(['time_id'])['ask_price2'].apply(log_return)\n",
    "    book['log_return_bid1'] = book.groupby(['time_id'])['bid_price1'].apply(log_return)\n",
    "    book['log_return_bid2'] = book.groupby(['time_id'])['bid_price2'].apply(log_return)\n",
    "    #加权平均价格的差异大小\n",
    "    book['wap_balance'] = abs(book['wap1'] - book['wap2'])\n",
    "    #买卖差价\n",
    "    book['price_spread'] = (book['ask_price1'] - book['bid_price1']) / ((book['ask_price1']\n",
    "                                                                         + book['bid_price1']) / 2)\n",
    "    book['bid_spread'] = book['bid_price1'] - book['bid_price2']\n",
    "    book['ask_spread'] = book['ask_price1'] - book['ask_price2']\n",
    "    #买卖股票数量\n",
    "    book['total_volume'] = (book['ask_size1'] + book['ask_size2']) + \n",
    "    (book['bid_size1'] + book['bid_size2'])\n",
    "    book['volume_imbalance'] = abs((book['ask_size1'] + book['ask_size2']) - (book['bid_size1'] \n",
    "                                                                              + book['bid_size2']))\n",
    "    #聚合统计特征\n",
    "    features = {\n",
    "        'seconds_in_bucket': ['count'],\n",
    "        'wap1': [np.sum, np.mean, np.std],\n",
    "        'wap2': [np.sum, np.mean, np.std],\n",
    "        'log_return1': [np.sum, realized_volatility, np.mean, np.std],\n",
    "        'log_return2': [np.sum, realized_volatility, np.mean, np.std],\n",
    "        'log_return_ask1': [np.sum, realized_volatility, np.mean, np.std],\n",
    "        'log_return_ask2': [np.sum, realized_volatility, np.mean, np.std],\n",
    "        'log_return_bid1': [np.sum, realized_volatility, np.mean, np.std],\n",
    "        'log_return_bid2': [np.sum, realized_volatility, np.mean, np.std],\n",
    "        'wap_balance': [np.sum, np.mean, np.std],\n",
    "        'price_spread':[np.sum, np.mean, np.std],\n",
    "        'bid_spread':[np.sum, np.mean, np.std],\n",
    "        'ask_spread':[np.sum, np.mean, np.std],\n",
    "        'total_volume':[np.sum, np.mean, np.std],\n",
    "        'volume_imbalance':[np.sum, np.mean, np.std]\n",
    "    }\n",
    "    \n",
    "    agg = book.groupby('time_id').agg(features).reset_index(drop=False)\n",
    "    agg.columns = flatten_name('book', agg.columns)\n",
    "    agg['stock_id'] = stock_id\n",
    "    \n",
    "    #构造450/300/150秒区间内的\n",
    "    for time in [450, 300, 150]:\n",
    "        d = book[book['seconds_in_bucket'] >= time].groupby('time_id').agg(features).reset_index(drop=False)\n",
    "        d.columns = flatten_name(f'book_{time}', d.columns)\n",
    "        agg = pd.merge(agg, d, on='time_id', how='left')\n",
    "    return agg\n",
    "\n",
    "#交易数据特征构造\n",
    "def make_trade_feature(stock_id, block = DataBlock.TRAIN):\n",
    "    trade = load_trade(stock_id, block)\n",
    "    trade['log_return'] = trade.groupby('time_id')['price'].apply(log_return)\n",
    "\n",
    "    features = {\n",
    "        'log_return':[realized_volatility],\n",
    "        'seconds_in_bucket':['count'],\n",
    "        'size':[np.sum],\n",
    "        'order_count':[np.mean],\n",
    "    }\n",
    "\n",
    "    agg = trade.groupby('time_id').agg(features).reset_index()\n",
    "    agg.columns = flatten_name('trade', agg.columns)\n",
    "    agg['stock_id'] = stock_id\n",
    "        \n",
    "    for time in [450, 300, 150]:\n",
    "        d = trade[trade['seconds_in_bucket'] >= time].groupby('time_id').agg(features).reset_index(drop=False)\n",
    "        d.columns = flatten_name(f'trade_{time}', d.columns)\n",
    "        agg = pd.merge(agg, d, on='time_id', how='left')\n",
    "    return agg\n",
    "\n",
    "#求解每个时间窗口的最小价格刻度\n",
    "def make_book_feature_v2(stock_id, block = DataBlock.TRAIN):\n",
    "    book = load_book(stock_id, block)\n",
    "\n",
    "    prices = book.set_index('time_id')[['bid_price1', 'ask_price1', 'bid_price2', 'ask_price2']]\n",
    "    time_ids = list(set(prices.index))\n",
    "\n",
    "    ticks = {}\n",
    "    for tid in time_ids:\n",
    "        try:\n",
    "            price_list = prices.loc[tid].values.flatten()\n",
    "            price_diff = sorted(np.diff(sorted(set(price_list))))\n",
    "            ticks[tid] = price_diff[0]\n",
    "        except Exception:\n",
    "            print_trace(f'tid={tid}')\n",
    "            ticks[tid] = np.nan\n",
    "        \n",
    "    dst = pd.DataFrame()\n",
    "    dst['time_id'] = np.unique(book['time_id'])\n",
    "    dst['stock_id'] = stock_id\n",
    "    dst['tick_size'] = dst['time_id'].map(ticks)\n",
    "\n",
    "    return dst\n",
    "\n",
    "#生成构造特征的函数\n",
    "def make_features(base, block):\n",
    "    stock_ids = set(base['stock_id'])\n",
    "    with timer('books'):\n",
    "        books = Parallel(n_jobs=-1)(delayed(make_book_feature)(i, block) for i in stock_ids)\n",
    "        book = pd.concat(books)\n",
    "\n",
    "    with timer('trades'):\n",
    "        trades = Parallel(n_jobs=-1)(delayed(make_trade_feature)(i, block) for i in stock_ids)\n",
    "        trade = pd.concat(trades)\n",
    "\n",
    "    with timer('extra features'):\n",
    "        df = pd.merge(base, book, on=['stock_id', 'time_id'], how='left')\n",
    "        df = pd.merge(df, trade, on=['stock_id', 'time_id'], how='left')\n",
    "        #df = make_extra_features(df)\n",
    "\n",
    "    return df\n",
    "\n",
    "#把求解的最小价格刻度添加到元数据中\n",
    "def make_features_v2(base, block):\n",
    "    stock_ids = set(base['stock_id'])\n",
    "    with timer('books(v2)'):\n",
    "        books = Parallel(n_jobs=-1)(delayed(make_book_feature_v2)(i, block) for i in stock_ids)\n",
    "        book_v2 = pd.concat(books)\n",
    "\n",
    "    d = pd.merge(base, book_v2, on=['stock_id', 'time_id'], how='left')\n",
    "    return d"
   ]
  },
  {
   "cell_type": "code",
   "execution_count": 5,
   "id": "73c6b213",
   "metadata": {
    "execution": {
     "iopub.execute_input": "2022-01-23T02:26:30.639029Z",
     "iopub.status.busy": "2022-01-23T02:26:30.638303Z",
     "iopub.status.idle": "2022-01-23T02:26:41.422225Z",
     "shell.execute_reply": "2022-01-23T02:26:41.421651Z",
     "shell.execute_reply.started": "2022-01-19T11:20:47.961136Z"
    },
    "papermill": {
     "duration": 10.818325,
     "end_time": "2022-01-23T02:26:41.422361",
     "exception": false,
     "start_time": "2022-01-23T02:26:30.604036",
     "status": "completed"
    },
    "tags": []
   },
   "outputs": [
    {
     "name": "stdout",
     "output_type": "stream",
     "text": [
      "[load feather]  7.129sec\n",
      "is 1st stage\n",
      "[books]  1.156sec\n",
      "[trades]  0.336sec\n",
      "[extra features]  0.062sec\n",
      "[books(v2)]  0.065sec\n",
      "(428932, 216)\n",
      "(3, 216)\n"
     ]
    }
   ],
   "source": [
    "#执行生成基础特征的函数，并将train数据和book/trade的数据合并\n",
    "if USE_PRECOMPUTE_FEATURES:\n",
    "    with timer('load feather'):\n",
    "        df = pd.read_feather(os.path.join(DATA_DIR, 'optiver-df2', 'features_v2.f'))\n",
    "else:\n",
    "    df = make_features(train, DataBlock.TRAIN)\n",
    "    # v2\n",
    "    df = make_features_v2(df, DataBlock.TRAIN)\n",
    "\n",
    "df.to_feather('features_v2.f')  # save cache\n",
    "\n",
    "\n",
    "\n",
    "test = pd.read_csv(os.path.join(DATA_DIR, 'optiver-realized-volatility-prediction', 'test.csv'))\n",
    "if len(test) == 3:\n",
    "    print('is 1st stage')\n",
    "    IS_1ST_STAGE = True\n",
    "\n",
    "if IS_1ST_STAGE and MEMORY_TEST_MODE:\n",
    "    print('use copy of training data as test data to immitate 2nd stage RAM usage.')\n",
    "    test_df = df.iloc[:170000].copy()\n",
    "    test_df['time_id'] += 32767\n",
    "    test_df['row_id'] = ''\n",
    "else:\n",
    "    test_df = make_features(test, DataBlock.TEST)\n",
    "    test_df = make_features_v2(test_df, DataBlock.TEST)\n",
    "\n",
    "print(df.shape)\n",
    "print(test_df.shape)\n",
    "df = pd.concat([df, test_df.drop('row_id', axis=1)]).reset_index(drop=True)"
   ]
  },
  {
   "cell_type": "markdown",
   "id": "e281cfe2",
   "metadata": {
    "papermill": {
     "duration": 0.028421,
     "end_time": "2022-01-23T02:26:41.480303",
     "exception": false,
     "start_time": "2022-01-23T02:26:41.451882",
     "status": "completed"
    },
    "tags": []
   },
   "source": [
    "### Nearest-Neighbor Features"
   ]
  },
  {
   "cell_type": "code",
   "execution_count": 6,
   "id": "0aca7436",
   "metadata": {
    "execution": {
     "iopub.execute_input": "2022-01-23T02:26:41.555136Z",
     "iopub.status.busy": "2022-01-23T02:26:41.550462Z",
     "iopub.status.idle": "2022-01-23T02:26:41.557458Z",
     "shell.execute_reply": "2022-01-23T02:26:41.557058Z",
     "shell.execute_reply.started": "2022-01-19T11:20:58.104849Z"
    },
    "papermill": {
     "duration": 0.048663,
     "end_time": "2022-01-23T02:26:41.557564",
     "exception": false,
     "start_time": "2022-01-23T02:26:41.508901",
     "status": "completed"
    },
    "tags": []
   },
   "outputs": [],
   "source": [
    "N_NEIGHBORS_MAX = 80\n",
    "\n",
    "class Neighbors:\n",
    "    def __init__(self, \n",
    "                 name: str, \n",
    "                 pivot: pd.DataFrame, \n",
    "                 p: float, \n",
    "                 metric: str = 'minkowski', \n",
    "                 metric_params: Optional[Dict] = None, \n",
    "                 exclude_self: bool = False):\n",
    "        self.name = name\n",
    "        self.exclude_self = exclude_self\n",
    "        self.p = p\n",
    "        self.metric = metric\n",
    "        \n",
    "        if metric == 'random':\n",
    "            n_queries = len(pivot)\n",
    "            self.neighbors = np.random.randint(n_queries, size=(n_queries, N_NEIGHBORS_MAX))\n",
    "        else:\n",
    "            nn = NearestNeighbors(\n",
    "                n_neighbors=N_NEIGHBORS_MAX, \n",
    "                p=p, \n",
    "                metric=metric, \n",
    "                metric_params=metric_params\n",
    "            )\n",
    "            nn.fit(pivot)\n",
    "            _, self.neighbors = nn.kneighbors(pivot, return_distance=True)\n",
    "\n",
    "        self.columns = self.index = self.feature_values = self.feature_col = None\n",
    "\n",
    "    def rearrange_feature_values(self, df: pd.DataFrame, feature_col: str) -> None:\n",
    "        raise NotImplementedError()\n",
    "\n",
    "    #构造近邻股票/时间窗口的特征\n",
    "    def make_nn_feature(self, n=5, agg=np.mean) -> pd.DataFrame:\n",
    "        assert self.feature_values is not None, \"should call rearrange_feature_values beforehand\"\n",
    "\n",
    "        start = 1 if self.exclude_self else 0\n",
    "\n",
    "        pivot_aggs = pd.DataFrame(\n",
    "            agg(self.feature_values[start:n,:,:], axis=0), \n",
    "            columns=self.columns, \n",
    "            index=self.index\n",
    "        )\n",
    "\n",
    "        dst = pivot_aggs.unstack().reset_index()\n",
    "        dst.columns = ['stock_id', 'time_id', f'{self.feature_col}_nn{n}_{self.name}_{agg.__name__}']\n",
    "        return dst\n",
    "\n",
    "\n",
    "class TimeIdNeighbors(Neighbors):\n",
    "    def rearrange_feature_values(self, df: pd.DataFrame, feature_col: str) -> None:\n",
    "        feature_pivot = df.pivot('time_id', 'stock_id', feature_col)\n",
    "        feature_pivot = feature_pivot.fillna(feature_pivot.mean())\n",
    "        feature_pivot.head()\n",
    "\n",
    "        feature_values = np.zeros((N_NEIGHBORS_MAX, *feature_pivot.shape))\n",
    "\n",
    "        for i in range(N_NEIGHBORS_MAX):\n",
    "            feature_values[i, :, :] += feature_pivot.values[self.neighbors[:, i], :]\n",
    "\n",
    "        self.columns = list(feature_pivot.columns)\n",
    "        self.index = list(feature_pivot.index)\n",
    "        self.feature_values = feature_values\n",
    "        self.feature_col = feature_col\n",
    "        \n",
    "    def __repr__(self) -> str:\n",
    "        return f\"time-id NN (name={self.name}, metric={self.metric}, p={self.p})\"\n",
    "\n",
    "\n",
    "class StockIdNeighbors(Neighbors):\n",
    "    #构造近似股票的数据\n",
    "    def rearrange_feature_values(self, df: pd.DataFrame, feature_col: str) -> None:\n",
    "        \"\"\"stock-id based nearest neighbor features\"\"\"\n",
    "        feature_pivot = df.pivot('time_id', 'stock_id', feature_col)\n",
    "        feature_pivot = feature_pivot.fillna(feature_pivot.mean())\n",
    "\n",
    "        feature_values = np.zeros((N_NEIGHBORS_MAX, *feature_pivot.shape))\n",
    "\n",
    "        for i in range(N_NEIGHBORS_MAX):\n",
    "            feature_values[i, :, :] += feature_pivot.values[:, self.neighbors[:, i]]\n",
    "\n",
    "        self.columns = list(feature_pivot.columns)\n",
    "        self.index = list(feature_pivot.index)\n",
    "        self.feature_values = feature_values\n",
    "        self.feature_col = feature_col\n",
    "        \n",
    "    def __repr__(self) -> str:\n",
    "        return f\"stock-id NN (name={self.name}, metric={self.metric}, p={self.p})\"\n"
   ]
  },
  {
   "cell_type": "code",
   "execution_count": 7,
   "id": "972a076e",
   "metadata": {
    "execution": {
     "iopub.execute_input": "2022-01-23T02:26:41.619972Z",
     "iopub.status.busy": "2022-01-23T02:26:41.619012Z",
     "iopub.status.idle": "2022-01-23T02:26:41.982083Z",
     "shell.execute_reply": "2022-01-23T02:26:41.981564Z",
     "shell.execute_reply.started": "2022-01-19T11:20:58.127333Z"
    },
    "papermill": {
     "duration": 0.395558,
     "end_time": "2022-01-23T02:26:41.982243",
     "exception": false,
     "start_time": "2022-01-23T02:26:41.586685",
     "status": "completed"
    },
    "tags": []
   },
   "outputs": [],
   "source": [
    "# the tau itself is meaningless for GBDT, but useful as input to aggregate in Nearest Neighbor features\n",
    "#tau 本身对 GBDT 没有意义，但可用作聚合最近邻特征的输入\n",
    "df['trade.tau'] = np.sqrt(1 / df['trade.seconds_in_bucket.count'])\n",
    "df['trade_150.tau'] = np.sqrt(1 / df['trade_150.seconds_in_bucket.count'])\n",
    "df['book.tau'] = np.sqrt(1 / df['book.seconds_in_bucket.count'])\n",
    "df['real_price'] = 0.01 / df['tick_size']"
   ]
  },
  {
   "cell_type": "markdown",
   "id": "be5a6240",
   "metadata": {
    "execution": {
     "iopub.execute_input": "2022-01-16T02:18:50.195022Z",
     "iopub.status.busy": "2022-01-16T02:18:50.1946Z",
     "iopub.status.idle": "2022-01-16T02:18:50.201136Z",
     "shell.execute_reply": "2022-01-16T02:18:50.199965Z",
     "shell.execute_reply.started": "2022-01-16T02:18:50.194964Z"
    },
    "papermill": {
     "duration": 0.030837,
     "end_time": "2022-01-23T02:26:42.050294",
     "exception": false,
     "start_time": "2022-01-23T02:26:42.019457",
     "status": "completed"
    },
    "tags": []
   },
   "source": [
    "#### Build Nearest Neighbors"
   ]
  },
  {
   "cell_type": "code",
   "execution_count": 8,
   "id": "64aead97",
   "metadata": {
    "execution": {
     "iopub.execute_input": "2022-01-23T02:26:42.123778Z",
     "iopub.status.busy": "2022-01-23T02:26:42.122544Z",
     "iopub.status.idle": "2022-01-23T02:33:32.953387Z",
     "shell.execute_reply": "2022-01-23T02:33:32.953798Z",
     "shell.execute_reply.started": "2022-01-19T11:20:58.499414Z"
    },
    "papermill": {
     "duration": 410.874751,
     "end_time": "2022-01-23T02:33:32.953989",
     "exception": false,
     "start_time": "2022-01-23T02:26:42.079238",
     "status": "completed"
    },
    "tags": []
   },
   "outputs": [
    {
     "name": "stdout",
     "output_type": "stream",
     "text": [
      "[knn fit]  410.800sec\n"
     ]
    }
   ],
   "source": [
    "time_id_neighbors: List[Neighbors] = []\n",
    "stock_id_neighbors: List[Neighbors] = []\n",
    "\n",
    "with timer('knn fit'):\n",
    "    df_pv = df[['stock_id', 'time_id']].copy()\n",
    "    df_pv['price'] = 0.01 / df['tick_size']\n",
    "    df_pv['vol'] = df['book.log_return1.realized_volatility']\n",
    "    df_pv['trade.tau'] = df['trade.tau']\n",
    "    df_pv['trade.size.sum'] = df['book.total_volume.sum']\n",
    "\n",
    "    if USE_PRICE_NN_FEATURES:\n",
    "        pivot = df_pv.pivot('time_id', 'stock_id', 'price')\n",
    "        pivot = pivot.fillna(pivot.mean())\n",
    "        pivot = pd.DataFrame(minmax_scale(pivot))\n",
    "\n",
    "        time_id_neighbors.append(\n",
    "            TimeIdNeighbors(\n",
    "                'time_price_c', \n",
    "                pivot, \n",
    "                p=2, \n",
    "                metric='canberra', \n",
    "                exclude_self=True\n",
    "            )\n",
    "        )\n",
    "        time_id_neighbors.append(\n",
    "            TimeIdNeighbors(\n",
    "                'time_price_m', \n",
    "                pivot, \n",
    "                p=2, \n",
    "                metric='mahalanobis',\n",
    "                metric_params={'V':np.cov(pivot.values.T)}\n",
    "            )\n",
    "        )\n",
    "        stock_id_neighbors.append(\n",
    "            StockIdNeighbors(\n",
    "                'stock_price_l1', \n",
    "                minmax_scale(pivot.transpose()), \n",
    "                p=1, \n",
    "                exclude_self=True)\n",
    "        )\n",
    "\n",
    "    if USE_VOL_NN_FEATURES:\n",
    "        pivot = df_pv.pivot('time_id', 'stock_id', 'vol')\n",
    "        pivot = pivot.fillna(pivot.mean())\n",
    "        pivot = pd.DataFrame(minmax_scale(pivot))\n",
    "\n",
    "        time_id_neighbors.append(\n",
    "            TimeIdNeighbors('time_vol_l1', pivot, p=1)\n",
    "        )\n",
    "        stock_id_neighbors.append(\n",
    "            StockIdNeighbors(\n",
    "                'stock_vol_l1', \n",
    "                minmax_scale(pivot.transpose()), \n",
    "                p=1, \n",
    "                exclude_self=True\n",
    "            )\n",
    "        )\n",
    "\n",
    "    if USE_SIZE_NN_FEATURES:\n",
    "        pivot = df_pv.pivot('time_id', 'stock_id', 'trade.size.sum')\n",
    "        pivot = pivot.fillna(pivot.mean())\n",
    "        pivot = pd.DataFrame(minmax_scale(pivot))\n",
    "\n",
    "        time_id_neighbors.append(\n",
    "            TimeIdNeighbors(\n",
    "                'time_size_m', \n",
    "                pivot, \n",
    "                p=2, \n",
    "                metric='mahalanobis', \n",
    "                metric_params={'V':np.cov(pivot.values.T)}\n",
    "            )\n",
    "        )\n",
    "        time_id_neighbors.append(\n",
    "            TimeIdNeighbors(\n",
    "                'time_size_c', \n",
    "                pivot, \n",
    "                p=2, \n",
    "                metric='canberra'\n",
    "            )\n",
    "        )\n",
    "        \n",
    "    if USE_RANDOM_NN_FEATURES:\n",
    "        pivot = df_pv.pivot('time_id', 'stock_id', 'vol')\n",
    "        pivot = pivot.fillna(pivot.mean())\n",
    "        pivot = pd.DataFrame(minmax_scale(pivot))\n",
    "\n",
    "        time_id_neighbors.append(\n",
    "            TimeIdNeighbors(\n",
    "                'time_random', \n",
    "                pivot, \n",
    "                p=2, \n",
    "                metric='random'\n",
    "            )\n",
    "        )\n",
    "        stock_id_neighbors.append(\n",
    "            StockIdNeighbors(\n",
    "                'stock_random', \n",
    "                pivot.transpose(), \n",
    "                p=2,\n",
    "                metric='random')\n",
    "        )\n",
    "\n",
    "\n",
    "if not USE_TIME_ID_NN:\n",
    "    time_id_neighbors = []\n",
    "    \n",
    "if not USE_STOCK_ID_NN:\n",
    "    stock_id_neighbors = []"
   ]
  },
  {
   "cell_type": "markdown",
   "id": "27029360",
   "metadata": {
    "papermill": {
     "duration": 0.028479,
     "end_time": "2022-01-23T02:33:33.011086",
     "exception": false,
     "start_time": "2022-01-23T02:33:32.982607",
     "status": "completed"
    },
    "tags": []
   },
   "source": [
    "#### Check Neighbor Indices"
   ]
  },
  {
   "cell_type": "code",
   "execution_count": 9,
   "id": "65fd5a8d",
   "metadata": {
    "execution": {
     "iopub.execute_input": "2022-01-23T02:33:33.073803Z",
     "iopub.status.busy": "2022-01-23T02:33:33.073080Z",
     "iopub.status.idle": "2022-01-23T02:33:33.075920Z",
     "shell.execute_reply": "2022-01-23T02:33:33.075471Z",
     "shell.execute_reply.started": "2022-01-19T11:27:55.548287Z"
    },
    "papermill": {
     "duration": 0.035942,
     "end_time": "2022-01-23T02:33:33.076032",
     "exception": false,
     "start_time": "2022-01-23T02:33:33.040090",
     "status": "completed"
    },
    "tags": []
   },
   "outputs": [],
   "source": [
    "def calculate_rank_correraltion(neighbors, top_n=5):\n",
    "    if not neighbors:\n",
    "        return\n",
    "    neighbor_indices = pd.DataFrame()\n",
    "    for n in neighbors:\n",
    "        neighbor_indices[n.name] = n.neighbors[:,:top_n].flatten()\n",
    "\n",
    "    sns.heatmap(neighbor_indices.corr('kendall'), annot=True)"
   ]
  },
  {
   "cell_type": "code",
   "execution_count": 10,
   "id": "c5123638",
   "metadata": {
    "execution": {
     "iopub.execute_input": "2022-01-23T02:33:33.138908Z",
     "iopub.status.busy": "2022-01-23T02:33:33.138122Z",
     "iopub.status.idle": "2022-01-23T02:33:33.192860Z",
     "shell.execute_reply": "2022-01-23T02:33:33.192422Z",
     "shell.execute_reply.started": "2022-01-19T11:27:55.555683Z"
    },
    "papermill": {
     "duration": 0.08837,
     "end_time": "2022-01-23T02:33:33.192975",
     "exception": false,
     "start_time": "2022-01-23T02:33:33.104605",
     "status": "completed"
    },
    "tags": []
   },
   "outputs": [
    {
     "name": "stdout",
     "output_type": "stream",
     "text": [
      "time-id NN (name=time_price_c, metric=canberra, p=2)\n"
     ]
    },
    {
     "data": {
      "text/html": [
       "<div>\n",
       "<style scoped>\n",
       "    .dataframe tbody tr th:only-of-type {\n",
       "        vertical-align: middle;\n",
       "    }\n",
       "\n",
       "    .dataframe tbody tr th {\n",
       "        vertical-align: top;\n",
       "    }\n",
       "\n",
       "    .dataframe thead th {\n",
       "        text-align: right;\n",
       "    }\n",
       "</style>\n",
       "<table border=\"1\" class=\"dataframe\">\n",
       "  <thead>\n",
       "    <tr style=\"text-align: right;\">\n",
       "      <th></th>\n",
       "      <th>top_1</th>\n",
       "      <th>top_2</th>\n",
       "      <th>top_3</th>\n",
       "      <th>top_4</th>\n",
       "      <th>top_5</th>\n",
       "      <th>top_6</th>\n",
       "      <th>top_7</th>\n",
       "      <th>top_8</th>\n",
       "      <th>top_9</th>\n",
       "      <th>top_10</th>\n",
       "    </tr>\n",
       "    <tr>\n",
       "      <th>time_id</th>\n",
       "      <th></th>\n",
       "      <th></th>\n",
       "      <th></th>\n",
       "      <th></th>\n",
       "      <th></th>\n",
       "      <th></th>\n",
       "      <th></th>\n",
       "      <th></th>\n",
       "      <th></th>\n",
       "      <th></th>\n",
       "    </tr>\n",
       "  </thead>\n",
       "  <tbody>\n",
       "    <tr>\n",
       "      <th>5</th>\n",
       "      <td>5</td>\n",
       "      <td>30183</td>\n",
       "      <td>31471</td>\n",
       "      <td>26708</td>\n",
       "      <td>7864</td>\n",
       "      <td>22752</td>\n",
       "      <td>10619</td>\n",
       "      <td>11453</td>\n",
       "      <td>1205</td>\n",
       "      <td>9352</td>\n",
       "    </tr>\n",
       "    <tr>\n",
       "      <th>11</th>\n",
       "      <td>11</td>\n",
       "      <td>2811</td>\n",
       "      <td>29583</td>\n",
       "      <td>30798</td>\n",
       "      <td>17639</td>\n",
       "      <td>25131</td>\n",
       "      <td>23202</td>\n",
       "      <td>14857</td>\n",
       "      <td>4739</td>\n",
       "      <td>3399</td>\n",
       "    </tr>\n",
       "    <tr>\n",
       "      <th>16</th>\n",
       "      <td>16</td>\n",
       "      <td>5829</td>\n",
       "      <td>4275</td>\n",
       "      <td>7783</td>\n",
       "      <td>4487</td>\n",
       "      <td>7845</td>\n",
       "      <td>25439</td>\n",
       "      <td>17530</td>\n",
       "      <td>18634</td>\n",
       "      <td>19747</td>\n",
       "    </tr>\n",
       "    <tr>\n",
       "      <th>31</th>\n",
       "      <td>31</td>\n",
       "      <td>6367</td>\n",
       "      <td>19386</td>\n",
       "      <td>1255</td>\n",
       "      <td>12559</td>\n",
       "      <td>19472</td>\n",
       "      <td>18358</td>\n",
       "      <td>31719</td>\n",
       "      <td>6481</td>\n",
       "      <td>26475</td>\n",
       "    </tr>\n",
       "    <tr>\n",
       "      <th>32</th>\n",
       "      <td>34</td>\n",
       "      <td>32</td>\n",
       "      <td>4</td>\n",
       "      <td>31554</td>\n",
       "      <td>24443</td>\n",
       "      <td>5916</td>\n",
       "      <td>19164</td>\n",
       "      <td>20430</td>\n",
       "      <td>659</td>\n",
       "      <td>31077</td>\n",
       "    </tr>\n",
       "  </tbody>\n",
       "</table>\n",
       "</div>"
      ],
      "text/plain": [
       "         top_1  top_2  top_3  top_4  top_5  top_6  top_7  top_8  top_9  top_10\n",
       "time_id                                                                       \n",
       "5            5  30183  31471  26708   7864  22752  10619  11453   1205    9352\n",
       "11          11   2811  29583  30798  17639  25131  23202  14857   4739    3399\n",
       "16          16   5829   4275   7783   4487   7845  25439  17530  18634   19747\n",
       "31          31   6367  19386   1255  12559  19472  18358  31719   6481   26475\n",
       "32          34     32      4  31554  24443   5916  19164  20430    659   31077"
      ]
     },
     "metadata": {},
     "output_type": "display_data"
    },
    {
     "name": "stdout",
     "output_type": "stream",
     "text": [
      "time-id NN (name=time_price_m, metric=mahalanobis, p=2)\n"
     ]
    },
    {
     "data": {
      "text/html": [
       "<div>\n",
       "<style scoped>\n",
       "    .dataframe tbody tr th:only-of-type {\n",
       "        vertical-align: middle;\n",
       "    }\n",
       "\n",
       "    .dataframe tbody tr th {\n",
       "        vertical-align: top;\n",
       "    }\n",
       "\n",
       "    .dataframe thead th {\n",
       "        text-align: right;\n",
       "    }\n",
       "</style>\n",
       "<table border=\"1\" class=\"dataframe\">\n",
       "  <thead>\n",
       "    <tr style=\"text-align: right;\">\n",
       "      <th></th>\n",
       "      <th>top_1</th>\n",
       "      <th>top_2</th>\n",
       "      <th>top_3</th>\n",
       "      <th>top_4</th>\n",
       "      <th>top_5</th>\n",
       "      <th>top_6</th>\n",
       "      <th>top_7</th>\n",
       "      <th>top_8</th>\n",
       "      <th>top_9</th>\n",
       "      <th>top_10</th>\n",
       "    </tr>\n",
       "    <tr>\n",
       "      <th>time_id</th>\n",
       "      <th></th>\n",
       "      <th></th>\n",
       "      <th></th>\n",
       "      <th></th>\n",
       "      <th></th>\n",
       "      <th></th>\n",
       "      <th></th>\n",
       "      <th></th>\n",
       "      <th></th>\n",
       "      <th></th>\n",
       "    </tr>\n",
       "  </thead>\n",
       "  <tbody>\n",
       "    <tr>\n",
       "      <th>5</th>\n",
       "      <td>5</td>\n",
       "      <td>30183</td>\n",
       "      <td>31471</td>\n",
       "      <td>26708</td>\n",
       "      <td>1205</td>\n",
       "      <td>22752</td>\n",
       "      <td>10619</td>\n",
       "      <td>9352</td>\n",
       "      <td>7864</td>\n",
       "      <td>11453</td>\n",
       "    </tr>\n",
       "    <tr>\n",
       "      <th>11</th>\n",
       "      <td>11</td>\n",
       "      <td>2811</td>\n",
       "      <td>29583</td>\n",
       "      <td>30798</td>\n",
       "      <td>17639</td>\n",
       "      <td>23202</td>\n",
       "      <td>25131</td>\n",
       "      <td>14857</td>\n",
       "      <td>4739</td>\n",
       "      <td>28020</td>\n",
       "    </tr>\n",
       "    <tr>\n",
       "      <th>16</th>\n",
       "      <td>16</td>\n",
       "      <td>5829</td>\n",
       "      <td>4487</td>\n",
       "      <td>7783</td>\n",
       "      <td>25439</td>\n",
       "      <td>17530</td>\n",
       "      <td>7845</td>\n",
       "      <td>4275</td>\n",
       "      <td>32590</td>\n",
       "      <td>18634</td>\n",
       "    </tr>\n",
       "    <tr>\n",
       "      <th>31</th>\n",
       "      <td>31</td>\n",
       "      <td>6367</td>\n",
       "      <td>19386</td>\n",
       "      <td>12559</td>\n",
       "      <td>1255</td>\n",
       "      <td>22519</td>\n",
       "      <td>19472</td>\n",
       "      <td>31719</td>\n",
       "      <td>6481</td>\n",
       "      <td>18358</td>\n",
       "    </tr>\n",
       "    <tr>\n",
       "      <th>32</th>\n",
       "      <td>34</td>\n",
       "      <td>32</td>\n",
       "      <td>4</td>\n",
       "      <td>19230</td>\n",
       "      <td>17460</td>\n",
       "      <td>4913</td>\n",
       "      <td>14311</td>\n",
       "      <td>20597</td>\n",
       "      <td>20935</td>\n",
       "      <td>3046</td>\n",
       "    </tr>\n",
       "  </tbody>\n",
       "</table>\n",
       "</div>"
      ],
      "text/plain": [
       "         top_1  top_2  top_3  top_4  top_5  top_6  top_7  top_8  top_9  top_10\n",
       "time_id                                                                       \n",
       "5            5  30183  31471  26708   1205  22752  10619   9352   7864   11453\n",
       "11          11   2811  29583  30798  17639  23202  25131  14857   4739   28020\n",
       "16          16   5829   4487   7783  25439  17530   7845   4275  32590   18634\n",
       "31          31   6367  19386  12559   1255  22519  19472  31719   6481   18358\n",
       "32          34     32      4  19230  17460   4913  14311  20597  20935    3046"
      ]
     },
     "metadata": {},
     "output_type": "display_data"
    },
    {
     "name": "stdout",
     "output_type": "stream",
     "text": [
      "time-id NN (name=time_vol_l1, metric=minkowski, p=1)\n"
     ]
    },
    {
     "data": {
      "text/html": [
       "<div>\n",
       "<style scoped>\n",
       "    .dataframe tbody tr th:only-of-type {\n",
       "        vertical-align: middle;\n",
       "    }\n",
       "\n",
       "    .dataframe tbody tr th {\n",
       "        vertical-align: top;\n",
       "    }\n",
       "\n",
       "    .dataframe thead th {\n",
       "        text-align: right;\n",
       "    }\n",
       "</style>\n",
       "<table border=\"1\" class=\"dataframe\">\n",
       "  <thead>\n",
       "    <tr style=\"text-align: right;\">\n",
       "      <th></th>\n",
       "      <th>top_1</th>\n",
       "      <th>top_2</th>\n",
       "      <th>top_3</th>\n",
       "      <th>top_4</th>\n",
       "      <th>top_5</th>\n",
       "      <th>top_6</th>\n",
       "      <th>top_7</th>\n",
       "      <th>top_8</th>\n",
       "      <th>top_9</th>\n",
       "      <th>top_10</th>\n",
       "    </tr>\n",
       "    <tr>\n",
       "      <th>time_id</th>\n",
       "      <th></th>\n",
       "      <th></th>\n",
       "      <th></th>\n",
       "      <th></th>\n",
       "      <th></th>\n",
       "      <th></th>\n",
       "      <th></th>\n",
       "      <th></th>\n",
       "      <th></th>\n",
       "      <th></th>\n",
       "    </tr>\n",
       "  </thead>\n",
       "  <tbody>\n",
       "    <tr>\n",
       "      <th>5</th>\n",
       "      <td>5</td>\n",
       "      <td>9352</td>\n",
       "      <td>15276</td>\n",
       "      <td>13791</td>\n",
       "      <td>1205</td>\n",
       "      <td>12923</td>\n",
       "      <td>26708</td>\n",
       "      <td>2331</td>\n",
       "      <td>2136</td>\n",
       "      <td>10672</td>\n",
       "    </tr>\n",
       "    <tr>\n",
       "      <th>11</th>\n",
       "      <td>11</td>\n",
       "      <td>23202</td>\n",
       "      <td>30798</td>\n",
       "      <td>17639</td>\n",
       "      <td>7460</td>\n",
       "      <td>29583</td>\n",
       "      <td>11227</td>\n",
       "      <td>2811</td>\n",
       "      <td>25131</td>\n",
       "      <td>32597</td>\n",
       "    </tr>\n",
       "    <tr>\n",
       "      <th>16</th>\n",
       "      <td>16</td>\n",
       "      <td>9060</td>\n",
       "      <td>25179</td>\n",
       "      <td>25439</td>\n",
       "      <td>21777</td>\n",
       "      <td>15727</td>\n",
       "      <td>17530</td>\n",
       "      <td>6476</td>\n",
       "      <td>211</td>\n",
       "      <td>30791</td>\n",
       "    </tr>\n",
       "    <tr>\n",
       "      <th>31</th>\n",
       "      <td>31</td>\n",
       "      <td>10291</td>\n",
       "      <td>15689</td>\n",
       "      <td>18848</td>\n",
       "      <td>22824</td>\n",
       "      <td>14449</td>\n",
       "      <td>1142</td>\n",
       "      <td>6367</td>\n",
       "      <td>21148</td>\n",
       "      <td>25731</td>\n",
       "    </tr>\n",
       "    <tr>\n",
       "      <th>32</th>\n",
       "      <td>32</td>\n",
       "      <td>34</td>\n",
       "      <td>4</td>\n",
       "      <td>25584</td>\n",
       "      <td>26883</td>\n",
       "      <td>5235</td>\n",
       "      <td>2772</td>\n",
       "      <td>26430</td>\n",
       "      <td>2502</td>\n",
       "      <td>22014</td>\n",
       "    </tr>\n",
       "  </tbody>\n",
       "</table>\n",
       "</div>"
      ],
      "text/plain": [
       "         top_1  top_2  top_3  top_4  top_5  top_6  top_7  top_8  top_9  top_10\n",
       "time_id                                                                       \n",
       "5            5   9352  15276  13791   1205  12923  26708   2331   2136   10672\n",
       "11          11  23202  30798  17639   7460  29583  11227   2811  25131   32597\n",
       "16          16   9060  25179  25439  21777  15727  17530   6476    211   30791\n",
       "31          31  10291  15689  18848  22824  14449   1142   6367  21148   25731\n",
       "32          32     34      4  25584  26883   5235   2772  26430   2502   22014"
      ]
     },
     "metadata": {},
     "output_type": "display_data"
    },
    {
     "name": "stdout",
     "output_type": "stream",
     "text": [
      "time-id NN (name=time_size_m, metric=mahalanobis, p=2)\n"
     ]
    },
    {
     "data": {
      "text/html": [
       "<div>\n",
       "<style scoped>\n",
       "    .dataframe tbody tr th:only-of-type {\n",
       "        vertical-align: middle;\n",
       "    }\n",
       "\n",
       "    .dataframe tbody tr th {\n",
       "        vertical-align: top;\n",
       "    }\n",
       "\n",
       "    .dataframe thead th {\n",
       "        text-align: right;\n",
       "    }\n",
       "</style>\n",
       "<table border=\"1\" class=\"dataframe\">\n",
       "  <thead>\n",
       "    <tr style=\"text-align: right;\">\n",
       "      <th></th>\n",
       "      <th>top_1</th>\n",
       "      <th>top_2</th>\n",
       "      <th>top_3</th>\n",
       "      <th>top_4</th>\n",
       "      <th>top_5</th>\n",
       "      <th>top_6</th>\n",
       "      <th>top_7</th>\n",
       "      <th>top_8</th>\n",
       "      <th>top_9</th>\n",
       "      <th>top_10</th>\n",
       "    </tr>\n",
       "    <tr>\n",
       "      <th>time_id</th>\n",
       "      <th></th>\n",
       "      <th></th>\n",
       "      <th></th>\n",
       "      <th></th>\n",
       "      <th></th>\n",
       "      <th></th>\n",
       "      <th></th>\n",
       "      <th></th>\n",
       "      <th></th>\n",
       "      <th></th>\n",
       "    </tr>\n",
       "  </thead>\n",
       "  <tbody>\n",
       "    <tr>\n",
       "      <th>5</th>\n",
       "      <td>5</td>\n",
       "      <td>26708</td>\n",
       "      <td>22752</td>\n",
       "      <td>30183</td>\n",
       "      <td>32</td>\n",
       "      <td>34</td>\n",
       "      <td>9352</td>\n",
       "      <td>27014</td>\n",
       "      <td>1205</td>\n",
       "      <td>4</td>\n",
       "    </tr>\n",
       "    <tr>\n",
       "      <th>11</th>\n",
       "      <td>11</td>\n",
       "      <td>29583</td>\n",
       "      <td>2811</td>\n",
       "      <td>14857</td>\n",
       "      <td>17639</td>\n",
       "      <td>32</td>\n",
       "      <td>34</td>\n",
       "      <td>11682</td>\n",
       "      <td>13513</td>\n",
       "      <td>4739</td>\n",
       "    </tr>\n",
       "    <tr>\n",
       "      <th>16</th>\n",
       "      <td>16</td>\n",
       "      <td>15352</td>\n",
       "      <td>5829</td>\n",
       "      <td>13775</td>\n",
       "      <td>11869</td>\n",
       "      <td>10364</td>\n",
       "      <td>15491</td>\n",
       "      <td>1797</td>\n",
       "      <td>7783</td>\n",
       "      <td>32</td>\n",
       "    </tr>\n",
       "    <tr>\n",
       "      <th>31</th>\n",
       "      <td>31</td>\n",
       "      <td>6367</td>\n",
       "      <td>31719</td>\n",
       "      <td>32</td>\n",
       "      <td>34</td>\n",
       "      <td>18358</td>\n",
       "      <td>12559</td>\n",
       "      <td>19472</td>\n",
       "      <td>22519</td>\n",
       "      <td>31522</td>\n",
       "    </tr>\n",
       "    <tr>\n",
       "      <th>32</th>\n",
       "      <td>34</td>\n",
       "      <td>32</td>\n",
       "      <td>4</td>\n",
       "      <td>31004</td>\n",
       "      <td>16649</td>\n",
       "      <td>1161</td>\n",
       "      <td>611</td>\n",
       "      <td>13586</td>\n",
       "      <td>23967</td>\n",
       "      <td>20410</td>\n",
       "    </tr>\n",
       "  </tbody>\n",
       "</table>\n",
       "</div>"
      ],
      "text/plain": [
       "         top_1  top_2  top_3  top_4  top_5  top_6  top_7  top_8  top_9  top_10\n",
       "time_id                                                                       \n",
       "5            5  26708  22752  30183     32     34   9352  27014   1205       4\n",
       "11          11  29583   2811  14857  17639     32     34  11682  13513    4739\n",
       "16          16  15352   5829  13775  11869  10364  15491   1797   7783      32\n",
       "31          31   6367  31719     32     34  18358  12559  19472  22519   31522\n",
       "32          34     32      4  31004  16649   1161    611  13586  23967   20410"
      ]
     },
     "metadata": {},
     "output_type": "display_data"
    },
    {
     "name": "stdout",
     "output_type": "stream",
     "text": [
      "time-id NN (name=time_size_c, metric=canberra, p=2)\n"
     ]
    },
    {
     "data": {
      "text/html": [
       "<div>\n",
       "<style scoped>\n",
       "    .dataframe tbody tr th:only-of-type {\n",
       "        vertical-align: middle;\n",
       "    }\n",
       "\n",
       "    .dataframe tbody tr th {\n",
       "        vertical-align: top;\n",
       "    }\n",
       "\n",
       "    .dataframe thead th {\n",
       "        text-align: right;\n",
       "    }\n",
       "</style>\n",
       "<table border=\"1\" class=\"dataframe\">\n",
       "  <thead>\n",
       "    <tr style=\"text-align: right;\">\n",
       "      <th></th>\n",
       "      <th>top_1</th>\n",
       "      <th>top_2</th>\n",
       "      <th>top_3</th>\n",
       "      <th>top_4</th>\n",
       "      <th>top_5</th>\n",
       "      <th>top_6</th>\n",
       "      <th>top_7</th>\n",
       "      <th>top_8</th>\n",
       "      <th>top_9</th>\n",
       "      <th>top_10</th>\n",
       "    </tr>\n",
       "    <tr>\n",
       "      <th>time_id</th>\n",
       "      <th></th>\n",
       "      <th></th>\n",
       "      <th></th>\n",
       "      <th></th>\n",
       "      <th></th>\n",
       "      <th></th>\n",
       "      <th></th>\n",
       "      <th></th>\n",
       "      <th></th>\n",
       "      <th></th>\n",
       "    </tr>\n",
       "  </thead>\n",
       "  <tbody>\n",
       "    <tr>\n",
       "      <th>5</th>\n",
       "      <td>5</td>\n",
       "      <td>26708</td>\n",
       "      <td>30183</td>\n",
       "      <td>22752</td>\n",
       "      <td>1205</td>\n",
       "      <td>10619</td>\n",
       "      <td>9352</td>\n",
       "      <td>15276</td>\n",
       "      <td>30620</td>\n",
       "      <td>2683</td>\n",
       "    </tr>\n",
       "    <tr>\n",
       "      <th>11</th>\n",
       "      <td>11</td>\n",
       "      <td>2811</td>\n",
       "      <td>17639</td>\n",
       "      <td>29583</td>\n",
       "      <td>25131</td>\n",
       "      <td>28020</td>\n",
       "      <td>17604</td>\n",
       "      <td>9822</td>\n",
       "      <td>4739</td>\n",
       "      <td>30798</td>\n",
       "    </tr>\n",
       "    <tr>\n",
       "      <th>16</th>\n",
       "      <td>16</td>\n",
       "      <td>5829</td>\n",
       "      <td>4487</td>\n",
       "      <td>6121</td>\n",
       "      <td>7783</td>\n",
       "      <td>1040</td>\n",
       "      <td>29026</td>\n",
       "      <td>7845</td>\n",
       "      <td>17530</td>\n",
       "      <td>16118</td>\n",
       "    </tr>\n",
       "    <tr>\n",
       "      <th>31</th>\n",
       "      <td>31</td>\n",
       "      <td>6367</td>\n",
       "      <td>12559</td>\n",
       "      <td>22519</td>\n",
       "      <td>18358</td>\n",
       "      <td>7897</td>\n",
       "      <td>19472</td>\n",
       "      <td>31522</td>\n",
       "      <td>19386</td>\n",
       "      <td>31719</td>\n",
       "    </tr>\n",
       "    <tr>\n",
       "      <th>32</th>\n",
       "      <td>34</td>\n",
       "      <td>32</td>\n",
       "      <td>4</td>\n",
       "      <td>15989</td>\n",
       "      <td>11985</td>\n",
       "      <td>3732</td>\n",
       "      <td>26430</td>\n",
       "      <td>3607</td>\n",
       "      <td>10523</td>\n",
       "      <td>4487</td>\n",
       "    </tr>\n",
       "  </tbody>\n",
       "</table>\n",
       "</div>"
      ],
      "text/plain": [
       "         top_1  top_2  top_3  top_4  top_5  top_6  top_7  top_8  top_9  top_10\n",
       "time_id                                                                       \n",
       "5            5  26708  30183  22752   1205  10619   9352  15276  30620    2683\n",
       "11          11   2811  17639  29583  25131  28020  17604   9822   4739   30798\n",
       "16          16   5829   4487   6121   7783   1040  29026   7845  17530   16118\n",
       "31          31   6367  12559  22519  18358   7897  19472  31522  19386   31719\n",
       "32          34     32      4  15989  11985   3732  26430   3607  10523    4487"
      ]
     },
     "metadata": {},
     "output_type": "display_data"
    }
   ],
   "source": [
    "time_ids = np.array(sorted(df['time_id'].unique()))\n",
    "for neighbor in time_id_neighbors:\n",
    "    print(neighbor)\n",
    "    display(\n",
    "        pd.DataFrame(\n",
    "            time_ids[neighbor.neighbors[:,:10]], \n",
    "            index=pd.Index(time_ids, name='time_id'), \n",
    "            columns=[f'top_{i+1}' for i in range(10)]\n",
    "        ).iloc[1:6]\n",
    "    )"
   ]
  },
  {
   "cell_type": "code",
   "execution_count": 11,
   "id": "d2589b60",
   "metadata": {
    "execution": {
     "iopub.execute_input": "2022-01-23T02:33:33.263643Z",
     "iopub.status.busy": "2022-01-23T02:33:33.262935Z",
     "iopub.status.idle": "2022-01-23T02:33:33.276604Z",
     "shell.execute_reply": "2022-01-23T02:33:33.276173Z",
     "shell.execute_reply.started": "2022-01-19T11:39:40.610534Z"
    },
    "papermill": {
     "duration": 0.051151,
     "end_time": "2022-01-23T02:33:33.276704",
     "exception": false,
     "start_time": "2022-01-23T02:33:33.225553",
     "status": "completed"
    },
    "tags": []
   },
   "outputs": [
    {
     "name": "stdout",
     "output_type": "stream",
     "text": [
      "stock-id NN (name=stock_price_l1, metric=minkowski, p=1)\n"
     ]
    },
    {
     "data": {
      "text/plain": [
       "top_1      64\n",
       "top_2      53\n",
       "top_3      56\n",
       "top_4     124\n",
       "top_5      73\n",
       "top_6      96\n",
       "top_7      30\n",
       "top_8      28\n",
       "top_9      66\n",
       "top_10     33\n",
       "Name: 64, dtype: int64"
      ]
     },
     "metadata": {},
     "output_type": "display_data"
    },
    {
     "name": "stdout",
     "output_type": "stream",
     "text": [
      "stock-id NN (name=stock_vol_l1, metric=minkowski, p=1)\n"
     ]
    },
    {
     "data": {
      "text/plain": [
       "top_1      64\n",
       "top_2      20\n",
       "top_3      93\n",
       "top_4      67\n",
       "top_5      52\n",
       "top_6     107\n",
       "top_7      70\n",
       "top_8     120\n",
       "top_9     102\n",
       "top_10     39\n",
       "Name: 64, dtype: int64"
      ]
     },
     "metadata": {},
     "output_type": "display_data"
    }
   ],
   "source": [
    "stock_ids = np.array(sorted(df['stock_id'].unique()))\n",
    "for neighbor in stock_id_neighbors:\n",
    "    print(neighbor)\n",
    "    display(\n",
    "        pd.DataFrame(\n",
    "            stock_ids[neighbor.neighbors[:,:10]], \n",
    "            index=pd.Index(stock_ids, name='stock_id'), \n",
    "            columns=[f'top_{i+1}' for i in range(10)]\n",
    "        ).loc[64]\n",
    "    )"
   ]
  },
  {
   "cell_type": "code",
   "execution_count": 12,
   "id": "e10b5471",
   "metadata": {
    "execution": {
     "iopub.execute_input": "2022-01-23T02:33:33.348457Z",
     "iopub.status.busy": "2022-01-23T02:33:33.347681Z",
     "iopub.status.idle": "2022-01-23T02:33:33.901994Z",
     "shell.execute_reply": "2022-01-23T02:33:33.902453Z",
     "shell.execute_reply.started": "2022-01-18T14:13:43.542166Z"
    },
    "papermill": {
     "duration": 0.591893,
     "end_time": "2022-01-23T02:33:33.902600",
     "exception": false,
     "start_time": "2022-01-23T02:33:33.310707",
     "status": "completed"
    },
    "tags": []
   },
   "outputs": [
    {
     "data": {
      "image/png": "[encoded data removed]",
      "text/plain": [
       "<Figure size 432x288 with 2 Axes>"
      ]
     },
     "metadata": {
      "needs_background": "light"
     },
     "output_type": "display_data"
    }
   ],
   "source": [
    "calculate_rank_correraltion(time_id_neighbors)"
   ]
  },
  {
   "cell_type": "code",
   "execution_count": 13,
   "id": "35df3e42",
   "metadata": {
    "execution": {
     "iopub.execute_input": "2022-01-23T02:33:34.038369Z",
     "iopub.status.busy": "2022-01-23T02:33:34.037754Z",
     "iopub.status.idle": "2022-01-23T02:33:34.275994Z",
     "shell.execute_reply": "2022-01-23T02:33:34.276373Z",
     "shell.execute_reply.started": "2022-01-18T14:13:43.949648Z"
    },
    "papermill": {
     "duration": 0.313195,
     "end_time": "2022-01-23T02:33:34.276516",
     "exception": false,
     "start_time": "2022-01-23T02:33:33.963321",
     "status": "completed"
    },
    "tags": []
   },
   "outputs": [
    {
     "data": {
      "image/png": "[encoded data removed]",
      "text/plain": [
       "<Figure size 432x288 with 2 Axes>"
      ]
     },
     "metadata": {
      "needs_background": "light"
     },
     "output_type": "display_data"
    }
   ],
   "source": [
    "calculate_rank_correraltion(stock_id_neighbors)"
   ]
  },
  {
   "cell_type": "markdown",
   "id": "ac11498c",
   "metadata": {
    "papermill": {
     "duration": 0.035477,
     "end_time": "2022-01-23T02:33:34.347529",
     "exception": false,
     "start_time": "2022-01-23T02:33:34.312052",
     "status": "completed"
    },
    "tags": []
   },
   "source": [
    "#### Aggregate Features With Neighbors"
   ]
  },
  {
   "cell_type": "code",
   "execution_count": 14,
   "id": "ec957b30",
   "metadata": {
    "execution": {
     "iopub.execute_input": "2022-01-23T02:33:34.427036Z",
     "iopub.status.busy": "2022-01-23T02:33:34.426197Z",
     "iopub.status.idle": "2022-01-23T02:33:36.057149Z",
     "shell.execute_reply": "2022-01-23T02:33:36.056625Z",
     "shell.execute_reply.started": "2022-01-18T14:13:44.189634Z"
    },
    "papermill": {
     "duration": 1.674163,
     "end_time": "2022-01-23T02:33:36.057283",
     "exception": false,
     "start_time": "2022-01-23T02:33:34.383120",
     "status": "completed"
    },
    "tags": []
   },
   "outputs": [],
   "source": [
    "# features with large changes over time are converted to relative ranks within time-id\n",
    "# 随时间变化较大的特征将转换为time-id内的相对等级\n",
    "if ENABLE_RANK_NORMALIZATION:\n",
    "    df['trade.order_count.mean'] = df.groupby('time_id')['trade.order_count.mean'].rank()\n",
    "    df['book.total_volume.sum']  = df.groupby('time_id')['book.total_volume.sum'].rank()\n",
    "    df['book.total_volume.mean'] = df.groupby('time_id')['book.total_volume.mean'].rank()\n",
    "    df['book.total_volume.std']  = df.groupby('time_id')['book.total_volume.std'].rank()\n",
    "\n",
    "    df['trade.tau'] = df.groupby('time_id')['trade.tau'].rank()\n",
    "\n",
    "    for dt in [150, 300, 450]:\n",
    "        df[f'book_{dt}.total_volume.sum']  = df.groupby('time_id')[f'book_{dt}.total_volume.sum'].rank()\n",
    "        df[f'book_{dt}.total_volume.mean'] = df.groupby('time_id')[f'book_{dt}.total_volume.mean'].rank()\n",
    "        df[f'book_{dt}.total_volume.std']  = df.groupby('time_id')[f'book_{dt}.total_volume.std'].rank()\n",
    "        df[f'trade_{dt}.order_count.mean'] = df.groupby('time_id')[f'trade_{dt}.order_count.mean'].rank()"
   ]
  },
  {
   "cell_type": "code",
   "execution_count": 15,
   "id": "6efc7d9e",
   "metadata": {
    "execution": {
     "iopub.execute_input": "2022-01-23T02:33:36.151666Z",
     "iopub.status.busy": "2022-01-23T02:33:36.150004Z",
     "iopub.status.idle": "2022-01-23T02:33:36.152354Z",
     "shell.execute_reply": "2022-01-23T02:33:36.152748Z",
     "shell.execute_reply.started": "2022-01-18T14:13:44.199422Z"
    },
    "papermill": {
     "duration": 0.059468,
     "end_time": "2022-01-23T02:33:36.152899",
     "exception": false,
     "start_time": "2022-01-23T02:33:36.093431",
     "status": "completed"
    },
    "tags": []
   },
   "outputs": [],
   "source": [
    "def make_nearest_neighbor_feature(df: pd.DataFrame) -> pd.DataFrame:\n",
    "    df2 = df.copy()\n",
    "    print(df2.shape)\n",
    "\n",
    "    feature_cols_stock = {\n",
    "        'book.log_return1.realized_volatility': [np.mean, np.min, np.max, np.std],\n",
    "        'trade.seconds_in_bucket.count': [np.mean],\n",
    "        'trade.tau': [np.mean],\n",
    "        'trade_150.tau': [np.mean],\n",
    "        'book.tau': [np.mean],\n",
    "        'trade.size.sum': [np.mean],\n",
    "        'book.seconds_in_bucket.count': [np.mean],\n",
    "    }\n",
    "    \n",
    "    feature_cols = {\n",
    "        'book.log_return1.realized_volatility': [np.mean, np.min, np.max, np.std],\n",
    "        'real_price': [np.max, np.mean, np.min],\n",
    "        'trade.seconds_in_bucket.count': [np.mean],\n",
    "        'trade.tau': [np.mean],\n",
    "        'trade.size.sum': [np.mean],\n",
    "        'book.seconds_in_bucket.count': [np.mean],\n",
    "        'trade_150.tau_nn20_stock_vol_l1_mean': [np.mean],\n",
    "        'trade.size.sum_nn20_stock_vol_l1_mean': [np.mean],\n",
    "    }\n",
    "\n",
    "    time_id_neigbor_sizes = [3, 5, 10, 20, 40]\n",
    "    time_id_neigbor_sizes_vol = [2, 3, 5, 10, 20, 40]\n",
    "    stock_id_neighbor_sizes = [10, 20, 40]\n",
    "\n",
    "    ndf: Optional[pd.DataFrame] = None\n",
    "\n",
    "    def _add_ndf(ndf: Optional[pd.DataFrame], dst: pd.DataFrame) -> pd.DataFrame:\n",
    "        if ndf is None:\n",
    "            return dst\n",
    "        else:\n",
    "            ndf[dst.columns[-1]] = dst[dst.columns[-1]].astype(np.float32)\n",
    "            return ndf\n",
    "\n",
    "    # neighbor stock_id\n",
    "    for feature_col in feature_cols_stock.keys():\n",
    "        try:\n",
    "            if feature_col not in df2.columns:\n",
    "                print(f\"column {feature_col} is skipped\")\n",
    "                continue\n",
    "\n",
    "            if not stock_id_neighbors:\n",
    "                continue\n",
    "            \n",
    "            #对于每一个最近邻的股票，构造特征\n",
    "            for nn in stock_id_neighbors:\n",
    "                nn.rearrange_feature_values(df2, feature_col)\n",
    "\n",
    "            for agg in feature_cols_stock[feature_col]:\n",
    "                for n in stock_id_neighbor_sizes:\n",
    "                    try:\n",
    "                        for nn in stock_id_neighbors:\n",
    "                            dst = nn.make_nn_feature(n, agg)\n",
    "                            ndf = _add_ndf(ndf, dst)\n",
    "                    except Exception:\n",
    "                        print_trace('stock-id nn')\n",
    "                        pass\n",
    "        except Exception:\n",
    "            print_trace('stock-id nn')\n",
    "            pass\n",
    "\n",
    "    if ndf is not None:\n",
    "        df2 = pd.merge(df2, ndf, on=['time_id', 'stock_id'], how='left')\n",
    "    ndf = None\n",
    "\n",
    "    print(df2.shape)\n",
    "\n",
    "    # neighbor time_id\n",
    "    for feature_col in feature_cols.keys():\n",
    "        try:\n",
    "            if not USE_PRICE_NN_FEATURES and feature_col == 'real_price':\n",
    "                continue\n",
    "            if feature_col not in df2.columns:\n",
    "                print(f\"column {feature_col} is skipped\")\n",
    "                continue\n",
    "\n",
    "            for nn in time_id_neighbors:\n",
    "                nn.rearrange_feature_values(df2, feature_col)\n",
    "\n",
    "            if 'volatility' in feature_col:\n",
    "                time_id_ns = time_id_neigbor_sizes_vol\n",
    "            else:\n",
    "                time_id_ns = time_id_neigbor_sizes\n",
    "\n",
    "            for agg in feature_cols[feature_col]:\n",
    "                for n in time_id_ns:\n",
    "                    try:\n",
    "                        for nn in time_id_neighbors:\n",
    "                            dst = nn.make_nn_feature(n, agg)\n",
    "                            ndf = _add_ndf(ndf, dst)\n",
    "                    except Exception:\n",
    "                        print_trace('time-id nn')\n",
    "                        pass\n",
    "        except Exception:\n",
    "            print_trace('time-id nn')\n",
    "\n",
    "    if ndf is not None:\n",
    "        df2 = pd.merge(df2, ndf, on=['time_id', 'stock_id'], how='left')\n",
    "\n",
    "    # features further derived from nearest neighbor features\n",
    "    # 从最近邻特征进一步派生的特征\n",
    "    try:\n",
    "        if USE_PRICE_NN_FEATURES:\n",
    "            for sz in time_id_neigbor_sizes:\n",
    "                denominator = f\"real_price_nn{sz}_time_price_c\"\n",
    "\n",
    "                df2[f'real_price_rankmin_{sz}']  = df2['real_price'] / df2[f\"{denominator}_amin\"]\n",
    "                df2[f'real_price_rankmax_{sz}']  = df2['real_price'] / df2[f\"{denominator}_amax\"]\n",
    "                df2[f'real_price_rankmean_{sz}'] = df2['real_price'] / df2[f\"{denominator}_mean\"]\n",
    "\n",
    "            for sz in time_id_neigbor_sizes_vol:\n",
    "                denominator = f\"book.log_return1.realized_volatility_nn{sz}_time_price_c\"\n",
    "\n",
    "                df2[f'vol_rankmin_{sz}'] = \\\n",
    "                    df2['book.log_return1.realized_volatility'] / df2[f\"{denominator}_amin\"]\n",
    "                df2[f'vol_rankmax_{sz}'] = \\\n",
    "                    df2['book.log_return1.realized_volatility'] / df2[f\"{denominator}_amax\"]\n",
    "\n",
    "        price_cols = [c for c in df2.columns if 'real_price' in c and 'rank' not in c]\n",
    "        for c in price_cols:\n",
    "            del df2[c]\n",
    "\n",
    "        if USE_PRICE_NN_FEATURES:\n",
    "            for sz in time_id_neigbor_sizes_vol:\n",
    "                tgt = f'book.log_return1.realized_volatility_nn{sz}_time_price_m_mean'\n",
    "                df2[f'{tgt}_rank'] = df2.groupby('time_id')[tgt].rank()\n",
    "    except Exception:\n",
    "        print_trace('nn features')\n",
    "\n",
    "    return df2"
   ]
  },
  {
   "cell_type": "code",
   "execution_count": 16,
   "id": "d78a6c0f",
   "metadata": {
    "execution": {
     "iopub.execute_input": "2022-01-23T02:33:36.370271Z",
     "iopub.status.busy": "2022-01-23T02:33:36.368938Z",
     "iopub.status.idle": "2022-01-23T02:34:51.959576Z",
     "shell.execute_reply": "2022-01-23T02:34:51.959095Z",
     "shell.execute_reply.started": "2022-01-18T14:13:44.224929Z"
    },
    "papermill": {
     "duration": 75.77123,
     "end_time": "2022-01-23T02:34:51.959705",
     "exception": false,
     "start_time": "2022-01-23T02:33:36.188475",
     "status": "completed"
    },
    "tags": []
   },
   "outputs": [
    {
     "name": "stdout",
     "output_type": "stream",
     "text": [
      "(428935, 220)\n",
      "(428935, 280)\n",
      "[make nearest neighbor feature]  70.391sec\n",
      "(428935, 582)\n"
     ]
    },
    {
     "data": {
      "text/plain": [
       "0"
      ]
     },
     "execution_count": 16,
     "metadata": {},
     "output_type": "execute_result"
    }
   ],
   "source": [
    "gc.collect()\n",
    "\n",
    "with timer('make nearest neighbor feature'):\n",
    "    df2 = make_nearest_neighbor_feature(df)\n",
    "\n",
    "print(df2.shape)\n",
    "df2.reset_index(drop=True).to_feather('optiver_df2.f')\n",
    "\n",
    "gc.collect()"
   ]
  },
  {
   "cell_type": "markdown",
   "id": "049e3ff0",
   "metadata": {
    "papermill": {
     "duration": 0.037563,
     "end_time": "2022-01-23T02:34:52.038355",
     "exception": false,
     "start_time": "2022-01-23T02:34:52.000792",
     "status": "completed"
    },
    "tags": []
   },
   "source": [
    "### Misc Features"
   ]
  },
  {
   "cell_type": "markdown",
   "id": "147fc629",
   "metadata": {},
   "source": [
    "杂项功能"
   ]
  },
  {
   "cell_type": "code",
   "execution_count": 17,
   "id": "b672b203",
   "metadata": {
    "execution": {
     "iopub.execute_input": "2022-01-23T02:34:53.076612Z",
     "iopub.status.busy": "2022-01-23T02:34:53.075859Z",
     "iopub.status.idle": "2022-01-23T02:34:53.335135Z",
     "shell.execute_reply": "2022-01-23T02:34:53.334610Z",
     "shell.execute_reply.started": "2022-01-15T04:54:06.290787Z"
    },
    "papermill": {
     "duration": 1.258742,
     "end_time": "2022-01-23T02:34:53.335258",
     "exception": false,
     "start_time": "2022-01-23T02:34:52.076516",
     "status": "completed"
    },
    "tags": []
   },
   "outputs": [],
   "source": [
    "# skew correction for NN\n",
    "# 最近邻特征的偏斜矫正\n",
    "cols_to_log = [\n",
    "    'trade.size.sum',\n",
    "    'trade_150.size.sum',\n",
    "    'trade_300.size.sum',\n",
    "    'trade_450.size.sum',\n",
    "    'volume_imbalance'\n",
    "]\n",
    "for c in df2.columns:\n",
    "    for check in cols_to_log:\n",
    "        try:\n",
    "            if check in c:\n",
    "                df2[c] = np.log(df2[c]+1)\n",
    "                break\n",
    "        except Exception:\n",
    "            print_trace('log1p')"
   ]
  },
  {
   "cell_type": "code",
   "execution_count": 18,
   "id": "76b80e02",
   "metadata": {
    "execution": {
     "iopub.execute_input": "2022-01-23T02:34:53.415634Z",
     "iopub.status.busy": "2022-01-23T02:34:53.414883Z",
     "iopub.status.idle": "2022-01-23T02:34:54.757020Z",
     "shell.execute_reply": "2022-01-23T02:34:54.756480Z",
     "shell.execute_reply.started": "2022-01-15T04:54:06.724354Z"
    },
    "papermill": {
     "duration": 1.384579,
     "end_time": "2022-01-23T02:34:54.757155",
     "exception": false,
     "start_time": "2022-01-23T02:34:53.372576",
     "status": "completed"
    },
    "tags": []
   },
   "outputs": [],
   "source": [
    "# Rolling average of RV for similar trading volume\n",
    "#求解相似交易量的滚动平均值\n",
    "try:\n",
    "    df2.sort_values(by=['stock_id', 'book.total_volume.sum'], inplace=True)\n",
    "    df2.reset_index(drop=True, inplace=True)\n",
    "    \n",
    "    roll_target = 'book.log_return1.realized_volatility'\n",
    "\n",
    "    for window_size in [3, 10]:\n",
    "        df2[f'realized_volatility_roll{window_size}_by_book.total_volume.mean'] = \\\n",
    "            df2.groupby('stock_id')[roll_target].rolling(window_size, center=True, min_periods=1) \\\n",
    "                                                .mean() \\\n",
    "                                                .reset_index() \\\n",
    "                                                .sort_values(by=['level_1'])[roll_target].values\n",
    "except Exception:\n",
    "    print_trace('mean RV')"
   ]
  },
  {
   "cell_type": "code",
   "execution_count": 19,
   "id": "2ac17ee6",
   "metadata": {
    "execution": {
     "iopub.execute_input": "2022-01-23T02:34:54.865738Z",
     "iopub.status.busy": "2022-01-23T02:34:54.859008Z",
     "iopub.status.idle": "2022-01-23T02:34:57.630440Z",
     "shell.execute_reply": "2022-01-23T02:34:57.631709Z",
     "shell.execute_reply.started": "2022-01-15T04:54:08.318718Z"
    },
    "papermill": {
     "duration": 2.836215,
     "end_time": "2022-01-23T02:34:57.631962",
     "exception": false,
     "start_time": "2022-01-23T02:34:54.795747",
     "status": "completed"
    },
    "tags": []
   },
   "outputs": [],
   "source": [
    "# stock-id embedding (helps little)\n",
    "#stock-id 嵌入（帮助不大）\n",
    "try:\n",
    "    lda_n = 3\n",
    "    lda = LatentDirichletAllocation(n_components=lda_n, random_state=0)\n",
    "\n",
    "    stock_id_emb = pd.DataFrame(\n",
    "        lda.fit_transform(pivot.transpose()), \n",
    "        index=df_pv.pivot('time_id', 'stock_id', 'vol').columns\n",
    "    )\n",
    "\n",
    "    for i in range(lda_n):\n",
    "        df2[f'stock_id_emb{i}'] = df2['stock_id'].map(stock_id_emb[i])\n",
    "except Exception:\n",
    "    print_trace('LDA')"
   ]
  },
  {
   "cell_type": "code",
   "execution_count": 20,
   "id": "785b1249",
   "metadata": {
    "execution": {
     "iopub.execute_input": "2022-01-23T02:34:57.804033Z",
     "iopub.status.busy": "2022-01-23T02:34:57.802818Z",
     "iopub.status.idle": "2022-01-23T02:34:59.440689Z",
     "shell.execute_reply": "2022-01-23T02:34:59.441129Z",
     "shell.execute_reply.started": "2022-01-15T04:54:13.038956Z"
    },
    "papermill": {
     "duration": 1.736319,
     "end_time": "2022-01-23T02:34:59.441286",
     "exception": false,
     "start_time": "2022-01-23T02:34:57.704967",
     "status": "completed"
    },
    "tags": []
   },
   "outputs": [
    {
     "data": {
      "text/plain": [
       "88"
      ]
     },
     "execution_count": 20,
     "metadata": {},
     "output_type": "execute_result"
    }
   ],
   "source": [
    "df_train = df2[~df2.target.isnull()].copy()\n",
    "df_test = df2[df2.target.isnull()].copy()\n",
    "del df2, df_pv\n",
    "gc.collect()"
   ]
  },
  {
   "cell_type": "markdown",
   "id": "f898c5d1",
   "metadata": {
    "papermill": {
     "duration": 0.037142,
     "end_time": "2022-01-23T02:34:59.516263",
     "exception": false,
     "start_time": "2022-01-23T02:34:59.479121",
     "status": "completed"
    },
    "tags": []
   },
   "source": [
    "## Reverse Engineering time-id Order & Make CV Split"
   ]
  },
  {
   "cell_type": "markdown",
   "id": "10848d2b",
   "metadata": {},
   "source": [
    "时间顺序的逆向工程以及交叉验证的分割操作"
   ]
  },
  {
   "cell_type": "code",
   "execution_count": 21,
   "id": "1306bfda",
   "metadata": {
    "execution": {
     "iopub.execute_input": "2022-01-23T02:34:59.616772Z",
     "iopub.status.busy": "2022-01-23T02:34:59.615063Z",
     "iopub.status.idle": "2022-01-23T02:34:59.617414Z",
     "shell.execute_reply": "2022-01-23T02:34:59.617868Z",
     "shell.execute_reply.started": "2022-01-15T04:54:14.7715Z"
    },
    "papermill": {
     "duration": 0.063706,
     "end_time": "2022-01-23T02:34:59.618003",
     "exception": false,
     "start_time": "2022-01-23T02:34:59.554297",
     "status": "completed"
    },
    "tags": []
   },
   "outputs": [],
   "source": [
    "%matplotlib inline\n",
    "\n",
    "@contextmanager\n",
    "def timer(name):\n",
    "    s = time.time()\n",
    "    yield\n",
    "    e = time.time() - s\n",
    "    print(f\"[{name}] {e:.3f}sec\")\n",
    "    \n",
    "\n",
    "def calc_price2(df):\n",
    "    tick = sorted(np.diff(sorted(np.unique(df.values.flatten()))))[0]\n",
    "    return 0.01 / tick\n",
    "\n",
    "\n",
    "def calc_prices(r):\n",
    "    df = pd.read_parquet(r.book_path, columns=['time_id', 'ask_price1',\n",
    "                                               'ask_price2', 'bid_price1', 'bid_price2'])\n",
    "    df = df.set_index('time_id')\n",
    "    df = df.groupby(level='time_id').apply(calc_price2).to_frame('price').reset_index()\n",
    "    df['stock_id'] = r.stock_id\n",
    "    return df\n",
    "\n",
    "\n",
    "def sort_manifold(df, clf):\n",
    "    df_ = df.set_index('time_id')\n",
    "    df_ = pd.DataFrame(minmax_scale(df_.fillna(df_.mean())))\n",
    "\n",
    "    X_compoents = clf.fit_transform(df_)\n",
    "\n",
    "    dft = df.reindex(np.argsort(X_compoents[:,0])).reset_index(drop=True)\n",
    "    return np.argsort(X_compoents[:, 0]), X_compoents\n",
    "\n",
    "\n",
    "def reconstruct_time_id_order():\n",
    "    with timer('load files'):\n",
    "        df_files = pd.DataFrame(\n",
    "            {'book_path': glob.glob('/kaggle/input/ \\\n",
    "                                    optiver-realized-volatility-prediction/book_train.parquet/**/*.parquet')}) \\\n",
    "            .eval('stock_id = book_path.str.extract(\"stock_id=(\\d+)\").astype(\"int\")', engine='python')\n",
    "\n",
    "    with timer('calc prices'):\n",
    "        df_prices = pd.concat(Parallel(n_jobs=4, verbose=51) \\\n",
    "                              (delayed(calc_prices)(r) for _, r in df_files.iterrows()))\n",
    "        df_prices = df_prices.pivot('time_id', 'stock_id', 'price')\n",
    "        df_prices.columns = [f'stock_id={i}' for i in df_prices.columns]\n",
    "        df_prices = df_prices.reset_index(drop=False)\n",
    "\n",
    "    with timer('t-SNE(400) -> 50'):\n",
    "        clf = TSNE(n_components=1, perplexity=400, random_state=0, n_iter=2000)\n",
    "        order, X_compoents = sort_manifold(df_prices, clf)\n",
    "\n",
    "        clf = TSNE(n_components=1, perplexity=50, random_state=0, \n",
    "                   init=X_compoents, n_iter=2000, method='exact')\n",
    "        order, X_compoents = sort_manifold(df_prices, clf)\n",
    "\n",
    "        df_ordered = df_prices.reindex(order).reset_index(drop=True)\n",
    "        if df_ordered['stock_id=61'].iloc[0] > df_ordered['stock_id=61'].iloc[-1]:\n",
    "            df_ordered = df_ordered.reindex(df_ordered.index[::-1]).reset_index(drop=True)\n",
    "\n",
    "    # AMZN\n",
    "    plt.plot(df_ordered['stock_id=61'])\n",
    "    \n",
    "    return df_ordered[['time_id']]"
   ]
  },
  {
   "cell_type": "code",
   "execution_count": 22,
   "id": "3c3ad6b2",
   "metadata": {
    "execution": {
     "iopub.execute_input": "2022-01-23T02:34:59.705424Z",
     "iopub.status.busy": "2022-01-23T02:34:59.704651Z",
     "iopub.status.idle": "2022-01-23T02:35:01.635920Z",
     "shell.execute_reply": "2022-01-23T02:35:01.636972Z",
     "shell.execute_reply.started": "2022-01-15T04:54:14.801275Z"
    },
    "papermill": {
     "duration": 1.981013,
     "end_time": "2022-01-23T02:35:01.637181",
     "exception": false,
     "start_time": "2022-01-23T02:34:59.656168",
     "status": "completed"
    },
    "tags": []
   },
   "outputs": [
    {
     "name": "stdout",
     "output_type": "stream",
     "text": [
      "[calculate order of time-id] 0.013sec\n",
      "folds0: train=257362, valid=42882\n",
      "folds1: train=300244, valid=42896\n",
      "folds2: train=343140, valid=42896\n",
      "folds3: train=386036, valid=42896\n",
      "[make folds] 1.911sec\n"
     ]
    }
   ],
   "source": [
    "if CV_SPLIT == 'time':\n",
    "    with timer('calculate order of time-id'):\n",
    "        if USE_PRECOMPUTE_FEATURES:\n",
    "            timeid_order = pd.read_csv(os.path.join(DATA_DIR, 'optiver-time-id-ordered', 'time_id_order.csv'))\n",
    "        else:\n",
    "            timeid_order = reconstruct_time_id_order()\n",
    "    #按照时间划分交叉验证集\n",
    "    with timer('make folds'):\n",
    "        timeid_order['time_id_order'] = np.arange(len(timeid_order))\n",
    "        df_train['time_id_order'] = df_train['time_id'].map(timeid_order.set_index('time_id')['time_id_order'])\n",
    "        df_train = df_train.sort_values(['time_id_order', 'stock_id']).reset_index(drop=True)\n",
    "\n",
    "        folds_border = [3830 - 383*4, 3830 - 383*3, 3830 - 383*2, 3830 - 383*1]\n",
    "        time_id_orders = df_train['time_id_order']\n",
    "\n",
    "        folds = []\n",
    "        for i, border in enumerate(folds_border):\n",
    "            idx_train = np.where(time_id_orders < border)[0]\n",
    "            idx_valid = np.where((border <= time_id_orders) & (time_id_orders < border + 383))[0]\n",
    "            folds.append((idx_train, idx_valid))\n",
    "\n",
    "            print(f\"folds{i}: train={len(idx_train)}, valid={len(idx_valid)}\")\n",
    "\n",
    "    del df_train['time_id_order']\n",
    "\n",
    "#按照标签time_id分组进行交叉验证\n",
    "elif CV_SPLIT == 'group':\n",
    "    gkf = GroupKFold(n_splits=4)\n",
    "    folds = []\n",
    "\n",
    "    for i, (idx_train, idx_valid) in enumerate(gkf.split(df_train, None, groups=df_train['time_id'])):\n",
    "        folds.append((idx_train, idx_valid))\n",
    "else:\n",
    "    raise ValueError()\n",
    "\n",
    "df_train.reset_index(drop=True, inplace=True)\n",
    "df_test.reset_index(drop=True, inplace=True)"
   ]
  },
  {
   "cell_type": "markdown",
   "id": "020eecf0",
   "metadata": {
    "papermill": {
     "duration": 0.067715,
     "end_time": "2022-01-23T02:35:01.777174",
     "exception": false,
     "start_time": "2022-01-23T02:35:01.709459",
     "status": "completed"
    },
    "tags": []
   },
   "source": [
    "## LightGBM Training"
   ]
  },
  {
   "cell_type": "code",
   "execution_count": 23,
   "id": "36f6f703",
   "metadata": {
    "execution": {
     "iopub.execute_input": "2022-01-23T02:35:01.921148Z",
     "iopub.status.busy": "2022-01-23T02:35:01.920367Z",
     "iopub.status.idle": "2022-01-23T02:35:01.933964Z",
     "shell.execute_reply": "2022-01-23T02:35:01.934928Z",
     "shell.execute_reply.started": "2022-01-15T04:54:14.902446Z"
    },
    "papermill": {
     "duration": 0.091675,
     "end_time": "2022-01-23T02:35:01.935102",
     "exception": false,
     "start_time": "2022-01-23T02:35:01.843427",
     "status": "completed"
    },
    "tags": []
   },
   "outputs": [],
   "source": [
    "def rmspe(y_true, y_pred):\n",
    "    return  (np.sqrt(np.mean(np.square((y_true - y_pred) / y_true))))\n",
    "\n",
    "\n",
    "def feval_RMSPE(preds, train_data):\n",
    "    labels = train_data.get_label()\n",
    "    return 'RMSPE', round(rmspe(y_true = labels, y_pred = preds),5), False\n",
    "\n",
    "\n",
    "# from: https://blog.amedama.jp/entry/lightgbm-cv-feature-importance\n",
    "def plot_importance(cvbooster, figsize=(10, 10)):\n",
    "    raw_importances = cvbooster.feature_importance(importance_type='gain')\n",
    "    feature_name = cvbooster.boosters[0].feature_name()\n",
    "    importance_df = pd.DataFrame(data=raw_importances,\n",
    "                                 columns=feature_name)\n",
    "    # order by average importance across folds\n",
    "    sorted_indices = importance_df.mean(axis=0).sort_values(ascending=False).index\n",
    "    sorted_importance_df = importance_df.loc[:, sorted_indices]\n",
    "    # plot top-n\n",
    "    PLOT_TOP_N = 50\n",
    "    plot_cols = sorted_importance_df.columns[:PLOT_TOP_N]\n",
    "    _, ax = plt.subplots(figsize=figsize)\n",
    "    ax.grid()\n",
    "    ax.set_xscale('log')\n",
    "    ax.set_ylabel('Feature')\n",
    "    ax.set_xlabel('Importance')\n",
    "    sns.boxplot(data=sorted_importance_df[plot_cols],\n",
    "                orient='h',\n",
    "                ax=ax)\n",
    "    plt.show()\n",
    "\n",
    "\n",
    "def get_X(df_src):\n",
    "    cols = [c for c in df_src.columns if c not in ['time_id', 'target', 'tick_size']]\n",
    "    return df_src[cols]\n",
    "\n",
    "\n",
    "class EnsembleModel:\n",
    "    def __init__(self, models: List[lgb.Booster], weights: Optional[List[float]] = None):\n",
    "        self.models = models\n",
    "        self.weights = weights\n",
    "\n",
    "        features = list(self.models[0].feature_name())\n",
    "\n",
    "        for m in self.models[1:]:\n",
    "            assert features == list(m.feature_name())\n",
    "\n",
    "    def predict(self, x):\n",
    "        predicted = np.zeros((len(x), len(self.models)))\n",
    "\n",
    "        for i, m in enumerate(self.models):\n",
    "            w = self.weights[i] if self.weights is not None else 1\n",
    "            predicted[:, i] = w * m.predict(x)\n",
    "\n",
    "        ttl = np.sum(self.weights) if self.weights is not None else len(self.models)\n",
    "        return np.sum(predicted, axis=1) / ttl\n",
    "\n",
    "    def feature_name(self) -> List[str]:\n",
    "        return self.models[0].feature_name()"
   ]
  },
  {
   "cell_type": "code",
   "execution_count": 24,
   "id": "0afb222a",
   "metadata": {
    "execution": {
     "iopub.execute_input": "2022-01-23T02:35:02.048565Z",
     "iopub.status.busy": "2022-01-23T02:35:02.044618Z",
     "iopub.status.idle": "2022-01-23T03:35:55.320275Z",
     "shell.execute_reply": "2022-01-23T03:35:55.319782Z",
     "shell.execute_reply.started": "2022-01-15T04:54:14.922483Z"
    },
    "papermill": {
     "duration": 3653.32245,
     "end_time": "2022-01-23T03:35:55.320410",
     "exception": false,
     "start_time": "2022-01-23T02:35:01.997960",
     "status": "completed"
    },
    "tags": []
   },
   "outputs": [
    {
     "name": "stdout",
     "output_type": "stream",
     "text": [
      "(428932, 584)\n",
      "[LightGBM] [Warning] Auto-choosing col-wise multi-threading, the overhead of testing was 1.282080 seconds.\n",
      "You can set `force_col_wise=true` to remove the overhead.\n",
      "[LightGBM] [Warning] Auto-choosing col-wise multi-threading, the overhead of testing was 2.430224 seconds.\n",
      "You can set `force_col_wise=true` to remove the overhead.\n",
      "[LightGBM] [Warning] Auto-choosing col-wise multi-threading, the overhead of testing was 4.019611 seconds.\n",
      "You can set `force_col_wise=true` to remove the overhead.\n",
      "[LightGBM] [Warning] Auto-choosing col-wise multi-threading, the overhead of testing was 4.237943 seconds.\n",
      "You can set `force_col_wise=true` to remove the overhead.\n",
      "[20]\tcv_agg's l2: 7.38695e-07 + 1.60608e-07\tcv_agg's RMSPE: 0.38011 + 0.0099775\n",
      "[40]\tcv_agg's l2: 4.52578e-07 + 8.38512e-08\tcv_agg's RMSPE: 0.298445 + 0.00437991\n",
      "[60]\tcv_agg's l2: 3.23178e-07 + 5.03378e-08\tcv_agg's RMSPE: 0.252918 + 0.00585063\n",
      "[80]\tcv_agg's l2: 2.63681e-07 + 3.6223e-08\tcv_agg's RMSPE: 0.22891 + 0.00863284\n",
      "[100]\tcv_agg's l2: 2.35625e-07 + 3.05051e-08\tcv_agg's RMSPE: 0.216622 + 0.0103145\n",
      "[120]\tcv_agg's l2: 2.21847e-07 + 2.80948e-08\tcv_agg's RMSPE: 0.210308 + 0.0111742\n",
      "[140]\tcv_agg's l2: 2.14709e-07 + 2.70989e-08\tcv_agg's RMSPE: 0.20694 + 0.0115214\n",
      "[160]\tcv_agg's l2: 2.10699e-07 + 2.6548e-08\tcv_agg's RMSPE: 0.20502 + 0.0116685\n",
      "[180]\tcv_agg's l2: 2.08261e-07 + 2.63397e-08\tcv_agg's RMSPE: 0.203832 + 0.0117012\n",
      "[200]\tcv_agg's l2: 2.06701e-07 + 2.62468e-08\tcv_agg's RMSPE: 0.203065 + 0.0116947\n",
      "[220]\tcv_agg's l2: 2.0556e-07 + 2.62037e-08\tcv_agg's RMSPE: 0.202492 + 0.0116321\n",
      "[240]\tcv_agg's l2: 2.04734e-07 + 2.61883e-08\tcv_agg's RMSPE: 0.20208 + 0.0115777\n",
      "[260]\tcv_agg's l2: 2.04086e-07 + 2.61936e-08\tcv_agg's RMSPE: 0.201755 + 0.0115333\n",
      "[280]\tcv_agg's l2: 2.03604e-07 + 2.61482e-08\tcv_agg's RMSPE: 0.201515 + 0.0114919\n",
      "[300]\tcv_agg's l2: 2.03228e-07 + 2.61364e-08\tcv_agg's RMSPE: 0.201325 + 0.0114778\n",
      "[320]\tcv_agg's l2: 2.02914e-07 + 2.61179e-08\tcv_agg's RMSPE: 0.201167 + 0.0114477\n",
      "[340]\tcv_agg's l2: 2.02627e-07 + 2.61411e-08\tcv_agg's RMSPE: 0.20102 + 0.0114158\n",
      "[360]\tcv_agg's l2: 2.02399e-07 + 2.61625e-08\tcv_agg's RMSPE: 0.2009 + 0.0114003\n",
      "[380]\tcv_agg's l2: 2.02204e-07 + 2.61812e-08\tcv_agg's RMSPE: 0.200802 + 0.0113696\n",
      "[400]\tcv_agg's l2: 2.02022e-07 + 2.61611e-08\tcv_agg's RMSPE: 0.200708 + 0.0113372\n",
      "[420]\tcv_agg's l2: 2.0186e-07 + 2.61958e-08\tcv_agg's RMSPE: 0.200622 + 0.0113071\n",
      "[440]\tcv_agg's l2: 2.0174e-07 + 2.61755e-08\tcv_agg's RMSPE: 0.200565 + 0.0113033\n",
      "[460]\tcv_agg's l2: 2.01656e-07 + 2.62213e-08\tcv_agg's RMSPE: 0.200517 + 0.011288\n",
      "[480]\tcv_agg's l2: 2.01544e-07 + 2.62394e-08\tcv_agg's RMSPE: 0.200458 + 0.0112683\n",
      "[500]\tcv_agg's l2: 2.01449e-07 + 2.62365e-08\tcv_agg's RMSPE: 0.20041 + 0.0112583\n",
      "[520]\tcv_agg's l2: 2.01348e-07 + 2.62496e-08\tcv_agg's RMSPE: 0.200355 + 0.0112363\n",
      "[540]\tcv_agg's l2: 2.01281e-07 + 2.62624e-08\tcv_agg's RMSPE: 0.20032 + 0.0112207\n",
      "[560]\tcv_agg's l2: 2.01234e-07 + 2.62915e-08\tcv_agg's RMSPE: 0.200295 + 0.011221\n",
      "[580]\tcv_agg's l2: 2.01176e-07 + 2.63166e-08\tcv_agg's RMSPE: 0.200265 + 0.0112071\n",
      "[600]\tcv_agg's l2: 2.01141e-07 + 2.6349e-08\tcv_agg's RMSPE: 0.200242 + 0.0111976\n",
      "[620]\tcv_agg's l2: 2.01094e-07 + 2.63684e-08\tcv_agg's RMSPE: 0.20022 + 0.011183\n",
      "[640]\tcv_agg's l2: 2.01041e-07 + 2.63611e-08\tcv_agg's RMSPE: 0.200192 + 0.0111782\n",
      "[660]\tcv_agg's l2: 2.01014e-07 + 2.63788e-08\tcv_agg's RMSPE: 0.200175 + 0.0111727\n",
      "[680]\tcv_agg's l2: 2.0099e-07 + 2.63937e-08\tcv_agg's RMSPE: 0.200167 + 0.0111734\n",
      "[700]\tcv_agg's l2: 2.00943e-07 + 2.64018e-08\tcv_agg's RMSPE: 0.20014 + 0.0111617\n",
      "[720]\tcv_agg's l2: 2.00929e-07 + 2.64224e-08\tcv_agg's RMSPE: 0.200132 + 0.0111562\n",
      "[740]\tcv_agg's l2: 2.00926e-07 + 2.64731e-08\tcv_agg's RMSPE: 0.200127 + 0.0111499\n",
      "[760]\tcv_agg's l2: 2.00931e-07 + 2.64695e-08\tcv_agg's RMSPE: 0.200127 + 0.0111499\n",
      "[780]\tcv_agg's l2: 2.0094e-07 + 2.64982e-08\tcv_agg's RMSPE: 0.200132 + 0.0111568\n",
      "[800]\tcv_agg's l2: 2.00958e-07 + 2.65196e-08\tcv_agg's RMSPE: 0.200143 + 0.0111562\n",
      "[820]\tcv_agg's l2: 2.00983e-07 + 2.65606e-08\tcv_agg's RMSPE: 0.200147 + 0.0111619\n",
      "[840]\tcv_agg's l2: 2.00987e-07 + 2.66009e-08\tcv_agg's RMSPE: 0.20015 + 0.0111611\n",
      "[860]\tcv_agg's l2: 2.00956e-07 + 2.65819e-08\tcv_agg's RMSPE: 0.200135 + 0.0111531\n",
      "[880]\tcv_agg's l2: 2.00963e-07 + 2.65836e-08\tcv_agg's RMSPE: 0.200138 + 0.011155\n",
      "[900]\tcv_agg's l2: 2.0099e-07 + 2.65991e-08\tcv_agg's RMSPE: 0.200152 + 0.0111578\n",
      "[920]\tcv_agg's l2: 2.01017e-07 + 2.66297e-08\tcv_agg's RMSPE: 0.200162 + 0.0111505\n",
      "# overall RMSPE: 0.2001175\n",
      "[lgb.cv] 1526.722sec\n",
      "# fold0 RMSPE: 0.20388891511685114\n",
      "# fold1 RMSPE: 0.2089204487384777\n",
      "# fold2 RMSPE: 0.20660271881824593\n",
      "# fold3 RMSPE: 0.18105732874404667\n"
     ]
    },
    {
     "data": {
      "image/png": "[encoded data removed]",
      "text/plain": [
       "<Figure size 720x1440 with 1 Axes>"
      ]
     },
     "metadata": {
      "needs_background": "light"
     },
     "output_type": "display_data"
    },
    {
     "name": "stdout",
     "output_type": "stream",
     "text": [
      "[LightGBM] [Warning] Auto-choosing col-wise multi-threading, the overhead of testing was 5.251592 seconds.\n",
      "You can set `force_col_wise=true` to remove the overhead.\n",
      "[LightGBM] [Warning] Auto-choosing col-wise multi-threading, the overhead of testing was 5.871003 seconds.\n",
      "You can set `force_col_wise=true` to remove the overhead.\n",
      "[LightGBM] [Warning] Auto-choosing col-wise multi-threading, the overhead of testing was 5.935411 seconds.\n",
      "You can set `force_col_wise=true` to remove the overhead.\n",
      "[LightGBM] [Warning] Auto-choosing col-wise multi-threading, the overhead of testing was 5.589107 seconds.\n",
      "You can set `force_col_wise=true` to remove the overhead.\n",
      "[LightGBM] [Warning] Auto-choosing col-wise multi-threading, the overhead of testing was 5.606250 seconds.\n",
      "You can set `force_col_wise=true` to remove the overhead.\n",
      "[retraining] 2100.671sec\n"
     ]
    },
    {
     "data": {
      "text/plain": [
       "40333"
      ]
     },
     "execution_count": 24,
     "metadata": {},
     "output_type": "execute_result"
    }
   ],
   "source": [
    "lr = GBDT_LR\n",
    "if SHORTCUT_GBDT_IN_1ST_STAGE and IS_1ST_STAGE:\n",
    "    # to save GPU quota\n",
    "    lr = 0.3\n",
    "\n",
    "params = {\n",
    "    'objective': 'regression',\n",
    "    'verbose': 0,\n",
    "    'metric': '',\n",
    "    'reg_alpha': 5,\n",
    "    'reg_lambda': 5,\n",
    "    'min_data_in_leaf': 1000,\n",
    "    'max_depth': -1,\n",
    "    'num_leaves': 128,\n",
    "    'colsample_bytree': 0.3,\n",
    "    'learning_rate': lr\n",
    "}\n",
    "\n",
    "X = get_X(df_train)\n",
    "y = df_train['target']\n",
    "X.to_feather('X.f')\n",
    "df_train[['target']].to_feather('y.f')\n",
    "\n",
    "gc.collect()\n",
    "\n",
    "print(X.shape)\n",
    "\n",
    "if PREDICT_GBDT:\n",
    "    ds = lgb.Dataset(X, y, weight=1/np.power(y, 2))\n",
    "\n",
    "    with timer('lgb.cv'):\n",
    "        ret = lgb.cv(params, ds, num_boost_round=8000, folds=folds, #cv,\n",
    "                     feval=feval_RMSPE, stratified=False, \n",
    "                     return_cvbooster=True, verbose_eval=20,\n",
    "                     early_stopping_rounds=int(40*0.1/lr))\n",
    "\n",
    "        print(f\"# overall RMSPE: {ret['RMSPE-mean'][-1]}\")\n",
    "\n",
    "    best_iteration = len(ret['RMSPE-mean'])\n",
    "    for i in range(len(folds)):\n",
    "        y_pred = ret['cvbooster'].boosters[i].predict(X.iloc[folds[i][1]], num_iteration=best_iteration)\n",
    "        y_true = y.iloc[folds[i][1]]\n",
    "        print(f\"# fold{i} RMSPE: {rmspe(y_true, y_pred)}\")\n",
    "        \n",
    "        if i == len(folds) - 1:\n",
    "            np.save('pred_gbdt.npy', y_pred)\n",
    "\n",
    "    plot_importance(ret['cvbooster'], figsize=(10, 20))\n",
    "\n",
    "    boosters = []\n",
    "    with timer('retraining'):\n",
    "        for i in range(GBDT_NUM_MODELS):\n",
    "            params['seed'] = i\n",
    "            boosters.append(lgb.train(params, ds, num_boost_round=int(1.1*best_iteration)))\n",
    "\n",
    "    booster = EnsembleModel(boosters)\n",
    "    del ret\n",
    "    del ds\n",
    "\n",
    "gc.collect()"
   ]
  },
  {
   "cell_type": "markdown",
   "id": "fb015e20",
   "metadata": {
    "papermill": {
     "duration": 0.057064,
     "end_time": "2022-01-23T03:35:55.434906",
     "exception": false,
     "start_time": "2022-01-23T03:35:55.377842",
     "status": "completed"
    },
    "tags": []
   },
   "source": [
    "## NN Training"
   ]
  },
  {
   "cell_type": "code",
   "execution_count": 25,
   "id": "4dce13e5",
   "metadata": {
    "_kg_hide-input": true,
    "execution": {
     "iopub.execute_input": "2022-01-23T03:35:55.569557Z",
     "iopub.status.busy": "2022-01-23T03:35:55.558558Z",
     "iopub.status.idle": "2022-01-23T03:35:56.706846Z",
     "shell.execute_reply": "2022-01-23T03:35:56.705908Z",
     "shell.execute_reply.started": "2022-01-15T04:57:16.2193Z"
    },
    "papermill": {
     "duration": 1.211778,
     "end_time": "2022-01-23T03:35:56.706992",
     "exception": false,
     "start_time": "2022-01-23T03:35:55.495214",
     "status": "completed"
    },
    "tags": []
   },
   "outputs": [],
   "source": [
    "import gc\n",
    "import os\n",
    "import random\n",
    "from typing import List, Tuple, Optional, Union\n",
    "\n",
    "import numpy as np\n",
    "import pandas as pd\n",
    "import torch\n",
    "import torch.nn as nn\n",
    "from sklearn.preprocessing import StandardScaler\n",
    "from torch.utils.data import Dataset, DataLoader\n",
    "from tqdm import tqdm\n",
    "\n",
    "from joblib import Parallel, delayed\n",
    "from sklearn.decomposition import PCA\n",
    "from pytorch_tabnet.metrics import Metric\n",
    "from pytorch_tabnet.tab_model import TabNetRegressor\n",
    "from torch.optim.lr_scheduler import CosineAnnealingWarmRestarts\n",
    "\n",
    "\n",
    "null_check_cols = [\n",
    "    'book.log_return1.realized_volatility',\n",
    "    'book_150.log_return1.realized_volatility',\n",
    "    'book_300.log_return1.realized_volatility',\n",
    "    'book_450.log_return1.realized_volatility',\n",
    "    'trade.log_return.realized_volatility',\n",
    "    'trade_150.log_return.realized_volatility',\n",
    "    'trade_300.log_return.realized_volatility',\n",
    "    'trade_450.log_return.realized_volatility'\n",
    "]\n",
    "\n",
    "\n",
    "def seed_everything(seed=42):\n",
    "    random.seed(seed)\n",
    "    os.environ['PYTHONHASHSEED'] = str(seed)\n",
    "    np.random.seed(seed)\n",
    "    torch.manual_seed(seed)\n",
    "    torch.cuda.manual_seed(seed)\n",
    "    torch.backends.cudnn.deterministic = True\n",
    "\n",
    "\n",
    "def rmspe_metric(y_true, y_pred):\n",
    "    rmspe = np.sqrt(np.mean(np.square((y_true - y_pred) / y_true)))\n",
    "    return rmspe\n",
    "\n",
    "\n",
    "def rmspe_loss(y_true, y_pred):\n",
    "    rmspe = torch.sqrt(torch.mean(torch.square((y_true - y_pred) / y_true)))\n",
    "    return rmspe\n",
    "\n",
    "\n",
    "class RMSPE(Metric):\n",
    "    def __init__(self):\n",
    "        self._name = \"rmspe\"\n",
    "        self._maximize = False\n",
    "\n",
    "    def __call__(self, y_true, y_score):\n",
    "        return np.sqrt(np.mean(np.square((y_true - y_score) / y_true)))\n",
    "\n",
    "def RMSPELoss_Tabnet(y_pred, y_true):\n",
    "    return torch.sqrt(torch.mean( ((y_true - y_pred) / y_true) ** 2 )).clone()\n",
    "\n",
    "\n",
    "class AverageMeter:\n",
    "    \"\"\"Computes and stores the average and current value\"\"\"\n",
    "\n",
    "    def __init__(self):\n",
    "        self.val = 0\n",
    "        self.avg = 0\n",
    "        self.sum = 0\n",
    "        self.count = 0\n",
    "        self.reset()\n",
    "\n",
    "    def reset(self):\n",
    "        self.val = 0\n",
    "        self.avg = 0\n",
    "        self.sum = 0\n",
    "        self.count = 0\n",
    "\n",
    "    def update(self, val, n=1):\n",
    "        self.val = val\n",
    "        self.sum += val * n\n",
    "        self.count += n\n",
    "        self.avg = self.sum / self.count\n",
    "\n",
    "\n",
    "class TabularDataset(Dataset):\n",
    "    def __init__(self, x_num: np.ndarray, x_cat: np.ndarray, y: Optional[np.ndarray]):\n",
    "        super().__init__()\n",
    "        self.x_num = x_num\n",
    "        self.x_cat = x_cat\n",
    "        self.y = y\n",
    "\n",
    "    def __len__(self):\n",
    "        return len(self.x_num)\n",
    "\n",
    "    def __getitem__(self, idx):\n",
    "        if self.y is None:\n",
    "            return self.x_num[idx], torch.LongTensor(self.x_cat[idx])\n",
    "        else:\n",
    "            return self.x_num[idx], torch.LongTensor(self.x_cat[idx]), self.y[idx]\n",
    "\n",
    "\n",
    "class MLP(nn.Module):\n",
    "    def __init__(self,\n",
    "                 src_num_dim: int,\n",
    "                 n_categories: List[int],\n",
    "                 dropout: float = 0.0,\n",
    "                 hidden: int = 50,\n",
    "                 emb_dim: int = 10,\n",
    "                 dropout_cat: float = 0.2,\n",
    "                 bn: bool = False):\n",
    "        super().__init__()\n",
    "\n",
    "        self.embs = nn.ModuleList([\n",
    "            nn.Embedding(x, emb_dim) for x in n_categories])\n",
    "        self.cat_dim = emb_dim * len(n_categories)\n",
    "        self.dropout_cat = nn.Dropout(dropout_cat)\n",
    "\n",
    "        if bn:\n",
    "            self.sequence = nn.Sequential(\n",
    "                nn.Linear(src_num_dim + self.cat_dim, hidden),\n",
    "                nn.Dropout(dropout),\n",
    "                nn.BatchNorm1d(hidden),\n",
    "                nn.ReLU(),\n",
    "                nn.Linear(hidden, hidden),\n",
    "                nn.Dropout(dropout),\n",
    "                nn.BatchNorm1d(hidden),\n",
    "                nn.ReLU(),\n",
    "                nn.Linear(hidden, 1)\n",
    "            )\n",
    "        else:\n",
    "            self.sequence = nn.Sequential(\n",
    "                nn.Linear(src_num_dim + self.cat_dim, hidden),\n",
    "                nn.Dropout(dropout),\n",
    "                nn.ReLU(),\n",
    "                nn.Linear(hidden, hidden),\n",
    "                nn.Dropout(dropout),\n",
    "                nn.ReLU(),\n",
    "                nn.Linear(hidden, 1)\n",
    "            )\n",
    "\n",
    "    def forward(self, x_num, x_cat):\n",
    "        embs = [embedding(x_cat[:, i]) for i, embedding in enumerate(self.embs)]\n",
    "        x_cat_emb = self.dropout_cat(torch.cat(embs, 1))\n",
    "        x_all = torch.cat([x_num, x_cat_emb], 1)\n",
    "        x = self.sequence(x_all)\n",
    "        return torch.squeeze(x)\n",
    "\n",
    "\n",
    "class CNN(nn.Module):\n",
    "    def __init__(self,\n",
    "                 num_features: int,\n",
    "                 hidden_size: int,\n",
    "                 n_categories: List[int],\n",
    "                 emb_dim: int = 10,\n",
    "                 dropout_cat: float = 0.2,\n",
    "                 channel_1: int = 256,\n",
    "                 channel_2: int = 512,\n",
    "                 channel_3: int = 512,\n",
    "                 dropout_top: float = 0.1,\n",
    "                 dropout_mid: float = 0.3,\n",
    "                 dropout_bottom: float = 0.2,\n",
    "                 weight_norm: bool = True,\n",
    "                 two_stage: bool = True,\n",
    "                 celu: bool = True,\n",
    "                 kernel1: int = 5,\n",
    "                 leaky_relu: bool = False):\n",
    "        super().__init__()\n",
    "\n",
    "        num_targets = 1\n",
    "\n",
    "        cha_1_reshape = int(hidden_size / channel_1)\n",
    "        cha_po_1 = int(hidden_size / channel_1 / 2)\n",
    "        cha_po_2 = int(hidden_size / channel_1 / 2 / 2) * channel_3\n",
    "\n",
    "        self.cat_dim = emb_dim * len(n_categories)\n",
    "        self.cha_1 = channel_1\n",
    "        self.cha_2 = channel_2\n",
    "        self.cha_3 = channel_3\n",
    "        self.cha_1_reshape = cha_1_reshape\n",
    "        self.cha_po_1 = cha_po_1\n",
    "        self.cha_po_2 = cha_po_2\n",
    "        self.two_stage = two_stage\n",
    "\n",
    "        self.expand = nn.Sequential(\n",
    "            nn.BatchNorm1d(num_features + self.cat_dim),\n",
    "            nn.Dropout(dropout_top),\n",
    "            nn.utils.weight_norm(nn.Linear(num_features + self.cat_dim, hidden_size), dim=None),\n",
    "            nn.CELU(0.06) if celu else nn.ReLU()\n",
    "        )\n",
    "\n",
    "        def _norm(layer, dim=None):\n",
    "            return nn.utils.weight_norm(layer, dim=dim) if weight_norm else layer\n",
    "\n",
    "        self.conv1 = nn.Sequential(\n",
    "            nn.BatchNorm1d(channel_1),\n",
    "            nn.Dropout(dropout_top),\n",
    "            _norm(nn.Conv1d(channel_1, channel_2, kernel_size=kernel1, stride=1, \n",
    "                            padding=kernel1 // 2, bias=False)),\n",
    "            nn.ReLU(),\n",
    "            nn.AdaptiveAvgPool1d(output_size=cha_po_1),\n",
    "            nn.BatchNorm1d(channel_2),\n",
    "            nn.Dropout(dropout_top),\n",
    "            _norm(nn.Conv1d(channel_2, channel_2, kernel_size=3, stride=1, padding=1, bias=True)),\n",
    "            nn.ReLU()\n",
    "        )\n",
    "\n",
    "        if self.two_stage:\n",
    "            self.conv2 = nn.Sequential(\n",
    "                nn.BatchNorm1d(channel_2),\n",
    "                nn.Dropout(dropout_mid),\n",
    "                _norm(nn.Conv1d(channel_2, channel_2, kernel_size=3, stride=1, padding=1, bias=True)),\n",
    "                nn.ReLU(),\n",
    "                nn.BatchNorm1d(channel_2),\n",
    "                nn.Dropout(dropout_bottom),\n",
    "                _norm(nn.Conv1d(channel_2, channel_3, kernel_size=5, stride=1, padding=2, bias=True)),\n",
    "                nn.ReLU()\n",
    "            )\n",
    "\n",
    "        self.max_po_c2 = nn.MaxPool1d(kernel_size=4, stride=2, padding=1)\n",
    "\n",
    "        self.flt = nn.Flatten()\n",
    "\n",
    "        if leaky_relu:\n",
    "            self.dense = nn.Sequential(\n",
    "                nn.BatchNorm1d(cha_po_2),\n",
    "                nn.Dropout(dropout_bottom),\n",
    "                _norm(nn.Linear(cha_po_2, num_targets), dim=0),\n",
    "                nn.LeakyReLU()\n",
    "            )\n",
    "        else:\n",
    "            self.dense = nn.Sequential(\n",
    "                nn.BatchNorm1d(cha_po_2),\n",
    "                nn.Dropout(dropout_bottom),\n",
    "                _norm(nn.Linear(cha_po_2, num_targets), dim=0)\n",
    "            )\n",
    "\n",
    "        self.embs = nn.ModuleList([nn.Embedding(x, emb_dim) for x in n_categories])\n",
    "        self.cat_dim = emb_dim * len(n_categories)\n",
    "        self.dropout_cat = nn.Dropout(dropout_cat)\n",
    "\n",
    "    def forward(self, x_num, x_cat):\n",
    "        embs = [embedding(x_cat[:, i]) for i, embedding in enumerate(self.embs)]\n",
    "        x_cat_emb = self.dropout_cat(torch.cat(embs, 1))\n",
    "        x = torch.cat([x_num, x_cat_emb], 1)\n",
    "\n",
    "        x = self.expand(x)\n",
    "\n",
    "        x = x.reshape(x.shape[0], self.cha_1, self.cha_1_reshape)\n",
    "\n",
    "        x = self.conv1(x)\n",
    "\n",
    "        if self.two_stage:\n",
    "            x = self.conv2(x) * x\n",
    "\n",
    "        x = self.max_po_c2(x)\n",
    "        x = self.flt(x)\n",
    "        x = self.dense(x)\n",
    "\n",
    "        return torch.squeeze(x)\n",
    "\n",
    "\n",
    "def preprocess_nn(\n",
    "        X: pd.DataFrame,\n",
    "        scaler: Optional[StandardScaler] = None,\n",
    "        scaler_type: str = 'standard',\n",
    "        n_pca: int = -1,\n",
    "        na_cols: bool = True):\n",
    "    if na_cols:\n",
    "        #for c in X.columns:\n",
    "        for c in null_check_cols:\n",
    "            if c in X.columns:\n",
    "                X[f\"{c}_isnull\"] = X[c].isnull().astype(int)\n",
    "\n",
    "    cat_cols = [c for c in X.columns if c in ['time_id', 'stock_id']]\n",
    "    num_cols = [c for c in X.columns if c not in cat_cols]\n",
    "\n",
    "    X_num = X[num_cols].values.astype(np.float32)\n",
    "    X_cat = np.nan_to_num(X[cat_cols].values.astype(np.int32))\n",
    "\n",
    "    def _pca(X_num_):\n",
    "        if n_pca > 0:\n",
    "            pca = PCA(n_components=n_pca, random_state=0)\n",
    "            return pca.fit_transform(X_num)\n",
    "        return X_num\n",
    "\n",
    "    if scaler is None:\n",
    "        scaler = StandardScaler()\n",
    "        X_num = scaler.fit_transform(X_num)\n",
    "        X_num = np.nan_to_num(X_num, posinf=0, neginf=0)\n",
    "        return _pca(X_num), X_cat, cat_cols, scaler\n",
    "    else:\n",
    "        X_num = scaler.transform(X_num) #TODO: infでも大丈夫？\n",
    "        X_num = np.nan_to_num(X_num, posinf=0, neginf=0)\n",
    "        return _pca(X_num), X_cat, cat_cols\n",
    "\n",
    "\n",
    "def train_epoch(data_loader: DataLoader,\n",
    "                model: nn.Module,\n",
    "                optimizer,\n",
    "                scheduler,\n",
    "                device,\n",
    "                clip_grad: float = 1.5):\n",
    "    model.train()\n",
    "    losses = AverageMeter()\n",
    "    step = 0\n",
    "\n",
    "    for x_num, x_cat, y in tqdm(data_loader, position=0, leave=True, desc='Training'):\n",
    "        batch_size = x_num.size(0)\n",
    "        x_num = x_num.to(device, dtype=torch.float)\n",
    "        x_cat = x_cat.to(device)\n",
    "        y = y.to(device, dtype=torch.float)\n",
    "\n",
    "        loss = rmspe_loss(y, model(x_num, x_cat))\n",
    "        losses.update(loss.detach().cpu().numpy(), batch_size)\n",
    "        loss.backward()\n",
    "\n",
    "        torch.nn.utils.clip_grad_norm_(model.parameters(), clip_grad)\n",
    "        optimizer.step()\n",
    "        optimizer.zero_grad()\n",
    "\n",
    "        if scheduler is not None:\n",
    "            scheduler.step()\n",
    "\n",
    "        step += 1\n",
    "\n",
    "    return losses.avg\n",
    "\n",
    "\n",
    "def evaluate(data_loader: DataLoader, model, device):\n",
    "    model.eval()\n",
    "\n",
    "    losses = AverageMeter()\n",
    "\n",
    "    final_targets = []\n",
    "    final_outputs = []\n",
    "\n",
    "    with torch.no_grad():\n",
    "        for x_num, x_cat, y in tqdm(data_loader, position=0, leave=True, desc='Evaluating'):\n",
    "            batch_size = x_num.size(0)\n",
    "            x_num = x_num.to(device, dtype=torch.float)\n",
    "            x_cat = x_cat.to(device)\n",
    "            y = y.to(device, dtype=torch.float)\n",
    "\n",
    "            with torch.no_grad():\n",
    "                output = model(x_num, x_cat)\n",
    "\n",
    "            loss = rmspe_loss(y, output)\n",
    "            # record loss\n",
    "            losses.update(loss.detach().cpu().numpy(), batch_size)\n",
    "\n",
    "            targets = y.detach().cpu().numpy()\n",
    "            output = output.detach().cpu().numpy()\n",
    "\n",
    "            final_targets.append(targets)\n",
    "            final_outputs.append(output)\n",
    "\n",
    "    final_targets = np.concatenate(final_targets)\n",
    "    final_outputs = np.concatenate(final_outputs)\n",
    "\n",
    "    try:\n",
    "        metric = rmspe_metric(final_targets, final_outputs)\n",
    "    except:\n",
    "        metric = None\n",
    "\n",
    "    return final_outputs, final_targets, losses.avg, metric\n",
    "\n",
    "\n",
    "def predict_nn(X: pd.DataFrame,\n",
    "               model: Union[List[MLP], MLP],\n",
    "               scaler: StandardScaler,\n",
    "               device,\n",
    "               ensemble_method='mean'):\n",
    "    if not isinstance(model, list):\n",
    "        model = [model]\n",
    "\n",
    "    for m in model:\n",
    "        m.eval()\n",
    "    X_num, X_cat, cat_cols = preprocess_nn(X.copy(), scaler=scaler)\n",
    "    valid_dataset = TabularDataset(X_num, X_cat, None)\n",
    "    valid_loader = torch.utils.data.DataLoader(valid_dataset,\n",
    "                                               batch_size=512,\n",
    "                                               shuffle=False,\n",
    "                                               num_workers=4)\n",
    "\n",
    "    final_outputs = []\n",
    "\n",
    "    with torch.no_grad():\n",
    "        for x_num, x_cat in tqdm(valid_loader, position=0, leave=True, desc='Evaluating'):\n",
    "            x_num = x_num.to(device, dtype=torch.float)\n",
    "            x_cat = x_cat.to(device)\n",
    "\n",
    "            outputs = []\n",
    "            with torch.no_grad():\n",
    "                for m in model:\n",
    "                    output = m(x_num, x_cat)\n",
    "                    outputs.append(output.detach().cpu().numpy())\n",
    "\n",
    "            if ensemble_method == 'median':\n",
    "                pred = np.nanmedian(np.array(outputs), axis=0)\n",
    "            else:\n",
    "                pred = np.array(outputs).mean(axis=0)\n",
    "            final_outputs.append(pred)\n",
    "\n",
    "    final_outputs = np.concatenate(final_outputs)\n",
    "    return final_outputs\n",
    "\n",
    "\n",
    "def predict_tabnet(X: pd.DataFrame,\n",
    "                   model: Union[List[TabNetRegressor], TabNetRegressor],\n",
    "                   scaler: StandardScaler,\n",
    "                   ensemble_method='mean'):\n",
    "    if not isinstance(model, list):\n",
    "        model = [model]\n",
    "\n",
    "    X_num, X_cat, cat_cols = preprocess_nn(X.copy(), scaler=scaler)\n",
    "    X_processed = np.concatenate([X_cat, X_num], axis=1)\n",
    "\n",
    "    predicted = []\n",
    "    for m in model:\n",
    "        predicted.append(m.predict(X_processed))\n",
    "\n",
    "    if ensemble_method == 'median':\n",
    "        pred = np.nanmedian(np.array(predicted), axis=0)\n",
    "    else:\n",
    "        pred = np.array(predicted).mean(axis=0)\n",
    "\n",
    "    return pred\n",
    "\n",
    "\n",
    "def train_tabnet(X: pd.DataFrame,\n",
    "                 y: pd.DataFrame,\n",
    "                 folds: List[Tuple],\n",
    "                 batch_size: int = 1024,\n",
    "                 lr: float = 1e-3,\n",
    "                 model_path: str = 'fold_{}.pth',\n",
    "                 scaler_type: str = 'standard',\n",
    "                 output_dir: str = 'artifacts',\n",
    "                 epochs: int = 250,\n",
    "                 seed: int = 42,\n",
    "                 n_pca: int = -1,\n",
    "                 na_cols: bool = True,\n",
    "                 patience: int = 10,\n",
    "                 factor: float = 0.5,\n",
    "                 gamma: float = 2.0,\n",
    "                 lambda_sparse: float = 8.0,\n",
    "                 n_steps: int = 2,\n",
    "                 scheduler_type: str = 'cosine',\n",
    "                 n_a: int = 16):\n",
    "    seed_everything(seed)\n",
    "\n",
    "    os.makedirs(output_dir, exist_ok=True)\n",
    "\n",
    "    y = y.values.astype(np.float32)\n",
    "    X_num, X_cat, cat_cols, scaler = preprocess_nn(X.copy(), scaler_type=scaler_type,\n",
    "                                                   n_pca=n_pca, na_cols=na_cols)\n",
    "\n",
    "    best_losses = []\n",
    "    best_predictions = []\n",
    "\n",
    "    for cv_idx, (train_idx, valid_idx) in enumerate(folds):\n",
    "        X_tr, X_va = X_num[train_idx], X_num[valid_idx]\n",
    "        X_tr_cat, X_va_cat = X_cat[train_idx], X_cat[valid_idx]\n",
    "        y_tr, y_va = y[train_idx], y[valid_idx]\n",
    "        y_tr = y_tr.reshape(-1,1)\n",
    "        y_va = y_va.reshape(-1,1)\n",
    "        X_tr = np.concatenate([X_tr_cat, X_tr], axis=1)\n",
    "        X_va = np.concatenate([X_va_cat, X_va], axis=1)\n",
    "\n",
    "        cat_idxs = [0]\n",
    "        cat_dims = [128]\n",
    "\n",
    "        if scheduler_type == 'cosine':\n",
    "            scheduler_params = dict(T_0=200, T_mult=1, eta_min=1e-4,\n",
    "                                    last_epoch=-1, verbose=False)\n",
    "            scheduler_fn = CosineAnnealingWarmRestarts\n",
    "        else:\n",
    "            scheduler_params = {'mode': 'min', 'min_lr': 1e-7, 'patience': patience,\n",
    "                                'factor': factor, 'verbose': True}\n",
    "            scheduler_fn = torch.optim.lr_scheduler.ReduceLROnPlateau\n",
    "\n",
    "        model = TabNetRegressor(\n",
    "            cat_idxs=cat_idxs,\n",
    "            cat_dims=cat_dims,\n",
    "            cat_emb_dim=1,\n",
    "            n_d=n_a,\n",
    "            n_a=n_a,\n",
    "            n_steps=n_steps,\n",
    "            gamma=gamma,\n",
    "            n_independent=2,\n",
    "            n_shared=2,\n",
    "            lambda_sparse=lambda_sparse,\n",
    "            optimizer_fn=torch.optim.Adam,\n",
    "            optimizer_params={'lr': lr},\n",
    "            mask_type=\"entmax\",\n",
    "            scheduler_fn=scheduler_fn,\n",
    "            scheduler_params=scheduler_params,\n",
    "            seed=seed,\n",
    "            verbose=10\n",
    "            #device_name=device,\n",
    "            #clip_value=1.5\n",
    "        )\n",
    "\n",
    "        model.fit(X_tr, y_tr, eval_set=[(X_va, y_va)], max_epochs=epochs,\n",
    "                  patience=50, batch_size=1024*20,\n",
    "                  virtual_batch_size=batch_size, num_workers=4, \n",
    "                  drop_last=False, eval_metric=[RMSPE], loss_fn=RMSPELoss_Tabnet)\n",
    "\n",
    "        path = os.path.join(output_dir, model_path.format(cv_idx))\n",
    "        model.save_model(path)\n",
    "\n",
    "        predicted = model.predict(X_va)\n",
    "\n",
    "        rmspe = rmspe_metric(y_va, predicted)\n",
    "        best_losses.append(rmspe)\n",
    "        best_predictions.append(predicted)\n",
    "\n",
    "    return best_losses, best_predictions, scaler, model\n",
    "\n",
    "\n",
    "def train_nn(X: pd.DataFrame,\n",
    "             y: pd.DataFrame,\n",
    "             folds: List[Tuple],\n",
    "             device,\n",
    "             emb_dim: int = 25,\n",
    "             batch_size: int = 1024,\n",
    "             model_type: str = 'mlp',\n",
    "             mlp_dropout: float = 0.0,\n",
    "             mlp_hidden: int = 64,\n",
    "             mlp_bn: bool = False,\n",
    "             cnn_hidden: int = 64,\n",
    "             cnn_channel1: int = 32,\n",
    "             cnn_channel2: int = 32,\n",
    "             cnn_channel3: int = 32,\n",
    "             cnn_kernel1: int = 5,\n",
    "             cnn_celu: bool = False,\n",
    "             cnn_weight_norm: bool = False,\n",
    "             dropout_emb: bool = 0.0,\n",
    "             lr: float = 1e-3,\n",
    "             weight_decay: float = 0.0,\n",
    "             model_path: str = 'fold_{}.pth',\n",
    "             scaler_type: str = 'standard',\n",
    "             output_dir: str = 'artifacts',\n",
    "             scheduler_type: str = 'onecycle',\n",
    "             optimizer_type: str = 'adam',\n",
    "             max_lr: float = 0.01,\n",
    "             epochs: int = 30,\n",
    "             seed: int = 42,\n",
    "             n_pca: int = -1,\n",
    "             batch_double_freq: int = 50,\n",
    "             cnn_dropout: float = 0.1,\n",
    "             na_cols: bool = True,\n",
    "             cnn_leaky_relu: bool = False,\n",
    "             patience: int = 8,\n",
    "             factor: float = 0.5):\n",
    "    seed_everything(seed)\n",
    "\n",
    "    os.makedirs(output_dir, exist_ok=True)\n",
    "\n",
    "    y = y.values.astype(np.float32)\n",
    "    X_num, X_cat, cat_cols, scaler = preprocess_nn(X.copy(), \n",
    "                                                   scaler_type=scaler_type, n_pca=n_pca, na_cols=na_cols)\n",
    "\n",
    "    best_losses = []\n",
    "    best_predictions = []\n",
    "\n",
    "    for cv_idx, (train_idx, valid_idx) in enumerate(folds):\n",
    "        X_tr, X_va = X_num[train_idx], X_num[valid_idx]\n",
    "        X_tr_cat, X_va_cat = X_cat[train_idx], X_cat[valid_idx]\n",
    "        y_tr, y_va = y[train_idx], y[valid_idx]\n",
    "\n",
    "        cur_batch = batch_size\n",
    "        best_loss = 1e10\n",
    "        best_prediction = None\n",
    "\n",
    "        print(f\"fold {cv_idx} train: {X_tr.shape}, valid: {X_va.shape}\")\n",
    "\n",
    "        train_dataset = TabularDataset(X_tr, X_tr_cat, y_tr)\n",
    "        valid_dataset = TabularDataset(X_va, X_va_cat, y_va)\n",
    "        train_loader = torch.utils.data.DataLoader(train_dataset, batch_size=cur_batch, shuffle=True,\n",
    "                                                   num_workers=4)\n",
    "        valid_loader = torch.utils.data.DataLoader(valid_dataset, batch_size=cur_batch, shuffle=False,\n",
    "                                                   num_workers=4)\n",
    "\n",
    "        if model_type == 'mlp':\n",
    "            model = MLP(X_tr.shape[1],\n",
    "                        n_categories=[128],\n",
    "                        dropout=mlp_dropout, hidden=mlp_hidden, emb_dim=emb_dim,\n",
    "                        dropout_cat=dropout_emb, bn=mlp_bn)\n",
    "        elif model_type == 'cnn':\n",
    "            model = CNN(X_tr.shape[1],\n",
    "                        hidden_size=cnn_hidden,\n",
    "                        n_categories=[128],\n",
    "                        emb_dim=emb_dim,\n",
    "                        dropout_cat=dropout_emb,\n",
    "                        channel_1=cnn_channel1,\n",
    "                        channel_2=cnn_channel2,\n",
    "                        channel_3=cnn_channel3,\n",
    "                        two_stage=False,\n",
    "                        kernel1=cnn_kernel1,\n",
    "                        celu=cnn_celu,\n",
    "                        dropout_top=cnn_dropout,\n",
    "                        dropout_mid=cnn_dropout,\n",
    "                        dropout_bottom=cnn_dropout,\n",
    "                        weight_norm=cnn_weight_norm,\n",
    "                        leaky_relu=cnn_leaky_relu)\n",
    "        else:\n",
    "            raise NotImplementedError()\n",
    "        model = model.to(device)\n",
    "\n",
    "        if optimizer_type == 'adamw':\n",
    "            opt = torch.optim.AdamW(model.parameters(), lr=lr, weight_decay=weight_decay)\n",
    "        elif optimizer_type == 'adam':\n",
    "            opt = torch.optim.Adam(model.parameters(), lr=lr, weight_decay=weight_decay)\n",
    "        else:\n",
    "            raise NotImplementedError()\n",
    "\n",
    "        scheduler = epoch_scheduler = None\n",
    "        if scheduler_type == 'onecycle':\n",
    "            scheduler = torch.optim.lr_scheduler.OneCycleLR(optimizer=opt, pct_start=0.1, div_factor=1e3,\n",
    "                                                            max_lr=max_lr, epochs=epochs,\n",
    "                                                            steps_per_epoch=len(train_loader))\n",
    "        elif scheduler_type == 'reduce':\n",
    "            epoch_scheduler = torch.optim.lr_scheduler.ReduceLROnPlateau(optimizer=opt,\n",
    "                                                                         mode='min',\n",
    "                                                                         min_lr=1e-7,\n",
    "                                                                         patience=patience,\n",
    "                                                                         verbose=True,\n",
    "                                                                         factor=factor)\n",
    "\n",
    "        for epoch in range(epochs):\n",
    "            if epoch > 0 and epoch % batch_double_freq == 0:\n",
    "                cur_batch = cur_batch * 2\n",
    "                print(f'batch: {cur_batch}')\n",
    "                train_loader = torch.utils.data.DataLoader(train_dataset,\n",
    "                                                           batch_size=cur_batch,\n",
    "                                                           shuffle=True,\n",
    "                                                           num_workers=4)\n",
    "            train_loss = train_epoch(train_loader, model, opt, scheduler, device)\n",
    "            predictions, valid_targets, valid_loss, rmspe = evaluate(valid_loader, model, device=device)\n",
    "            print(f\"epoch {epoch}, train loss: {train_loss:.3f}, valid rmspe: {rmspe:.3f}\")\n",
    "\n",
    "            if epoch_scheduler is not None:\n",
    "                epoch_scheduler.step(rmspe)\n",
    "\n",
    "            if rmspe < best_loss:\n",
    "                print(f'new best:{rmspe}')\n",
    "                best_loss = rmspe\n",
    "                best_prediction = predictions\n",
    "                torch.save(model, os.path.join(output_dir, model_path.format(cv_idx)))\n",
    "\n",
    "        best_predictions.append(best_prediction)\n",
    "        best_losses.append(best_loss)\n",
    "        del model, train_dataset, valid_dataset, train_loader, valid_loader,\n",
    "        X_tr, X_va, X_tr_cat, X_va_cat, y_tr, y_va, opt\n",
    "        if scheduler is not None:\n",
    "            del scheduler\n",
    "        gc.collect()\n",
    "\n",
    "    return best_losses, best_predictions, scaler\n"
   ]
  },
  {
   "cell_type": "code",
   "execution_count": 26,
   "id": "12245cd6",
   "metadata": {
    "execution": {
     "iopub.execute_input": "2022-01-23T03:35:57.029334Z",
     "iopub.status.busy": "2022-01-23T03:35:56.898214Z",
     "iopub.status.idle": "2022-01-23T06:56:27.693883Z",
     "shell.execute_reply": "2022-01-23T06:56:27.695021Z",
     "shell.execute_reply.started": "2022-01-15T04:57:17.584692Z"
    },
    "papermill": {
     "duration": 12030.930352,
     "end_time": "2022-01-23T06:56:27.695345",
     "exception": false,
     "start_time": "2022-01-23T03:35:56.764993",
     "status": "completed"
    },
    "tags": []
   },
   "outputs": [
    {
     "name": "stdout",
     "output_type": "stream",
     "text": [
      "cuda\n",
      "fold 0 train: (386036, 591), valid: (42896, 591)\n"
     ]
    },
    {
     "name": "stderr",
     "output_type": "stream",
     "text": [
      "Training: 100%|██████████| 754/754 [00:13<00:00, 54.15it/s]\n",
      "Evaluating: 100%|██████████| 84/84 [00:01<00:00, 61.00it/s]\n",
      "Training:   0%|          | 0/754 [00:00<?, ?it/s]"
     ]
    },
    {
     "name": "stdout",
     "output_type": "stream",
     "text": [
      "epoch 0, train loss: 21.544, valid rmspe: 3.555\n",
      "new best:3.5548722743988037\n"
     ]
    },
    {
     "name": "stderr",
     "output_type": "stream",
     "text": [
      "Training: 100%|██████████| 754/754 [00:12<00:00, 58.89it/s]\n",
      "Evaluating: 100%|██████████| 84/84 [00:01<00:00, 61.15it/s]\n",
      "Training:   0%|          | 0/754 [00:00<?, ?it/s]"
     ]
    },
    {
     "name": "stdout",
     "output_type": "stream",
     "text": [
      "epoch 1, train loss: 5.478, valid rmspe: 4.388\n"
     ]
    },
    {
     "name": "stderr",
     "output_type": "stream",
     "text": [
      "Training: 100%|██████████| 754/754 [00:13<00:00, 57.87it/s]\n",
      "Evaluating: 100%|██████████| 84/84 [00:01<00:00, 61.12it/s]\n",
      "Training:   0%|          | 0/754 [00:00<?, ?it/s]"
     ]
    },
    {
     "name": "stdout",
     "output_type": "stream",
     "text": [
      "epoch 2, train loss: 5.763, valid rmspe: 3.002\n",
      "new best:3.0017120838165283\n"
     ]
    },
    {
     "name": "stderr",
     "output_type": "stream",
     "text": [
      "Training: 100%|██████████| 754/754 [00:12<00:00, 60.15it/s]\n",
      "Evaluating: 100%|██████████| 84/84 [00:01<00:00, 60.63it/s]\n",
      "Training:   0%|          | 0/754 [00:00<?, ?it/s]"
     ]
    },
    {
     "name": "stdout",
     "output_type": "stream",
     "text": [
      "epoch 3, train loss: 2.365, valid rmspe: 1.426\n",
      "new best:1.4262170791625977\n"
     ]
    },
    {
     "name": "stderr",
     "output_type": "stream",
     "text": [
      "Training: 100%|██████████| 754/754 [00:13<00:00, 57.10it/s]\n",
      "Evaluating: 100%|██████████| 84/84 [00:01<00:00, 57.90it/s]\n",
      "Training:   0%|          | 0/754 [00:00<?, ?it/s]"
     ]
    },
    {
     "name": "stdout",
     "output_type": "stream",
     "text": [
      "epoch 4, train loss: 1.146, valid rmspe: 0.321\n",
      "new best:0.32077842950820923\n"
     ]
    },
    {
     "name": "stderr",
     "output_type": "stream",
     "text": [
      "Training: 100%|██████████| 754/754 [00:12<00:00, 59.11it/s]\n",
      "Evaluating: 100%|██████████| 84/84 [00:01<00:00, 61.75it/s]\n",
      "Training:   0%|          | 0/754 [00:00<?, ?it/s]"
     ]
    },
    {
     "name": "stdout",
     "output_type": "stream",
     "text": [
      "epoch 5, train loss: 0.549, valid rmspe: 0.328\n"
     ]
    },
    {
     "name": "stderr",
     "output_type": "stream",
     "text": [
      "Training: 100%|██████████| 754/754 [00:13<00:00, 55.90it/s]\n",
      "Evaluating: 100%|██████████| 84/84 [00:01<00:00, 60.24it/s]\n",
      "Training:   0%|          | 0/754 [00:00<?, ?it/s]"
     ]
    },
    {
     "name": "stdout",
     "output_type": "stream",
     "text": [
      "epoch 6, train loss: 0.552, valid rmspe: 0.643\n"
     ]
    },
    {
     "name": "stderr",
     "output_type": "stream",
     "text": [
      "Training: 100%|██████████| 754/754 [00:12<00:00, 59.35it/s]\n",
      "Evaluating: 100%|██████████| 84/84 [00:01<00:00, 51.04it/s]\n",
      "Training:   0%|          | 0/754 [00:00<?, ?it/s]"
     ]
    },
    {
     "name": "stdout",
     "output_type": "stream",
     "text": [
      "epoch 7, train loss: 0.577, valid rmspe: 0.230\n",
      "new best:0.23008973896503448\n"
     ]
    },
    {
     "name": "stderr",
     "output_type": "stream",
     "text": [
      "Training: 100%|██████████| 754/754 [00:12<00:00, 60.82it/s]\n",
      "Evaluating: 100%|██████████| 84/84 [00:01<00:00, 58.71it/s]\n",
      "Training:   0%|          | 0/754 [00:00<?, ?it/s]"
     ]
    },
    {
     "name": "stdout",
     "output_type": "stream",
     "text": [
      "epoch 8, train loss: 0.493, valid rmspe: 0.571\n"
     ]
    },
    {
     "name": "stderr",
     "output_type": "stream",
     "text": [
      "Training: 100%|██████████| 754/754 [00:13<00:00, 56.70it/s]\n",
      "Evaluating: 100%|██████████| 84/84 [00:01<00:00, 60.56it/s]\n",
      "Training:   0%|          | 0/754 [00:00<?, ?it/s]"
     ]
    },
    {
     "name": "stdout",
     "output_type": "stream",
     "text": [
      "epoch 9, train loss: 0.535, valid rmspe: 0.780\n"
     ]
    },
    {
     "name": "stderr",
     "output_type": "stream",
     "text": [
      "Training: 100%|██████████| 754/754 [00:12<00:00, 60.07it/s]\n",
      "Evaluating: 100%|██████████| 84/84 [00:01<00:00, 60.81it/s]\n",
      "Training:   0%|          | 0/754 [00:00<?, ?it/s]"
     ]
    },
    {
     "name": "stdout",
     "output_type": "stream",
     "text": [
      "epoch 10, train loss: 0.437, valid rmspe: 0.337\n"
     ]
    },
    {
     "name": "stderr",
     "output_type": "stream",
     "text": [
      "Training: 100%|██████████| 754/754 [00:14<00:00, 53.32it/s]\n",
      "Evaluating: 100%|██████████| 84/84 [00:01<00:00, 60.84it/s]\n",
      "Training:   0%|          | 0/754 [00:00<?, ?it/s]"
     ]
    },
    {
     "name": "stdout",
     "output_type": "stream",
     "text": [
      "epoch 11, train loss: 0.401, valid rmspe: 0.350\n"
     ]
    },
    {
     "name": "stderr",
     "output_type": "stream",
     "text": [
      "Training: 100%|██████████| 754/754 [00:12<00:00, 59.82it/s]\n",
      "Evaluating: 100%|██████████| 84/84 [00:01<00:00, 61.31it/s]\n",
      "Training:   0%|          | 0/754 [00:00<?, ?it/s]"
     ]
    },
    {
     "name": "stdout",
     "output_type": "stream",
     "text": [
      "epoch 12, train loss: 0.437, valid rmspe: 0.351\n"
     ]
    },
    {
     "name": "stderr",
     "output_type": "stream",
     "text": [
      "Training: 100%|██████████| 754/754 [00:13<00:00, 57.66it/s]\n",
      "Evaluating: 100%|██████████| 84/84 [00:01<00:00, 54.77it/s]\n",
      "Training:   0%|          | 0/754 [00:00<?, ?it/s]"
     ]
    },
    {
     "name": "stdout",
     "output_type": "stream",
     "text": [
      "epoch 13, train loss: 0.404, valid rmspe: 0.198\n",
      "new best:0.19765082001686096\n"
     ]
    },
    {
     "name": "stderr",
     "output_type": "stream",
     "text": [
      "Training: 100%|██████████| 754/754 [00:13<00:00, 57.51it/s]\n",
      "Evaluating: 100%|██████████| 84/84 [00:01<00:00, 60.17it/s]\n",
      "Training:   0%|          | 0/754 [00:00<?, ?it/s]"
     ]
    },
    {
     "name": "stdout",
     "output_type": "stream",
     "text": [
      "epoch 14, train loss: 0.346, valid rmspe: 0.277\n"
     ]
    },
    {
     "name": "stderr",
     "output_type": "stream",
     "text": [
      "Training: 100%|██████████| 754/754 [00:13<00:00, 55.21it/s]\n",
      "Evaluating: 100%|██████████| 84/84 [00:01<00:00, 60.35it/s]\n",
      "Training:   0%|          | 0/754 [00:00<?, ?it/s]"
     ]
    },
    {
     "name": "stdout",
     "output_type": "stream",
     "text": [
      "epoch 15, train loss: 0.324, valid rmspe: 0.270\n"
     ]
    },
    {
     "name": "stderr",
     "output_type": "stream",
     "text": [
      "Training: 100%|██████████| 754/754 [00:13<00:00, 57.31it/s]\n",
      "Evaluating: 100%|██████████| 84/84 [00:01<00:00, 57.20it/s]\n",
      "Training:   0%|          | 0/754 [00:00<?, ?it/s]"
     ]
    },
    {
     "name": "stdout",
     "output_type": "stream",
     "text": [
      "epoch 16, train loss: 0.291, valid rmspe: 0.210\n"
     ]
    },
    {
     "name": "stderr",
     "output_type": "stream",
     "text": [
      "Training: 100%|██████████| 754/754 [00:12<00:00, 59.72it/s]\n",
      "Evaluating: 100%|██████████| 84/84 [00:01<00:00, 52.31it/s]\n",
      "Training:   0%|          | 0/754 [00:00<?, ?it/s]"
     ]
    },
    {
     "name": "stdout",
     "output_type": "stream",
     "text": [
      "epoch 17, train loss: 0.269, valid rmspe: 0.186\n",
      "new best:0.1859540045261383\n"
     ]
    },
    {
     "name": "stderr",
     "output_type": "stream",
     "text": [
      "Training: 100%|██████████| 754/754 [00:13<00:00, 55.92it/s]\n",
      "Evaluating: 100%|██████████| 84/84 [00:01<00:00, 61.79it/s]\n",
      "Training:   0%|          | 0/754 [00:00<?, ?it/s]"
     ]
    },
    {
     "name": "stdout",
     "output_type": "stream",
     "text": [
      "epoch 18, train loss: 0.254, valid rmspe: 0.201\n"
     ]
    },
    {
     "name": "stderr",
     "output_type": "stream",
     "text": [
      "Training: 100%|██████████| 754/754 [00:12<00:00, 60.31it/s]\n",
      "Evaluating: 100%|██████████| 84/84 [00:01<00:00, 59.40it/s]\n",
      "Training:   0%|          | 0/754 [00:00<?, ?it/s]"
     ]
    },
    {
     "name": "stdout",
     "output_type": "stream",
     "text": [
      "epoch 19, train loss: 0.263, valid rmspe: 0.302\n"
     ]
    },
    {
     "name": "stderr",
     "output_type": "stream",
     "text": [
      "Training: 100%|██████████| 754/754 [00:13<00:00, 54.10it/s]\n",
      "Evaluating: 100%|██████████| 84/84 [00:01<00:00, 59.86it/s]\n",
      "Training:   0%|          | 0/754 [00:00<?, ?it/s]"
     ]
    },
    {
     "name": "stdout",
     "output_type": "stream",
     "text": [
      "epoch 20, train loss: 0.253, valid rmspe: 0.254\n"
     ]
    },
    {
     "name": "stderr",
     "output_type": "stream",
     "text": [
      "Training: 100%|██████████| 754/754 [00:13<00:00, 57.88it/s]\n",
      "Evaluating: 100%|██████████| 84/84 [00:01<00:00, 61.44it/s]\n",
      "Training:   0%|          | 0/754 [00:00<?, ?it/s]"
     ]
    },
    {
     "name": "stdout",
     "output_type": "stream",
     "text": [
      "epoch 21, train loss: 0.254, valid rmspe: 0.217\n"
     ]
    },
    {
     "name": "stderr",
     "output_type": "stream",
     "text": [
      "Training: 100%|██████████| 754/754 [00:13<00:00, 56.26it/s]\n",
      "Evaluating: 100%|██████████| 84/84 [00:01<00:00, 61.00it/s]\n",
      "Training:   0%|          | 0/754 [00:00<?, ?it/s]"
     ]
    },
    {
     "name": "stdout",
     "output_type": "stream",
     "text": [
      "epoch 22, train loss: 0.229, valid rmspe: 0.197\n"
     ]
    },
    {
     "name": "stderr",
     "output_type": "stream",
     "text": [
      "Training: 100%|██████████| 754/754 [00:12<00:00, 59.67it/s]\n",
      "Evaluating: 100%|██████████| 84/84 [00:01<00:00, 61.33it/s]\n",
      "Training:   0%|          | 0/754 [00:00<?, ?it/s]"
     ]
    },
    {
     "name": "stdout",
     "output_type": "stream",
     "text": [
      "epoch 23, train loss: 0.219, valid rmspe: 0.183\n",
      "new best:0.1834007203578949\n"
     ]
    },
    {
     "name": "stderr",
     "output_type": "stream",
     "text": [
      "Training: 100%|██████████| 754/754 [00:12<00:00, 58.46it/s]\n",
      "Evaluating: 100%|██████████| 84/84 [00:01<00:00, 48.46it/s]\n",
      "Training:   0%|          | 0/754 [00:00<?, ?it/s]"
     ]
    },
    {
     "name": "stdout",
     "output_type": "stream",
     "text": [
      "epoch 24, train loss: 0.214, valid rmspe: 0.215\n"
     ]
    },
    {
     "name": "stderr",
     "output_type": "stream",
     "text": [
      "Training: 100%|██████████| 754/754 [00:12<00:00, 61.56it/s]\n",
      "Evaluating: 100%|██████████| 84/84 [00:01<00:00, 61.04it/s]\n",
      "Training:   0%|          | 0/754 [00:00<?, ?it/s]"
     ]
    },
    {
     "name": "stdout",
     "output_type": "stream",
     "text": [
      "epoch 25, train loss: 0.208, valid rmspe: 0.193\n"
     ]
    },
    {
     "name": "stderr",
     "output_type": "stream",
     "text": [
      "Training: 100%|██████████| 754/754 [00:12<00:00, 61.87it/s]\n",
      "Evaluating: 100%|██████████| 84/84 [00:01<00:00, 52.74it/s]\n",
      "Training:   0%|          | 0/754 [00:00<?, ?it/s]"
     ]
    },
    {
     "name": "stdout",
     "output_type": "stream",
     "text": [
      "epoch 26, train loss: 0.208, valid rmspe: 0.198\n"
     ]
    },
    {
     "name": "stderr",
     "output_type": "stream",
     "text": [
      "Training: 100%|██████████| 754/754 [00:13<00:00, 55.74it/s]\n",
      "Evaluating: 100%|██████████| 84/84 [00:01<00:00, 60.08it/s]\n",
      "Training:   0%|          | 0/754 [00:00<?, ?it/s]"
     ]
    },
    {
     "name": "stdout",
     "output_type": "stream",
     "text": [
      "epoch 27, train loss: 0.201, valid rmspe: 0.184\n"
     ]
    },
    {
     "name": "stderr",
     "output_type": "stream",
     "text": [
      "Training: 100%|██████████| 754/754 [00:12<00:00, 62.05it/s]\n",
      "Evaluating: 100%|██████████| 84/84 [00:01<00:00, 60.33it/s]\n",
      "Training:   0%|          | 0/754 [00:00<?, ?it/s]"
     ]
    },
    {
     "name": "stdout",
     "output_type": "stream",
     "text": [
      "epoch 28, train loss: 0.198, valid rmspe: 0.184\n"
     ]
    },
    {
     "name": "stderr",
     "output_type": "stream",
     "text": [
      "Training: 100%|██████████| 754/754 [00:13<00:00, 55.37it/s]\n",
      "Evaluating: 100%|██████████| 84/84 [00:01<00:00, 55.76it/s]\n"
     ]
    },
    {
     "name": "stdout",
     "output_type": "stream",
     "text": [
      "epoch 29, train loss: 0.197, valid rmspe: 0.183\n",
      "new best:0.18260832130908966\n",
      "model of seed 0 added.\n"
     ]
    },
    {
     "name": "stderr",
     "output_type": "stream",
     "text": [
      "Training:   0%|          | 0/754 [00:00<?, ?it/s]"
     ]
    },
    {
     "name": "stdout",
     "output_type": "stream",
     "text": [
      "fold 0 train: (386036, 591), valid: (42896, 591)\n"
     ]
    },
    {
     "name": "stderr",
     "output_type": "stream",
     "text": [
      "Training: 100%|██████████| 754/754 [00:12<00:00, 58.73it/s]\n",
      "Evaluating: 100%|██████████| 84/84 [00:01<00:00, 61.09it/s]\n",
      "Training:   0%|          | 0/754 [00:00<?, ?it/s]"
     ]
    },
    {
     "name": "stdout",
     "output_type": "stream",
     "text": [
      "epoch 0, train loss: 26.458, valid rmspe: 5.718\n",
      "new best:5.71785831451416\n"
     ]
    },
    {
     "name": "stderr",
     "output_type": "stream",
     "text": [
      "Training: 100%|██████████| 754/754 [00:13<00:00, 57.60it/s]\n",
      "Evaluating: 100%|██████████| 84/84 [00:01<00:00, 61.16it/s]\n",
      "Training:   0%|          | 0/754 [00:00<?, ?it/s]"
     ]
    },
    {
     "name": "stdout",
     "output_type": "stream",
     "text": [
      "epoch 1, train loss: 7.088, valid rmspe: 2.920\n",
      "new best:2.9196858406066895\n"
     ]
    },
    {
     "name": "stderr",
     "output_type": "stream",
     "text": [
      "Training: 100%|██████████| 754/754 [00:12<00:00, 62.14it/s]\n",
      "Evaluating: 100%|██████████| 84/84 [00:01<00:00, 61.38it/s]\n",
      "Training:   0%|          | 0/754 [00:00<?, ?it/s]"
     ]
    },
    {
     "name": "stdout",
     "output_type": "stream",
     "text": [
      "epoch 2, train loss: 4.277, valid rmspe: 1.276\n",
      "new best:1.2764371633529663\n"
     ]
    },
    {
     "name": "stderr",
     "output_type": "stream",
     "text": [
      "Training: 100%|██████████| 754/754 [00:13<00:00, 54.54it/s]\n",
      "Evaluating: 100%|██████████| 84/84 [00:01<00:00, 55.69it/s]\n",
      "Training:   0%|          | 0/754 [00:00<?, ?it/s]"
     ]
    },
    {
     "name": "stdout",
     "output_type": "stream",
     "text": [
      "epoch 3, train loss: 1.603, valid rmspe: 0.818\n",
      "new best:0.8175786137580872\n"
     ]
    },
    {
     "name": "stderr",
     "output_type": "stream",
     "text": [
      "Training: 100%|██████████| 754/754 [00:12<00:00, 61.87it/s]\n",
      "Evaluating: 100%|██████████| 84/84 [00:01<00:00, 60.27it/s]\n",
      "Training:   0%|          | 0/754 [00:00<?, ?it/s]"
     ]
    },
    {
     "name": "stdout",
     "output_type": "stream",
     "text": [
      "epoch 4, train loss: 0.745, valid rmspe: 1.012\n"
     ]
    },
    {
     "name": "stderr",
     "output_type": "stream",
     "text": [
      "Training: 100%|██████████| 754/754 [00:14<00:00, 53.45it/s]\n",
      "Evaluating: 100%|██████████| 84/84 [00:01<00:00, 60.05it/s]\n",
      "Training:   0%|          | 0/754 [00:00<?, ?it/s]"
     ]
    },
    {
     "name": "stdout",
     "output_type": "stream",
     "text": [
      "epoch 5, train loss: 0.758, valid rmspe: 0.421\n",
      "new best:0.4210692346096039\n"
     ]
    },
    {
     "name": "stderr",
     "output_type": "stream",
     "text": [
      "Training: 100%|██████████| 754/754 [00:12<00:00, 61.92it/s]\n",
      "Evaluating: 100%|██████████| 84/84 [00:01<00:00, 53.92it/s]\n",
      "Training:   0%|          | 0/754 [00:00<?, ?it/s]"
     ]
    },
    {
     "name": "stdout",
     "output_type": "stream",
     "text": [
      "epoch 6, train loss: 0.551, valid rmspe: 0.854\n"
     ]
    },
    {
     "name": "stderr",
     "output_type": "stream",
     "text": [
      "Training: 100%|██████████| 754/754 [00:12<00:00, 58.82it/s]\n",
      "Evaluating: 100%|██████████| 84/84 [00:01<00:00, 57.74it/s]\n",
      "Training:   0%|          | 0/754 [00:00<?, ?it/s]"
     ]
    },
    {
     "name": "stdout",
     "output_type": "stream",
     "text": [
      "epoch 7, train loss: 0.634, valid rmspe: 0.309\n",
      "new best:0.30856844782829285\n"
     ]
    },
    {
     "name": "stderr",
     "output_type": "stream",
     "text": [
      "Training: 100%|██████████| 754/754 [00:13<00:00, 57.80it/s]\n",
      "Evaluating: 100%|██████████| 84/84 [00:01<00:00, 61.14it/s]\n",
      "Training:   0%|          | 0/754 [00:00<?, ?it/s]"
     ]
    },
    {
     "name": "stdout",
     "output_type": "stream",
     "text": [
      "epoch 8, train loss: 0.549, valid rmspe: 0.411\n"
     ]
    },
    {
     "name": "stderr",
     "output_type": "stream",
     "text": [
      "Training: 100%|██████████| 754/754 [00:12<00:00, 61.36it/s]\n",
      "Evaluating: 100%|██████████| 84/84 [00:01<00:00, 60.95it/s]\n",
      "Training:   0%|          | 0/754 [00:00<?, ?it/s]"
     ]
    },
    {
     "name": "stdout",
     "output_type": "stream",
     "text": [
      "epoch 9, train loss: 0.307, valid rmspe: 0.202\n",
      "new best:0.2017420083284378\n"
     ]
    },
    {
     "name": "stderr",
     "output_type": "stream",
     "text": [
      "Training: 100%|██████████| 754/754 [00:14<00:00, 53.38it/s]\n",
      "Evaluating: 100%|██████████| 84/84 [00:01<00:00, 61.12it/s]\n",
      "Training:   0%|          | 0/754 [00:00<?, ?it/s]"
     ]
    },
    {
     "name": "stdout",
     "output_type": "stream",
     "text": [
      "epoch 10, train loss: 0.454, valid rmspe: 0.348\n"
     ]
    },
    {
     "name": "stderr",
     "output_type": "stream",
     "text": [
      "Training: 100%|██████████| 754/754 [00:12<00:00, 60.97it/s]\n",
      "Evaluating: 100%|██████████| 84/84 [00:01<00:00, 60.65it/s]\n",
      "Training:   0%|          | 0/754 [00:00<?, ?it/s]"
     ]
    },
    {
     "name": "stdout",
     "output_type": "stream",
     "text": [
      "epoch 11, train loss: 0.376, valid rmspe: 0.229\n"
     ]
    },
    {
     "name": "stderr",
     "output_type": "stream",
     "text": [
      "Training: 100%|██████████| 754/754 [00:13<00:00, 53.93it/s]\n",
      "Evaluating: 100%|██████████| 84/84 [00:01<00:00, 60.45it/s]\n",
      "Training:   0%|          | 0/754 [00:00<?, ?it/s]"
     ]
    },
    {
     "name": "stdout",
     "output_type": "stream",
     "text": [
      "epoch 12, train loss: 0.399, valid rmspe: 0.206\n"
     ]
    },
    {
     "name": "stderr",
     "output_type": "stream",
     "text": [
      "Training: 100%|██████████| 754/754 [00:12<00:00, 60.46it/s]\n",
      "Evaluating: 100%|██████████| 84/84 [00:01<00:00, 61.48it/s]\n",
      "Training:   0%|          | 0/754 [00:00<?, ?it/s]"
     ]
    },
    {
     "name": "stdout",
     "output_type": "stream",
     "text": [
      "epoch 13, train loss: 0.321, valid rmspe: 0.463\n"
     ]
    },
    {
     "name": "stderr",
     "output_type": "stream",
     "text": [
      "Training: 100%|██████████| 754/754 [00:12<00:00, 59.18it/s]\n",
      "Evaluating: 100%|██████████| 84/84 [00:01<00:00, 58.96it/s]\n",
      "Training:   0%|          | 0/754 [00:00<?, ?it/s]"
     ]
    },
    {
     "name": "stdout",
     "output_type": "stream",
     "text": [
      "epoch 14, train loss: 0.312, valid rmspe: 0.222\n"
     ]
    },
    {
     "name": "stderr",
     "output_type": "stream",
     "text": [
      "Training: 100%|██████████| 754/754 [00:13<00:00, 56.18it/s]\n",
      "Evaluating: 100%|██████████| 84/84 [00:01<00:00, 61.39it/s]\n",
      "Training:   0%|          | 0/754 [00:00<?, ?it/s]"
     ]
    },
    {
     "name": "stdout",
     "output_type": "stream",
     "text": [
      "epoch 15, train loss: 0.303, valid rmspe: 0.219\n"
     ]
    },
    {
     "name": "stderr",
     "output_type": "stream",
     "text": [
      "Training: 100%|██████████| 754/754 [00:12<00:00, 59.61it/s]\n",
      "Evaluating: 100%|██████████| 84/84 [00:01<00:00, 50.84it/s]\n",
      "Training:   0%|          | 0/754 [00:00<?, ?it/s]"
     ]
    },
    {
     "name": "stdout",
     "output_type": "stream",
     "text": [
      "epoch 16, train loss: 0.273, valid rmspe: 0.246\n"
     ]
    },
    {
     "name": "stderr",
     "output_type": "stream",
     "text": [
      "Training: 100%|██████████| 754/754 [00:13<00:00, 55.79it/s]\n",
      "Evaluating: 100%|██████████| 84/84 [00:01<00:00, 60.49it/s]\n",
      "Training:   0%|          | 0/754 [00:00<?, ?it/s]"
     ]
    },
    {
     "name": "stdout",
     "output_type": "stream",
     "text": [
      "epoch 17, train loss: 0.289, valid rmspe: 0.219\n"
     ]
    },
    {
     "name": "stderr",
     "output_type": "stream",
     "text": [
      "Training: 100%|██████████| 754/754 [00:12<00:00, 61.85it/s]\n",
      "Evaluating: 100%|██████████| 84/84 [00:01<00:00, 60.82it/s]\n",
      "Training:   0%|          | 0/754 [00:00<?, ?it/s]"
     ]
    },
    {
     "name": "stdout",
     "output_type": "stream",
     "text": [
      "epoch 18, train loss: 0.281, valid rmspe: 0.201\n",
      "new best:0.2005404531955719\n"
     ]
    },
    {
     "name": "stderr",
     "output_type": "stream",
     "text": [
      "Training: 100%|██████████| 754/754 [00:13<00:00, 56.71it/s]\n",
      "Evaluating: 100%|██████████| 84/84 [00:01<00:00, 42.29it/s]\n",
      "Training:   0%|          | 0/754 [00:00<?, ?it/s]"
     ]
    },
    {
     "name": "stdout",
     "output_type": "stream",
     "text": [
      "epoch 19, train loss: 0.248, valid rmspe: 0.194\n",
      "new best:0.19405578076839447\n"
     ]
    },
    {
     "name": "stderr",
     "output_type": "stream",
     "text": [
      "Training: 100%|██████████| 754/754 [00:12<00:00, 59.73it/s]\n",
      "Evaluating: 100%|██████████| 84/84 [00:01<00:00, 60.71it/s]\n",
      "Training:   0%|          | 0/754 [00:00<?, ?it/s]"
     ]
    },
    {
     "name": "stdout",
     "output_type": "stream",
     "text": [
      "epoch 20, train loss: 0.249, valid rmspe: 0.191\n",
      "new best:0.1905241459608078\n"
     ]
    },
    {
     "name": "stderr",
     "output_type": "stream",
     "text": [
      "Training: 100%|██████████| 754/754 [00:12<00:00, 59.36it/s]\n",
      "Evaluating: 100%|██████████| 84/84 [00:01<00:00, 59.63it/s]\n",
      "Training:   0%|          | 0/754 [00:00<?, ?it/s]"
     ]
    },
    {
     "name": "stdout",
     "output_type": "stream",
     "text": [
      "epoch 21, train loss: 0.233, valid rmspe: 0.185\n",
      "new best:0.18480995297431946\n"
     ]
    },
    {
     "name": "stderr",
     "output_type": "stream",
     "text": [
      "Training: 100%|██████████| 754/754 [00:13<00:00, 55.02it/s]\n",
      "Evaluating: 100%|██████████| 84/84 [00:01<00:00, 52.48it/s]\n",
      "Training:   0%|          | 0/754 [00:00<?, ?it/s]"
     ]
    },
    {
     "name": "stdout",
     "output_type": "stream",
     "text": [
      "epoch 22, train loss: 0.224, valid rmspe: 0.205\n"
     ]
    },
    {
     "name": "stderr",
     "output_type": "stream",
     "text": [
      "Training: 100%|██████████| 754/754 [00:12<00:00, 58.55it/s]\n",
      "Evaluating: 100%|██████████| 84/84 [00:01<00:00, 60.82it/s]\n",
      "Training:   0%|          | 0/754 [00:00<?, ?it/s]"
     ]
    },
    {
     "name": "stdout",
     "output_type": "stream",
     "text": [
      "epoch 23, train loss: 0.222, valid rmspe: 0.234\n"
     ]
    },
    {
     "name": "stderr",
     "output_type": "stream",
     "text": [
      "Training: 100%|██████████| 754/754 [00:13<00:00, 54.73it/s]\n",
      "Evaluating: 100%|██████████| 84/84 [00:01<00:00, 60.56it/s]\n",
      "Training:   0%|          | 0/754 [00:00<?, ?it/s]"
     ]
    },
    {
     "name": "stdout",
     "output_type": "stream",
     "text": [
      "epoch 24, train loss: 0.209, valid rmspe: 0.186\n"
     ]
    },
    {
     "name": "stderr",
     "output_type": "stream",
     "text": [
      "Training: 100%|██████████| 754/754 [00:12<00:00, 59.17it/s]\n",
      "Evaluating: 100%|██████████| 84/84 [00:01<00:00, 49.62it/s]\n",
      "Training:   0%|          | 0/754 [00:00<?, ?it/s]"
     ]
    },
    {
     "name": "stdout",
     "output_type": "stream",
     "text": [
      "epoch 25, train loss: 0.213, valid rmspe: 0.205\n"
     ]
    },
    {
     "name": "stderr",
     "output_type": "stream",
     "text": [
      "Training: 100%|██████████| 754/754 [00:12<00:00, 61.38it/s]\n",
      "Evaluating: 100%|██████████| 84/84 [00:01<00:00, 60.16it/s]\n",
      "Training:   0%|          | 0/754 [00:00<?, ?it/s]"
     ]
    },
    {
     "name": "stdout",
     "output_type": "stream",
     "text": [
      "epoch 26, train loss: 0.203, valid rmspe: 0.190\n"
     ]
    },
    {
     "name": "stderr",
     "output_type": "stream",
     "text": [
      "Training: 100%|██████████| 754/754 [00:13<00:00, 54.72it/s]\n",
      "Evaluating: 100%|██████████| 84/84 [00:01<00:00, 61.05it/s]\n",
      "Training:   0%|          | 0/754 [00:00<?, ?it/s]"
     ]
    },
    {
     "name": "stdout",
     "output_type": "stream",
     "text": [
      "epoch 27, train loss: 0.201, valid rmspe: 0.188\n"
     ]
    },
    {
     "name": "stderr",
     "output_type": "stream",
     "text": [
      "Training: 100%|██████████| 754/754 [00:12<00:00, 58.90it/s]\n",
      "Evaluating: 100%|██████████| 84/84 [00:01<00:00, 58.36it/s]\n",
      "Training:   0%|          | 0/754 [00:00<?, ?it/s]"
     ]
    },
    {
     "name": "stdout",
     "output_type": "stream",
     "text": [
      "epoch 28, train loss: 0.198, valid rmspe: 0.182\n",
      "new best:0.18223118782043457\n"
     ]
    },
    {
     "name": "stderr",
     "output_type": "stream",
     "text": [
      "Training: 100%|██████████| 754/754 [00:13<00:00, 53.88it/s]\n",
      "Evaluating: 100%|██████████| 84/84 [00:01<00:00, 61.08it/s]\n"
     ]
    },
    {
     "name": "stdout",
     "output_type": "stream",
     "text": [
      "epoch 29, train loss: 0.196, valid rmspe: 0.183\n",
      "model of seed 1 added.\n"
     ]
    },
    {
     "name": "stderr",
     "output_type": "stream",
     "text": [
      "Training:   0%|          | 0/754 [00:00<?, ?it/s]"
     ]
    },
    {
     "name": "stdout",
     "output_type": "stream",
     "text": [
      "fold 0 train: (386036, 591), valid: (42896, 591)\n"
     ]
    },
    {
     "name": "stderr",
     "output_type": "stream",
     "text": [
      "Training: 100%|██████████| 754/754 [00:12<00:00, 62.03it/s]\n",
      "Evaluating: 100%|██████████| 84/84 [00:01<00:00, 60.46it/s]\n",
      "Training:   0%|          | 0/754 [00:00<?, ?it/s]"
     ]
    },
    {
     "name": "stdout",
     "output_type": "stream",
     "text": [
      "epoch 0, train loss: 22.422, valid rmspe: 6.694\n",
      "new best:6.693961143493652\n"
     ]
    },
    {
     "name": "stderr",
     "output_type": "stream",
     "text": [
      "Training: 100%|██████████| 754/754 [00:14<00:00, 51.57it/s]\n",
      "Evaluating: 100%|██████████| 84/84 [00:01<00:00, 61.10it/s]\n",
      "Training:   0%|          | 0/754 [00:00<?, ?it/s]"
     ]
    },
    {
     "name": "stdout",
     "output_type": "stream",
     "text": [
      "epoch 1, train loss: 6.397, valid rmspe: 5.946\n",
      "new best:5.945800304412842\n"
     ]
    },
    {
     "name": "stderr",
     "output_type": "stream",
     "text": [
      "Training: 100%|██████████| 754/754 [00:12<00:00, 60.29it/s]\n",
      "Evaluating: 100%|██████████| 84/84 [00:01<00:00, 61.12it/s]\n",
      "Training:   0%|          | 0/754 [00:00<?, ?it/s]"
     ]
    },
    {
     "name": "stdout",
     "output_type": "stream",
     "text": [
      "epoch 2, train loss: 5.125, valid rmspe: 2.184\n",
      "new best:2.183828353881836\n"
     ]
    },
    {
     "name": "stderr",
     "output_type": "stream",
     "text": [
      "Training: 100%|██████████| 754/754 [00:13<00:00, 57.80it/s]\n",
      "Evaluating: 100%|██████████| 84/84 [00:01<00:00, 50.19it/s]\n",
      "Training:   0%|          | 0/754 [00:00<?, ?it/s]"
     ]
    },
    {
     "name": "stdout",
     "output_type": "stream",
     "text": [
      "epoch 3, train loss: 2.068, valid rmspe: 0.664\n",
      "new best:0.6643406748771667\n"
     ]
    },
    {
     "name": "stderr",
     "output_type": "stream",
     "text": [
      "Training: 100%|██████████| 754/754 [00:13<00:00, 56.95it/s]\n",
      "Evaluating: 100%|██████████| 84/84 [00:01<00:00, 60.86it/s]\n",
      "Training:   0%|          | 0/754 [00:00<?, ?it/s]"
     ]
    },
    {
     "name": "stdout",
     "output_type": "stream",
     "text": [
      "epoch 4, train loss: 0.774, valid rmspe: 0.633\n",
      "new best:0.6334158778190613\n"
     ]
    },
    {
     "name": "stderr",
     "output_type": "stream",
     "text": [
      "Training: 100%|██████████| 754/754 [00:12<00:00, 60.60it/s]\n",
      "Evaluating: 100%|██████████| 84/84 [00:01<00:00, 49.77it/s]\n",
      "Training:   0%|          | 0/754 [00:00<?, ?it/s]"
     ]
    },
    {
     "name": "stdout",
     "output_type": "stream",
     "text": [
      "epoch 5, train loss: 0.725, valid rmspe: 0.224\n",
      "new best:0.22352604568004608\n"
     ]
    },
    {
     "name": "stderr",
     "output_type": "stream",
     "text": [
      "Training: 100%|██████████| 754/754 [00:14<00:00, 51.01it/s]\n",
      "Evaluating: 100%|██████████| 84/84 [00:01<00:00, 59.95it/s]\n",
      "Training:   0%|          | 0/754 [00:00<?, ?it/s]"
     ]
    },
    {
     "name": "stdout",
     "output_type": "stream",
     "text": [
      "epoch 6, train loss: 0.640, valid rmspe: 0.655\n"
     ]
    },
    {
     "name": "stderr",
     "output_type": "stream",
     "text": [
      "Training: 100%|██████████| 754/754 [00:12<00:00, 61.53it/s]\n",
      "Evaluating: 100%|██████████| 84/84 [00:01<00:00, 61.60it/s]\n",
      "Training:   0%|          | 0/754 [00:00<?, ?it/s]"
     ]
    },
    {
     "name": "stdout",
     "output_type": "stream",
     "text": [
      "epoch 7, train loss: 0.573, valid rmspe: 0.744\n"
     ]
    },
    {
     "name": "stderr",
     "output_type": "stream",
     "text": [
      "Training: 100%|██████████| 754/754 [00:13<00:00, 54.42it/s]\n",
      "Evaluating: 100%|██████████| 84/84 [00:01<00:00, 49.24it/s]\n",
      "Training:   0%|          | 0/754 [00:00<?, ?it/s]"
     ]
    },
    {
     "name": "stdout",
     "output_type": "stream",
     "text": [
      "epoch 8, train loss: 0.620, valid rmspe: 0.409\n"
     ]
    },
    {
     "name": "stderr",
     "output_type": "stream",
     "text": [
      "Training: 100%|██████████| 754/754 [00:12<00:00, 58.26it/s]\n",
      "Evaluating: 100%|██████████| 84/84 [00:01<00:00, 60.78it/s]\n",
      "Training:   0%|          | 0/754 [00:00<?, ?it/s]"
     ]
    },
    {
     "name": "stdout",
     "output_type": "stream",
     "text": [
      "epoch 9, train loss: 0.538, valid rmspe: 0.549\n"
     ]
    },
    {
     "name": "stderr",
     "output_type": "stream",
     "text": [
      "Training: 100%|██████████| 754/754 [00:12<00:00, 58.96it/s]\n",
      "Evaluating: 100%|██████████| 84/84 [00:01<00:00, 59.61it/s]\n",
      "Training:   0%|          | 0/754 [00:00<?, ?it/s]"
     ]
    },
    {
     "name": "stdout",
     "output_type": "stream",
     "text": [
      "epoch 10, train loss: 0.551, valid rmspe: 0.293\n"
     ]
    },
    {
     "name": "stderr",
     "output_type": "stream",
     "text": [
      "Training: 100%|██████████| 754/754 [00:15<00:00, 49.89it/s]\n",
      "Evaluating: 100%|██████████| 84/84 [00:01<00:00, 58.31it/s]\n",
      "Training:   0%|          | 0/754 [00:00<?, ?it/s]"
     ]
    },
    {
     "name": "stdout",
     "output_type": "stream",
     "text": [
      "epoch 11, train loss: 0.531, valid rmspe: 0.444\n"
     ]
    },
    {
     "name": "stderr",
     "output_type": "stream",
     "text": [
      "Training: 100%|██████████| 754/754 [00:12<00:00, 58.97it/s]\n",
      "Evaluating: 100%|██████████| 84/84 [00:02<00:00, 40.83it/s]\n",
      "Training:   0%|          | 0/754 [00:00<?, ?it/s]"
     ]
    },
    {
     "name": "stdout",
     "output_type": "stream",
     "text": [
      "epoch 12, train loss: 0.434, valid rmspe: 0.492\n"
     ]
    },
    {
     "name": "stderr",
     "output_type": "stream",
     "text": [
      "Training: 100%|██████████| 754/754 [00:14<00:00, 50.86it/s]\n",
      "Evaluating: 100%|██████████| 84/84 [00:01<00:00, 51.82it/s]\n",
      "Training:   0%|          | 0/754 [00:00<?, ?it/s]"
     ]
    },
    {
     "name": "stdout",
     "output_type": "stream",
     "text": [
      "epoch 13, train loss: 0.443, valid rmspe: 0.193\n",
      "new best:0.1926783323287964\n"
     ]
    },
    {
     "name": "stderr",
     "output_type": "stream",
     "text": [
      "Training: 100%|██████████| 754/754 [00:12<00:00, 61.54it/s]\n",
      "Evaluating: 100%|██████████| 84/84 [00:01<00:00, 60.78it/s]\n",
      "Training:   0%|          | 0/754 [00:00<?, ?it/s]"
     ]
    },
    {
     "name": "stdout",
     "output_type": "stream",
     "text": [
      "epoch 14, train loss: 0.389, valid rmspe: 0.406\n"
     ]
    },
    {
     "name": "stderr",
     "output_type": "stream",
     "text": [
      "Training: 100%|██████████| 754/754 [00:12<00:00, 59.15it/s]\n",
      "Evaluating: 100%|██████████| 84/84 [00:01<00:00, 61.11it/s]\n",
      "Training:   0%|          | 0/754 [00:00<?, ?it/s]"
     ]
    },
    {
     "name": "stdout",
     "output_type": "stream",
     "text": [
      "epoch 15, train loss: 0.372, valid rmspe: 0.315\n"
     ]
    },
    {
     "name": "stderr",
     "output_type": "stream",
     "text": [
      "Training: 100%|██████████| 754/754 [00:14<00:00, 51.41it/s]\n",
      "Evaluating: 100%|██████████| 84/84 [00:01<00:00, 59.96it/s]\n",
      "Training:   0%|          | 0/754 [00:00<?, ?it/s]"
     ]
    },
    {
     "name": "stdout",
     "output_type": "stream",
     "text": [
      "epoch 16, train loss: 0.371, valid rmspe: 0.313\n"
     ]
    },
    {
     "name": "stderr",
     "output_type": "stream",
     "text": [
      "Training: 100%|██████████| 754/754 [00:12<00:00, 58.51it/s]\n",
      "Evaluating: 100%|██████████| 84/84 [00:01<00:00, 61.34it/s]\n",
      "Training:   0%|          | 0/754 [00:00<?, ?it/s]"
     ]
    },
    {
     "name": "stdout",
     "output_type": "stream",
     "text": [
      "epoch 17, train loss: 0.331, valid rmspe: 0.291\n"
     ]
    },
    {
     "name": "stderr",
     "output_type": "stream",
     "text": [
      "Training: 100%|██████████| 754/754 [00:13<00:00, 55.43it/s]\n",
      "Evaluating: 100%|██████████| 84/84 [00:01<00:00, 48.62it/s]\n",
      "Training:   0%|          | 0/754 [00:00<?, ?it/s]"
     ]
    },
    {
     "name": "stdout",
     "output_type": "stream",
     "text": [
      "epoch 18, train loss: 0.329, valid rmspe: 0.192\n",
      "new best:0.19156382977962494\n"
     ]
    },
    {
     "name": "stderr",
     "output_type": "stream",
     "text": [
      "Training: 100%|██████████| 754/754 [00:13<00:00, 56.03it/s]\n",
      "Evaluating: 100%|██████████| 84/84 [00:01<00:00, 61.56it/s]\n",
      "Training:   0%|          | 0/754 [00:00<?, ?it/s]"
     ]
    },
    {
     "name": "stdout",
     "output_type": "stream",
     "text": [
      "epoch 19, train loss: 0.302, valid rmspe: 0.240\n"
     ]
    },
    {
     "name": "stderr",
     "output_type": "stream",
     "text": [
      "Training: 100%|██████████| 754/754 [00:12<00:00, 62.02it/s]\n",
      "Evaluating: 100%|██████████| 84/84 [00:01<00:00, 60.23it/s]\n",
      "Training:   0%|          | 0/754 [00:00<?, ?it/s]"
     ]
    },
    {
     "name": "stdout",
     "output_type": "stream",
     "text": [
      "epoch 20, train loss: 0.269, valid rmspe: 0.244\n"
     ]
    },
    {
     "name": "stderr",
     "output_type": "stream",
     "text": [
      "Training: 100%|██████████| 754/754 [00:12<00:00, 58.81it/s]\n",
      "Evaluating: 100%|██████████| 84/84 [00:01<00:00, 60.81it/s]\n",
      "Training:   0%|          | 0/754 [00:00<?, ?it/s]"
     ]
    },
    {
     "name": "stdout",
     "output_type": "stream",
     "text": [
      "epoch 21, train loss: 0.258, valid rmspe: 0.315\n"
     ]
    },
    {
     "name": "stderr",
     "output_type": "stream",
     "text": [
      "Training: 100%|██████████| 754/754 [00:12<00:00, 61.57it/s]\n",
      "Evaluating: 100%|██████████| 84/84 [00:01<00:00, 53.50it/s]\n",
      "Training:   0%|          | 0/754 [00:00<?, ?it/s]"
     ]
    },
    {
     "name": "stdout",
     "output_type": "stream",
     "text": [
      "epoch 22, train loss: 0.246, valid rmspe: 0.189\n",
      "new best:0.18922364711761475\n"
     ]
    },
    {
     "name": "stderr",
     "output_type": "stream",
     "text": [
      "Training: 100%|██████████| 754/754 [00:14<00:00, 51.20it/s]\n",
      "Evaluating: 100%|██████████| 84/84 [00:01<00:00, 43.11it/s]\n",
      "Training:   0%|          | 0/754 [00:00<?, ?it/s]"
     ]
    },
    {
     "name": "stdout",
     "output_type": "stream",
     "text": [
      "epoch 23, train loss: 0.227, valid rmspe: 0.223\n"
     ]
    },
    {
     "name": "stderr",
     "output_type": "stream",
     "text": [
      "Training: 100%|██████████| 754/754 [00:12<00:00, 62.00it/s]\n",
      "Evaluating: 100%|██████████| 84/84 [00:01<00:00, 61.11it/s]\n",
      "Training:   0%|          | 0/754 [00:00<?, ?it/s]"
     ]
    },
    {
     "name": "stdout",
     "output_type": "stream",
     "text": [
      "epoch 24, train loss: 0.226, valid rmspe: 0.195\n"
     ]
    },
    {
     "name": "stderr",
     "output_type": "stream",
     "text": [
      "Training: 100%|██████████| 754/754 [00:12<00:00, 61.52it/s]\n",
      "Evaluating: 100%|██████████| 84/84 [00:01<00:00, 49.69it/s]\n",
      "Training:   0%|          | 0/754 [00:00<?, ?it/s]"
     ]
    },
    {
     "name": "stdout",
     "output_type": "stream",
     "text": [
      "epoch 25, train loss: 0.216, valid rmspe: 0.183\n",
      "new best:0.18329356610774994\n"
     ]
    },
    {
     "name": "stderr",
     "output_type": "stream",
     "text": [
      "Training: 100%|██████████| 754/754 [00:12<00:00, 58.49it/s]\n",
      "Evaluating: 100%|██████████| 84/84 [00:01<00:00, 61.48it/s]\n",
      "Training:   0%|          | 0/754 [00:00<?, ?it/s]"
     ]
    },
    {
     "name": "stdout",
     "output_type": "stream",
     "text": [
      "epoch 26, train loss: 0.207, valid rmspe: 0.187\n"
     ]
    },
    {
     "name": "stderr",
     "output_type": "stream",
     "text": [
      "Training: 100%|██████████| 754/754 [00:12<00:00, 62.25it/s]\n",
      "Evaluating: 100%|██████████| 84/84 [00:01<00:00, 61.07it/s]\n",
      "Training:   0%|          | 0/754 [00:00<?, ?it/s]"
     ]
    },
    {
     "name": "stdout",
     "output_type": "stream",
     "text": [
      "epoch 27, train loss: 0.204, valid rmspe: 0.187\n"
     ]
    },
    {
     "name": "stderr",
     "output_type": "stream",
     "text": [
      "Training: 100%|██████████| 754/754 [00:15<00:00, 49.18it/s]\n",
      "Evaluating: 100%|██████████| 84/84 [00:01<00:00, 50.49it/s]\n",
      "Training:   0%|          | 0/754 [00:00<?, ?it/s]"
     ]
    },
    {
     "name": "stdout",
     "output_type": "stream",
     "text": [
      "epoch 28, train loss: 0.201, valid rmspe: 0.183\n",
      "new best:0.18294598162174225\n"
     ]
    },
    {
     "name": "stderr",
     "output_type": "stream",
     "text": [
      "Training: 100%|██████████| 754/754 [00:12<00:00, 61.88it/s]\n",
      "Evaluating: 100%|██████████| 84/84 [00:01<00:00, 61.37it/s]\n"
     ]
    },
    {
     "name": "stdout",
     "output_type": "stream",
     "text": [
      "epoch 29, train loss: 0.200, valid rmspe: 0.183\n",
      "model of seed 2 added.\n"
     ]
    },
    {
     "name": "stderr",
     "output_type": "stream",
     "text": [
      "Training:   0%|          | 0/754 [00:00<?, ?it/s]"
     ]
    },
    {
     "name": "stdout",
     "output_type": "stream",
     "text": [
      "fold 0 train: (386036, 591), valid: (42896, 591)\n"
     ]
    },
    {
     "name": "stderr",
     "output_type": "stream",
     "text": [
      "Training: 100%|██████████| 754/754 [00:12<00:00, 59.58it/s]\n",
      "Evaluating: 100%|██████████| 84/84 [00:01<00:00, 60.83it/s]\n",
      "Training:   0%|          | 0/754 [00:00<?, ?it/s]"
     ]
    },
    {
     "name": "stdout",
     "output_type": "stream",
     "text": [
      "epoch 0, train loss: 26.689, valid rmspe: 5.324\n",
      "new best:5.323751926422119\n"
     ]
    },
    {
     "name": "stderr",
     "output_type": "stream",
     "text": [
      "Training: 100%|██████████| 754/754 [00:12<00:00, 61.84it/s]\n",
      "Evaluating: 100%|██████████| 84/84 [00:01<00:00, 61.38it/s]\n",
      "Training:   0%|          | 0/754 [00:00<?, ?it/s]"
     ]
    },
    {
     "name": "stdout",
     "output_type": "stream",
     "text": [
      "epoch 1, train loss: 6.216, valid rmspe: 2.713\n",
      "new best:2.712800979614258\n"
     ]
    },
    {
     "name": "stderr",
     "output_type": "stream",
     "text": [
      "Training: 100%|██████████| 754/754 [00:15<00:00, 48.16it/s]\n",
      "Evaluating: 100%|██████████| 84/84 [00:01<00:00, 61.14it/s]\n",
      "Training:   0%|          | 0/754 [00:00<?, ?it/s]"
     ]
    },
    {
     "name": "stdout",
     "output_type": "stream",
     "text": [
      "epoch 2, train loss: 4.738, valid rmspe: 3.637\n"
     ]
    },
    {
     "name": "stderr",
     "output_type": "stream",
     "text": [
      "Training: 100%|██████████| 754/754 [00:12<00:00, 61.46it/s]\n",
      "Evaluating: 100%|██████████| 84/84 [00:01<00:00, 59.54it/s]\n",
      "Training:   0%|          | 0/754 [00:00<?, ?it/s]"
     ]
    },
    {
     "name": "stdout",
     "output_type": "stream",
     "text": [
      "epoch 3, train loss: 1.989, valid rmspe: 0.832\n",
      "new best:0.8324441909790039\n"
     ]
    },
    {
     "name": "stderr",
     "output_type": "stream",
     "text": [
      "Training: 100%|██████████| 754/754 [00:12<00:00, 59.03it/s]\n",
      "Evaluating: 100%|██████████| 84/84 [00:01<00:00, 60.42it/s]\n",
      "Training:   0%|          | 0/754 [00:00<?, ?it/s]"
     ]
    },
    {
     "name": "stdout",
     "output_type": "stream",
     "text": [
      "epoch 4, train loss: 0.843, valid rmspe: 0.584\n",
      "new best:0.5838446021080017\n"
     ]
    },
    {
     "name": "stderr",
     "output_type": "stream",
     "text": [
      "Training: 100%|██████████| 754/754 [00:12<00:00, 61.54it/s]\n",
      "Evaluating: 100%|██████████| 84/84 [00:01<00:00, 55.26it/s]\n",
      "Training:   0%|          | 0/754 [00:00<?, ?it/s]"
     ]
    },
    {
     "name": "stdout",
     "output_type": "stream",
     "text": [
      "epoch 5, train loss: 0.701, valid rmspe: 0.752\n"
     ]
    },
    {
     "name": "stderr",
     "output_type": "stream",
     "text": [
      "Training: 100%|██████████| 754/754 [00:12<00:00, 61.55it/s]\n",
      "Evaluating: 100%|██████████| 84/84 [00:01<00:00, 58.37it/s]\n",
      "Training:   0%|          | 0/754 [00:00<?, ?it/s]"
     ]
    },
    {
     "name": "stdout",
     "output_type": "stream",
     "text": [
      "epoch 6, train loss: 0.609, valid rmspe: 0.235\n",
      "new best:0.2346353828907013\n"
     ]
    },
    {
     "name": "stderr",
     "output_type": "stream",
     "text": [
      "Training: 100%|██████████| 754/754 [00:15<00:00, 49.32it/s]\n",
      "Evaluating: 100%|██████████| 84/84 [00:01<00:00, 61.57it/s]\n",
      "Training:   0%|          | 0/754 [00:00<?, ?it/s]"
     ]
    },
    {
     "name": "stdout",
     "output_type": "stream",
     "text": [
      "epoch 7, train loss: 0.497, valid rmspe: 0.304\n"
     ]
    },
    {
     "name": "stderr",
     "output_type": "stream",
     "text": [
      "Training: 100%|██████████| 754/754 [00:12<00:00, 61.76it/s]\n",
      "Evaluating: 100%|██████████| 84/84 [00:01<00:00, 53.62it/s]\n",
      "Training:   0%|          | 0/754 [00:00<?, ?it/s]"
     ]
    },
    {
     "name": "stdout",
     "output_type": "stream",
     "text": [
      "epoch 8, train loss: 0.414, valid rmspe: 0.255\n"
     ]
    },
    {
     "name": "stderr",
     "output_type": "stream",
     "text": [
      "Training: 100%|██████████| 754/754 [00:12<00:00, 58.21it/s]\n",
      "Evaluating: 100%|██████████| 84/84 [00:01<00:00, 61.21it/s]\n",
      "Training:   0%|          | 0/754 [00:00<?, ?it/s]"
     ]
    },
    {
     "name": "stdout",
     "output_type": "stream",
     "text": [
      "epoch 9, train loss: 0.463, valid rmspe: 0.325\n"
     ]
    },
    {
     "name": "stderr",
     "output_type": "stream",
     "text": [
      "Training: 100%|██████████| 754/754 [00:12<00:00, 61.84it/s]\n",
      "Evaluating: 100%|██████████| 84/84 [00:01<00:00, 60.15it/s]\n",
      "Training:   0%|          | 0/754 [00:00<?, ?it/s]"
     ]
    },
    {
     "name": "stdout",
     "output_type": "stream",
     "text": [
      "epoch 10, train loss: 0.514, valid rmspe: 0.561\n"
     ]
    },
    {
     "name": "stderr",
     "output_type": "stream",
     "text": [
      "Training: 100%|██████████| 754/754 [00:14<00:00, 53.86it/s]\n",
      "Evaluating: 100%|██████████| 84/84 [00:01<00:00, 45.70it/s]\n",
      "Training:   0%|          | 0/754 [00:00<?, ?it/s]"
     ]
    },
    {
     "name": "stdout",
     "output_type": "stream",
     "text": [
      "epoch 11, train loss: 0.471, valid rmspe: 0.267\n"
     ]
    },
    {
     "name": "stderr",
     "output_type": "stream",
     "text": [
      "Training: 100%|██████████| 754/754 [00:13<00:00, 54.35it/s]\n",
      "Evaluating: 100%|██████████| 84/84 [00:01<00:00, 61.38it/s]\n",
      "Training:   0%|          | 0/754 [00:00<?, ?it/s]"
     ]
    },
    {
     "name": "stdout",
     "output_type": "stream",
     "text": [
      "epoch 12, train loss: 0.438, valid rmspe: 0.478\n"
     ]
    },
    {
     "name": "stderr",
     "output_type": "stream",
     "text": [
      "Training: 100%|██████████| 754/754 [00:12<00:00, 59.10it/s]\n",
      "Evaluating: 100%|██████████| 84/84 [00:01<00:00, 61.30it/s]\n",
      "Training:   0%|          | 0/754 [00:00<?, ?it/s]"
     ]
    },
    {
     "name": "stdout",
     "output_type": "stream",
     "text": [
      "epoch 13, train loss: 0.434, valid rmspe: 0.598\n"
     ]
    },
    {
     "name": "stderr",
     "output_type": "stream",
     "text": [
      "Training: 100%|██████████| 754/754 [00:12<00:00, 61.51it/s]\n",
      "Evaluating: 100%|██████████| 84/84 [00:01<00:00, 60.51it/s]\n",
      "Training:   0%|          | 0/754 [00:00<?, ?it/s]"
     ]
    },
    {
     "name": "stdout",
     "output_type": "stream",
     "text": [
      "epoch 14, train loss: 0.336, valid rmspe: 0.260\n"
     ]
    },
    {
     "name": "stderr",
     "output_type": "stream",
     "text": [
      "Training: 100%|██████████| 754/754 [00:12<00:00, 58.21it/s]\n",
      "Evaluating: 100%|██████████| 84/84 [00:01<00:00, 59.87it/s]\n",
      "Training:   0%|          | 0/754 [00:00<?, ?it/s]"
     ]
    },
    {
     "name": "stdout",
     "output_type": "stream",
     "text": [
      "epoch 15, train loss: 0.307, valid rmspe: 0.516\n"
     ]
    },
    {
     "name": "stderr",
     "output_type": "stream",
     "text": [
      "Training: 100%|██████████| 754/754 [00:13<00:00, 54.26it/s]\n",
      "Evaluating: 100%|██████████| 84/84 [00:01<00:00, 49.61it/s]\n",
      "Training:   0%|          | 0/754 [00:00<?, ?it/s]"
     ]
    },
    {
     "name": "stdout",
     "output_type": "stream",
     "text": [
      "epoch 16, train loss: 0.312, valid rmspe: 0.237\n"
     ]
    },
    {
     "name": "stderr",
     "output_type": "stream",
     "text": [
      "Training: 100%|██████████| 754/754 [00:12<00:00, 58.49it/s]\n",
      "Evaluating: 100%|██████████| 84/84 [00:01<00:00, 61.16it/s]\n",
      "Training:   0%|          | 0/754 [00:00<?, ?it/s]"
     ]
    },
    {
     "name": "stdout",
     "output_type": "stream",
     "text": [
      "epoch 17, train loss: 0.310, valid rmspe: 0.188\n",
      "new best:0.18839620053768158\n"
     ]
    },
    {
     "name": "stderr",
     "output_type": "stream",
     "text": [
      "Training: 100%|██████████| 754/754 [00:13<00:00, 57.51it/s]\n",
      "Evaluating: 100%|██████████| 84/84 [00:01<00:00, 61.07it/s]\n",
      "Training:   0%|          | 0/754 [00:00<?, ?it/s]"
     ]
    },
    {
     "name": "stdout",
     "output_type": "stream",
     "text": [
      "epoch 18, train loss: 0.289, valid rmspe: 0.242\n"
     ]
    },
    {
     "name": "stderr",
     "output_type": "stream",
     "text": [
      "Training: 100%|██████████| 754/754 [00:12<00:00, 61.53it/s]\n",
      "Evaluating: 100%|██████████| 84/84 [00:01<00:00, 60.38it/s]\n",
      "Training:   0%|          | 0/754 [00:00<?, ?it/s]"
     ]
    },
    {
     "name": "stdout",
     "output_type": "stream",
     "text": [
      "epoch 19, train loss: 0.254, valid rmspe: 0.260\n"
     ]
    },
    {
     "name": "stderr",
     "output_type": "stream",
     "text": [
      "Training: 100%|██████████| 754/754 [00:12<00:00, 58.42it/s]\n",
      "Evaluating: 100%|██████████| 84/84 [00:01<00:00, 61.02it/s]\n",
      "Training:   0%|          | 0/754 [00:00<?, ?it/s]"
     ]
    },
    {
     "name": "stdout",
     "output_type": "stream",
     "text": [
      "epoch 20, train loss: 0.253, valid rmspe: 0.194\n"
     ]
    },
    {
     "name": "stderr",
     "output_type": "stream",
     "text": [
      "Training: 100%|██████████| 754/754 [00:15<00:00, 49.76it/s]\n",
      "Evaluating: 100%|██████████| 84/84 [00:01<00:00, 50.05it/s]\n",
      "Training:   0%|          | 0/754 [00:00<?, ?it/s]"
     ]
    },
    {
     "name": "stdout",
     "output_type": "stream",
     "text": [
      "epoch 21, train loss: 0.244, valid rmspe: 0.243\n"
     ]
    },
    {
     "name": "stderr",
     "output_type": "stream",
     "text": [
      "Training: 100%|██████████| 754/754 [00:12<00:00, 58.26it/s]\n",
      "Evaluating: 100%|██████████| 84/84 [00:01<00:00, 60.85it/s]\n",
      "Training:   0%|          | 0/754 [00:00<?, ?it/s]"
     ]
    },
    {
     "name": "stdout",
     "output_type": "stream",
     "text": [
      "epoch 22, train loss: 0.222, valid rmspe: 0.184\n",
      "new best:0.18372046947479248\n"
     ]
    },
    {
     "name": "stderr",
     "output_type": "stream",
     "text": [
      "Training: 100%|██████████| 754/754 [00:12<00:00, 61.45it/s]\n",
      "Evaluating: 100%|██████████| 84/84 [00:01<00:00, 60.94it/s]\n",
      "Training:   0%|          | 0/754 [00:00<?, ?it/s]"
     ]
    },
    {
     "name": "stdout",
     "output_type": "stream",
     "text": [
      "epoch 23, train loss: 0.225, valid rmspe: 0.230\n"
     ]
    },
    {
     "name": "stderr",
     "output_type": "stream",
     "text": [
      "Training: 100%|██████████| 754/754 [00:13<00:00, 57.15it/s]\n",
      "Evaluating: 100%|██████████| 84/84 [00:01<00:00, 55.53it/s]\n",
      "Training:   0%|          | 0/754 [00:00<?, ?it/s]"
     ]
    },
    {
     "name": "stdout",
     "output_type": "stream",
     "text": [
      "epoch 24, train loss: 0.216, valid rmspe: 0.186\n"
     ]
    },
    {
     "name": "stderr",
     "output_type": "stream",
     "text": [
      "Training: 100%|██████████| 754/754 [00:12<00:00, 61.43it/s]\n",
      "Evaluating: 100%|██████████| 84/84 [00:01<00:00, 59.53it/s]\n",
      "Training:   0%|          | 0/754 [00:00<?, ?it/s]"
     ]
    },
    {
     "name": "stdout",
     "output_type": "stream",
     "text": [
      "epoch 25, train loss: 0.208, valid rmspe: 0.194\n"
     ]
    },
    {
     "name": "stderr",
     "output_type": "stream",
     "text": [
      "Training: 100%|██████████| 754/754 [00:15<00:00, 48.21it/s]\n",
      "Evaluating: 100%|██████████| 84/84 [00:01<00:00, 47.00it/s]\n",
      "Training:   0%|          | 0/754 [00:00<?, ?it/s]"
     ]
    },
    {
     "name": "stdout",
     "output_type": "stream",
     "text": [
      "epoch 26, train loss: 0.201, valid rmspe: 0.183\n",
      "new best:0.18305735290050507\n"
     ]
    },
    {
     "name": "stderr",
     "output_type": "stream",
     "text": [
      "Training: 100%|██████████| 754/754 [00:12<00:00, 59.86it/s]\n",
      "Evaluating: 100%|██████████| 84/84 [00:01<00:00, 61.20it/s]\n",
      "Training:   0%|          | 0/754 [00:00<?, ?it/s]"
     ]
    },
    {
     "name": "stdout",
     "output_type": "stream",
     "text": [
      "epoch 27, train loss: 0.198, valid rmspe: 0.182\n",
      "new best:0.18172310292720795\n"
     ]
    },
    {
     "name": "stderr",
     "output_type": "stream",
     "text": [
      "Training: 100%|██████████| 754/754 [00:12<00:00, 61.50it/s]\n",
      "Evaluating: 100%|██████████| 84/84 [00:01<00:00, 59.56it/s]\n",
      "Training:   0%|          | 0/754 [00:00<?, ?it/s]"
     ]
    },
    {
     "name": "stdout",
     "output_type": "stream",
     "text": [
      "epoch 28, train loss: 0.197, valid rmspe: 0.182\n"
     ]
    },
    {
     "name": "stderr",
     "output_type": "stream",
     "text": [
      "Training: 100%|██████████| 754/754 [00:12<00:00, 59.24it/s]\n",
      "Evaluating: 100%|██████████| 84/84 [00:01<00:00, 60.30it/s]\n"
     ]
    },
    {
     "name": "stdout",
     "output_type": "stream",
     "text": [
      "epoch 29, train loss: 0.196, valid rmspe: 0.182\n",
      "model of seed 3 added.\n"
     ]
    },
    {
     "name": "stderr",
     "output_type": "stream",
     "text": [
      "Training:   0%|          | 0/754 [00:00<?, ?it/s]"
     ]
    },
    {
     "name": "stdout",
     "output_type": "stream",
     "text": [
      "fold 0 train: (386036, 591), valid: (42896, 591)\n"
     ]
    },
    {
     "name": "stderr",
     "output_type": "stream",
     "text": [
      "Training: 100%|██████████| 754/754 [00:14<00:00, 51.60it/s]\n",
      "Evaluating: 100%|██████████| 84/84 [00:02<00:00, 33.96it/s]\n",
      "Training:   0%|          | 0/754 [00:00<?, ?it/s]"
     ]
    },
    {
     "name": "stdout",
     "output_type": "stream",
     "text": [
      "epoch 0, train loss: 24.463, valid rmspe: 12.338\n",
      "new best:12.337745666503906\n"
     ]
    },
    {
     "name": "stderr",
     "output_type": "stream",
     "text": [
      "Training: 100%|██████████| 754/754 [00:12<00:00, 58.17it/s]\n",
      "Evaluating: 100%|██████████| 84/84 [00:01<00:00, 60.41it/s]\n",
      "Training:   0%|          | 0/754 [00:00<?, ?it/s]"
     ]
    },
    {
     "name": "stdout",
     "output_type": "stream",
     "text": [
      "epoch 1, train loss: 6.505, valid rmspe: 3.392\n",
      "new best:3.3917229175567627\n"
     ]
    },
    {
     "name": "stderr",
     "output_type": "stream",
     "text": [
      "Training: 100%|██████████| 754/754 [00:12<00:00, 61.54it/s]\n",
      "Evaluating: 100%|██████████| 84/84 [00:01<00:00, 60.57it/s]\n",
      "Training:   0%|          | 0/754 [00:00<?, ?it/s]"
     ]
    },
    {
     "name": "stdout",
     "output_type": "stream",
     "text": [
      "epoch 2, train loss: 5.363, valid rmspe: 4.522\n"
     ]
    },
    {
     "name": "stderr",
     "output_type": "stream",
     "text": [
      "Training: 100%|██████████| 754/754 [00:12<00:00, 58.77it/s]\n",
      "Evaluating: 100%|██████████| 84/84 [00:01<00:00, 51.13it/s]\n",
      "Training:   0%|          | 0/754 [00:00<?, ?it/s]"
     ]
    },
    {
     "name": "stdout",
     "output_type": "stream",
     "text": [
      "epoch 3, train loss: 1.778, valid rmspe: 0.763\n",
      "new best:0.7631120681762695\n"
     ]
    },
    {
     "name": "stderr",
     "output_type": "stream",
     "text": [
      "Training: 100%|██████████| 754/754 [00:12<00:00, 61.90it/s]\n",
      "Evaluating: 100%|██████████| 84/84 [00:01<00:00, 60.76it/s]\n",
      "Training:   0%|          | 0/754 [00:00<?, ?it/s]"
     ]
    },
    {
     "name": "stdout",
     "output_type": "stream",
     "text": [
      "epoch 4, train loss: 0.676, valid rmspe: 0.449\n",
      "new best:0.4491562247276306\n"
     ]
    },
    {
     "name": "stderr",
     "output_type": "stream",
     "text": [
      "Training: 100%|██████████| 754/754 [00:15<00:00, 50.00it/s]\n",
      "Evaluating: 100%|██████████| 84/84 [00:01<00:00, 49.75it/s]\n",
      "Training:   0%|          | 0/754 [00:00<?, ?it/s]"
     ]
    },
    {
     "name": "stdout",
     "output_type": "stream",
     "text": [
      "epoch 5, train loss: 0.747, valid rmspe: 0.457\n"
     ]
    },
    {
     "name": "stderr",
     "output_type": "stream",
     "text": [
      "Training: 100%|██████████| 754/754 [00:13<00:00, 56.23it/s]\n",
      "Evaluating: 100%|██████████| 84/84 [00:01<00:00, 60.57it/s]\n",
      "Training:   0%|          | 0/754 [00:00<?, ?it/s]"
     ]
    },
    {
     "name": "stdout",
     "output_type": "stream",
     "text": [
      "epoch 6, train loss: 0.668, valid rmspe: 0.691\n"
     ]
    },
    {
     "name": "stderr",
     "output_type": "stream",
     "text": [
      "Training: 100%|██████████| 754/754 [00:12<00:00, 58.39it/s]\n",
      "Evaluating: 100%|██████████| 84/84 [00:01<00:00, 61.06it/s]\n",
      "Training:   0%|          | 0/754 [00:00<?, ?it/s]"
     ]
    },
    {
     "name": "stdout",
     "output_type": "stream",
     "text": [
      "epoch 7, train loss: 0.664, valid rmspe: 0.718\n"
     ]
    },
    {
     "name": "stderr",
     "output_type": "stream",
     "text": [
      "Training: 100%|██████████| 754/754 [00:12<00:00, 61.39it/s]\n",
      "Evaluating: 100%|██████████| 84/84 [00:01<00:00, 61.32it/s]\n",
      "Training:   0%|          | 0/754 [00:00<?, ?it/s]"
     ]
    },
    {
     "name": "stdout",
     "output_type": "stream",
     "text": [
      "epoch 8, train loss: 0.682, valid rmspe: 0.732\n"
     ]
    },
    {
     "name": "stderr",
     "output_type": "stream",
     "text": [
      "Training: 100%|██████████| 754/754 [00:12<00:00, 61.07it/s]\n",
      "Evaluating: 100%|██████████| 84/84 [00:01<00:00, 59.41it/s]\n",
      "Training:   0%|          | 0/754 [00:00<?, ?it/s]"
     ]
    },
    {
     "name": "stdout",
     "output_type": "stream",
     "text": [
      "epoch 9, train loss: 0.611, valid rmspe: 0.474\n"
     ]
    },
    {
     "name": "stderr",
     "output_type": "stream",
     "text": [
      "Training: 100%|██████████| 754/754 [00:16<00:00, 46.73it/s]\n",
      "Evaluating: 100%|██████████| 84/84 [00:01<00:00, 50.38it/s]\n",
      "Training:   0%|          | 0/754 [00:00<?, ?it/s]"
     ]
    },
    {
     "name": "stdout",
     "output_type": "stream",
     "text": [
      "epoch 10, train loss: 0.645, valid rmspe: 0.440\n",
      "new best:0.4400481581687927\n"
     ]
    },
    {
     "name": "stderr",
     "output_type": "stream",
     "text": [
      "Training: 100%|██████████| 754/754 [00:12<00:00, 58.49it/s]\n",
      "Evaluating: 100%|██████████| 84/84 [00:01<00:00, 60.25it/s]\n",
      "Training:   0%|          | 0/754 [00:00<?, ?it/s]"
     ]
    },
    {
     "name": "stdout",
     "output_type": "stream",
     "text": [
      "epoch 11, train loss: 0.504, valid rmspe: 0.234\n",
      "new best:0.23421593010425568\n"
     ]
    },
    {
     "name": "stderr",
     "output_type": "stream",
     "text": [
      "Training: 100%|██████████| 754/754 [00:13<00:00, 57.38it/s]\n",
      "Evaluating: 100%|██████████| 84/84 [00:01<00:00, 60.50it/s]\n",
      "Training:   0%|          | 0/754 [00:00<?, ?it/s]"
     ]
    },
    {
     "name": "stdout",
     "output_type": "stream",
     "text": [
      "epoch 12, train loss: 0.533, valid rmspe: 0.231\n",
      "new best:0.23072731494903564\n"
     ]
    },
    {
     "name": "stderr",
     "output_type": "stream",
     "text": [
      "Training: 100%|██████████| 754/754 [00:12<00:00, 61.43it/s]\n",
      "Evaluating: 100%|██████████| 84/84 [00:01<00:00, 59.75it/s]\n",
      "Training:   0%|          | 0/754 [00:00<?, ?it/s]"
     ]
    },
    {
     "name": "stdout",
     "output_type": "stream",
     "text": [
      "epoch 13, train loss: 0.490, valid rmspe: 0.537\n"
     ]
    },
    {
     "name": "stderr",
     "output_type": "stream",
     "text": [
      "Training: 100%|██████████| 754/754 [00:12<00:00, 58.58it/s]\n",
      "Evaluating: 100%|██████████| 84/84 [00:01<00:00, 60.57it/s]\n",
      "Training:   0%|          | 0/754 [00:00<?, ?it/s]"
     ]
    },
    {
     "name": "stdout",
     "output_type": "stream",
     "text": [
      "epoch 14, train loss: 0.467, valid rmspe: 0.567\n"
     ]
    },
    {
     "name": "stderr",
     "output_type": "stream",
     "text": [
      "Training: 100%|██████████| 754/754 [00:15<00:00, 48.79it/s]\n",
      "Evaluating: 100%|██████████| 84/84 [00:01<00:00, 50.61it/s]\n",
      "Training:   0%|          | 0/754 [00:00<?, ?it/s]"
     ]
    },
    {
     "name": "stdout",
     "output_type": "stream",
     "text": [
      "epoch 15, train loss: 0.382, valid rmspe: 0.555\n"
     ]
    },
    {
     "name": "stderr",
     "output_type": "stream",
     "text": [
      "Training: 100%|██████████| 754/754 [00:13<00:00, 54.97it/s]\n",
      "Evaluating: 100%|██████████| 84/84 [00:01<00:00, 60.35it/s]\n",
      "Training:   0%|          | 0/754 [00:00<?, ?it/s]"
     ]
    },
    {
     "name": "stdout",
     "output_type": "stream",
     "text": [
      "epoch 16, train loss: 0.399, valid rmspe: 0.190\n",
      "new best:0.18965180218219757\n"
     ]
    },
    {
     "name": "stderr",
     "output_type": "stream",
     "text": [
      "Training: 100%|██████████| 754/754 [00:12<00:00, 61.28it/s]\n",
      "Evaluating: 100%|██████████| 84/84 [00:01<00:00, 59.84it/s]\n",
      "Training:   0%|          | 0/754 [00:00<?, ?it/s]"
     ]
    },
    {
     "name": "stdout",
     "output_type": "stream",
     "text": [
      "epoch 17, train loss: 0.342, valid rmspe: 0.203\n"
     ]
    },
    {
     "name": "stderr",
     "output_type": "stream",
     "text": [
      "Training: 100%|██████████| 754/754 [00:13<00:00, 57.35it/s]\n",
      "Evaluating: 100%|██████████| 84/84 [00:01<00:00, 60.86it/s]\n",
      "Training:   0%|          | 0/754 [00:00<?, ?it/s]"
     ]
    },
    {
     "name": "stdout",
     "output_type": "stream",
     "text": [
      "epoch 18, train loss: 0.327, valid rmspe: 0.197\n"
     ]
    },
    {
     "name": "stderr",
     "output_type": "stream",
     "text": [
      "Training: 100%|██████████| 754/754 [00:12<00:00, 61.36it/s]\n",
      "Evaluating: 100%|██████████| 84/84 [00:01<00:00, 60.00it/s]\n",
      "Training:   0%|          | 0/754 [00:00<?, ?it/s]"
     ]
    },
    {
     "name": "stdout",
     "output_type": "stream",
     "text": [
      "epoch 19, train loss: 0.289, valid rmspe: 0.214\n"
     ]
    },
    {
     "name": "stderr",
     "output_type": "stream",
     "text": [
      "Training: 100%|██████████| 754/754 [00:15<00:00, 48.87it/s]\n",
      "Evaluating: 100%|██████████| 84/84 [00:02<00:00, 31.92it/s]\n",
      "Training:   0%|          | 0/754 [00:00<?, ?it/s]"
     ]
    },
    {
     "name": "stdout",
     "output_type": "stream",
     "text": [
      "epoch 20, train loss: 0.268, valid rmspe: 0.296\n"
     ]
    },
    {
     "name": "stderr",
     "output_type": "stream",
     "text": [
      "Training: 100%|██████████| 754/754 [00:12<00:00, 59.92it/s]\n",
      "Evaluating: 100%|██████████| 84/84 [00:01<00:00, 59.98it/s]\n",
      "Training:   0%|          | 0/754 [00:00<?, ?it/s]"
     ]
    },
    {
     "name": "stdout",
     "output_type": "stream",
     "text": [
      "epoch 21, train loss: 0.259, valid rmspe: 0.216\n"
     ]
    },
    {
     "name": "stderr",
     "output_type": "stream",
     "text": [
      "Training: 100%|██████████| 754/754 [00:12<00:00, 61.55it/s]\n",
      "Evaluating: 100%|██████████| 84/84 [00:01<00:00, 60.80it/s]\n",
      "Training:   0%|          | 0/754 [00:00<?, ?it/s]"
     ]
    },
    {
     "name": "stdout",
     "output_type": "stream",
     "text": [
      "epoch 22, train loss: 0.238, valid rmspe: 0.188\n",
      "new best:0.18842355906963348\n"
     ]
    },
    {
     "name": "stderr",
     "output_type": "stream",
     "text": [
      "Training: 100%|██████████| 754/754 [00:12<00:00, 59.45it/s]\n",
      "Evaluating: 100%|██████████| 84/84 [00:01<00:00, 60.26it/s]\n",
      "Training:   0%|          | 0/754 [00:00<?, ?it/s]"
     ]
    },
    {
     "name": "stdout",
     "output_type": "stream",
     "text": [
      "epoch 23, train loss: 0.236, valid rmspe: 0.186\n",
      "new best:0.18588276207447052\n"
     ]
    },
    {
     "name": "stderr",
     "output_type": "stream",
     "text": [
      "Training: 100%|██████████| 754/754 [00:12<00:00, 60.32it/s]\n",
      "Evaluating: 100%|██████████| 84/84 [00:01<00:00, 61.16it/s]\n",
      "Training:   0%|          | 0/754 [00:00<?, ?it/s]"
     ]
    },
    {
     "name": "stdout",
     "output_type": "stream",
     "text": [
      "epoch 24, train loss: 0.225, valid rmspe: 0.191\n"
     ]
    },
    {
     "name": "stderr",
     "output_type": "stream",
     "text": [
      "Training: 100%|██████████| 754/754 [00:15<00:00, 48.72it/s]\n",
      "Evaluating: 100%|██████████| 84/84 [00:01<00:00, 49.34it/s]\n",
      "Training:   0%|          | 0/754 [00:00<?, ?it/s]"
     ]
    },
    {
     "name": "stdout",
     "output_type": "stream",
     "text": [
      "epoch 25, train loss: 0.214, valid rmspe: 0.184\n",
      "new best:0.1839165836572647\n"
     ]
    },
    {
     "name": "stderr",
     "output_type": "stream",
     "text": [
      "Training: 100%|██████████| 754/754 [00:12<00:00, 58.02it/s]\n",
      "Evaluating: 100%|██████████| 84/84 [00:01<00:00, 45.40it/s]\n",
      "Training:   0%|          | 0/754 [00:00<?, ?it/s]"
     ]
    },
    {
     "name": "stdout",
     "output_type": "stream",
     "text": [
      "epoch 26, train loss: 0.210, valid rmspe: 0.184\n",
      "new best:0.18366336822509766\n"
     ]
    },
    {
     "name": "stderr",
     "output_type": "stream",
     "text": [
      "Training: 100%|██████████| 754/754 [00:12<00:00, 58.73it/s]\n",
      "Evaluating: 100%|██████████| 84/84 [00:01<00:00, 60.39it/s]\n",
      "Training:   0%|          | 0/754 [00:00<?, ?it/s]"
     ]
    },
    {
     "name": "stdout",
     "output_type": "stream",
     "text": [
      "epoch 27, train loss: 0.203, valid rmspe: 0.189\n"
     ]
    },
    {
     "name": "stderr",
     "output_type": "stream",
     "text": [
      "Training: 100%|██████████| 754/754 [00:12<00:00, 61.72it/s]\n",
      "Evaluating: 100%|██████████| 84/84 [00:01<00:00, 61.13it/s]\n",
      "Training:   0%|          | 0/754 [00:00<?, ?it/s]"
     ]
    },
    {
     "name": "stdout",
     "output_type": "stream",
     "text": [
      "epoch 28, train loss: 0.201, valid rmspe: 0.184\n",
      "new best:0.18358463048934937\n"
     ]
    },
    {
     "name": "stderr",
     "output_type": "stream",
     "text": [
      "Training: 100%|██████████| 754/754 [00:12<00:00, 61.96it/s]\n",
      "Evaluating: 100%|██████████| 84/84 [00:01<00:00, 60.59it/s]\n"
     ]
    },
    {
     "name": "stdout",
     "output_type": "stream",
     "text": [
      "epoch 29, train loss: 0.199, valid rmspe: 0.184\n",
      "model of seed 4 added.\n"
     ]
    },
    {
     "name": "stderr",
     "output_type": "stream",
     "text": [
      "Training:   0%|          | 0/754 [00:00<?, ?it/s]"
     ]
    },
    {
     "name": "stdout",
     "output_type": "stream",
     "text": [
      "fold 0 train: (386036, 591), valid: (42896, 591)\n"
     ]
    },
    {
     "name": "stderr",
     "output_type": "stream",
     "text": [
      "Training: 100%|██████████| 754/754 [00:12<00:00, 62.27it/s]\n",
      "Evaluating: 100%|██████████| 84/84 [00:01<00:00, 60.78it/s]\n",
      "Training:   0%|          | 0/754 [00:00<?, ?it/s]"
     ]
    },
    {
     "name": "stdout",
     "output_type": "stream",
     "text": [
      "epoch 0, train loss: 27.857, valid rmspe: 2.365\n",
      "new best:2.365215539932251\n"
     ]
    },
    {
     "name": "stderr",
     "output_type": "stream",
     "text": [
      "Training: 100%|██████████| 754/754 [00:13<00:00, 57.65it/s]\n",
      "Evaluating: 100%|██████████| 84/84 [00:01<00:00, 61.78it/s]\n",
      "Training:   0%|          | 0/754 [00:00<?, ?it/s]"
     ]
    },
    {
     "name": "stdout",
     "output_type": "stream",
     "text": [
      "epoch 1, train loss: 5.941, valid rmspe: 7.107\n"
     ]
    },
    {
     "name": "stderr",
     "output_type": "stream",
     "text": [
      "Training: 100%|██████████| 754/754 [00:12<00:00, 61.99it/s]\n",
      "Evaluating: 100%|██████████| 84/84 [00:01<00:00, 60.81it/s]\n",
      "Training:   0%|          | 0/754 [00:00<?, ?it/s]"
     ]
    },
    {
     "name": "stdout",
     "output_type": "stream",
     "text": [
      "epoch 2, train loss: 5.457, valid rmspe: 1.188\n",
      "new best:1.1875132322311401\n"
     ]
    },
    {
     "name": "stderr",
     "output_type": "stream",
     "text": [
      "Training: 100%|██████████| 754/754 [00:12<00:00, 62.08it/s]\n",
      "Evaluating: 100%|██████████| 84/84 [00:01<00:00, 60.08it/s]\n",
      "Training:   0%|          | 0/754 [00:00<?, ?it/s]"
     ]
    },
    {
     "name": "stdout",
     "output_type": "stream",
     "text": [
      "epoch 3, train loss: 2.599, valid rmspe: 2.248\n"
     ]
    },
    {
     "name": "stderr",
     "output_type": "stream",
     "text": [
      "Training: 100%|██████████| 754/754 [00:16<00:00, 44.70it/s]\n",
      "Evaluating: 100%|██████████| 84/84 [00:01<00:00, 50.74it/s]\n",
      "Training:   0%|          | 0/754 [00:00<?, ?it/s]"
     ]
    },
    {
     "name": "stdout",
     "output_type": "stream",
     "text": [
      "epoch 4, train loss: 1.269, valid rmspe: 0.418\n",
      "new best:0.41831788420677185\n"
     ]
    },
    {
     "name": "stderr",
     "output_type": "stream",
     "text": [
      "Training: 100%|██████████| 754/754 [00:12<00:00, 61.91it/s]\n",
      "Evaluating: 100%|██████████| 84/84 [00:01<00:00, 59.70it/s]\n",
      "Training:   0%|          | 0/754 [00:00<?, ?it/s]"
     ]
    },
    {
     "name": "stdout",
     "output_type": "stream",
     "text": [
      "epoch 5, train loss: 0.649, valid rmspe: 0.391\n",
      "new best:0.39083465933799744\n"
     ]
    },
    {
     "name": "stderr",
     "output_type": "stream",
     "text": [
      "Training: 100%|██████████| 754/754 [00:12<00:00, 59.61it/s]\n",
      "Evaluating: 100%|██████████| 84/84 [00:01<00:00, 61.26it/s]\n",
      "Training:   0%|          | 0/754 [00:00<?, ?it/s]"
     ]
    },
    {
     "name": "stdout",
     "output_type": "stream",
     "text": [
      "epoch 6, train loss: 0.573, valid rmspe: 0.210\n",
      "new best:0.20969435572624207\n"
     ]
    },
    {
     "name": "stderr",
     "output_type": "stream",
     "text": [
      "Training: 100%|██████████| 754/754 [00:12<00:00, 60.73it/s]\n",
      "Evaluating: 100%|██████████| 84/84 [00:01<00:00, 60.26it/s]\n",
      "Training:   0%|          | 0/754 [00:00<?, ?it/s]"
     ]
    },
    {
     "name": "stdout",
     "output_type": "stream",
     "text": [
      "epoch 7, train loss: 0.534, valid rmspe: 0.384\n"
     ]
    },
    {
     "name": "stderr",
     "output_type": "stream",
     "text": [
      "Training: 100%|██████████| 754/754 [00:12<00:00, 59.10it/s]\n",
      "Evaluating: 100%|██████████| 84/84 [00:01<00:00, 60.68it/s]\n",
      "Training:   0%|          | 0/754 [00:00<?, ?it/s]"
     ]
    },
    {
     "name": "stdout",
     "output_type": "stream",
     "text": [
      "epoch 8, train loss: 0.503, valid rmspe: 0.767\n"
     ]
    },
    {
     "name": "stderr",
     "output_type": "stream",
     "text": [
      "Training: 100%|██████████| 754/754 [00:12<00:00, 62.21it/s]\n",
      "Evaluating: 100%|██████████| 84/84 [00:01<00:00, 60.62it/s]\n",
      "Training:   0%|          | 0/754 [00:00<?, ?it/s]"
     ]
    },
    {
     "name": "stdout",
     "output_type": "stream",
     "text": [
      "epoch 9, train loss: 0.557, valid rmspe: 0.233\n"
     ]
    },
    {
     "name": "stderr",
     "output_type": "stream",
     "text": [
      "Training: 100%|██████████| 754/754 [00:12<00:00, 58.92it/s]\n",
      "Evaluating: 100%|██████████| 84/84 [00:01<00:00, 55.42it/s]\n",
      "Training:   0%|          | 0/754 [00:00<?, ?it/s]"
     ]
    },
    {
     "name": "stdout",
     "output_type": "stream",
     "text": [
      "epoch 10, train loss: 0.314, valid rmspe: 0.261\n"
     ]
    },
    {
     "name": "stderr",
     "output_type": "stream",
     "text": [
      "Training: 100%|██████████| 754/754 [00:12<00:00, 61.81it/s]\n",
      "Evaluating: 100%|██████████| 84/84 [00:01<00:00, 61.74it/s]\n",
      "Training:   0%|          | 0/754 [00:00<?, ?it/s]"
     ]
    },
    {
     "name": "stdout",
     "output_type": "stream",
     "text": [
      "epoch 11, train loss: 0.459, valid rmspe: 0.249\n"
     ]
    },
    {
     "name": "stderr",
     "output_type": "stream",
     "text": [
      "Training: 100%|██████████| 754/754 [00:12<00:00, 61.38it/s]\n",
      "Evaluating: 100%|██████████| 84/84 [00:01<00:00, 61.21it/s]\n",
      "Training:   0%|          | 0/754 [00:00<?, ?it/s]"
     ]
    },
    {
     "name": "stdout",
     "output_type": "stream",
     "text": [
      "epoch 12, train loss: 0.366, valid rmspe: 0.282\n"
     ]
    },
    {
     "name": "stderr",
     "output_type": "stream",
     "text": [
      "Training: 100%|██████████| 754/754 [00:14<00:00, 52.41it/s]\n",
      "Evaluating: 100%|██████████| 84/84 [00:01<00:00, 50.12it/s]\n",
      "Training:   0%|          | 0/754 [00:00<?, ?it/s]"
     ]
    },
    {
     "name": "stdout",
     "output_type": "stream",
     "text": [
      "epoch 13, train loss: 0.415, valid rmspe: 0.210\n",
      "new best:0.20959249138832092\n"
     ]
    },
    {
     "name": "stderr",
     "output_type": "stream",
     "text": [
      "Training: 100%|██████████| 754/754 [00:15<00:00, 50.15it/s]\n",
      "Evaluating: 100%|██████████| 84/84 [00:01<00:00, 61.23it/s]\n",
      "Training:   0%|          | 0/754 [00:00<?, ?it/s]"
     ]
    },
    {
     "name": "stdout",
     "output_type": "stream",
     "text": [
      "epoch 14, train loss: 0.293, valid rmspe: 0.224\n"
     ]
    },
    {
     "name": "stderr",
     "output_type": "stream",
     "text": [
      "Training: 100%|██████████| 754/754 [00:12<00:00, 58.90it/s]\n",
      "Evaluating: 100%|██████████| 84/84 [00:01<00:00, 61.60it/s]\n",
      "Training:   0%|          | 0/754 [00:00<?, ?it/s]"
     ]
    },
    {
     "name": "stdout",
     "output_type": "stream",
     "text": [
      "epoch 15, train loss: 0.330, valid rmspe: 0.188\n",
      "new best:0.18767157196998596\n"
     ]
    },
    {
     "name": "stderr",
     "output_type": "stream",
     "text": [
      "Training: 100%|██████████| 754/754 [00:12<00:00, 62.08it/s]\n",
      "Evaluating: 100%|██████████| 84/84 [00:01<00:00, 60.93it/s]\n",
      "Training:   0%|          | 0/754 [00:00<?, ?it/s]"
     ]
    },
    {
     "name": "stdout",
     "output_type": "stream",
     "text": [
      "epoch 16, train loss: 0.294, valid rmspe: 0.223\n"
     ]
    },
    {
     "name": "stderr",
     "output_type": "stream",
     "text": [
      "Training: 100%|██████████| 754/754 [00:13<00:00, 56.97it/s]\n",
      "Evaluating: 100%|██████████| 84/84 [00:01<00:00, 58.95it/s]\n",
      "Training:   0%|          | 0/754 [00:00<?, ?it/s]"
     ]
    },
    {
     "name": "stdout",
     "output_type": "stream",
     "text": [
      "epoch 17, train loss: 0.285, valid rmspe: 0.199\n"
     ]
    },
    {
     "name": "stderr",
     "output_type": "stream",
     "text": [
      "Training: 100%|██████████| 754/754 [00:12<00:00, 62.07it/s]\n",
      "Evaluating: 100%|██████████| 84/84 [00:01<00:00, 61.72it/s]\n",
      "Training:   0%|          | 0/754 [00:00<?, ?it/s]"
     ]
    },
    {
     "name": "stdout",
     "output_type": "stream",
     "text": [
      "epoch 18, train loss: 0.288, valid rmspe: 0.199\n"
     ]
    },
    {
     "name": "stderr",
     "output_type": "stream",
     "text": [
      "Training: 100%|██████████| 754/754 [00:12<00:00, 59.06it/s]\n",
      "Evaluating: 100%|██████████| 84/84 [00:01<00:00, 60.47it/s]\n",
      "Training:   0%|          | 0/754 [00:00<?, ?it/s]"
     ]
    },
    {
     "name": "stdout",
     "output_type": "stream",
     "text": [
      "epoch 19, train loss: 0.267, valid rmspe: 0.229\n"
     ]
    },
    {
     "name": "stderr",
     "output_type": "stream",
     "text": [
      "Training: 100%|██████████| 754/754 [00:12<00:00, 61.94it/s]\n",
      "Evaluating: 100%|██████████| 84/84 [00:01<00:00, 52.40it/s]\n",
      "Training:   0%|          | 0/754 [00:00<?, ?it/s]"
     ]
    },
    {
     "name": "stdout",
     "output_type": "stream",
     "text": [
      "epoch 20, train loss: 0.249, valid rmspe: 0.202\n"
     ]
    },
    {
     "name": "stderr",
     "output_type": "stream",
     "text": [
      "Training: 100%|██████████| 754/754 [00:12<00:00, 62.08it/s]\n",
      "Evaluating: 100%|██████████| 84/84 [00:01<00:00, 60.53it/s]\n",
      "Training:   0%|          | 0/754 [00:00<?, ?it/s]"
     ]
    },
    {
     "name": "stdout",
     "output_type": "stream",
     "text": [
      "epoch 21, train loss: 0.240, valid rmspe: 0.185\n",
      "new best:0.1852767914533615\n"
     ]
    },
    {
     "name": "stderr",
     "output_type": "stream",
     "text": [
      "Training: 100%|██████████| 754/754 [00:12<00:00, 59.33it/s]\n",
      "Evaluating: 100%|██████████| 84/84 [00:01<00:00, 61.12it/s]\n",
      "Training:   0%|          | 0/754 [00:00<?, ?it/s]"
     ]
    },
    {
     "name": "stdout",
     "output_type": "stream",
     "text": [
      "epoch 22, train loss: 0.229, valid rmspe: 0.194\n"
     ]
    },
    {
     "name": "stderr",
     "output_type": "stream",
     "text": [
      "Training: 100%|██████████| 754/754 [00:17<00:00, 43.50it/s]\n",
      "Evaluating: 100%|██████████| 84/84 [00:01<00:00, 45.39it/s]\n",
      "Training:   0%|          | 0/754 [00:00<?, ?it/s]"
     ]
    },
    {
     "name": "stdout",
     "output_type": "stream",
     "text": [
      "epoch 23, train loss: 0.221, valid rmspe: 0.222\n"
     ]
    },
    {
     "name": "stderr",
     "output_type": "stream",
     "text": [
      "Training: 100%|██████████| 754/754 [00:12<00:00, 60.68it/s]\n",
      "Evaluating: 100%|██████████| 84/84 [00:01<00:00, 61.05it/s]\n",
      "Training:   0%|          | 0/754 [00:00<?, ?it/s]"
     ]
    },
    {
     "name": "stdout",
     "output_type": "stream",
     "text": [
      "epoch 24, train loss: 0.214, valid rmspe: 0.182\n",
      "new best:0.18238721787929535\n"
     ]
    },
    {
     "name": "stderr",
     "output_type": "stream",
     "text": [
      "Training: 100%|██████████| 754/754 [00:12<00:00, 61.72it/s]\n",
      "Evaluating: 100%|██████████| 84/84 [00:01<00:00, 59.84it/s]\n",
      "Training:   0%|          | 0/754 [00:00<?, ?it/s]"
     ]
    },
    {
     "name": "stdout",
     "output_type": "stream",
     "text": [
      "epoch 25, train loss: 0.209, valid rmspe: 0.183\n"
     ]
    },
    {
     "name": "stderr",
     "output_type": "stream",
     "text": [
      "Training: 100%|██████████| 754/754 [00:12<00:00, 59.12it/s]\n",
      "Evaluating: 100%|██████████| 84/84 [00:01<00:00, 51.06it/s]\n",
      "Training:   0%|          | 0/754 [00:00<?, ?it/s]"
     ]
    },
    {
     "name": "stdout",
     "output_type": "stream",
     "text": [
      "epoch 26, train loss: 0.202, valid rmspe: 0.182\n",
      "new best:0.18226666748523712\n"
     ]
    },
    {
     "name": "stderr",
     "output_type": "stream",
     "text": [
      "Training: 100%|██████████| 754/754 [00:12<00:00, 61.99it/s]\n",
      "Evaluating: 100%|██████████| 84/84 [00:01<00:00, 61.22it/s]\n",
      "Training:   0%|          | 0/754 [00:00<?, ?it/s]"
     ]
    },
    {
     "name": "stdout",
     "output_type": "stream",
     "text": [
      "epoch 27, train loss: 0.200, valid rmspe: 0.182\n",
      "new best:0.18204563856124878\n"
     ]
    },
    {
     "name": "stderr",
     "output_type": "stream",
     "text": [
      "Training: 100%|██████████| 754/754 [00:12<00:00, 59.36it/s]\n",
      "Evaluating: 100%|██████████| 84/84 [00:01<00:00, 60.47it/s]\n",
      "Training:   0%|          | 0/754 [00:00<?, ?it/s]"
     ]
    },
    {
     "name": "stdout",
     "output_type": "stream",
     "text": [
      "epoch 28, train loss: 0.197, valid rmspe: 0.184\n"
     ]
    },
    {
     "name": "stderr",
     "output_type": "stream",
     "text": [
      "Training: 100%|██████████| 754/754 [00:12<00:00, 62.04it/s]\n",
      "Evaluating: 100%|██████████| 84/84 [00:01<00:00, 60.62it/s]\n"
     ]
    },
    {
     "name": "stdout",
     "output_type": "stream",
     "text": [
      "epoch 29, train loss: 0.196, valid rmspe: 0.184\n",
      "model of seed 5 added.\n"
     ]
    },
    {
     "name": "stderr",
     "output_type": "stream",
     "text": [
      "Training:   0%|          | 0/754 [00:00<?, ?it/s]"
     ]
    },
    {
     "name": "stdout",
     "output_type": "stream",
     "text": [
      "fold 0 train: (386036, 591), valid: (42896, 591)\n"
     ]
    },
    {
     "name": "stderr",
     "output_type": "stream",
     "text": [
      "Training: 100%|██████████| 754/754 [00:12<00:00, 58.53it/s]\n",
      "Evaluating: 100%|██████████| 84/84 [00:01<00:00, 59.94it/s]\n",
      "Training:   0%|          | 0/754 [00:00<?, ?it/s]"
     ]
    },
    {
     "name": "stdout",
     "output_type": "stream",
     "text": [
      "epoch 0, train loss: 23.347, valid rmspe: 3.038\n",
      "new best:3.038130760192871\n"
     ]
    },
    {
     "name": "stderr",
     "output_type": "stream",
     "text": [
      "Training: 100%|██████████| 754/754 [00:12<00:00, 59.22it/s]\n",
      "Evaluating: 100%|██████████| 84/84 [00:01<00:00, 49.37it/s]\n",
      "Training:   0%|          | 0/754 [00:00<?, ?it/s]"
     ]
    },
    {
     "name": "stdout",
     "output_type": "stream",
     "text": [
      "epoch 1, train loss: 5.840, valid rmspe: 6.187\n"
     ]
    },
    {
     "name": "stderr",
     "output_type": "stream",
     "text": [
      "Training: 100%|██████████| 754/754 [00:17<00:00, 43.17it/s]\n",
      "Evaluating: 100%|██████████| 84/84 [00:01<00:00, 52.66it/s]\n",
      "Training:   0%|          | 0/754 [00:00<?, ?it/s]"
     ]
    },
    {
     "name": "stdout",
     "output_type": "stream",
     "text": [
      "epoch 2, train loss: 5.762, valid rmspe: 0.776\n",
      "new best:0.7763923406600952\n"
     ]
    },
    {
     "name": "stderr",
     "output_type": "stream",
     "text": [
      "Training: 100%|██████████| 754/754 [00:12<00:00, 61.16it/s]\n",
      "Evaluating: 100%|██████████| 84/84 [00:01<00:00, 61.03it/s]\n",
      "Training:   0%|          | 0/754 [00:00<?, ?it/s]"
     ]
    },
    {
     "name": "stdout",
     "output_type": "stream",
     "text": [
      "epoch 3, train loss: 1.539, valid rmspe: 0.379\n",
      "new best:0.37855467200279236\n"
     ]
    },
    {
     "name": "stderr",
     "output_type": "stream",
     "text": [
      "Training: 100%|██████████| 754/754 [00:12<00:00, 59.17it/s]\n",
      "Evaluating: 100%|██████████| 84/84 [00:01<00:00, 58.43it/s]\n",
      "Training:   0%|          | 0/754 [00:00<?, ?it/s]"
     ]
    },
    {
     "name": "stdout",
     "output_type": "stream",
     "text": [
      "epoch 4, train loss: 0.762, valid rmspe: 0.742\n"
     ]
    },
    {
     "name": "stderr",
     "output_type": "stream",
     "text": [
      "Training: 100%|██████████| 754/754 [00:12<00:00, 61.60it/s]\n",
      "Evaluating: 100%|██████████| 84/84 [00:01<00:00, 60.75it/s]\n",
      "Training:   0%|          | 0/754 [00:00<?, ?it/s]"
     ]
    },
    {
     "name": "stdout",
     "output_type": "stream",
     "text": [
      "epoch 5, train loss: 0.778, valid rmspe: 1.107\n"
     ]
    },
    {
     "name": "stderr",
     "output_type": "stream",
     "text": [
      "Training: 100%|██████████| 754/754 [00:12<00:00, 61.76it/s]\n",
      "Evaluating: 100%|██████████| 84/84 [00:02<00:00, 39.20it/s]\n",
      "Training:   0%|          | 0/754 [00:00<?, ?it/s]"
     ]
    },
    {
     "name": "stdout",
     "output_type": "stream",
     "text": [
      "epoch 6, train loss: 0.745, valid rmspe: 1.406\n"
     ]
    },
    {
     "name": "stderr",
     "output_type": "stream",
     "text": [
      "Training: 100%|██████████| 754/754 [00:12<00:00, 59.73it/s]\n",
      "Evaluating: 100%|██████████| 84/84 [00:01<00:00, 60.54it/s]\n",
      "Training:   0%|          | 0/754 [00:00<?, ?it/s]"
     ]
    },
    {
     "name": "stdout",
     "output_type": "stream",
     "text": [
      "epoch 7, train loss: 0.699, valid rmspe: 0.515\n"
     ]
    },
    {
     "name": "stderr",
     "output_type": "stream",
     "text": [
      "Training: 100%|██████████| 754/754 [00:12<00:00, 61.97it/s]\n",
      "Evaluating: 100%|██████████| 84/84 [00:01<00:00, 59.93it/s]\n",
      "Training:   0%|          | 0/754 [00:00<?, ?it/s]"
     ]
    },
    {
     "name": "stdout",
     "output_type": "stream",
     "text": [
      "epoch 8, train loss: 0.535, valid rmspe: 0.760\n"
     ]
    },
    {
     "name": "stderr",
     "output_type": "stream",
     "text": [
      "Training: 100%|██████████| 754/754 [00:12<00:00, 59.09it/s]\n",
      "Evaluating: 100%|██████████| 84/84 [00:01<00:00, 60.79it/s]\n",
      "Training:   0%|          | 0/754 [00:00<?, ?it/s]"
     ]
    },
    {
     "name": "stdout",
     "output_type": "stream",
     "text": [
      "epoch 9, train loss: 0.606, valid rmspe: 0.399\n"
     ]
    },
    {
     "name": "stderr",
     "output_type": "stream",
     "text": [
      "Training: 100%|██████████| 754/754 [00:12<00:00, 60.38it/s]\n",
      "Evaluating: 100%|██████████| 84/84 [00:01<00:00, 59.09it/s]\n",
      "Training:   0%|          | 0/754 [00:00<?, ?it/s]"
     ]
    },
    {
     "name": "stdout",
     "output_type": "stream",
     "text": [
      "epoch 10, train loss: 0.552, valid rmspe: 0.345\n",
      "new best:0.3448259234428406\n"
     ]
    },
    {
     "name": "stderr",
     "output_type": "stream",
     "text": [
      "Training: 100%|██████████| 754/754 [00:15<00:00, 48.67it/s]\n",
      "Evaluating: 100%|██████████| 84/84 [00:01<00:00, 49.38it/s]\n",
      "Training:   0%|          | 0/754 [00:00<?, ?it/s]"
     ]
    },
    {
     "name": "stdout",
     "output_type": "stream",
     "text": [
      "epoch 11, train loss: 0.504, valid rmspe: 0.336\n",
      "new best:0.33602476119995117\n"
     ]
    },
    {
     "name": "stderr",
     "output_type": "stream",
     "text": [
      "Training: 100%|██████████| 754/754 [00:14<00:00, 51.67it/s]\n",
      "Evaluating: 100%|██████████| 84/84 [00:01<00:00, 61.10it/s]\n",
      "Training:   0%|          | 0/754 [00:00<?, ?it/s]"
     ]
    },
    {
     "name": "stdout",
     "output_type": "stream",
     "text": [
      "epoch 12, train loss: 0.448, valid rmspe: 0.316\n",
      "new best:0.3161602020263672\n"
     ]
    },
    {
     "name": "stderr",
     "output_type": "stream",
     "text": [
      "Training: 100%|██████████| 754/754 [00:13<00:00, 57.89it/s]\n",
      "Evaluating: 100%|██████████| 84/84 [00:01<00:00, 61.31it/s]\n",
      "Training:   0%|          | 0/754 [00:00<?, ?it/s]"
     ]
    },
    {
     "name": "stdout",
     "output_type": "stream",
     "text": [
      "epoch 13, train loss: 0.424, valid rmspe: 0.591\n"
     ]
    },
    {
     "name": "stderr",
     "output_type": "stream",
     "text": [
      "Training: 100%|██████████| 754/754 [00:12<00:00, 61.64it/s]\n",
      "Evaluating: 100%|██████████| 84/84 [00:01<00:00, 61.70it/s]\n",
      "Training:   0%|          | 0/754 [00:00<?, ?it/s]"
     ]
    },
    {
     "name": "stdout",
     "output_type": "stream",
     "text": [
      "epoch 14, train loss: 0.418, valid rmspe: 0.371\n"
     ]
    },
    {
     "name": "stderr",
     "output_type": "stream",
     "text": [
      "Training: 100%|██████████| 754/754 [00:12<00:00, 61.50it/s]\n",
      "Evaluating: 100%|██████████| 84/84 [00:01<00:00, 42.26it/s]\n",
      "Training:   0%|          | 0/754 [00:00<?, ?it/s]"
     ]
    },
    {
     "name": "stdout",
     "output_type": "stream",
     "text": [
      "epoch 15, train loss: 0.405, valid rmspe: 0.383\n"
     ]
    },
    {
     "name": "stderr",
     "output_type": "stream",
     "text": [
      "Training: 100%|██████████| 754/754 [00:12<00:00, 60.55it/s]\n",
      "Evaluating: 100%|██████████| 84/84 [00:01<00:00, 60.56it/s]\n",
      "Training:   0%|          | 0/754 [00:00<?, ?it/s]"
     ]
    },
    {
     "name": "stdout",
     "output_type": "stream",
     "text": [
      "epoch 16, train loss: 0.417, valid rmspe: 0.197\n",
      "new best:0.1965900957584381\n"
     ]
    },
    {
     "name": "stderr",
     "output_type": "stream",
     "text": [
      "Training: 100%|██████████| 754/754 [00:12<00:00, 61.77it/s]\n",
      "Evaluating: 100%|██████████| 84/84 [00:01<00:00, 60.88it/s]\n",
      "Training:   0%|          | 0/754 [00:00<?, ?it/s]"
     ]
    },
    {
     "name": "stdout",
     "output_type": "stream",
     "text": [
      "epoch 17, train loss: 0.372, valid rmspe: 0.470\n"
     ]
    },
    {
     "name": "stderr",
     "output_type": "stream",
     "text": [
      "Training: 100%|██████████| 754/754 [00:13<00:00, 57.65it/s]\n",
      "Evaluating: 100%|██████████| 84/84 [00:01<00:00, 60.79it/s]\n",
      "Training:   0%|          | 0/754 [00:00<?, ?it/s]"
     ]
    },
    {
     "name": "stdout",
     "output_type": "stream",
     "text": [
      "epoch 18, train loss: 0.327, valid rmspe: 0.241\n"
     ]
    },
    {
     "name": "stderr",
     "output_type": "stream",
     "text": [
      "Training: 100%|██████████| 754/754 [00:12<00:00, 61.93it/s]\n",
      "Evaluating: 100%|██████████| 84/84 [00:01<00:00, 51.42it/s]\n",
      "Training:   0%|          | 0/754 [00:00<?, ?it/s]"
     ]
    },
    {
     "name": "stdout",
     "output_type": "stream",
     "text": [
      "epoch 19, train loss: 0.297, valid rmspe: 0.229\n"
     ]
    },
    {
     "name": "stderr",
     "output_type": "stream",
     "text": [
      "Training: 100%|██████████| 754/754 [00:12<00:00, 59.38it/s]\n",
      "Evaluating: 100%|██████████| 84/84 [00:01<00:00, 61.37it/s]\n",
      "Training:   0%|          | 0/754 [00:00<?, ?it/s]"
     ]
    },
    {
     "name": "stdout",
     "output_type": "stream",
     "text": [
      "epoch 20, train loss: 0.275, valid rmspe: 0.195\n",
      "new best:0.1952923834323883\n"
     ]
    },
    {
     "name": "stderr",
     "output_type": "stream",
     "text": [
      "Training: 100%|██████████| 754/754 [00:16<00:00, 45.21it/s]\n",
      "Evaluating: 100%|██████████| 84/84 [00:01<00:00, 43.54it/s]\n",
      "Training:   0%|          | 0/754 [00:00<?, ?it/s]"
     ]
    },
    {
     "name": "stdout",
     "output_type": "stream",
     "text": [
      "epoch 21, train loss: 0.255, valid rmspe: 0.208\n"
     ]
    },
    {
     "name": "stderr",
     "output_type": "stream",
     "text": [
      "Training: 100%|██████████| 754/754 [00:13<00:00, 55.70it/s]\n",
      "Evaluating: 100%|██████████| 84/84 [00:01<00:00, 60.71it/s]\n",
      "Training:   0%|          | 0/754 [00:00<?, ?it/s]"
     ]
    },
    {
     "name": "stdout",
     "output_type": "stream",
     "text": [
      "epoch 22, train loss: 0.245, valid rmspe: 0.187\n",
      "new best:0.18682996928691864\n"
     ]
    },
    {
     "name": "stderr",
     "output_type": "stream",
     "text": [
      "Training: 100%|██████████| 754/754 [00:12<00:00, 61.72it/s]\n",
      "Evaluating: 100%|██████████| 84/84 [00:01<00:00, 60.88it/s]\n",
      "Training:   0%|          | 0/754 [00:00<?, ?it/s]"
     ]
    },
    {
     "name": "stdout",
     "output_type": "stream",
     "text": [
      "epoch 23, train loss: 0.235, valid rmspe: 0.213\n"
     ]
    },
    {
     "name": "stderr",
     "output_type": "stream",
     "text": [
      "Training: 100%|██████████| 754/754 [00:12<00:00, 61.80it/s]\n",
      "Evaluating: 100%|██████████| 84/84 [00:01<00:00, 59.29it/s]\n",
      "Training:   0%|          | 0/754 [00:00<?, ?it/s]"
     ]
    },
    {
     "name": "stdout",
     "output_type": "stream",
     "text": [
      "epoch 24, train loss: 0.228, valid rmspe: 0.212\n"
     ]
    },
    {
     "name": "stderr",
     "output_type": "stream",
     "text": [
      "Training: 100%|██████████| 754/754 [00:13<00:00, 56.63it/s]\n",
      "Evaluating: 100%|██████████| 84/84 [00:01<00:00, 60.34it/s]\n",
      "Training:   0%|          | 0/754 [00:00<?, ?it/s]"
     ]
    },
    {
     "name": "stdout",
     "output_type": "stream",
     "text": [
      "epoch 25, train loss: 0.216, valid rmspe: 0.188\n"
     ]
    },
    {
     "name": "stderr",
     "output_type": "stream",
     "text": [
      "Training: 100%|██████████| 754/754 [00:12<00:00, 62.12it/s]\n",
      "Evaluating: 100%|██████████| 84/84 [00:01<00:00, 61.31it/s]\n",
      "Training:   0%|          | 0/754 [00:00<?, ?it/s]"
     ]
    },
    {
     "name": "stdout",
     "output_type": "stream",
     "text": [
      "epoch 26, train loss: 0.212, valid rmspe: 0.184\n",
      "new best:0.18444830179214478\n"
     ]
    },
    {
     "name": "stderr",
     "output_type": "stream",
     "text": [
      "Training: 100%|██████████| 754/754 [00:12<00:00, 59.37it/s]\n",
      "Evaluating: 100%|██████████| 84/84 [00:01<00:00, 60.16it/s]\n",
      "Training:   0%|          | 0/754 [00:00<?, ?it/s]"
     ]
    },
    {
     "name": "stdout",
     "output_type": "stream",
     "text": [
      "epoch 27, train loss: 0.206, valid rmspe: 0.184\n",
      "new best:0.18395297229290009\n"
     ]
    },
    {
     "name": "stderr",
     "output_type": "stream",
     "text": [
      "Training: 100%|██████████| 754/754 [00:12<00:00, 61.69it/s]\n",
      "Evaluating: 100%|██████████| 84/84 [00:01<00:00, 59.35it/s]\n",
      "Training:   0%|          | 0/754 [00:00<?, ?it/s]"
     ]
    },
    {
     "name": "stdout",
     "output_type": "stream",
     "text": [
      "epoch 28, train loss: 0.201, valid rmspe: 0.183\n",
      "new best:0.18342769145965576\n"
     ]
    },
    {
     "name": "stderr",
     "output_type": "stream",
     "text": [
      "Training: 100%|██████████| 754/754 [00:12<00:00, 58.65it/s]\n",
      "Evaluating: 100%|██████████| 84/84 [00:01<00:00, 60.38it/s]\n"
     ]
    },
    {
     "name": "stdout",
     "output_type": "stream",
     "text": [
      "epoch 29, train loss: 0.200, valid rmspe: 0.183\n",
      "new best:0.18322348594665527\n",
      "model of seed 6 added.\n"
     ]
    },
    {
     "name": "stderr",
     "output_type": "stream",
     "text": [
      "Training:   0%|          | 0/754 [00:00<?, ?it/s]"
     ]
    },
    {
     "name": "stdout",
     "output_type": "stream",
     "text": [
      "fold 0 train: (386036, 591), valid: (42896, 591)\n"
     ]
    },
    {
     "name": "stderr",
     "output_type": "stream",
     "text": [
      "Training: 100%|██████████| 754/754 [00:16<00:00, 44.70it/s]\n",
      "Evaluating: 100%|██████████| 84/84 [00:01<00:00, 49.58it/s]\n",
      "Training:   0%|          | 0/754 [00:00<?, ?it/s]"
     ]
    },
    {
     "name": "stdout",
     "output_type": "stream",
     "text": [
      "epoch 0, train loss: 23.879, valid rmspe: 5.903\n",
      "new best:5.902618885040283\n"
     ]
    },
    {
     "name": "stderr",
     "output_type": "stream",
     "text": [
      "Training: 100%|██████████| 754/754 [00:14<00:00, 53.37it/s]\n",
      "Evaluating: 100%|██████████| 84/84 [00:01<00:00, 61.12it/s]\n",
      "Training:   0%|          | 0/754 [00:00<?, ?it/s]"
     ]
    },
    {
     "name": "stdout",
     "output_type": "stream",
     "text": [
      "epoch 1, train loss: 5.686, valid rmspe: 6.517\n"
     ]
    },
    {
     "name": "stderr",
     "output_type": "stream",
     "text": [
      "Training: 100%|██████████| 754/754 [00:12<00:00, 61.41it/s]\n",
      "Evaluating: 100%|██████████| 84/84 [00:01<00:00, 60.94it/s]\n",
      "Training:   0%|          | 0/754 [00:00<?, ?it/s]"
     ]
    },
    {
     "name": "stdout",
     "output_type": "stream",
     "text": [
      "epoch 2, train loss: 5.878, valid rmspe: 1.631\n",
      "new best:1.6306726932525635\n"
     ]
    },
    {
     "name": "stderr",
     "output_type": "stream",
     "text": [
      "Training: 100%|██████████| 754/754 [00:12<00:00, 59.03it/s]\n",
      "Evaluating: 100%|██████████| 84/84 [00:01<00:00, 59.52it/s]\n",
      "Training:   0%|          | 0/754 [00:00<?, ?it/s]"
     ]
    },
    {
     "name": "stdout",
     "output_type": "stream",
     "text": [
      "epoch 3, train loss: 1.985, valid rmspe: 0.654\n",
      "new best:0.6541109681129456\n"
     ]
    },
    {
     "name": "stderr",
     "output_type": "stream",
     "text": [
      "Training: 100%|██████████| 754/754 [00:12<00:00, 61.84it/s]\n",
      "Evaluating: 100%|██████████| 84/84 [00:01<00:00, 60.37it/s]\n",
      "Training:   0%|          | 0/754 [00:00<?, ?it/s]"
     ]
    },
    {
     "name": "stdout",
     "output_type": "stream",
     "text": [
      "epoch 4, train loss: 0.898, valid rmspe: 0.589\n",
      "new best:0.589432954788208\n"
     ]
    },
    {
     "name": "stderr",
     "output_type": "stream",
     "text": [
      "Training: 100%|██████████| 754/754 [00:13<00:00, 57.90it/s]\n",
      "Evaluating: 100%|██████████| 84/84 [00:01<00:00, 61.19it/s]\n",
      "Training:   0%|          | 0/754 [00:00<?, ?it/s]"
     ]
    },
    {
     "name": "stdout",
     "output_type": "stream",
     "text": [
      "epoch 5, train loss: 0.712, valid rmspe: 0.586\n",
      "new best:0.5857896208763123\n"
     ]
    },
    {
     "name": "stderr",
     "output_type": "stream",
     "text": [
      "Training: 100%|██████████| 754/754 [00:12<00:00, 61.73it/s]\n",
      "Evaluating: 100%|██████████| 84/84 [00:01<00:00, 61.72it/s]\n",
      "Training:   0%|          | 0/754 [00:00<?, ?it/s]"
     ]
    },
    {
     "name": "stdout",
     "output_type": "stream",
     "text": [
      "epoch 6, train loss: 0.662, valid rmspe: 0.637\n"
     ]
    },
    {
     "name": "stderr",
     "output_type": "stream",
     "text": [
      "Training: 100%|██████████| 754/754 [00:12<00:00, 61.87it/s]\n",
      "Evaluating: 100%|██████████| 84/84 [00:01<00:00, 60.29it/s]\n",
      "Training:   0%|          | 0/754 [00:00<?, ?it/s]"
     ]
    },
    {
     "name": "stdout",
     "output_type": "stream",
     "text": [
      "epoch 7, train loss: 0.636, valid rmspe: 0.681\n"
     ]
    },
    {
     "name": "stderr",
     "output_type": "stream",
     "text": [
      "Training: 100%|██████████| 754/754 [00:12<00:00, 59.27it/s]\n",
      "Evaluating: 100%|██████████| 84/84 [00:01<00:00, 50.90it/s]\n",
      "Training:   0%|          | 0/754 [00:00<?, ?it/s]"
     ]
    },
    {
     "name": "stdout",
     "output_type": "stream",
     "text": [
      "epoch 8, train loss: 0.573, valid rmspe: 1.549\n"
     ]
    },
    {
     "name": "stderr",
     "output_type": "stream",
     "text": [
      "Training: 100%|██████████| 754/754 [00:13<00:00, 57.65it/s]\n",
      "Evaluating: 100%|██████████| 84/84 [00:01<00:00, 49.38it/s]\n",
      "Training:   0%|          | 0/754 [00:00<?, ?it/s]"
     ]
    },
    {
     "name": "stdout",
     "output_type": "stream",
     "text": [
      "epoch 9, train loss: 0.567, valid rmspe: 0.227\n",
      "new best:0.22670604288578033\n"
     ]
    },
    {
     "name": "stderr",
     "output_type": "stream",
     "text": [
      "Training: 100%|██████████| 754/754 [00:17<00:00, 42.77it/s]\n",
      "Evaluating: 100%|██████████| 84/84 [00:01<00:00, 55.08it/s]\n",
      "Training:   0%|          | 0/754 [00:00<?, ?it/s]"
     ]
    },
    {
     "name": "stdout",
     "output_type": "stream",
     "text": [
      "epoch 10, train loss: 0.492, valid rmspe: 0.215\n",
      "new best:0.21504457294940948\n"
     ]
    },
    {
     "name": "stderr",
     "output_type": "stream",
     "text": [
      "Training: 100%|██████████| 754/754 [00:12<00:00, 62.09it/s]\n",
      "Evaluating: 100%|██████████| 84/84 [00:01<00:00, 61.70it/s]\n",
      "Training:   0%|          | 0/754 [00:00<?, ?it/s]"
     ]
    },
    {
     "name": "stdout",
     "output_type": "stream",
     "text": [
      "epoch 11, train loss: 0.495, valid rmspe: 0.358\n"
     ]
    },
    {
     "name": "stderr",
     "output_type": "stream",
     "text": [
      "Training: 100%|██████████| 754/754 [00:12<00:00, 58.85it/s]\n",
      "Evaluating: 100%|██████████| 84/84 [00:01<00:00, 60.28it/s]\n",
      "Training:   0%|          | 0/754 [00:00<?, ?it/s]"
     ]
    },
    {
     "name": "stdout",
     "output_type": "stream",
     "text": [
      "epoch 12, train loss: 0.492, valid rmspe: 0.302\n"
     ]
    },
    {
     "name": "stderr",
     "output_type": "stream",
     "text": [
      "Training: 100%|██████████| 754/754 [00:12<00:00, 61.99it/s]\n",
      "Evaluating: 100%|██████████| 84/84 [00:01<00:00, 60.41it/s]\n",
      "Training:   0%|          | 0/754 [00:00<?, ?it/s]"
     ]
    },
    {
     "name": "stdout",
     "output_type": "stream",
     "text": [
      "epoch 13, train loss: 0.411, valid rmspe: 0.211\n",
      "new best:0.21112766861915588\n"
     ]
    },
    {
     "name": "stderr",
     "output_type": "stream",
     "text": [
      "Training: 100%|██████████| 754/754 [00:13<00:00, 56.36it/s]\n",
      "Evaluating: 100%|██████████| 84/84 [00:01<00:00, 58.79it/s]\n",
      "Training:   0%|          | 0/754 [00:00<?, ?it/s]"
     ]
    },
    {
     "name": "stdout",
     "output_type": "stream",
     "text": [
      "epoch 14, train loss: 0.371, valid rmspe: 0.404\n"
     ]
    },
    {
     "name": "stderr",
     "output_type": "stream",
     "text": [
      "Training: 100%|██████████| 754/754 [00:12<00:00, 59.91it/s]\n",
      "Evaluating: 100%|██████████| 84/84 [00:01<00:00, 58.97it/s]\n",
      "Training:   0%|          | 0/754 [00:00<?, ?it/s]"
     ]
    },
    {
     "name": "stdout",
     "output_type": "stream",
     "text": [
      "epoch 15, train loss: 0.391, valid rmspe: 0.717\n"
     ]
    },
    {
     "name": "stderr",
     "output_type": "stream",
     "text": [
      "Training: 100%|██████████| 754/754 [00:12<00:00, 59.71it/s]\n",
      "Evaluating: 100%|██████████| 84/84 [00:01<00:00, 59.33it/s]\n",
      "Training:   0%|          | 0/754 [00:00<?, ?it/s]"
     ]
    },
    {
     "name": "stdout",
     "output_type": "stream",
     "text": [
      "epoch 16, train loss: 0.348, valid rmspe: 0.221\n"
     ]
    },
    {
     "name": "stderr",
     "output_type": "stream",
     "text": [
      "Training: 100%|██████████| 754/754 [00:12<00:00, 58.01it/s]\n",
      "Evaluating: 100%|██████████| 84/84 [00:01<00:00, 51.39it/s]\n",
      "Training:   0%|          | 0/754 [00:00<?, ?it/s]"
     ]
    },
    {
     "name": "stdout",
     "output_type": "stream",
     "text": [
      "epoch 17, train loss: 0.332, valid rmspe: 0.187\n",
      "new best:0.1874726414680481\n"
     ]
    },
    {
     "name": "stderr",
     "output_type": "stream",
     "text": [
      "Training: 100%|██████████| 754/754 [00:12<00:00, 60.63it/s]\n",
      "Evaluating: 100%|██████████| 84/84 [00:01<00:00, 61.30it/s]\n",
      "Training:   0%|          | 0/754 [00:00<?, ?it/s]"
     ]
    },
    {
     "name": "stdout",
     "output_type": "stream",
     "text": [
      "epoch 18, train loss: 0.311, valid rmspe: 0.240\n"
     ]
    },
    {
     "name": "stderr",
     "output_type": "stream",
     "text": [
      "Training: 100%|██████████| 754/754 [00:15<00:00, 47.15it/s]\n",
      "Evaluating: 100%|██████████| 84/84 [00:01<00:00, 49.39it/s]\n",
      "Training:   0%|          | 0/754 [00:00<?, ?it/s]"
     ]
    },
    {
     "name": "stdout",
     "output_type": "stream",
     "text": [
      "epoch 19, train loss: 0.302, valid rmspe: 0.189\n"
     ]
    },
    {
     "name": "stderr",
     "output_type": "stream",
     "text": [
      "Training: 100%|██████████| 754/754 [00:15<00:00, 49.48it/s]\n",
      "Evaluating: 100%|██████████| 84/84 [00:01<00:00, 61.12it/s]\n",
      "Training:   0%|          | 0/754 [00:00<?, ?it/s]"
     ]
    },
    {
     "name": "stdout",
     "output_type": "stream",
     "text": [
      "epoch 20, train loss: 0.272, valid rmspe: 0.236\n"
     ]
    },
    {
     "name": "stderr",
     "output_type": "stream",
     "text": [
      "Training: 100%|██████████| 754/754 [00:12<00:00, 59.50it/s]\n",
      "Evaluating: 100%|██████████| 84/84 [00:01<00:00, 60.13it/s]\n",
      "Training:   0%|          | 0/754 [00:00<?, ?it/s]"
     ]
    },
    {
     "name": "stdout",
     "output_type": "stream",
     "text": [
      "epoch 21, train loss: 0.249, valid rmspe: 0.211\n"
     ]
    },
    {
     "name": "stderr",
     "output_type": "stream",
     "text": [
      "Training: 100%|██████████| 754/754 [00:12<00:00, 62.19it/s]\n",
      "Evaluating: 100%|██████████| 84/84 [00:01<00:00, 53.16it/s]\n",
      "Training:   0%|          | 0/754 [00:00<?, ?it/s]"
     ]
    },
    {
     "name": "stdout",
     "output_type": "stream",
     "text": [
      "epoch 22, train loss: 0.245, valid rmspe: 0.226\n"
     ]
    },
    {
     "name": "stderr",
     "output_type": "stream",
     "text": [
      "Training: 100%|██████████| 754/754 [00:12<00:00, 59.07it/s]\n",
      "Evaluating: 100%|██████████| 84/84 [00:01<00:00, 61.17it/s]\n",
      "Training:   0%|          | 0/754 [00:00<?, ?it/s]"
     ]
    },
    {
     "name": "stdout",
     "output_type": "stream",
     "text": [
      "epoch 23, train loss: 0.226, valid rmspe: 0.185\n",
      "new best:0.18546843528747559\n"
     ]
    },
    {
     "name": "stderr",
     "output_type": "stream",
     "text": [
      "Training: 100%|██████████| 754/754 [00:12<00:00, 61.89it/s]\n",
      "Evaluating: 100%|██████████| 84/84 [00:01<00:00, 60.53it/s]\n",
      "Training:   0%|          | 0/754 [00:00<?, ?it/s]"
     ]
    },
    {
     "name": "stdout",
     "output_type": "stream",
     "text": [
      "epoch 24, train loss: 0.218, valid rmspe: 0.262\n"
     ]
    },
    {
     "name": "stderr",
     "output_type": "stream",
     "text": [
      "Training: 100%|██████████| 754/754 [00:12<00:00, 61.52it/s]\n",
      "Evaluating: 100%|██████████| 84/84 [00:01<00:00, 60.55it/s]\n",
      "Training:   0%|          | 0/754 [00:00<?, ?it/s]"
     ]
    },
    {
     "name": "stdout",
     "output_type": "stream",
     "text": [
      "epoch 25, train loss: 0.222, valid rmspe: 0.183\n",
      "new best:0.18326179683208466\n"
     ]
    },
    {
     "name": "stderr",
     "output_type": "stream",
     "text": [
      "Training: 100%|██████████| 754/754 [00:12<00:00, 58.62it/s]\n",
      "Evaluating: 100%|██████████| 84/84 [00:01<00:00, 50.39it/s]\n",
      "Training:   0%|          | 0/754 [00:00<?, ?it/s]"
     ]
    },
    {
     "name": "stdout",
     "output_type": "stream",
     "text": [
      "epoch 26, train loss: 0.208, valid rmspe: 0.210\n"
     ]
    },
    {
     "name": "stderr",
     "output_type": "stream",
     "text": [
      "Training: 100%|██████████| 754/754 [00:12<00:00, 60.52it/s]\n",
      "Evaluating: 100%|██████████| 84/84 [00:01<00:00, 61.89it/s]\n",
      "Training:   0%|          | 0/754 [00:00<?, ?it/s]"
     ]
    },
    {
     "name": "stdout",
     "output_type": "stream",
     "text": [
      "epoch 27, train loss: 0.201, valid rmspe: 0.187\n"
     ]
    },
    {
     "name": "stderr",
     "output_type": "stream",
     "text": [
      "Training: 100%|██████████| 754/754 [00:12<00:00, 59.03it/s]\n",
      "Evaluating: 100%|██████████| 84/84 [00:01<00:00, 59.97it/s]\n",
      "Training:   0%|          | 0/754 [00:00<?, ?it/s]"
     ]
    },
    {
     "name": "stdout",
     "output_type": "stream",
     "text": [
      "epoch 28, train loss: 0.200, valid rmspe: 0.182\n",
      "new best:0.18239477276802063\n"
     ]
    },
    {
     "name": "stderr",
     "output_type": "stream",
     "text": [
      "Training: 100%|██████████| 754/754 [00:17<00:00, 42.94it/s]\n",
      "Evaluating: 100%|██████████| 84/84 [00:01<00:00, 50.50it/s]\n"
     ]
    },
    {
     "name": "stdout",
     "output_type": "stream",
     "text": [
      "epoch 29, train loss: 0.198, valid rmspe: 0.184\n",
      "model of seed 7 added.\n"
     ]
    },
    {
     "name": "stderr",
     "output_type": "stream",
     "text": [
      "Training:   0%|          | 0/754 [00:00<?, ?it/s]"
     ]
    },
    {
     "name": "stdout",
     "output_type": "stream",
     "text": [
      "fold 0 train: (386036, 591), valid: (42896, 591)\n"
     ]
    },
    {
     "name": "stderr",
     "output_type": "stream",
     "text": [
      "Training: 100%|██████████| 754/754 [00:12<00:00, 61.26it/s]\n",
      "Evaluating: 100%|██████████| 84/84 [00:01<00:00, 60.55it/s]\n",
      "Training:   0%|          | 0/754 [00:00<?, ?it/s]"
     ]
    },
    {
     "name": "stdout",
     "output_type": "stream",
     "text": [
      "epoch 0, train loss: 24.876, valid rmspe: 4.769\n",
      "new best:4.769461154937744\n"
     ]
    },
    {
     "name": "stderr",
     "output_type": "stream",
     "text": [
      "Training: 100%|██████████| 754/754 [00:12<00:00, 62.30it/s]\n",
      "Evaluating: 100%|██████████| 84/84 [00:01<00:00, 61.08it/s]\n",
      "Training:   0%|          | 0/754 [00:00<?, ?it/s]"
     ]
    },
    {
     "name": "stdout",
     "output_type": "stream",
     "text": [
      "epoch 1, train loss: 6.570, valid rmspe: 2.795\n",
      "new best:2.7953550815582275\n"
     ]
    },
    {
     "name": "stderr",
     "output_type": "stream",
     "text": [
      "Training: 100%|██████████| 754/754 [00:13<00:00, 57.64it/s]\n",
      "Evaluating: 100%|██████████| 84/84 [00:01<00:00, 49.59it/s]\n",
      "Training:   0%|          | 0/754 [00:00<?, ?it/s]"
     ]
    },
    {
     "name": "stdout",
     "output_type": "stream",
     "text": [
      "epoch 2, train loss: 5.955, valid rmspe: 1.775\n",
      "new best:1.7748996019363403\n"
     ]
    },
    {
     "name": "stderr",
     "output_type": "stream",
     "text": [
      "Training: 100%|██████████| 754/754 [00:12<00:00, 61.98it/s]\n",
      "Evaluating: 100%|██████████| 84/84 [00:01<00:00, 60.84it/s]\n",
      "Training:   0%|          | 0/754 [00:00<?, ?it/s]"
     ]
    },
    {
     "name": "stdout",
     "output_type": "stream",
     "text": [
      "epoch 3, train loss: 2.184, valid rmspe: 1.699\n",
      "new best:1.6987789869308472\n"
     ]
    },
    {
     "name": "stderr",
     "output_type": "stream",
     "text": [
      "Training: 100%|██████████| 754/754 [00:12<00:00, 58.79it/s]\n",
      "Evaluating: 100%|██████████| 84/84 [00:01<00:00, 61.38it/s]\n",
      "Training:   0%|          | 0/754 [00:00<?, ?it/s]"
     ]
    },
    {
     "name": "stdout",
     "output_type": "stream",
     "text": [
      "epoch 4, train loss: 0.960, valid rmspe: 0.667\n",
      "new best:0.6671402454376221\n"
     ]
    },
    {
     "name": "stderr",
     "output_type": "stream",
     "text": [
      "Training: 100%|██████████| 754/754 [00:12<00:00, 60.67it/s]\n",
      "Evaluating: 100%|██████████| 84/84 [00:01<00:00, 60.03it/s]\n",
      "Training:   0%|          | 0/754 [00:00<?, ?it/s]"
     ]
    },
    {
     "name": "stdout",
     "output_type": "stream",
     "text": [
      "epoch 5, train loss: 0.616, valid rmspe: 0.232\n",
      "new best:0.23224562406539917\n"
     ]
    },
    {
     "name": "stderr",
     "output_type": "stream",
     "text": [
      "Training: 100%|██████████| 754/754 [00:13<00:00, 57.43it/s]\n",
      "Evaluating: 100%|██████████| 84/84 [00:01<00:00, 59.72it/s]\n",
      "Training:   0%|          | 0/754 [00:00<?, ?it/s]"
     ]
    },
    {
     "name": "stdout",
     "output_type": "stream",
     "text": [
      "epoch 6, train loss: 0.479, valid rmspe: 0.244\n"
     ]
    },
    {
     "name": "stderr",
     "output_type": "stream",
     "text": [
      "Training: 100%|██████████| 754/754 [00:12<00:00, 61.28it/s]\n",
      "Evaluating: 100%|██████████| 84/84 [00:01<00:00, 60.44it/s]\n",
      "Training:   0%|          | 0/754 [00:00<?, ?it/s]"
     ]
    },
    {
     "name": "stdout",
     "output_type": "stream",
     "text": [
      "epoch 7, train loss: 0.550, valid rmspe: 0.411\n"
     ]
    },
    {
     "name": "stderr",
     "output_type": "stream",
     "text": [
      "Training: 100%|██████████| 754/754 [00:17<00:00, 42.34it/s]\n",
      "Evaluating: 100%|██████████| 84/84 [00:01<00:00, 48.46it/s]\n",
      "Training:   0%|          | 0/754 [00:00<?, ?it/s]"
     ]
    },
    {
     "name": "stdout",
     "output_type": "stream",
     "text": [
      "epoch 8, train loss: 0.677, valid rmspe: 0.410\n"
     ]
    },
    {
     "name": "stderr",
     "output_type": "stream",
     "text": [
      "Training: 100%|██████████| 754/754 [00:14<00:00, 53.63it/s]\n",
      "Evaluating: 100%|██████████| 84/84 [00:01<00:00, 60.24it/s]\n",
      "Training:   0%|          | 0/754 [00:00<?, ?it/s]"
     ]
    },
    {
     "name": "stdout",
     "output_type": "stream",
     "text": [
      "epoch 9, train loss: 0.551, valid rmspe: 0.548\n"
     ]
    },
    {
     "name": "stderr",
     "output_type": "stream",
     "text": [
      "Training: 100%|██████████| 754/754 [00:12<00:00, 61.18it/s]\n",
      "Evaluating: 100%|██████████| 84/84 [00:01<00:00, 59.57it/s]\n",
      "Training:   0%|          | 0/754 [00:00<?, ?it/s]"
     ]
    },
    {
     "name": "stdout",
     "output_type": "stream",
     "text": [
      "epoch 10, train loss: 0.555, valid rmspe: 0.536\n"
     ]
    },
    {
     "name": "stderr",
     "output_type": "stream",
     "text": [
      "Training: 100%|██████████| 754/754 [00:13<00:00, 57.16it/s]\n",
      "Evaluating: 100%|██████████| 84/84 [00:01<00:00, 60.81it/s]\n",
      "Training:   0%|          | 0/754 [00:00<?, ?it/s]"
     ]
    },
    {
     "name": "stdout",
     "output_type": "stream",
     "text": [
      "epoch 11, train loss: 0.549, valid rmspe: 0.690\n"
     ]
    },
    {
     "name": "stderr",
     "output_type": "stream",
     "text": [
      "Training: 100%|██████████| 754/754 [00:12<00:00, 61.35it/s]\n",
      "Evaluating: 100%|██████████| 84/84 [00:01<00:00, 60.46it/s]\n",
      "Training:   0%|          | 0/754 [00:00<?, ?it/s]"
     ]
    },
    {
     "name": "stdout",
     "output_type": "stream",
     "text": [
      "epoch 12, train loss: 0.461, valid rmspe: 0.928\n"
     ]
    },
    {
     "name": "stderr",
     "output_type": "stream",
     "text": [
      "Training: 100%|██████████| 754/754 [00:12<00:00, 58.75it/s]\n",
      "Evaluating: 100%|██████████| 84/84 [00:01<00:00, 59.49it/s]\n",
      "Training:   0%|          | 0/754 [00:00<?, ?it/s]"
     ]
    },
    {
     "name": "stdout",
     "output_type": "stream",
     "text": [
      "epoch 13, train loss: 0.431, valid rmspe: 0.221\n",
      "new best:0.22054427862167358\n"
     ]
    },
    {
     "name": "stderr",
     "output_type": "stream",
     "text": [
      "Training: 100%|██████████| 754/754 [00:12<00:00, 61.41it/s]\n",
      "Evaluating: 100%|██████████| 84/84 [00:01<00:00, 55.54it/s]\n",
      "Training:   0%|          | 0/754 [00:00<?, ?it/s]"
     ]
    },
    {
     "name": "stdout",
     "output_type": "stream",
     "text": [
      "epoch 14, train loss: 0.441, valid rmspe: 0.206\n",
      "new best:0.20569781959056854\n"
     ]
    },
    {
     "name": "stderr",
     "output_type": "stream",
     "text": [
      "Training: 100%|██████████| 754/754 [00:13<00:00, 57.93it/s]\n",
      "Evaluating: 100%|██████████| 84/84 [00:01<00:00, 60.59it/s]\n",
      "Training:   0%|          | 0/754 [00:00<?, ?it/s]"
     ]
    },
    {
     "name": "stdout",
     "output_type": "stream",
     "text": [
      "epoch 15, train loss: 0.396, valid rmspe: 0.519\n"
     ]
    },
    {
     "name": "stderr",
     "output_type": "stream",
     "text": [
      "Training: 100%|██████████| 754/754 [00:12<00:00, 61.13it/s]\n",
      "Evaluating: 100%|██████████| 84/84 [00:01<00:00, 59.78it/s]\n",
      "Training:   0%|          | 0/754 [00:00<?, ?it/s]"
     ]
    },
    {
     "name": "stdout",
     "output_type": "stream",
     "text": [
      "epoch 16, train loss: 0.371, valid rmspe: 0.636\n"
     ]
    },
    {
     "name": "stderr",
     "output_type": "stream",
     "text": [
      "Training: 100%|██████████| 754/754 [00:12<00:00, 59.53it/s]\n",
      "Evaluating: 100%|██████████| 84/84 [00:01<00:00, 49.54it/s]\n",
      "Training:   0%|          | 0/754 [00:00<?, ?it/s]"
     ]
    },
    {
     "name": "stdout",
     "output_type": "stream",
     "text": [
      "epoch 17, train loss: 0.335, valid rmspe: 0.211\n"
     ]
    },
    {
     "name": "stderr",
     "output_type": "stream",
     "text": [
      "Training: 100%|██████████| 754/754 [00:17<00:00, 42.46it/s]\n",
      "Evaluating: 100%|██████████| 84/84 [00:01<00:00, 48.91it/s]\n",
      "Training:   0%|          | 0/754 [00:00<?, ?it/s]"
     ]
    },
    {
     "name": "stdout",
     "output_type": "stream",
     "text": [
      "epoch 18, train loss: 0.304, valid rmspe: 0.199\n",
      "new best:0.19889619946479797\n"
     ]
    },
    {
     "name": "stderr",
     "output_type": "stream",
     "text": [
      "Training: 100%|██████████| 754/754 [00:13<00:00, 55.73it/s]\n",
      "Evaluating: 100%|██████████| 84/84 [00:02<00:00, 38.09it/s]\n",
      "Training:   0%|          | 0/754 [00:00<?, ?it/s]"
     ]
    },
    {
     "name": "stdout",
     "output_type": "stream",
     "text": [
      "epoch 19, train loss: 0.279, valid rmspe: 0.277\n"
     ]
    },
    {
     "name": "stderr",
     "output_type": "stream",
     "text": [
      "Training: 100%|██████████| 754/754 [00:12<00:00, 60.97it/s]\n",
      "Evaluating: 100%|██████████| 84/84 [00:01<00:00, 58.73it/s]\n",
      "Training:   0%|          | 0/754 [00:00<?, ?it/s]"
     ]
    },
    {
     "name": "stdout",
     "output_type": "stream",
     "text": [
      "epoch 20, train loss: 0.270, valid rmspe: 0.259\n"
     ]
    },
    {
     "name": "stderr",
     "output_type": "stream",
     "text": [
      "Training: 100%|██████████| 754/754 [00:12<00:00, 60.04it/s]\n",
      "Evaluating: 100%|██████████| 84/84 [00:01<00:00, 60.25it/s]\n",
      "Training:   0%|          | 0/754 [00:00<?, ?it/s]"
     ]
    },
    {
     "name": "stdout",
     "output_type": "stream",
     "text": [
      "epoch 21, train loss: 0.259, valid rmspe: 0.185\n",
      "new best:0.18466268479824066\n"
     ]
    },
    {
     "name": "stderr",
     "output_type": "stream",
     "text": [
      "Training: 100%|██████████| 754/754 [00:12<00:00, 58.68it/s]\n",
      "Evaluating: 100%|██████████| 84/84 [00:01<00:00, 58.43it/s]\n",
      "Training:   0%|          | 0/754 [00:00<?, ?it/s]"
     ]
    },
    {
     "name": "stdout",
     "output_type": "stream",
     "text": [
      "epoch 22, train loss: 0.247, valid rmspe: 0.195\n"
     ]
    },
    {
     "name": "stderr",
     "output_type": "stream",
     "text": [
      "Training: 100%|██████████| 754/754 [00:12<00:00, 60.27it/s]\n",
      "Evaluating: 100%|██████████| 84/84 [00:01<00:00, 58.31it/s]\n",
      "Training:   0%|          | 0/754 [00:00<?, ?it/s]"
     ]
    },
    {
     "name": "stdout",
     "output_type": "stream",
     "text": [
      "epoch 23, train loss: 0.229, valid rmspe: 0.203\n"
     ]
    },
    {
     "name": "stderr",
     "output_type": "stream",
     "text": [
      "Training: 100%|██████████| 754/754 [00:12<00:00, 58.72it/s]\n",
      "Evaluating: 100%|██████████| 84/84 [00:01<00:00, 60.85it/s]\n",
      "Training:   0%|          | 0/754 [00:00<?, ?it/s]"
     ]
    },
    {
     "name": "stdout",
     "output_type": "stream",
     "text": [
      "epoch 24, train loss: 0.225, valid rmspe: 0.198\n"
     ]
    },
    {
     "name": "stderr",
     "output_type": "stream",
     "text": [
      "Training: 100%|██████████| 754/754 [00:12<00:00, 61.18it/s]\n",
      "Evaluating: 100%|██████████| 84/84 [00:01<00:00, 60.03it/s]\n",
      "Training:   0%|          | 0/754 [00:00<?, ?it/s]"
     ]
    },
    {
     "name": "stdout",
     "output_type": "stream",
     "text": [
      "epoch 25, train loss: 0.220, valid rmspe: 0.184\n",
      "new best:0.18351253867149353\n"
     ]
    },
    {
     "name": "stderr",
     "output_type": "stream",
     "text": [
      "Training: 100%|██████████| 754/754 [00:12<00:00, 58.58it/s]\n",
      "Evaluating: 100%|██████████| 84/84 [00:01<00:00, 53.23it/s]\n",
      "Training:   0%|          | 0/754 [00:00<?, ?it/s]"
     ]
    },
    {
     "name": "stdout",
     "output_type": "stream",
     "text": [
      "epoch 26, train loss: 0.211, valid rmspe: 0.184\n"
     ]
    },
    {
     "name": "stderr",
     "output_type": "stream",
     "text": [
      "Training: 100%|██████████| 754/754 [00:13<00:00, 57.13it/s]\n",
      "Evaluating: 100%|██████████| 84/84 [00:01<00:00, 48.48it/s]\n",
      "Training:   0%|          | 0/754 [00:00<?, ?it/s]"
     ]
    },
    {
     "name": "stdout",
     "output_type": "stream",
     "text": [
      "epoch 27, train loss: 0.203, valid rmspe: 0.183\n",
      "new best:0.18297065794467926\n"
     ]
    },
    {
     "name": "stderr",
     "output_type": "stream",
     "text": [
      "Training: 100%|██████████| 754/754 [00:17<00:00, 42.26it/s]\n",
      "Evaluating: 100%|██████████| 84/84 [00:01<00:00, 43.68it/s]\n",
      "Training:   0%|          | 0/754 [00:00<?, ?it/s]"
     ]
    },
    {
     "name": "stdout",
     "output_type": "stream",
     "text": [
      "epoch 28, train loss: 0.201, valid rmspe: 0.183\n"
     ]
    },
    {
     "name": "stderr",
     "output_type": "stream",
     "text": [
      "Training: 100%|██████████| 754/754 [00:13<00:00, 57.08it/s]\n",
      "Evaluating: 100%|██████████| 84/84 [00:01<00:00, 61.14it/s]\n"
     ]
    },
    {
     "name": "stdout",
     "output_type": "stream",
     "text": [
      "epoch 29, train loss: 0.200, valid rmspe: 0.183\n",
      "model of seed 8 added.\n"
     ]
    },
    {
     "name": "stderr",
     "output_type": "stream",
     "text": [
      "Training:   0%|          | 0/754 [00:00<?, ?it/s]"
     ]
    },
    {
     "name": "stdout",
     "output_type": "stream",
     "text": [
      "fold 0 train: (386036, 591), valid: (42896, 591)\n"
     ]
    },
    {
     "name": "stderr",
     "output_type": "stream",
     "text": [
      "Training: 100%|██████████| 754/754 [00:12<00:00, 58.72it/s]\n",
      "Evaluating: 100%|██████████| 84/84 [00:01<00:00, 60.67it/s]\n",
      "Training:   0%|          | 0/754 [00:00<?, ?it/s]"
     ]
    },
    {
     "name": "stdout",
     "output_type": "stream",
     "text": [
      "epoch 0, train loss: 25.829, valid rmspe: 11.458\n",
      "new best:11.457991600036621\n"
     ]
    },
    {
     "name": "stderr",
     "output_type": "stream",
     "text": [
      "Training: 100%|██████████| 754/754 [00:12<00:00, 61.60it/s]\n",
      "Evaluating: 100%|██████████| 84/84 [00:01<00:00, 61.31it/s]\n",
      "Training:   0%|          | 0/754 [00:00<?, ?it/s]"
     ]
    },
    {
     "name": "stdout",
     "output_type": "stream",
     "text": [
      "epoch 1, train loss: 6.858, valid rmspe: 5.509\n",
      "new best:5.509047031402588\n"
     ]
    },
    {
     "name": "stderr",
     "output_type": "stream",
     "text": [
      "Training: 100%|██████████| 754/754 [00:13<00:00, 57.12it/s]\n",
      "Evaluating: 100%|██████████| 84/84 [00:01<00:00, 60.59it/s]\n",
      "Training:   0%|          | 0/754 [00:00<?, ?it/s]"
     ]
    },
    {
     "name": "stdout",
     "output_type": "stream",
     "text": [
      "epoch 2, train loss: 4.784, valid rmspe: 1.682\n",
      "new best:1.6817419528961182\n"
     ]
    },
    {
     "name": "stderr",
     "output_type": "stream",
     "text": [
      "Training: 100%|██████████| 754/754 [00:12<00:00, 61.49it/s]\n",
      "Evaluating: 100%|██████████| 84/84 [00:01<00:00, 60.94it/s]\n",
      "Training:   0%|          | 0/754 [00:00<?, ?it/s]"
     ]
    },
    {
     "name": "stdout",
     "output_type": "stream",
     "text": [
      "epoch 3, train loss: 1.827, valid rmspe: 0.294\n",
      "new best:0.2939322590827942\n"
     ]
    },
    {
     "name": "stderr",
     "output_type": "stream",
     "text": [
      "Training: 100%|██████████| 754/754 [00:12<00:00, 61.32it/s]\n",
      "Evaluating: 100%|██████████| 84/84 [00:01<00:00, 52.30it/s]\n",
      "Training:   0%|          | 0/754 [00:00<?, ?it/s]"
     ]
    },
    {
     "name": "stdout",
     "output_type": "stream",
     "text": [
      "epoch 4, train loss: 0.719, valid rmspe: 0.577\n"
     ]
    },
    {
     "name": "stderr",
     "output_type": "stream",
     "text": [
      "Training: 100%|██████████| 754/754 [00:12<00:00, 60.22it/s]\n",
      "Evaluating: 100%|██████████| 84/84 [00:01<00:00, 60.32it/s]\n",
      "Training:   0%|          | 0/754 [00:00<?, ?it/s]"
     ]
    },
    {
     "name": "stdout",
     "output_type": "stream",
     "text": [
      "epoch 5, train loss: 0.570, valid rmspe: 0.474\n"
     ]
    },
    {
     "name": "stderr",
     "output_type": "stream",
     "text": [
      "Training: 100%|██████████| 754/754 [00:12<00:00, 59.88it/s]\n",
      "Evaluating: 100%|██████████| 84/84 [00:01<00:00, 60.14it/s]\n",
      "Training:   0%|          | 0/754 [00:00<?, ?it/s]"
     ]
    },
    {
     "name": "stdout",
     "output_type": "stream",
     "text": [
      "epoch 6, train loss: 0.525, valid rmspe: 1.073\n"
     ]
    },
    {
     "name": "stderr",
     "output_type": "stream",
     "text": [
      "Training: 100%|██████████| 754/754 [00:17<00:00, 43.10it/s]\n",
      "Evaluating: 100%|██████████| 84/84 [00:01<00:00, 47.64it/s]\n",
      "Training:   0%|          | 0/754 [00:00<?, ?it/s]"
     ]
    },
    {
     "name": "stdout",
     "output_type": "stream",
     "text": [
      "epoch 7, train loss: 0.510, valid rmspe: 0.199\n",
      "new best:0.1992027759552002\n"
     ]
    },
    {
     "name": "stderr",
     "output_type": "stream",
     "text": [
      "Training: 100%|██████████| 754/754 [00:15<00:00, 48.43it/s]\n",
      "Evaluating: 100%|██████████| 84/84 [00:01<00:00, 60.41it/s]\n",
      "Training:   0%|          | 0/754 [00:00<?, ?it/s]"
     ]
    },
    {
     "name": "stdout",
     "output_type": "stream",
     "text": [
      "epoch 8, train loss: 0.492, valid rmspe: 0.287\n"
     ]
    },
    {
     "name": "stderr",
     "output_type": "stream",
     "text": [
      "Training: 100%|██████████| 754/754 [00:12<00:00, 58.97it/s]\n",
      "Evaluating: 100%|██████████| 84/84 [00:01<00:00, 59.60it/s]\n",
      "Training:   0%|          | 0/754 [00:00<?, ?it/s]"
     ]
    },
    {
     "name": "stdout",
     "output_type": "stream",
     "text": [
      "epoch 9, train loss: 0.382, valid rmspe: 0.210\n"
     ]
    },
    {
     "name": "stderr",
     "output_type": "stream",
     "text": [
      "Training: 100%|██████████| 754/754 [00:12<00:00, 61.39it/s]\n",
      "Evaluating: 100%|██████████| 84/84 [00:01<00:00, 51.52it/s]\n",
      "Training:   0%|          | 0/754 [00:00<?, ?it/s]"
     ]
    },
    {
     "name": "stdout",
     "output_type": "stream",
     "text": [
      "epoch 10, train loss: 0.383, valid rmspe: 0.413\n"
     ]
    },
    {
     "name": "stderr",
     "output_type": "stream",
     "text": [
      "Training: 100%|██████████| 754/754 [00:12<00:00, 59.03it/s]\n",
      "Evaluating: 100%|██████████| 84/84 [00:01<00:00, 59.91it/s]\n",
      "Training:   0%|          | 0/754 [00:00<?, ?it/s]"
     ]
    },
    {
     "name": "stdout",
     "output_type": "stream",
     "text": [
      "epoch 11, train loss: 0.340, valid rmspe: 0.270\n"
     ]
    },
    {
     "name": "stderr",
     "output_type": "stream",
     "text": [
      "Training: 100%|██████████| 754/754 [00:12<00:00, 60.89it/s]\n",
      "Evaluating: 100%|██████████| 84/84 [00:01<00:00, 60.95it/s]\n",
      "Training:   0%|          | 0/754 [00:00<?, ?it/s]"
     ]
    },
    {
     "name": "stdout",
     "output_type": "stream",
     "text": [
      "epoch 12, train loss: 0.314, valid rmspe: 0.212\n"
     ]
    },
    {
     "name": "stderr",
     "output_type": "stream",
     "text": [
      "Training: 100%|██████████| 754/754 [00:12<00:00, 58.43it/s]\n",
      "Evaluating: 100%|██████████| 84/84 [00:01<00:00, 60.65it/s]\n",
      "Training:   0%|          | 0/754 [00:00<?, ?it/s]"
     ]
    },
    {
     "name": "stdout",
     "output_type": "stream",
     "text": [
      "epoch 13, train loss: 0.330, valid rmspe: 0.320\n"
     ]
    },
    {
     "name": "stderr",
     "output_type": "stream",
     "text": [
      "Training: 100%|██████████| 754/754 [00:12<00:00, 59.93it/s]\n",
      "Evaluating: 100%|██████████| 84/84 [00:01<00:00, 60.11it/s]\n",
      "Training:   0%|          | 0/754 [00:00<?, ?it/s]"
     ]
    },
    {
     "name": "stdout",
     "output_type": "stream",
     "text": [
      "epoch 14, train loss: 0.365, valid rmspe: 0.373\n"
     ]
    },
    {
     "name": "stderr",
     "output_type": "stream",
     "text": [
      "Training: 100%|██████████| 754/754 [00:12<00:00, 61.59it/s]\n",
      "Evaluating: 100%|██████████| 84/84 [00:01<00:00, 45.06it/s]\n",
      "Training:   0%|          | 0/754 [00:00<?, ?it/s]"
     ]
    },
    {
     "name": "stdout",
     "output_type": "stream",
     "text": [
      "epoch 15, train loss: 0.339, valid rmspe: 0.239\n"
     ]
    },
    {
     "name": "stderr",
     "output_type": "stream",
     "text": [
      "Training: 100%|██████████| 754/754 [00:12<00:00, 60.94it/s]\n",
      "Evaluating: 100%|██████████| 84/84 [00:01<00:00, 52.54it/s]\n",
      "Training:   0%|          | 0/754 [00:00<?, ?it/s]"
     ]
    },
    {
     "name": "stdout",
     "output_type": "stream",
     "text": [
      "epoch 16, train loss: 0.304, valid rmspe: 0.189\n",
      "new best:0.18938685953617096\n"
     ]
    },
    {
     "name": "stderr",
     "output_type": "stream",
     "text": [
      "Training: 100%|██████████| 754/754 [00:17<00:00, 43.60it/s]\n",
      "Evaluating: 100%|██████████| 84/84 [00:02<00:00, 37.16it/s]\n",
      "Training:   0%|          | 0/754 [00:00<?, ?it/s]"
     ]
    },
    {
     "name": "stdout",
     "output_type": "stream",
     "text": [
      "epoch 17, train loss: 0.279, valid rmspe: 0.184\n",
      "new best:0.18415793776512146\n"
     ]
    },
    {
     "name": "stderr",
     "output_type": "stream",
     "text": [
      "Training: 100%|██████████| 754/754 [00:15<00:00, 49.33it/s]\n",
      "Evaluating: 100%|██████████| 84/84 [00:01<00:00, 52.21it/s]\n",
      "Training:   0%|          | 0/754 [00:00<?, ?it/s]"
     ]
    },
    {
     "name": "stdout",
     "output_type": "stream",
     "text": [
      "epoch 18, train loss: 0.275, valid rmspe: 0.190\n"
     ]
    },
    {
     "name": "stderr",
     "output_type": "stream",
     "text": [
      "Training: 100%|██████████| 754/754 [00:12<00:00, 61.31it/s]\n",
      "Evaluating: 100%|██████████| 84/84 [00:01<00:00, 43.75it/s]\n",
      "Training:   0%|          | 0/754 [00:00<?, ?it/s]"
     ]
    },
    {
     "name": "stdout",
     "output_type": "stream",
     "text": [
      "epoch 19, train loss: 0.258, valid rmspe: 0.187\n"
     ]
    },
    {
     "name": "stderr",
     "output_type": "stream",
     "text": [
      "Training: 100%|██████████| 754/754 [00:12<00:00, 61.49it/s]\n",
      "Evaluating: 100%|██████████| 84/84 [00:01<00:00, 60.81it/s]\n",
      "Training:   0%|          | 0/754 [00:00<?, ?it/s]"
     ]
    },
    {
     "name": "stdout",
     "output_type": "stream",
     "text": [
      "epoch 20, train loss: 0.248, valid rmspe: 0.185\n"
     ]
    },
    {
     "name": "stderr",
     "output_type": "stream",
     "text": [
      "Training: 100%|██████████| 754/754 [00:12<00:00, 60.95it/s]\n",
      "Evaluating: 100%|██████████| 84/84 [00:01<00:00, 60.85it/s]\n",
      "Training:   0%|          | 0/754 [00:00<?, ?it/s]"
     ]
    },
    {
     "name": "stdout",
     "output_type": "stream",
     "text": [
      "epoch 21, train loss: 0.236, valid rmspe: 0.187\n"
     ]
    },
    {
     "name": "stderr",
     "output_type": "stream",
     "text": [
      "Training: 100%|██████████| 754/754 [00:13<00:00, 57.86it/s]\n",
      "Evaluating: 100%|██████████| 84/84 [00:01<00:00, 58.45it/s]\n",
      "Training:   0%|          | 0/754 [00:00<?, ?it/s]"
     ]
    },
    {
     "name": "stdout",
     "output_type": "stream",
     "text": [
      "epoch 22, train loss: 0.224, valid rmspe: 0.188\n"
     ]
    },
    {
     "name": "stderr",
     "output_type": "stream",
     "text": [
      "Training: 100%|██████████| 754/754 [00:12<00:00, 60.77it/s]\n",
      "Evaluating: 100%|██████████| 84/84 [00:01<00:00, 60.16it/s]\n",
      "Training:   0%|          | 0/754 [00:00<?, ?it/s]"
     ]
    },
    {
     "name": "stdout",
     "output_type": "stream",
     "text": [
      "epoch 23, train loss: 0.223, valid rmspe: 0.189\n"
     ]
    },
    {
     "name": "stderr",
     "output_type": "stream",
     "text": [
      "Training: 100%|██████████| 754/754 [00:12<00:00, 58.12it/s]\n",
      "Evaluating: 100%|██████████| 84/84 [00:01<00:00, 59.88it/s]\n",
      "Training:   0%|          | 0/754 [00:00<?, ?it/s]"
     ]
    },
    {
     "name": "stdout",
     "output_type": "stream",
     "text": [
      "epoch 24, train loss: 0.215, valid rmspe: 0.183\n",
      "new best:0.18332572281360626\n"
     ]
    },
    {
     "name": "stderr",
     "output_type": "stream",
     "text": [
      "Training: 100%|██████████| 754/754 [00:12<00:00, 61.18it/s]\n",
      "Evaluating: 100%|██████████| 84/84 [00:01<00:00, 60.91it/s]\n",
      "Training:   0%|          | 0/754 [00:00<?, ?it/s]"
     ]
    },
    {
     "name": "stdout",
     "output_type": "stream",
     "text": [
      "epoch 25, train loss: 0.207, valid rmspe: 0.189\n"
     ]
    },
    {
     "name": "stderr",
     "output_type": "stream",
     "text": [
      "Training: 100%|██████████| 754/754 [00:13<00:00, 56.14it/s]\n",
      "Evaluating: 100%|██████████| 84/84 [00:01<00:00, 59.87it/s]\n",
      "Training:   0%|          | 0/754 [00:00<?, ?it/s]"
     ]
    },
    {
     "name": "stdout",
     "output_type": "stream",
     "text": [
      "epoch 26, train loss: 0.204, valid rmspe: 0.185\n"
     ]
    },
    {
     "name": "stderr",
     "output_type": "stream",
     "text": [
      "Training: 100%|██████████| 754/754 [00:12<00:00, 61.40it/s]\n",
      "Evaluating: 100%|██████████| 84/84 [00:01<00:00, 60.97it/s]\n",
      "Training:   0%|          | 0/754 [00:00<?, ?it/s]"
     ]
    },
    {
     "name": "stdout",
     "output_type": "stream",
     "text": [
      "epoch 27, train loss: 0.201, valid rmspe: 0.183\n",
      "new best:0.18257185816764832\n"
     ]
    },
    {
     "name": "stderr",
     "output_type": "stream",
     "text": [
      "Training: 100%|██████████| 754/754 [00:12<00:00, 61.30it/s]\n",
      "Evaluating: 100%|██████████| 84/84 [00:01<00:00, 60.32it/s]\n",
      "Training:   0%|          | 0/754 [00:00<?, ?it/s]"
     ]
    },
    {
     "name": "stdout",
     "output_type": "stream",
     "text": [
      "epoch 28, train loss: 0.198, valid rmspe: 0.182\n",
      "new best:0.1824578046798706\n"
     ]
    },
    {
     "name": "stderr",
     "output_type": "stream",
     "text": [
      "Training: 100%|██████████| 754/754 [00:12<00:00, 58.64it/s]\n",
      "Evaluating: 100%|██████████| 84/84 [00:01<00:00, 50.50it/s]\n"
     ]
    },
    {
     "name": "stdout",
     "output_type": "stream",
     "text": [
      "epoch 29, train loss: 0.197, valid rmspe: 0.183\n",
      "model of seed 9 added.\n",
      "scores(sorted): [0.1817231, 0.18204564, 0.18223119, 0.18239477, 0.1824578, 0.18260832, 0.18294598, 0.18297066, 0.18322349, 0.18358463]\n",
      "total 3 models will be used.\n"
     ]
    },
    {
     "name": "stderr",
     "output_type": "stream",
     "text": [
      "Training:   0%|          | 0/302 [00:00<?, ?it/s]"
     ]
    },
    {
     "name": "stdout",
     "output_type": "stream",
     "text": [
      "fold 0 train: (386036, 591), valid: (42896, 591)\n"
     ]
    },
    {
     "name": "stderr",
     "output_type": "stream",
     "text": [
      "Training: 100%|██████████| 302/302 [00:13<00:00, 22.36it/s]\n",
      "Evaluating: 100%|██████████| 34/34 [00:01<00:00, 25.78it/s]\n",
      "Training:   0%|          | 0/302 [00:00<?, ?it/s]"
     ]
    },
    {
     "name": "stdout",
     "output_type": "stream",
     "text": [
      "epoch 0, train loss: 36.847, valid rmspe: 13.479\n",
      "new best:13.479052543640137\n"
     ]
    },
    {
     "name": "stderr",
     "output_type": "stream",
     "text": [
      "Training: 100%|██████████| 302/302 [00:12<00:00, 23.88it/s]\n",
      "Evaluating: 100%|██████████| 34/34 [00:01<00:00, 25.65it/s]\n",
      "Training:   0%|          | 0/302 [00:00<?, ?it/s]"
     ]
    },
    {
     "name": "stdout",
     "output_type": "stream",
     "text": [
      "epoch 1, train loss: 6.999, valid rmspe: 11.602\n",
      "new best:11.602226257324219\n"
     ]
    },
    {
     "name": "stderr",
     "output_type": "stream",
     "text": [
      "Training: 100%|██████████| 302/302 [00:12<00:00, 23.58it/s]\n",
      "Evaluating: 100%|██████████| 34/34 [00:01<00:00, 25.90it/s]\n",
      "Training:   0%|          | 0/302 [00:00<?, ?it/s]"
     ]
    },
    {
     "name": "stdout",
     "output_type": "stream",
     "text": [
      "epoch 2, train loss: 6.338, valid rmspe: 3.183\n",
      "new best:3.1833648681640625\n"
     ]
    },
    {
     "name": "stderr",
     "output_type": "stream",
     "text": [
      "Training: 100%|██████████| 302/302 [00:13<00:00, 22.73it/s]\n",
      "Evaluating: 100%|██████████| 34/34 [00:01<00:00, 25.46it/s]\n",
      "Training:   0%|          | 0/302 [00:00<?, ?it/s]"
     ]
    },
    {
     "name": "stdout",
     "output_type": "stream",
     "text": [
      "epoch 3, train loss: 4.711, valid rmspe: 5.562\n"
     ]
    },
    {
     "name": "stderr",
     "output_type": "stream",
     "text": [
      "Training: 100%|██████████| 302/302 [00:12<00:00, 23.89it/s]\n",
      "Evaluating: 100%|██████████| 34/34 [00:01<00:00, 21.78it/s]\n",
      "Training:   0%|          | 0/302 [00:00<?, ?it/s]"
     ]
    },
    {
     "name": "stdout",
     "output_type": "stream",
     "text": [
      "epoch 4, train loss: 4.004, valid rmspe: 3.696\n"
     ]
    },
    {
     "name": "stderr",
     "output_type": "stream",
     "text": [
      "Training: 100%|██████████| 302/302 [00:17<00:00, 17.23it/s]\n",
      "Evaluating: 100%|██████████| 34/34 [00:01<00:00, 19.94it/s]\n",
      "Training:   0%|          | 0/302 [00:00<?, ?it/s]"
     ]
    },
    {
     "name": "stdout",
     "output_type": "stream",
     "text": [
      "epoch 5, train loss: 2.540, valid rmspe: 5.343\n"
     ]
    },
    {
     "name": "stderr",
     "output_type": "stream",
     "text": [
      "Training: 100%|██████████| 302/302 [00:15<00:00, 18.96it/s]\n",
      "Evaluating: 100%|██████████| 34/34 [00:01<00:00, 23.29it/s]\n",
      "Training:   0%|          | 0/302 [00:00<?, ?it/s]"
     ]
    },
    {
     "name": "stdout",
     "output_type": "stream",
     "text": [
      "epoch 6, train loss: 2.675, valid rmspe: 1.612\n",
      "new best:1.6116986274719238\n"
     ]
    },
    {
     "name": "stderr",
     "output_type": "stream",
     "text": [
      "Training: 100%|██████████| 302/302 [00:13<00:00, 22.29it/s]\n",
      "Evaluating: 100%|██████████| 34/34 [00:01<00:00, 24.98it/s]\n",
      "Training:   0%|          | 0/302 [00:00<?, ?it/s]"
     ]
    },
    {
     "name": "stdout",
     "output_type": "stream",
     "text": [
      "epoch 7, train loss: 1.750, valid rmspe: 0.838\n",
      "new best:0.8377463817596436\n"
     ]
    },
    {
     "name": "stderr",
     "output_type": "stream",
     "text": [
      "Training: 100%|██████████| 302/302 [00:12<00:00, 23.79it/s]\n",
      "Evaluating: 100%|██████████| 34/34 [00:01<00:00, 25.81it/s]\n",
      "Training:   0%|          | 0/302 [00:00<?, ?it/s]"
     ]
    },
    {
     "name": "stdout",
     "output_type": "stream",
     "text": [
      "epoch 8, train loss: 2.455, valid rmspe: 0.642\n",
      "new best:0.6421473622322083\n"
     ]
    },
    {
     "name": "stderr",
     "output_type": "stream",
     "text": [
      "Training: 100%|██████████| 302/302 [00:13<00:00, 22.85it/s]\n",
      "Evaluating: 100%|██████████| 34/34 [00:01<00:00, 25.54it/s]\n",
      "Training:   0%|          | 0/302 [00:00<?, ?it/s]"
     ]
    },
    {
     "name": "stdout",
     "output_type": "stream",
     "text": [
      "epoch 9, train loss: 1.853, valid rmspe: 1.397\n"
     ]
    },
    {
     "name": "stderr",
     "output_type": "stream",
     "text": [
      "Training: 100%|██████████| 302/302 [00:12<00:00, 23.63it/s]\n",
      "Evaluating: 100%|██████████| 34/34 [00:01<00:00, 21.52it/s]\n",
      "Training:   0%|          | 0/302 [00:00<?, ?it/s]"
     ]
    },
    {
     "name": "stdout",
     "output_type": "stream",
     "text": [
      "epoch 10, train loss: 1.457, valid rmspe: 1.241\n"
     ]
    },
    {
     "name": "stderr",
     "output_type": "stream",
     "text": [
      "Training: 100%|██████████| 302/302 [00:13<00:00, 22.93it/s]\n",
      "Evaluating: 100%|██████████| 34/34 [00:01<00:00, 25.95it/s]\n",
      "Training:   0%|          | 0/302 [00:00<?, ?it/s]"
     ]
    },
    {
     "name": "stdout",
     "output_type": "stream",
     "text": [
      "epoch 11, train loss: 1.112, valid rmspe: 1.306\n"
     ]
    },
    {
     "name": "stderr",
     "output_type": "stream",
     "text": [
      "Training: 100%|██████████| 302/302 [00:12<00:00, 23.89it/s]\n",
      "Evaluating: 100%|██████████| 34/34 [00:01<00:00, 25.66it/s]\n",
      "Training:   0%|          | 0/302 [00:00<?, ?it/s]"
     ]
    },
    {
     "name": "stdout",
     "output_type": "stream",
     "text": [
      "epoch 12, train loss: 0.893, valid rmspe: 0.860\n"
     ]
    },
    {
     "name": "stderr",
     "output_type": "stream",
     "text": [
      "Training: 100%|██████████| 302/302 [00:12<00:00, 23.91it/s]\n",
      "Evaluating: 100%|██████████| 34/34 [00:01<00:00, 24.38it/s]\n",
      "Training:   0%|          | 0/302 [00:00<?, ?it/s]"
     ]
    },
    {
     "name": "stdout",
     "output_type": "stream",
     "text": [
      "epoch 13, train loss: 1.165, valid rmspe: 8.129\n"
     ]
    },
    {
     "name": "stderr",
     "output_type": "stream",
     "text": [
      "Training: 100%|██████████| 302/302 [00:13<00:00, 22.54it/s]\n",
      "Evaluating: 100%|██████████| 34/34 [00:01<00:00, 25.70it/s]\n",
      "Training:   0%|          | 0/302 [00:00<?, ?it/s]"
     ]
    },
    {
     "name": "stdout",
     "output_type": "stream",
     "text": [
      "epoch 14, train loss: 0.836, valid rmspe: 1.082\n"
     ]
    },
    {
     "name": "stderr",
     "output_type": "stream",
     "text": [
      "Training: 100%|██████████| 302/302 [00:12<00:00, 23.76it/s]\n",
      "Evaluating: 100%|██████████| 34/34 [00:01<00:00, 25.61it/s]\n",
      "Training:   0%|          | 0/302 [00:00<?, ?it/s]"
     ]
    },
    {
     "name": "stdout",
     "output_type": "stream",
     "text": [
      "epoch 15, train loss: 0.799, valid rmspe: 0.527\n",
      "new best:0.5268535614013672\n"
     ]
    },
    {
     "name": "stderr",
     "output_type": "stream",
     "text": [
      "Training: 100%|██████████| 302/302 [00:13<00:00, 22.78it/s]\n",
      "Evaluating: 100%|██████████| 34/34 [00:01<00:00, 25.92it/s]\n",
      "Training:   0%|          | 0/302 [00:00<?, ?it/s]"
     ]
    },
    {
     "name": "stdout",
     "output_type": "stream",
     "text": [
      "epoch 16, train loss: 0.686, valid rmspe: 0.525\n",
      "new best:0.5245238542556763\n"
     ]
    },
    {
     "name": "stderr",
     "output_type": "stream",
     "text": [
      "Training: 100%|██████████| 302/302 [00:12<00:00, 23.26it/s]\n",
      "Evaluating: 100%|██████████| 34/34 [00:01<00:00, 23.33it/s]\n",
      "Training:   0%|          | 0/302 [00:00<?, ?it/s]"
     ]
    },
    {
     "name": "stdout",
     "output_type": "stream",
     "text": [
      "epoch 17, train loss: 0.619, valid rmspe: 0.419\n",
      "new best:0.41871848702430725\n"
     ]
    },
    {
     "name": "stderr",
     "output_type": "stream",
     "text": [
      "Training: 100%|██████████| 302/302 [00:13<00:00, 22.72it/s]\n",
      "Evaluating: 100%|██████████| 34/34 [00:01<00:00, 25.60it/s]\n",
      "Training:   0%|          | 0/302 [00:00<?, ?it/s]"
     ]
    },
    {
     "name": "stdout",
     "output_type": "stream",
     "text": [
      "epoch 18, train loss: 0.755, valid rmspe: 1.512\n"
     ]
    },
    {
     "name": "stderr",
     "output_type": "stream",
     "text": [
      "Training: 100%|██████████| 302/302 [00:12<00:00, 23.84it/s]\n",
      "Evaluating: 100%|██████████| 34/34 [00:01<00:00, 25.66it/s]\n",
      "Training:   0%|          | 0/302 [00:00<?, ?it/s]"
     ]
    },
    {
     "name": "stdout",
     "output_type": "stream",
     "text": [
      "epoch 19, train loss: 0.670, valid rmspe: 0.285\n",
      "new best:0.2850245237350464\n"
     ]
    },
    {
     "name": "stderr",
     "output_type": "stream",
     "text": [
      "Training: 100%|██████████| 302/302 [00:12<00:00, 23.39it/s]\n",
      "Evaluating: 100%|██████████| 34/34 [00:01<00:00, 17.83it/s]\n",
      "Training:   0%|          | 0/302 [00:00<?, ?it/s]"
     ]
    },
    {
     "name": "stdout",
     "output_type": "stream",
     "text": [
      "epoch 20, train loss: 0.515, valid rmspe: 0.580\n"
     ]
    },
    {
     "name": "stderr",
     "output_type": "stream",
     "text": [
      "Training: 100%|██████████| 302/302 [00:13<00:00, 23.18it/s]\n",
      "Evaluating: 100%|██████████| 34/34 [00:01<00:00, 25.77it/s]\n",
      "Training:   0%|          | 0/302 [00:00<?, ?it/s]"
     ]
    },
    {
     "name": "stdout",
     "output_type": "stream",
     "text": [
      "epoch 21, train loss: 0.461, valid rmspe: 0.290\n"
     ]
    },
    {
     "name": "stderr",
     "output_type": "stream",
     "text": [
      "Training: 100%|██████████| 302/302 [00:12<00:00, 24.00it/s]\n",
      "Evaluating: 100%|██████████| 34/34 [00:01<00:00, 24.97it/s]\n",
      "Training:   0%|          | 0/302 [00:00<?, ?it/s]"
     ]
    },
    {
     "name": "stdout",
     "output_type": "stream",
     "text": [
      "epoch 22, train loss: 0.569, valid rmspe: 0.696\n"
     ]
    },
    {
     "name": "stderr",
     "output_type": "stream",
     "text": [
      "Training: 100%|██████████| 302/302 [00:15<00:00, 19.17it/s]\n",
      "Evaluating: 100%|██████████| 34/34 [00:01<00:00, 21.11it/s]\n",
      "Training:   0%|          | 0/302 [00:00<?, ?it/s]"
     ]
    },
    {
     "name": "stdout",
     "output_type": "stream",
     "text": [
      "epoch 23, train loss: 0.532, valid rmspe: 0.288\n"
     ]
    },
    {
     "name": "stderr",
     "output_type": "stream",
     "text": [
      "Training: 100%|██████████| 302/302 [00:16<00:00, 17.82it/s]\n",
      "Evaluating: 100%|██████████| 34/34 [00:02<00:00, 14.19it/s]\n",
      "Training:   0%|          | 0/302 [00:00<?, ?it/s]"
     ]
    },
    {
     "name": "stdout",
     "output_type": "stream",
     "text": [
      "epoch 24, train loss: 0.623, valid rmspe: 0.383\n"
     ]
    },
    {
     "name": "stderr",
     "output_type": "stream",
     "text": [
      "Training: 100%|██████████| 302/302 [00:13<00:00, 21.85it/s]\n",
      "Evaluating: 100%|██████████| 34/34 [00:01<00:00, 25.33it/s]\n",
      "Training:   0%|          | 0/302 [00:00<?, ?it/s]"
     ]
    },
    {
     "name": "stdout",
     "output_type": "stream",
     "text": [
      "epoch 25, train loss: 0.498, valid rmspe: 0.327\n"
     ]
    },
    {
     "name": "stderr",
     "output_type": "stream",
     "text": [
      "Training: 100%|██████████| 302/302 [00:12<00:00, 23.68it/s]\n",
      "Evaluating: 100%|██████████| 34/34 [00:01<00:00, 25.88it/s]\n",
      "Training:   0%|          | 0/302 [00:00<?, ?it/s]"
     ]
    },
    {
     "name": "stdout",
     "output_type": "stream",
     "text": [
      "epoch 26, train loss: 0.636, valid rmspe: 0.392\n"
     ]
    },
    {
     "name": "stderr",
     "output_type": "stream",
     "text": [
      "Training: 100%|██████████| 302/302 [00:13<00:00, 22.72it/s]\n",
      "Evaluating: 100%|██████████| 34/34 [00:01<00:00, 20.84it/s]\n",
      "Training:   0%|          | 0/302 [00:00<?, ?it/s]"
     ]
    },
    {
     "name": "stdout",
     "output_type": "stream",
     "text": [
      "epoch 27, train loss: 0.493, valid rmspe: 0.376\n"
     ]
    },
    {
     "name": "stderr",
     "output_type": "stream",
     "text": [
      "Training: 100%|██████████| 302/302 [00:12<00:00, 23.64it/s]\n",
      "Evaluating: 100%|██████████| 34/34 [00:01<00:00, 25.67it/s]\n",
      "Training:   0%|          | 0/302 [00:00<?, ?it/s]"
     ]
    },
    {
     "name": "stdout",
     "output_type": "stream",
     "text": [
      "epoch 28, train loss: 0.426, valid rmspe: 0.486\n",
      "Epoch    29: reducing learning rate of group 0 to 1.1400e-04.\n"
     ]
    },
    {
     "name": "stderr",
     "output_type": "stream",
     "text": [
      "Training: 100%|██████████| 302/302 [00:13<00:00, 22.82it/s]\n",
      "Evaluating: 100%|██████████| 34/34 [00:01<00:00, 25.73it/s]\n",
      "Training:   0%|          | 0/302 [00:00<?, ?it/s]"
     ]
    },
    {
     "name": "stdout",
     "output_type": "stream",
     "text": [
      "epoch 29, train loss: 0.289, valid rmspe: 0.250\n",
      "new best:0.25037774443626404\n"
     ]
    },
    {
     "name": "stderr",
     "output_type": "stream",
     "text": [
      "Training: 100%|██████████| 302/302 [00:12<00:00, 23.75it/s]\n",
      "Evaluating: 100%|██████████| 34/34 [00:01<00:00, 25.18it/s]\n",
      "Training:   0%|          | 0/302 [00:00<?, ?it/s]"
     ]
    },
    {
     "name": "stdout",
     "output_type": "stream",
     "text": [
      "epoch 30, train loss: 0.227, valid rmspe: 0.199\n",
      "new best:0.19857917726039886\n"
     ]
    },
    {
     "name": "stderr",
     "output_type": "stream",
     "text": [
      "Training: 100%|██████████| 302/302 [00:13<00:00, 22.10it/s]\n",
      "Evaluating: 100%|██████████| 34/34 [00:01<00:00, 25.57it/s]\n",
      "Training:   0%|          | 0/302 [00:00<?, ?it/s]"
     ]
    },
    {
     "name": "stdout",
     "output_type": "stream",
     "text": [
      "epoch 31, train loss: 0.271, valid rmspe: 0.251\n"
     ]
    },
    {
     "name": "stderr",
     "output_type": "stream",
     "text": [
      "Training: 100%|██████████| 302/302 [00:12<00:00, 23.77it/s]\n",
      "Evaluating: 100%|██████████| 34/34 [00:01<00:00, 25.80it/s]\n",
      "Training:   0%|          | 0/302 [00:00<?, ?it/s]"
     ]
    },
    {
     "name": "stdout",
     "output_type": "stream",
     "text": [
      "epoch 32, train loss: 0.246, valid rmspe: 0.190\n",
      "new best:0.1901816576719284\n"
     ]
    },
    {
     "name": "stderr",
     "output_type": "stream",
     "text": [
      "Training: 100%|██████████| 302/302 [00:12<00:00, 23.74it/s]\n",
      "Evaluating: 100%|██████████| 34/34 [00:01<00:00, 25.72it/s]\n",
      "Training:   0%|          | 0/302 [00:00<?, ?it/s]"
     ]
    },
    {
     "name": "stdout",
     "output_type": "stream",
     "text": [
      "epoch 33, train loss: 0.258, valid rmspe: 0.191\n"
     ]
    },
    {
     "name": "stderr",
     "output_type": "stream",
     "text": [
      "Training: 100%|██████████| 302/302 [00:13<00:00, 22.32it/s]\n",
      "Evaluating: 100%|██████████| 34/34 [00:01<00:00, 25.06it/s]\n",
      "Training:   0%|          | 0/302 [00:00<?, ?it/s]"
     ]
    },
    {
     "name": "stdout",
     "output_type": "stream",
     "text": [
      "epoch 34, train loss: 0.239, valid rmspe: 0.186\n",
      "new best:0.18596062064170837\n"
     ]
    },
    {
     "name": "stderr",
     "output_type": "stream",
     "text": [
      "Training: 100%|██████████| 302/302 [00:12<00:00, 23.81it/s]\n",
      "Evaluating: 100%|██████████| 34/34 [00:01<00:00, 25.89it/s]\n",
      "Training:   0%|          | 0/302 [00:00<?, ?it/s]"
     ]
    },
    {
     "name": "stdout",
     "output_type": "stream",
     "text": [
      "epoch 35, train loss: 0.223, valid rmspe: 0.244\n"
     ]
    },
    {
     "name": "stderr",
     "output_type": "stream",
     "text": [
      "Training: 100%|██████████| 302/302 [00:13<00:00, 22.84it/s]\n",
      "Evaluating: 100%|██████████| 34/34 [00:01<00:00, 25.16it/s]\n",
      "Training:   0%|          | 0/302 [00:00<?, ?it/s]"
     ]
    },
    {
     "name": "stdout",
     "output_type": "stream",
     "text": [
      "epoch 36, train loss: 0.286, valid rmspe: 0.193\n"
     ]
    },
    {
     "name": "stderr",
     "output_type": "stream",
     "text": [
      "Training: 100%|██████████| 302/302 [00:12<00:00, 23.31it/s]\n",
      "Evaluating: 100%|██████████| 34/34 [00:01<00:00, 24.34it/s]\n",
      "Training:   0%|          | 0/302 [00:00<?, ?it/s]"
     ]
    },
    {
     "name": "stdout",
     "output_type": "stream",
     "text": [
      "epoch 37, train loss: 0.243, valid rmspe: 0.194\n"
     ]
    },
    {
     "name": "stderr",
     "output_type": "stream",
     "text": [
      "Training: 100%|██████████| 302/302 [00:13<00:00, 22.85it/s]\n",
      "Evaluating: 100%|██████████| 34/34 [00:01<00:00, 25.83it/s]\n",
      "Training:   0%|          | 0/302 [00:00<?, ?it/s]"
     ]
    },
    {
     "name": "stdout",
     "output_type": "stream",
     "text": [
      "epoch 38, train loss: 0.241, valid rmspe: 0.193\n"
     ]
    },
    {
     "name": "stderr",
     "output_type": "stream",
     "text": [
      "Training: 100%|██████████| 302/302 [00:12<00:00, 23.67it/s]\n",
      "Evaluating: 100%|██████████| 34/34 [00:01<00:00, 25.91it/s]\n",
      "Training:   0%|          | 0/302 [00:00<?, ?it/s]"
     ]
    },
    {
     "name": "stdout",
     "output_type": "stream",
     "text": [
      "epoch 39, train loss: 0.262, valid rmspe: 0.193\n"
     ]
    },
    {
     "name": "stderr",
     "output_type": "stream",
     "text": [
      "Training: 100%|██████████| 302/302 [00:13<00:00, 22.66it/s]\n",
      "Evaluating: 100%|██████████| 34/34 [00:01<00:00, 18.25it/s]\n",
      "Training:   0%|          | 0/302 [00:00<?, ?it/s]"
     ]
    },
    {
     "name": "stdout",
     "output_type": "stream",
     "text": [
      "epoch 40, train loss: 0.250, valid rmspe: 0.187\n"
     ]
    },
    {
     "name": "stderr",
     "output_type": "stream",
     "text": [
      "Training: 100%|██████████| 302/302 [00:12<00:00, 23.60it/s]\n",
      "Evaluating: 100%|██████████| 34/34 [00:01<00:00, 19.56it/s]\n",
      "Training:   0%|          | 0/302 [00:00<?, ?it/s]"
     ]
    },
    {
     "name": "stdout",
     "output_type": "stream",
     "text": [
      "epoch 41, train loss: 0.220, valid rmspe: 0.201\n"
     ]
    },
    {
     "name": "stderr",
     "output_type": "stream",
     "text": [
      "Training: 100%|██████████| 302/302 [00:16<00:00, 17.90it/s]\n",
      "Evaluating: 100%|██████████| 34/34 [00:02<00:00, 15.52it/s]\n",
      "Training:   0%|          | 0/302 [00:00<?, ?it/s]"
     ]
    },
    {
     "name": "stdout",
     "output_type": "stream",
     "text": [
      "epoch 42, train loss: 0.255, valid rmspe: 0.202\n"
     ]
    },
    {
     "name": "stderr",
     "output_type": "stream",
     "text": [
      "Training: 100%|██████████| 302/302 [00:16<00:00, 18.43it/s]\n",
      "Evaluating: 100%|██████████| 34/34 [00:01<00:00, 23.89it/s]\n",
      "Training:   0%|          | 0/302 [00:00<?, ?it/s]"
     ]
    },
    {
     "name": "stdout",
     "output_type": "stream",
     "text": [
      "epoch 43, train loss: 0.250, valid rmspe: 0.212\n",
      "Epoch    44: reducing learning rate of group 0 to 3.4200e-05.\n"
     ]
    },
    {
     "name": "stderr",
     "output_type": "stream",
     "text": [
      "Training: 100%|██████████| 302/302 [00:13<00:00, 22.79it/s]\n",
      "Evaluating: 100%|██████████| 34/34 [00:01<00:00, 20.05it/s]\n",
      "Training:   0%|          | 0/302 [00:00<?, ?it/s]"
     ]
    },
    {
     "name": "stdout",
     "output_type": "stream",
     "text": [
      "epoch 44, train loss: 0.199, valid rmspe: 0.183\n",
      "new best:0.1831517070531845\n"
     ]
    },
    {
     "name": "stderr",
     "output_type": "stream",
     "text": [
      "Training: 100%|██████████| 302/302 [00:12<00:00, 23.70it/s]\n",
      "Evaluating: 100%|██████████| 34/34 [00:01<00:00, 25.83it/s]\n",
      "Training:   0%|          | 0/302 [00:00<?, ?it/s]"
     ]
    },
    {
     "name": "stdout",
     "output_type": "stream",
     "text": [
      "epoch 45, train loss: 0.197, valid rmspe: 0.182\n",
      "new best:0.18218174576759338\n"
     ]
    },
    {
     "name": "stderr",
     "output_type": "stream",
     "text": [
      "Training: 100%|██████████| 302/302 [00:12<00:00, 23.69it/s]\n",
      "Evaluating: 100%|██████████| 34/34 [00:01<00:00, 25.81it/s]\n",
      "Training:   0%|          | 0/302 [00:00<?, ?it/s]"
     ]
    },
    {
     "name": "stdout",
     "output_type": "stream",
     "text": [
      "epoch 46, train loss: 0.196, valid rmspe: 0.183\n"
     ]
    },
    {
     "name": "stderr",
     "output_type": "stream",
     "text": [
      "Training: 100%|██████████| 302/302 [00:13<00:00, 22.72it/s]\n",
      "Evaluating: 100%|██████████| 34/34 [00:01<00:00, 21.59it/s]\n",
      "Training:   0%|          | 0/302 [00:00<?, ?it/s]"
     ]
    },
    {
     "name": "stdout",
     "output_type": "stream",
     "text": [
      "epoch 47, train loss: 0.197, valid rmspe: 0.186\n"
     ]
    },
    {
     "name": "stderr",
     "output_type": "stream",
     "text": [
      "Training: 100%|██████████| 302/302 [00:12<00:00, 23.60it/s]\n",
      "Evaluating: 100%|██████████| 34/34 [00:01<00:00, 25.15it/s]\n",
      "Training:   0%|          | 0/302 [00:00<?, ?it/s]"
     ]
    },
    {
     "name": "stdout",
     "output_type": "stream",
     "text": [
      "epoch 48, train loss: 0.229, valid rmspe: 0.187\n"
     ]
    },
    {
     "name": "stderr",
     "output_type": "stream",
     "text": [
      "Training: 100%|██████████| 302/302 [00:13<00:00, 22.89it/s]\n",
      "Evaluating: 100%|██████████| 34/34 [00:01<00:00, 25.74it/s]\n"
     ]
    },
    {
     "name": "stdout",
     "output_type": "stream",
     "text": [
      "epoch 49, train loss: 0.197, valid rmspe: 0.184\n"
     ]
    },
    {
     "name": "stderr",
     "output_type": "stream",
     "text": [
      "Training:   0%|          | 0/302 [00:00<?, ?it/s]"
     ]
    },
    {
     "name": "stdout",
     "output_type": "stream",
     "text": [
      "fold 0 train: (386036, 591), valid: (42896, 591)\n"
     ]
    },
    {
     "name": "stderr",
     "output_type": "stream",
     "text": [
      "Training: 100%|██████████| 302/302 [00:12<00:00, 23.84it/s]\n",
      "Evaluating: 100%|██████████| 34/34 [00:01<00:00, 25.67it/s]\n",
      "Training:   0%|          | 0/302 [00:00<?, ?it/s]"
     ]
    },
    {
     "name": "stdout",
     "output_type": "stream",
     "text": [
      "epoch 0, train loss: 32.680, valid rmspe: 13.425\n",
      "new best:13.425479888916016\n"
     ]
    },
    {
     "name": "stderr",
     "output_type": "stream",
     "text": [
      "Training: 100%|██████████| 302/302 [00:13<00:00, 22.59it/s]\n",
      "Evaluating: 100%|██████████| 34/34 [00:01<00:00, 23.51it/s]\n",
      "Training:   0%|          | 0/302 [00:00<?, ?it/s]"
     ]
    },
    {
     "name": "stdout",
     "output_type": "stream",
     "text": [
      "epoch 1, train loss: 9.076, valid rmspe: 5.088\n",
      "new best:5.088461875915527\n"
     ]
    },
    {
     "name": "stderr",
     "output_type": "stream",
     "text": [
      "Training: 100%|██████████| 302/302 [00:13<00:00, 23.12it/s]\n",
      "Evaluating: 100%|██████████| 34/34 [00:01<00:00, 25.53it/s]\n",
      "Training:   0%|          | 0/302 [00:00<?, ?it/s]"
     ]
    },
    {
     "name": "stdout",
     "output_type": "stream",
     "text": [
      "epoch 2, train loss: 6.327, valid rmspe: 2.818\n",
      "new best:2.8181731700897217\n"
     ]
    },
    {
     "name": "stderr",
     "output_type": "stream",
     "text": [
      "Training: 100%|██████████| 302/302 [00:13<00:00, 22.68it/s]\n",
      "Evaluating: 100%|██████████| 34/34 [00:01<00:00, 25.56it/s]\n",
      "Training:   0%|          | 0/302 [00:00<?, ?it/s]"
     ]
    },
    {
     "name": "stdout",
     "output_type": "stream",
     "text": [
      "epoch 3, train loss: 6.716, valid rmspe: 2.509\n",
      "new best:2.508608102798462\n"
     ]
    },
    {
     "name": "stderr",
     "output_type": "stream",
     "text": [
      "Training: 100%|██████████| 302/302 [00:12<00:00, 23.71it/s]\n",
      "Evaluating: 100%|██████████| 34/34 [00:01<00:00, 20.91it/s]\n",
      "Training:   0%|          | 0/302 [00:00<?, ?it/s]"
     ]
    },
    {
     "name": "stdout",
     "output_type": "stream",
     "text": [
      "epoch 4, train loss: 3.884, valid rmspe: 5.407\n"
     ]
    },
    {
     "name": "stderr",
     "output_type": "stream",
     "text": [
      "Training: 100%|██████████| 302/302 [00:13<00:00, 22.83it/s]\n",
      "Evaluating: 100%|██████████| 34/34 [00:01<00:00, 25.51it/s]\n",
      "Training:   0%|          | 0/302 [00:00<?, ?it/s]"
     ]
    },
    {
     "name": "stdout",
     "output_type": "stream",
     "text": [
      "epoch 5, train loss: 3.258, valid rmspe: 2.717\n"
     ]
    },
    {
     "name": "stderr",
     "output_type": "stream",
     "text": [
      "Training: 100%|██████████| 302/302 [00:12<00:00, 23.60it/s]\n",
      "Evaluating: 100%|██████████| 34/34 [00:01<00:00, 25.11it/s]\n",
      "Training:   0%|          | 0/302 [00:00<?, ?it/s]"
     ]
    },
    {
     "name": "stdout",
     "output_type": "stream",
     "text": [
      "epoch 6, train loss: 2.524, valid rmspe: 1.320\n",
      "new best:1.3204846382141113\n"
     ]
    },
    {
     "name": "stderr",
     "output_type": "stream",
     "text": [
      "Training: 100%|██████████| 302/302 [00:12<00:00, 23.50it/s]\n",
      "Evaluating: 100%|██████████| 34/34 [00:02<00:00, 16.03it/s]\n",
      "Training:   0%|          | 0/302 [00:00<?, ?it/s]"
     ]
    },
    {
     "name": "stdout",
     "output_type": "stream",
     "text": [
      "epoch 7, train loss: 1.849, valid rmspe: 2.537\n"
     ]
    },
    {
     "name": "stderr",
     "output_type": "stream",
     "text": [
      "Training: 100%|██████████| 302/302 [00:12<00:00, 23.64it/s]\n",
      "Evaluating: 100%|██████████| 34/34 [00:01<00:00, 25.15it/s]\n",
      "Training:   0%|          | 0/302 [00:00<?, ?it/s]"
     ]
    },
    {
     "name": "stdout",
     "output_type": "stream",
     "text": [
      "epoch 8, train loss: 1.214, valid rmspe: 0.536\n",
      "new best:0.5358614921569824\n"
     ]
    },
    {
     "name": "stderr",
     "output_type": "stream",
     "text": [
      "Training: 100%|██████████| 302/302 [00:12<00:00, 23.66it/s]\n",
      "Evaluating: 100%|██████████| 34/34 [00:01<00:00, 20.88it/s]\n",
      "Training:   0%|          | 0/302 [00:00<?, ?it/s]"
     ]
    },
    {
     "name": "stdout",
     "output_type": "stream",
     "text": [
      "epoch 9, train loss: 0.458, valid rmspe: 0.342\n",
      "new best:0.3423343896865845\n"
     ]
    },
    {
     "name": "stderr",
     "output_type": "stream",
     "text": [
      "Training: 100%|██████████| 302/302 [00:17<00:00, 17.02it/s]\n",
      "Evaluating: 100%|██████████| 34/34 [00:01<00:00, 20.53it/s]\n",
      "Training:   0%|          | 0/302 [00:00<?, ?it/s]"
     ]
    },
    {
     "name": "stdout",
     "output_type": "stream",
     "text": [
      "epoch 10, train loss: 0.240, valid rmspe: 0.186\n",
      "new best:0.18570788204669952\n"
     ]
    },
    {
     "name": "stderr",
     "output_type": "stream",
     "text": [
      "Training: 100%|██████████| 302/302 [00:17<00:00, 17.68it/s]\n",
      "Evaluating: 100%|██████████| 34/34 [00:02<00:00, 16.43it/s]\n",
      "Training:   0%|          | 0/302 [00:00<?, ?it/s]"
     ]
    },
    {
     "name": "stdout",
     "output_type": "stream",
     "text": [
      "epoch 11, train loss: 0.216, valid rmspe: 0.196\n"
     ]
    },
    {
     "name": "stderr",
     "output_type": "stream",
     "text": [
      "Training: 100%|██████████| 302/302 [00:12<00:00, 23.26it/s]\n",
      "Evaluating: 100%|██████████| 34/34 [00:01<00:00, 25.17it/s]\n",
      "Training:   0%|          | 0/302 [00:00<?, ?it/s]"
     ]
    },
    {
     "name": "stdout",
     "output_type": "stream",
     "text": [
      "epoch 12, train loss: 0.224, valid rmspe: 0.193\n"
     ]
    },
    {
     "name": "stderr",
     "output_type": "stream",
     "text": [
      "Training: 100%|██████████| 302/302 [00:12<00:00, 23.62it/s]\n",
      "Evaluating: 100%|██████████| 34/34 [00:01<00:00, 25.22it/s]\n",
      "Training:   0%|          | 0/302 [00:00<?, ?it/s]"
     ]
    },
    {
     "name": "stdout",
     "output_type": "stream",
     "text": [
      "epoch 13, train loss: 0.210, valid rmspe: 0.184\n",
      "new best:0.1835884153842926\n"
     ]
    },
    {
     "name": "stderr",
     "output_type": "stream",
     "text": [
      "Training: 100%|██████████| 302/302 [00:13<00:00, 22.55it/s]\n",
      "Evaluating: 100%|██████████| 34/34 [00:01<00:00, 22.78it/s]\n",
      "Training:   0%|          | 0/302 [00:00<?, ?it/s]"
     ]
    },
    {
     "name": "stdout",
     "output_type": "stream",
     "text": [
      "epoch 14, train loss: 0.215, valid rmspe: 0.230\n"
     ]
    },
    {
     "name": "stderr",
     "output_type": "stream",
     "text": [
      "Training: 100%|██████████| 302/302 [00:13<00:00, 23.21it/s]\n",
      "Evaluating: 100%|██████████| 34/34 [00:01<00:00, 25.60it/s]\n",
      "Training:   0%|          | 0/302 [00:00<?, ?it/s]"
     ]
    },
    {
     "name": "stdout",
     "output_type": "stream",
     "text": [
      "epoch 15, train loss: 0.208, valid rmspe: 0.187\n"
     ]
    },
    {
     "name": "stderr",
     "output_type": "stream",
     "text": [
      "Training: 100%|██████████| 302/302 [00:13<00:00, 22.57it/s]\n",
      "Evaluating: 100%|██████████| 34/34 [00:01<00:00, 25.06it/s]\n",
      "Training:   0%|          | 0/302 [00:00<?, ?it/s]"
     ]
    },
    {
     "name": "stdout",
     "output_type": "stream",
     "text": [
      "epoch 16, train loss: 0.210, valid rmspe: 0.187\n"
     ]
    },
    {
     "name": "stderr",
     "output_type": "stream",
     "text": [
      "Training: 100%|██████████| 302/302 [00:12<00:00, 23.65it/s]\n",
      "Evaluating: 100%|██████████| 34/34 [00:01<00:00, 21.00it/s]\n",
      "Training:   0%|          | 0/302 [00:00<?, ?it/s]"
     ]
    },
    {
     "name": "stdout",
     "output_type": "stream",
     "text": [
      "epoch 17, train loss: 0.207, valid rmspe: 0.235\n"
     ]
    },
    {
     "name": "stderr",
     "output_type": "stream",
     "text": [
      "Training: 100%|██████████| 302/302 [00:13<00:00, 22.91it/s]\n",
      "Evaluating: 100%|██████████| 34/34 [00:01<00:00, 25.14it/s]\n",
      "Training:   0%|          | 0/302 [00:00<?, ?it/s]"
     ]
    },
    {
     "name": "stdout",
     "output_type": "stream",
     "text": [
      "epoch 18, train loss: 0.213, valid rmspe: 0.188\n"
     ]
    },
    {
     "name": "stderr",
     "output_type": "stream",
     "text": [
      "Training: 100%|██████████| 302/302 [00:12<00:00, 23.79it/s]\n",
      "Evaluating: 100%|██████████| 34/34 [00:01<00:00, 25.73it/s]\n",
      "Training:   0%|          | 0/302 [00:00<?, ?it/s]"
     ]
    },
    {
     "name": "stdout",
     "output_type": "stream",
     "text": [
      "epoch 19, train loss: 0.204, valid rmspe: 0.185\n"
     ]
    },
    {
     "name": "stderr",
     "output_type": "stream",
     "text": [
      "Training: 100%|██████████| 302/302 [00:12<00:00, 23.94it/s]\n",
      "Evaluating: 100%|██████████| 34/34 [00:01<00:00, 20.00it/s]\n",
      "Training:   0%|          | 0/302 [00:00<?, ?it/s]"
     ]
    },
    {
     "name": "stdout",
     "output_type": "stream",
     "text": [
      "epoch 20, train loss: 0.209, valid rmspe: 0.198\n"
     ]
    },
    {
     "name": "stderr",
     "output_type": "stream",
     "text": [
      "Training: 100%|██████████| 302/302 [00:13<00:00, 23.11it/s]\n",
      "Evaluating: 100%|██████████| 34/34 [00:01<00:00, 25.35it/s]\n",
      "Training:   0%|          | 0/302 [00:00<?, ?it/s]"
     ]
    },
    {
     "name": "stdout",
     "output_type": "stream",
     "text": [
      "epoch 21, train loss: 0.211, valid rmspe: 0.184\n"
     ]
    },
    {
     "name": "stderr",
     "output_type": "stream",
     "text": [
      "Training: 100%|██████████| 302/302 [00:12<00:00, 23.77it/s]\n",
      "Evaluating: 100%|██████████| 34/34 [00:01<00:00, 25.59it/s]\n",
      "Training:   0%|          | 0/302 [00:00<?, ?it/s]"
     ]
    },
    {
     "name": "stdout",
     "output_type": "stream",
     "text": [
      "epoch 22, train loss: 0.207, valid rmspe: 0.204\n",
      "Epoch    23: reducing learning rate of group 0 to 1.1400e-04.\n"
     ]
    },
    {
     "name": "stderr",
     "output_type": "stream",
     "text": [
      "Training: 100%|██████████| 302/302 [00:13<00:00, 22.83it/s]\n",
      "Evaluating: 100%|██████████| 34/34 [00:01<00:00, 25.62it/s]\n",
      "Training:   0%|          | 0/302 [00:00<?, ?it/s]"
     ]
    },
    {
     "name": "stdout",
     "output_type": "stream",
     "text": [
      "epoch 23, train loss: 0.198, valid rmspe: 0.192\n"
     ]
    },
    {
     "name": "stderr",
     "output_type": "stream",
     "text": [
      "Training: 100%|██████████| 302/302 [00:12<00:00, 23.75it/s]\n",
      "Evaluating: 100%|██████████| 34/34 [00:01<00:00, 25.59it/s]\n",
      "Training:   0%|          | 0/302 [00:00<?, ?it/s]"
     ]
    },
    {
     "name": "stdout",
     "output_type": "stream",
     "text": [
      "epoch 24, train loss: 0.199, valid rmspe: 0.182\n",
      "new best:0.18177354335784912\n"
     ]
    },
    {
     "name": "stderr",
     "output_type": "stream",
     "text": [
      "Training: 100%|██████████| 302/302 [00:13<00:00, 22.69it/s]\n",
      "Evaluating: 100%|██████████| 34/34 [00:01<00:00, 25.77it/s]\n",
      "Training:   0%|          | 0/302 [00:00<?, ?it/s]"
     ]
    },
    {
     "name": "stdout",
     "output_type": "stream",
     "text": [
      "epoch 25, train loss: 0.196, valid rmspe: 0.181\n",
      "new best:0.18146094679832458\n"
     ]
    },
    {
     "name": "stderr",
     "output_type": "stream",
     "text": [
      "Training: 100%|██████████| 302/302 [00:12<00:00, 23.79it/s]\n",
      "Evaluating: 100%|██████████| 34/34 [00:01<00:00, 25.71it/s]\n",
      "Training:   0%|          | 0/302 [00:00<?, ?it/s]"
     ]
    },
    {
     "name": "stdout",
     "output_type": "stream",
     "text": [
      "epoch 26, train loss: 0.195, valid rmspe: 0.185\n"
     ]
    },
    {
     "name": "stderr",
     "output_type": "stream",
     "text": [
      "Training: 100%|██████████| 302/302 [00:12<00:00, 23.53it/s]\n",
      "Evaluating: 100%|██████████| 34/34 [00:01<00:00, 17.08it/s]\n",
      "Training:   0%|          | 0/302 [00:00<?, ?it/s]"
     ]
    },
    {
     "name": "stdout",
     "output_type": "stream",
     "text": [
      "epoch 27, train loss: 0.196, valid rmspe: 0.183\n"
     ]
    },
    {
     "name": "stderr",
     "output_type": "stream",
     "text": [
      "Training: 100%|██████████| 302/302 [00:13<00:00, 22.26it/s]\n",
      "Evaluating: 100%|██████████| 34/34 [00:01<00:00, 20.11it/s]\n",
      "Training:   0%|          | 0/302 [00:00<?, ?it/s]"
     ]
    },
    {
     "name": "stdout",
     "output_type": "stream",
     "text": [
      "epoch 28, train loss: 0.195, valid rmspe: 0.182\n"
     ]
    },
    {
     "name": "stderr",
     "output_type": "stream",
     "text": [
      "Training: 100%|██████████| 302/302 [00:17<00:00, 17.59it/s]\n",
      "Evaluating: 100%|██████████| 34/34 [00:01<00:00, 19.56it/s]\n",
      "Training:   0%|          | 0/302 [00:00<?, ?it/s]"
     ]
    },
    {
     "name": "stdout",
     "output_type": "stream",
     "text": [
      "epoch 29, train loss: 0.197, valid rmspe: 0.201\n"
     ]
    },
    {
     "name": "stderr",
     "output_type": "stream",
     "text": [
      "Training: 100%|██████████| 302/302 [00:16<00:00, 18.07it/s]\n",
      "Evaluating: 100%|██████████| 34/34 [00:01<00:00, 23.83it/s]\n",
      "Training:   0%|          | 0/302 [00:00<?, ?it/s]"
     ]
    },
    {
     "name": "stdout",
     "output_type": "stream",
     "text": [
      "epoch 30, train loss: 0.197, valid rmspe: 0.187\n"
     ]
    },
    {
     "name": "stderr",
     "output_type": "stream",
     "text": [
      "Training: 100%|██████████| 302/302 [00:13<00:00, 21.98it/s]\n",
      "Evaluating: 100%|██████████| 34/34 [00:01<00:00, 25.44it/s]\n",
      "Training:   0%|          | 0/302 [00:00<?, ?it/s]"
     ]
    },
    {
     "name": "stdout",
     "output_type": "stream",
     "text": [
      "epoch 31, train loss: 0.196, valid rmspe: 0.183\n"
     ]
    },
    {
     "name": "stderr",
     "output_type": "stream",
     "text": [
      "Training: 100%|██████████| 302/302 [00:12<00:00, 23.84it/s]\n",
      "Evaluating: 100%|██████████| 34/34 [00:01<00:00, 25.37it/s]\n",
      "Training:   0%|          | 0/302 [00:00<?, ?it/s]"
     ]
    },
    {
     "name": "stdout",
     "output_type": "stream",
     "text": [
      "epoch 32, train loss: 0.195, valid rmspe: 0.192\n"
     ]
    },
    {
     "name": "stderr",
     "output_type": "stream",
     "text": [
      "Training: 100%|██████████| 302/302 [00:12<00:00, 23.85it/s]\n",
      "Evaluating: 100%|██████████| 34/34 [00:01<00:00, 25.55it/s]\n",
      "Training:   0%|          | 0/302 [00:00<?, ?it/s]"
     ]
    },
    {
     "name": "stdout",
     "output_type": "stream",
     "text": [
      "epoch 33, train loss: 0.195, valid rmspe: 0.182\n"
     ]
    },
    {
     "name": "stderr",
     "output_type": "stream",
     "text": [
      "Training: 100%|██████████| 302/302 [00:13<00:00, 22.43it/s]\n",
      "Evaluating: 100%|██████████| 34/34 [00:01<00:00, 25.04it/s]\n",
      "Training:   0%|          | 0/302 [00:00<?, ?it/s]"
     ]
    },
    {
     "name": "stdout",
     "output_type": "stream",
     "text": [
      "epoch 34, train loss: 0.195, valid rmspe: 0.182\n",
      "Epoch    35: reducing learning rate of group 0 to 3.4200e-05.\n"
     ]
    },
    {
     "name": "stderr",
     "output_type": "stream",
     "text": [
      "Training: 100%|██████████| 302/302 [00:12<00:00, 23.72it/s]\n",
      "Evaluating: 100%|██████████| 34/34 [00:01<00:00, 25.72it/s]\n",
      "Training:   0%|          | 0/302 [00:00<?, ?it/s]"
     ]
    },
    {
     "name": "stdout",
     "output_type": "stream",
     "text": [
      "epoch 35, train loss: 0.190, valid rmspe: 0.182\n"
     ]
    },
    {
     "name": "stderr",
     "output_type": "stream",
     "text": [
      "Training: 100%|██████████| 302/302 [00:13<00:00, 22.56it/s]\n",
      "Evaluating: 100%|██████████| 34/34 [00:01<00:00, 25.54it/s]\n",
      "Training:   0%|          | 0/302 [00:00<?, ?it/s]"
     ]
    },
    {
     "name": "stdout",
     "output_type": "stream",
     "text": [
      "epoch 36, train loss: 0.190, valid rmspe: 0.183\n"
     ]
    },
    {
     "name": "stderr",
     "output_type": "stream",
     "text": [
      "Training: 100%|██████████| 302/302 [00:12<00:00, 23.82it/s]\n",
      "Evaluating: 100%|██████████| 34/34 [00:01<00:00, 21.08it/s]\n",
      "Training:   0%|          | 0/302 [00:00<?, ?it/s]"
     ]
    },
    {
     "name": "stdout",
     "output_type": "stream",
     "text": [
      "epoch 37, train loss: 0.191, valid rmspe: 0.184\n"
     ]
    },
    {
     "name": "stderr",
     "output_type": "stream",
     "text": [
      "Training: 100%|██████████| 302/302 [00:13<00:00, 22.92it/s]\n",
      "Evaluating: 100%|██████████| 34/34 [00:01<00:00, 25.26it/s]\n",
      "Training:   0%|          | 0/302 [00:00<?, ?it/s]"
     ]
    },
    {
     "name": "stdout",
     "output_type": "stream",
     "text": [
      "epoch 38, train loss: 0.190, valid rmspe: 0.180\n",
      "new best:0.18033888936042786\n"
     ]
    },
    {
     "name": "stderr",
     "output_type": "stream",
     "text": [
      "Training: 100%|██████████| 302/302 [00:12<00:00, 23.84it/s]\n",
      "Evaluating: 100%|██████████| 34/34 [00:01<00:00, 25.32it/s]\n",
      "Training:   0%|          | 0/302 [00:00<?, ?it/s]"
     ]
    },
    {
     "name": "stdout",
     "output_type": "stream",
     "text": [
      "epoch 39, train loss: 0.189, valid rmspe: 0.181\n"
     ]
    },
    {
     "name": "stderr",
     "output_type": "stream",
     "text": [
      "Training: 100%|██████████| 302/302 [00:12<00:00, 23.68it/s]\n",
      "Evaluating: 100%|██████████| 34/34 [00:01<00:00, 17.43it/s]\n",
      "Training:   0%|          | 0/302 [00:00<?, ?it/s]"
     ]
    },
    {
     "name": "stdout",
     "output_type": "stream",
     "text": [
      "epoch 40, train loss: 0.189, valid rmspe: 0.181\n"
     ]
    },
    {
     "name": "stderr",
     "output_type": "stream",
     "text": [
      "Training: 100%|██████████| 302/302 [00:12<00:00, 23.44it/s]\n",
      "Evaluating: 100%|██████████| 34/34 [00:01<00:00, 25.75it/s]\n",
      "Training:   0%|          | 0/302 [00:00<?, ?it/s]"
     ]
    },
    {
     "name": "stdout",
     "output_type": "stream",
     "text": [
      "epoch 41, train loss: 0.189, valid rmspe: 0.181\n"
     ]
    },
    {
     "name": "stderr",
     "output_type": "stream",
     "text": [
      "Training: 100%|██████████| 302/302 [00:12<00:00, 23.80it/s]\n",
      "Evaluating: 100%|██████████| 34/34 [00:01<00:00, 25.45it/s]\n",
      "Training:   0%|          | 0/302 [00:00<?, ?it/s]"
     ]
    },
    {
     "name": "stdout",
     "output_type": "stream",
     "text": [
      "epoch 42, train loss: 0.188, valid rmspe: 0.183\n"
     ]
    },
    {
     "name": "stderr",
     "output_type": "stream",
     "text": [
      "Training: 100%|██████████| 302/302 [00:13<00:00, 22.89it/s]\n",
      "Evaluating: 100%|██████████| 34/34 [00:01<00:00, 25.58it/s]\n",
      "Training:   0%|          | 0/302 [00:00<?, ?it/s]"
     ]
    },
    {
     "name": "stdout",
     "output_type": "stream",
     "text": [
      "epoch 43, train loss: 0.189, valid rmspe: 0.181\n"
     ]
    },
    {
     "name": "stderr",
     "output_type": "stream",
     "text": [
      "Training: 100%|██████████| 302/302 [00:12<00:00, 23.25it/s]\n",
      "Evaluating: 100%|██████████| 34/34 [00:01<00:00, 23.36it/s]\n",
      "Training:   0%|          | 0/302 [00:00<?, ?it/s]"
     ]
    },
    {
     "name": "stdout",
     "output_type": "stream",
     "text": [
      "epoch 44, train loss: 0.189, valid rmspe: 0.182\n"
     ]
    },
    {
     "name": "stderr",
     "output_type": "stream",
     "text": [
      "Training: 100%|██████████| 302/302 [00:13<00:00, 22.83it/s]\n",
      "Evaluating: 100%|██████████| 34/34 [00:01<00:00, 25.58it/s]\n",
      "Training:   0%|          | 0/302 [00:00<?, ?it/s]"
     ]
    },
    {
     "name": "stdout",
     "output_type": "stream",
     "text": [
      "epoch 45, train loss: 0.188, valid rmspe: 0.181\n"
     ]
    },
    {
     "name": "stderr",
     "output_type": "stream",
     "text": [
      "Training: 100%|██████████| 302/302 [00:12<00:00, 23.77it/s]\n",
      "Evaluating: 100%|██████████| 34/34 [00:01<00:00, 24.72it/s]\n",
      "Training:   0%|          | 0/302 [00:00<?, ?it/s]"
     ]
    },
    {
     "name": "stdout",
     "output_type": "stream",
     "text": [
      "epoch 46, train loss: 0.188, valid rmspe: 0.181\n"
     ]
    },
    {
     "name": "stderr",
     "output_type": "stream",
     "text": [
      "Training: 100%|██████████| 302/302 [00:14<00:00, 20.30it/s]\n",
      "Evaluating: 100%|██████████| 34/34 [00:01<00:00, 21.02it/s]\n",
      "Training:   0%|          | 0/302 [00:00<?, ?it/s]"
     ]
    },
    {
     "name": "stdout",
     "output_type": "stream",
     "text": [
      "epoch 47, train loss: 0.188, valid rmspe: 0.183\n",
      "Epoch    48: reducing learning rate of group 0 to 1.0260e-05.\n"
     ]
    },
    {
     "name": "stderr",
     "output_type": "stream",
     "text": [
      "Training: 100%|██████████| 302/302 [00:16<00:00, 18.44it/s]\n",
      "Evaluating: 100%|██████████| 34/34 [00:01<00:00, 20.24it/s]\n",
      "Training:   0%|          | 0/302 [00:00<?, ?it/s]"
     ]
    },
    {
     "name": "stdout",
     "output_type": "stream",
     "text": [
      "epoch 48, train loss: 0.186, valid rmspe: 0.182\n"
     ]
    },
    {
     "name": "stderr",
     "output_type": "stream",
     "text": [
      "Training: 100%|██████████| 302/302 [00:17<00:00, 17.28it/s]\n",
      "Evaluating: 100%|██████████| 34/34 [00:01<00:00, 21.17it/s]\n"
     ]
    },
    {
     "name": "stdout",
     "output_type": "stream",
     "text": [
      "epoch 49, train loss: 0.186, valid rmspe: 0.181\n"
     ]
    },
    {
     "name": "stderr",
     "output_type": "stream",
     "text": [
      "Training:   0%|          | 0/302 [00:00<?, ?it/s]"
     ]
    },
    {
     "name": "stdout",
     "output_type": "stream",
     "text": [
      "fold 0 train: (386036, 591), valid: (42896, 591)\n"
     ]
    },
    {
     "name": "stderr",
     "output_type": "stream",
     "text": [
      "Training: 100%|██████████| 302/302 [00:12<00:00, 23.92it/s]\n",
      "Evaluating: 100%|██████████| 34/34 [00:01<00:00, 25.43it/s]\n",
      "Training:   0%|          | 0/302 [00:00<?, ?it/s]"
     ]
    },
    {
     "name": "stdout",
     "output_type": "stream",
     "text": [
      "epoch 0, train loss: 26.282, valid rmspe: 7.520\n",
      "new best:7.5200018882751465\n"
     ]
    },
    {
     "name": "stderr",
     "output_type": "stream",
     "text": [
      "Training: 100%|██████████| 302/302 [00:13<00:00, 22.39it/s]\n",
      "Evaluating: 100%|██████████| 34/34 [00:01<00:00, 25.44it/s]\n",
      "Training:   0%|          | 0/302 [00:00<?, ?it/s]"
     ]
    },
    {
     "name": "stdout",
     "output_type": "stream",
     "text": [
      "epoch 1, train loss: 5.948, valid rmspe: 2.820\n",
      "new best:2.819704294204712\n"
     ]
    },
    {
     "name": "stderr",
     "output_type": "stream",
     "text": [
      "Training: 100%|██████████| 302/302 [00:12<00:00, 23.78it/s]\n",
      "Evaluating: 100%|██████████| 34/34 [00:01<00:00, 25.61it/s]\n",
      "Training:   0%|          | 0/302 [00:00<?, ?it/s]"
     ]
    },
    {
     "name": "stdout",
     "output_type": "stream",
     "text": [
      "epoch 2, train loss: 4.182, valid rmspe: 8.928\n"
     ]
    },
    {
     "name": "stderr",
     "output_type": "stream",
     "text": [
      "Training: 100%|██████████| 302/302 [00:13<00:00, 22.88it/s]\n",
      "Evaluating: 100%|██████████| 34/34 [00:01<00:00, 25.57it/s]\n",
      "Training:   0%|          | 0/302 [00:00<?, ?it/s]"
     ]
    },
    {
     "name": "stdout",
     "output_type": "stream",
     "text": [
      "epoch 3, train loss: 5.051, valid rmspe: 3.035\n"
     ]
    },
    {
     "name": "stderr",
     "output_type": "stream",
     "text": [
      "Training: 100%|██████████| 302/302 [00:12<00:00, 23.97it/s]\n",
      "Evaluating: 100%|██████████| 34/34 [00:01<00:00, 20.86it/s]\n",
      "Training:   0%|          | 0/302 [00:00<?, ?it/s]"
     ]
    },
    {
     "name": "stdout",
     "output_type": "stream",
     "text": [
      "epoch 4, train loss: 3.475, valid rmspe: 1.584\n",
      "new best:1.5843538045883179\n"
     ]
    },
    {
     "name": "stderr",
     "output_type": "stream",
     "text": [
      "Training: 100%|██████████| 302/302 [00:13<00:00, 22.89it/s]\n",
      "Evaluating: 100%|██████████| 34/34 [00:01<00:00, 25.06it/s]\n",
      "Training:   0%|          | 0/302 [00:00<?, ?it/s]"
     ]
    },
    {
     "name": "stdout",
     "output_type": "stream",
     "text": [
      "epoch 5, train loss: 2.889, valid rmspe: 3.414\n"
     ]
    },
    {
     "name": "stderr",
     "output_type": "stream",
     "text": [
      "Training: 100%|██████████| 302/302 [00:12<00:00, 23.70it/s]\n",
      "Evaluating: 100%|██████████| 34/34 [00:01<00:00, 25.34it/s]\n",
      "Training:   0%|          | 0/302 [00:00<?, ?it/s]"
     ]
    },
    {
     "name": "stdout",
     "output_type": "stream",
     "text": [
      "epoch 6, train loss: 3.170, valid rmspe: 3.476\n"
     ]
    },
    {
     "name": "stderr",
     "output_type": "stream",
     "text": [
      "Training: 100%|██████████| 302/302 [00:12<00:00, 23.61it/s]\n",
      "Evaluating: 100%|██████████| 34/34 [00:01<00:00, 19.16it/s]\n",
      "Training:   0%|          | 0/302 [00:00<?, ?it/s]"
     ]
    },
    {
     "name": "stdout",
     "output_type": "stream",
     "text": [
      "epoch 7, train loss: 3.001, valid rmspe: 1.881\n"
     ]
    },
    {
     "name": "stderr",
     "output_type": "stream",
     "text": [
      "Training: 100%|██████████| 302/302 [00:12<00:00, 23.50it/s]\n",
      "Evaluating: 100%|██████████| 34/34 [00:01<00:00, 25.74it/s]\n",
      "Training:   0%|          | 0/302 [00:00<?, ?it/s]"
     ]
    },
    {
     "name": "stdout",
     "output_type": "stream",
     "text": [
      "epoch 8, train loss: 1.891, valid rmspe: 1.118\n",
      "new best:1.117576003074646\n"
     ]
    },
    {
     "name": "stderr",
     "output_type": "stream",
     "text": [
      "Training: 100%|██████████| 302/302 [00:12<00:00, 23.87it/s]\n",
      "Evaluating: 100%|██████████| 34/34 [00:01<00:00, 25.74it/s]\n",
      "Training:   0%|          | 0/302 [00:00<?, ?it/s]"
     ]
    },
    {
     "name": "stdout",
     "output_type": "stream",
     "text": [
      "epoch 9, train loss: 1.139, valid rmspe: 1.055\n",
      "new best:1.0551148653030396\n"
     ]
    },
    {
     "name": "stderr",
     "output_type": "stream",
     "text": [
      "Training: 100%|██████████| 302/302 [00:13<00:00, 22.93it/s]\n",
      "Evaluating: 100%|██████████| 34/34 [00:01<00:00, 25.83it/s]\n",
      "Training:   0%|          | 0/302 [00:00<?, ?it/s]"
     ]
    },
    {
     "name": "stdout",
     "output_type": "stream",
     "text": [
      "epoch 10, train loss: 1.787, valid rmspe: 1.770\n"
     ]
    },
    {
     "name": "stderr",
     "output_type": "stream",
     "text": [
      "Training: 100%|██████████| 302/302 [00:12<00:00, 23.40it/s]\n",
      "Evaluating: 100%|██████████| 34/34 [00:01<00:00, 25.71it/s]\n",
      "Training:   0%|          | 0/302 [00:00<?, ?it/s]"
     ]
    },
    {
     "name": "stdout",
     "output_type": "stream",
     "text": [
      "epoch 11, train loss: 1.460, valid rmspe: 0.909\n",
      "new best:0.9094849824905396\n"
     ]
    },
    {
     "name": "stderr",
     "output_type": "stream",
     "text": [
      "Training: 100%|██████████| 302/302 [00:13<00:00, 22.36it/s]\n",
      "Evaluating: 100%|██████████| 34/34 [00:01<00:00, 25.32it/s]\n",
      "Training:   0%|          | 0/302 [00:00<?, ?it/s]"
     ]
    },
    {
     "name": "stdout",
     "output_type": "stream",
     "text": [
      "epoch 12, train loss: 1.070, valid rmspe: 1.164\n"
     ]
    },
    {
     "name": "stderr",
     "output_type": "stream",
     "text": [
      "Training: 100%|██████████| 302/302 [00:12<00:00, 24.02it/s]\n",
      "Evaluating: 100%|██████████| 34/34 [00:01<00:00, 25.76it/s]\n",
      "Training:   0%|          | 0/302 [00:00<?, ?it/s]"
     ]
    },
    {
     "name": "stdout",
     "output_type": "stream",
     "text": [
      "epoch 13, train loss: 0.828, valid rmspe: 0.731\n",
      "new best:0.7307140231132507\n"
     ]
    },
    {
     "name": "stderr",
     "output_type": "stream",
     "text": [
      "Training: 100%|██████████| 302/302 [00:13<00:00, 22.78it/s]\n",
      "Evaluating: 100%|██████████| 34/34 [00:01<00:00, 23.23it/s]\n",
      "Training:   0%|          | 0/302 [00:00<?, ?it/s]"
     ]
    },
    {
     "name": "stdout",
     "output_type": "stream",
     "text": [
      "epoch 14, train loss: 0.766, valid rmspe: 0.334\n",
      "new best:0.33379241824150085\n"
     ]
    },
    {
     "name": "stderr",
     "output_type": "stream",
     "text": [
      "Training: 100%|██████████| 302/302 [00:12<00:00, 23.87it/s]\n",
      "Evaluating: 100%|██████████| 34/34 [00:01<00:00, 24.97it/s]\n",
      "Training:   0%|          | 0/302 [00:00<?, ?it/s]"
     ]
    },
    {
     "name": "stdout",
     "output_type": "stream",
     "text": [
      "epoch 15, train loss: 0.596, valid rmspe: 1.100\n"
     ]
    },
    {
     "name": "stderr",
     "output_type": "stream",
     "text": [
      "Training: 100%|██████████| 302/302 [00:16<00:00, 17.89it/s]\n",
      "Evaluating: 100%|██████████| 34/34 [00:01<00:00, 17.20it/s]\n",
      "Training:   0%|          | 0/302 [00:00<?, ?it/s]"
     ]
    },
    {
     "name": "stdout",
     "output_type": "stream",
     "text": [
      "epoch 16, train loss: 0.629, valid rmspe: 0.230\n",
      "new best:0.23013845086097717\n"
     ]
    },
    {
     "name": "stderr",
     "output_type": "stream",
     "text": [
      "Training: 100%|██████████| 302/302 [00:16<00:00, 17.90it/s]\n",
      "Evaluating: 100%|██████████| 34/34 [00:01<00:00, 20.19it/s]\n",
      "Training:   0%|          | 0/302 [00:00<?, ?it/s]"
     ]
    },
    {
     "name": "stdout",
     "output_type": "stream",
     "text": [
      "epoch 17, train loss: 0.562, valid rmspe: 0.307\n"
     ]
    },
    {
     "name": "stderr",
     "output_type": "stream",
     "text": [
      "Training: 100%|██████████| 302/302 [00:15<00:00, 19.11it/s]\n",
      "Evaluating: 100%|██████████| 34/34 [00:01<00:00, 25.71it/s]\n",
      "Training:   0%|          | 0/302 [00:00<?, ?it/s]"
     ]
    },
    {
     "name": "stdout",
     "output_type": "stream",
     "text": [
      "epoch 18, train loss: 0.601, valid rmspe: 0.432\n"
     ]
    },
    {
     "name": "stderr",
     "output_type": "stream",
     "text": [
      "Training: 100%|██████████| 302/302 [00:12<00:00, 23.73it/s]\n",
      "Evaluating: 100%|██████████| 34/34 [00:01<00:00, 25.32it/s]\n",
      "Training:   0%|          | 0/302 [00:00<?, ?it/s]"
     ]
    },
    {
     "name": "stdout",
     "output_type": "stream",
     "text": [
      "epoch 19, train loss: 0.519, valid rmspe: 0.363\n"
     ]
    },
    {
     "name": "stderr",
     "output_type": "stream",
     "text": [
      "Training: 100%|██████████| 302/302 [00:13<00:00, 22.98it/s]\n",
      "Evaluating: 100%|██████████| 34/34 [00:01<00:00, 25.55it/s]\n",
      "Training:   0%|          | 0/302 [00:00<?, ?it/s]"
     ]
    },
    {
     "name": "stdout",
     "output_type": "stream",
     "text": [
      "epoch 20, train loss: 0.390, valid rmspe: 0.242\n"
     ]
    },
    {
     "name": "stderr",
     "output_type": "stream",
     "text": [
      "Training: 100%|██████████| 302/302 [00:13<00:00, 23.10it/s]\n",
      "Evaluating: 100%|██████████| 34/34 [00:01<00:00, 25.68it/s]\n",
      "Training:   0%|          | 0/302 [00:00<?, ?it/s]"
     ]
    },
    {
     "name": "stdout",
     "output_type": "stream",
     "text": [
      "epoch 21, train loss: 0.368, valid rmspe: 0.388\n"
     ]
    },
    {
     "name": "stderr",
     "output_type": "stream",
     "text": [
      "Training: 100%|██████████| 302/302 [00:13<00:00, 23.21it/s]\n",
      "Evaluating: 100%|██████████| 34/34 [00:01<00:00, 22.25it/s]\n",
      "Training:   0%|          | 0/302 [00:00<?, ?it/s]"
     ]
    },
    {
     "name": "stdout",
     "output_type": "stream",
     "text": [
      "epoch 22, train loss: 0.469, valid rmspe: 0.220\n",
      "new best:0.22024667263031006\n"
     ]
    },
    {
     "name": "stderr",
     "output_type": "stream",
     "text": [
      "Training: 100%|██████████| 302/302 [00:12<00:00, 23.76it/s]\n",
      "Evaluating: 100%|██████████| 34/34 [00:01<00:00, 24.63it/s]\n",
      "Training:   0%|          | 0/302 [00:00<?, ?it/s]"
     ]
    },
    {
     "name": "stdout",
     "output_type": "stream",
     "text": [
      "epoch 23, train loss: 0.429, valid rmspe: 0.252\n"
     ]
    },
    {
     "name": "stderr",
     "output_type": "stream",
     "text": [
      "Training: 100%|██████████| 302/302 [00:12<00:00, 23.35it/s]\n",
      "Evaluating: 100%|██████████| 34/34 [00:01<00:00, 25.36it/s]\n",
      "Training:   0%|          | 0/302 [00:00<?, ?it/s]"
     ]
    },
    {
     "name": "stdout",
     "output_type": "stream",
     "text": [
      "epoch 24, train loss: 0.379, valid rmspe: 0.344\n"
     ]
    },
    {
     "name": "stderr",
     "output_type": "stream",
     "text": [
      "Training: 100%|██████████| 302/302 [00:13<00:00, 22.91it/s]\n",
      "Evaluating: 100%|██████████| 34/34 [00:01<00:00, 25.64it/s]\n",
      "Training:   0%|          | 0/302 [00:00<?, ?it/s]"
     ]
    },
    {
     "name": "stdout",
     "output_type": "stream",
     "text": [
      "epoch 25, train loss: 0.332, valid rmspe: 0.604\n"
     ]
    },
    {
     "name": "stderr",
     "output_type": "stream",
     "text": [
      "Training: 100%|██████████| 302/302 [00:13<00:00, 23.17it/s]\n",
      "Evaluating: 100%|██████████| 34/34 [00:01<00:00, 25.82it/s]\n",
      "Training:   0%|          | 0/302 [00:00<?, ?it/s]"
     ]
    },
    {
     "name": "stdout",
     "output_type": "stream",
     "text": [
      "epoch 26, train loss: 0.404, valid rmspe: 0.207\n",
      "new best:0.20687156915664673\n"
     ]
    },
    {
     "name": "stderr",
     "output_type": "stream",
     "text": [
      "Training: 100%|██████████| 302/302 [00:13<00:00, 22.43it/s]\n",
      "Evaluating: 100%|██████████| 34/34 [00:01<00:00, 25.00it/s]\n",
      "Training:   0%|          | 0/302 [00:00<?, ?it/s]"
     ]
    },
    {
     "name": "stdout",
     "output_type": "stream",
     "text": [
      "epoch 27, train loss: 0.297, valid rmspe: 0.193\n",
      "new best:0.19253328442573547\n"
     ]
    },
    {
     "name": "stderr",
     "output_type": "stream",
     "text": [
      "Training: 100%|██████████| 302/302 [00:12<00:00, 23.53it/s]\n",
      "Evaluating: 100%|██████████| 34/34 [00:01<00:00, 25.55it/s]\n",
      "Training:   0%|          | 0/302 [00:00<?, ?it/s]"
     ]
    },
    {
     "name": "stdout",
     "output_type": "stream",
     "text": [
      "epoch 28, train loss: 0.253, valid rmspe: 0.234\n"
     ]
    },
    {
     "name": "stderr",
     "output_type": "stream",
     "text": [
      "Training: 100%|██████████| 302/302 [00:13<00:00, 22.90it/s]\n",
      "Evaluating: 100%|██████████| 34/34 [00:01<00:00, 25.69it/s]\n",
      "Training:   0%|          | 0/302 [00:00<?, ?it/s]"
     ]
    },
    {
     "name": "stdout",
     "output_type": "stream",
     "text": [
      "epoch 29, train loss: 0.224, valid rmspe: 0.205\n"
     ]
    },
    {
     "name": "stderr",
     "output_type": "stream",
     "text": [
      "Training: 100%|██████████| 302/302 [00:12<00:00, 23.76it/s]\n",
      "Evaluating: 100%|██████████| 34/34 [00:01<00:00, 20.85it/s]\n",
      "Training:   0%|          | 0/302 [00:00<?, ?it/s]"
     ]
    },
    {
     "name": "stdout",
     "output_type": "stream",
     "text": [
      "epoch 30, train loss: 0.213, valid rmspe: 0.188\n",
      "new best:0.18815135955810547\n"
     ]
    },
    {
     "name": "stderr",
     "output_type": "stream",
     "text": [
      "Training: 100%|██████████| 302/302 [00:12<00:00, 23.62it/s]\n",
      "Evaluating: 100%|██████████| 34/34 [00:01<00:00, 17.90it/s]\n",
      "Training:   0%|          | 0/302 [00:00<?, ?it/s]"
     ]
    },
    {
     "name": "stdout",
     "output_type": "stream",
     "text": [
      "epoch 31, train loss: 0.215, valid rmspe: 0.190\n"
     ]
    },
    {
     "name": "stderr",
     "output_type": "stream",
     "text": [
      "Training: 100%|██████████| 302/302 [00:12<00:00, 23.74it/s]\n",
      "Evaluating: 100%|██████████| 34/34 [00:01<00:00, 25.51it/s]\n",
      "Training:   0%|          | 0/302 [00:00<?, ?it/s]"
     ]
    },
    {
     "name": "stdout",
     "output_type": "stream",
     "text": [
      "epoch 32, train loss: 0.217, valid rmspe: 0.189\n"
     ]
    },
    {
     "name": "stderr",
     "output_type": "stream",
     "text": [
      "Training: 100%|██████████| 302/302 [00:12<00:00, 23.76it/s]\n",
      "Evaluating: 100%|██████████| 34/34 [00:01<00:00, 25.40it/s]\n",
      "Training:   0%|          | 0/302 [00:00<?, ?it/s]"
     ]
    },
    {
     "name": "stdout",
     "output_type": "stream",
     "text": [
      "epoch 33, train loss: 0.205, valid rmspe: 0.189\n"
     ]
    },
    {
     "name": "stderr",
     "output_type": "stream",
     "text": [
      "Training: 100%|██████████| 302/302 [00:13<00:00, 22.38it/s]\n",
      "Evaluating: 100%|██████████| 34/34 [00:01<00:00, 25.85it/s]\n",
      "Training:   0%|          | 0/302 [00:00<?, ?it/s]"
     ]
    },
    {
     "name": "stdout",
     "output_type": "stream",
     "text": [
      "epoch 34, train loss: 0.205, valid rmspe: 0.184\n",
      "new best:0.18394017219543457\n"
     ]
    },
    {
     "name": "stderr",
     "output_type": "stream",
     "text": [
      "Training: 100%|██████████| 302/302 [00:15<00:00, 19.43it/s]\n",
      "Evaluating: 100%|██████████| 34/34 [00:01<00:00, 20.87it/s]\n",
      "Training:   0%|          | 0/302 [00:00<?, ?it/s]"
     ]
    },
    {
     "name": "stdout",
     "output_type": "stream",
     "text": [
      "epoch 35, train loss: 0.206, valid rmspe: 0.224\n"
     ]
    },
    {
     "name": "stderr",
     "output_type": "stream",
     "text": [
      "Training: 100%|██████████| 302/302 [00:17<00:00, 17.26it/s]\n",
      "Evaluating: 100%|██████████| 34/34 [00:01<00:00, 21.01it/s]\n",
      "Training:   0%|          | 0/302 [00:00<?, ?it/s]"
     ]
    },
    {
     "name": "stdout",
     "output_type": "stream",
     "text": [
      "epoch 36, train loss: 0.201, valid rmspe: 0.182\n",
      "new best:0.18236659467220306\n"
     ]
    },
    {
     "name": "stderr",
     "output_type": "stream",
     "text": [
      "Training: 100%|██████████| 302/302 [00:16<00:00, 18.11it/s]\n",
      "Evaluating: 100%|██████████| 34/34 [00:01<00:00, 23.17it/s]\n",
      "Training:   0%|          | 0/302 [00:00<?, ?it/s]"
     ]
    },
    {
     "name": "stdout",
     "output_type": "stream",
     "text": [
      "epoch 37, train loss: 0.206, valid rmspe: 0.183\n"
     ]
    },
    {
     "name": "stderr",
     "output_type": "stream",
     "text": [
      "Training: 100%|██████████| 302/302 [00:12<00:00, 23.92it/s]\n",
      "Evaluating: 100%|██████████| 34/34 [00:01<00:00, 25.27it/s]\n",
      "Training:   0%|          | 0/302 [00:00<?, ?it/s]"
     ]
    },
    {
     "name": "stdout",
     "output_type": "stream",
     "text": [
      "epoch 38, train loss: 0.203, valid rmspe: 0.185\n"
     ]
    },
    {
     "name": "stderr",
     "output_type": "stream",
     "text": [
      "Training: 100%|██████████| 302/302 [00:12<00:00, 23.77it/s]\n",
      "Evaluating: 100%|██████████| 34/34 [00:01<00:00, 25.53it/s]\n",
      "Training:   0%|          | 0/302 [00:00<?, ?it/s]"
     ]
    },
    {
     "name": "stdout",
     "output_type": "stream",
     "text": [
      "epoch 39, train loss: 0.203, valid rmspe: 0.187\n"
     ]
    },
    {
     "name": "stderr",
     "output_type": "stream",
     "text": [
      "Training: 100%|██████████| 302/302 [00:13<00:00, 22.42it/s]\n",
      "Evaluating: 100%|██████████| 34/34 [00:01<00:00, 25.33it/s]\n",
      "Training:   0%|          | 0/302 [00:00<?, ?it/s]"
     ]
    },
    {
     "name": "stdout",
     "output_type": "stream",
     "text": [
      "epoch 40, train loss: 0.204, valid rmspe: 0.195\n"
     ]
    },
    {
     "name": "stderr",
     "output_type": "stream",
     "text": [
      "Training: 100%|██████████| 302/302 [00:12<00:00, 23.93it/s]\n",
      "Evaluating: 100%|██████████| 34/34 [00:01<00:00, 24.87it/s]\n",
      "Training:   0%|          | 0/302 [00:00<?, ?it/s]"
     ]
    },
    {
     "name": "stdout",
     "output_type": "stream",
     "text": [
      "epoch 41, train loss: 0.202, valid rmspe: 0.185\n"
     ]
    },
    {
     "name": "stderr",
     "output_type": "stream",
     "text": [
      "Training: 100%|██████████| 302/302 [00:13<00:00, 22.78it/s]\n",
      "Evaluating: 100%|██████████| 34/34 [00:01<00:00, 25.32it/s]\n",
      "Training:   0%|          | 0/302 [00:00<?, ?it/s]"
     ]
    },
    {
     "name": "stdout",
     "output_type": "stream",
     "text": [
      "epoch 42, train loss: 0.205, valid rmspe: 0.182\n"
     ]
    },
    {
     "name": "stderr",
     "output_type": "stream",
     "text": [
      "Training: 100%|██████████| 302/302 [00:12<00:00, 23.94it/s]\n",
      "Evaluating: 100%|██████████| 34/34 [00:01<00:00, 21.10it/s]\n",
      "Training:   0%|          | 0/302 [00:00<?, ?it/s]"
     ]
    },
    {
     "name": "stdout",
     "output_type": "stream",
     "text": [
      "epoch 43, train loss: 0.204, valid rmspe: 0.205\n"
     ]
    },
    {
     "name": "stderr",
     "output_type": "stream",
     "text": [
      "Training: 100%|██████████| 302/302 [00:13<00:00, 22.60it/s]\n",
      "Evaluating: 100%|██████████| 34/34 [00:01<00:00, 25.57it/s]\n",
      "Training:   0%|          | 0/302 [00:00<?, ?it/s]"
     ]
    },
    {
     "name": "stdout",
     "output_type": "stream",
     "text": [
      "epoch 44, train loss: 0.211, valid rmspe: 0.201\n"
     ]
    },
    {
     "name": "stderr",
     "output_type": "stream",
     "text": [
      "Training: 100%|██████████| 302/302 [00:12<00:00, 23.73it/s]\n",
      "Evaluating: 100%|██████████| 34/34 [00:01<00:00, 25.44it/s]\n",
      "Training:   0%|          | 0/302 [00:00<?, ?it/s]"
     ]
    },
    {
     "name": "stdout",
     "output_type": "stream",
     "text": [
      "epoch 45, train loss: 0.218, valid rmspe: 0.204\n",
      "Epoch    46: reducing learning rate of group 0 to 1.1400e-04.\n"
     ]
    },
    {
     "name": "stderr",
     "output_type": "stream",
     "text": [
      "Training: 100%|██████████| 302/302 [00:12<00:00, 23.88it/s]\n",
      "Evaluating: 100%|██████████| 34/34 [00:01<00:00, 25.70it/s]\n",
      "Training:   0%|          | 0/302 [00:00<?, ?it/s]"
     ]
    },
    {
     "name": "stdout",
     "output_type": "stream",
     "text": [
      "epoch 46, train loss: 0.201, valid rmspe: 0.182\n",
      "new best:0.1816081404685974\n"
     ]
    },
    {
     "name": "stderr",
     "output_type": "stream",
     "text": [
      "Training: 100%|██████████| 302/302 [00:13<00:00, 22.29it/s]\n",
      "Evaluating: 100%|██████████| 34/34 [00:01<00:00, 25.67it/s]\n",
      "Training:   0%|          | 0/302 [00:00<?, ?it/s]"
     ]
    },
    {
     "name": "stdout",
     "output_type": "stream",
     "text": [
      "epoch 47, train loss: 0.199, valid rmspe: 0.182\n",
      "new best:0.18159614503383636\n"
     ]
    },
    {
     "name": "stderr",
     "output_type": "stream",
     "text": [
      "Training: 100%|██████████| 302/302 [00:12<00:00, 23.66it/s]\n",
      "Evaluating: 100%|██████████| 34/34 [00:01<00:00, 25.08it/s]\n",
      "Training:   0%|          | 0/302 [00:00<?, ?it/s]"
     ]
    },
    {
     "name": "stdout",
     "output_type": "stream",
     "text": [
      "epoch 48, train loss: 0.196, valid rmspe: 0.193\n"
     ]
    },
    {
     "name": "stderr",
     "output_type": "stream",
     "text": [
      "Training: 100%|██████████| 302/302 [00:13<00:00, 22.83it/s]\n",
      "Evaluating: 100%|██████████| 34/34 [00:01<00:00, 25.02it/s]\n"
     ]
    },
    {
     "name": "stdout",
     "output_type": "stream",
     "text": [
      "epoch 49, train loss: 0.196, valid rmspe: 0.182\n"
     ]
    },
    {
     "name": "stderr",
     "output_type": "stream",
     "text": [
      "Training:   0%|          | 0/302 [00:00<?, ?it/s]"
     ]
    },
    {
     "name": "stdout",
     "output_type": "stream",
     "text": [
      "fold 0 train: (386036, 591), valid: (42896, 591)\n"
     ]
    },
    {
     "name": "stderr",
     "output_type": "stream",
     "text": [
      "Training: 100%|██████████| 302/302 [00:12<00:00, 23.99it/s]\n",
      "Evaluating: 100%|██████████| 34/34 [00:01<00:00, 18.30it/s]\n",
      "Training:   0%|          | 0/302 [00:00<?, ?it/s]"
     ]
    },
    {
     "name": "stdout",
     "output_type": "stream",
     "text": [
      "epoch 0, train loss: 30.133, valid rmspe: 6.609\n",
      "new best:6.609215259552002\n"
     ]
    },
    {
     "name": "stderr",
     "output_type": "stream",
     "text": [
      "Training: 100%|██████████| 302/302 [00:12<00:00, 23.54it/s]\n",
      "Evaluating: 100%|██████████| 34/34 [00:01<00:00, 25.85it/s]\n",
      "Training:   0%|          | 0/302 [00:00<?, ?it/s]"
     ]
    },
    {
     "name": "stdout",
     "output_type": "stream",
     "text": [
      "epoch 1, train loss: 5.277, valid rmspe: 4.785\n",
      "new best:4.785083770751953\n"
     ]
    },
    {
     "name": "stderr",
     "output_type": "stream",
     "text": [
      "Training: 100%|██████████| 302/302 [00:12<00:00, 23.99it/s]\n",
      "Evaluating: 100%|██████████| 34/34 [00:01<00:00, 25.94it/s]\n",
      "Training:   0%|          | 0/302 [00:00<?, ?it/s]"
     ]
    },
    {
     "name": "stdout",
     "output_type": "stream",
     "text": [
      "epoch 2, train loss: 4.854, valid rmspe: 3.869\n",
      "new best:3.869030237197876\n"
     ]
    },
    {
     "name": "stderr",
     "output_type": "stream",
     "text": [
      "Training: 100%|██████████| 302/302 [00:13<00:00, 22.20it/s]\n",
      "Evaluating: 100%|██████████| 34/34 [00:01<00:00, 17.33it/s]\n",
      "Training:   0%|          | 0/302 [00:00<?, ?it/s]"
     ]
    },
    {
     "name": "stdout",
     "output_type": "stream",
     "text": [
      "epoch 3, train loss: 5.164, valid rmspe: 3.987\n"
     ]
    },
    {
     "name": "stderr",
     "output_type": "stream",
     "text": [
      "Training: 100%|██████████| 302/302 [00:16<00:00, 18.11it/s]\n",
      "Evaluating: 100%|██████████| 34/34 [00:01<00:00, 20.84it/s]\n",
      "Training:   0%|          | 0/302 [00:00<?, ?it/s]"
     ]
    },
    {
     "name": "stdout",
     "output_type": "stream",
     "text": [
      "epoch 4, train loss: 4.382, valid rmspe: 2.476\n",
      "new best:2.4758026599884033\n"
     ]
    },
    {
     "name": "stderr",
     "output_type": "stream",
     "text": [
      "Training: 100%|██████████| 302/302 [00:17<00:00, 17.40it/s]\n",
      "Evaluating: 100%|██████████| 34/34 [00:01<00:00, 20.79it/s]\n",
      "Training:   0%|          | 0/302 [00:00<?, ?it/s]"
     ]
    },
    {
     "name": "stdout",
     "output_type": "stream",
     "text": [
      "epoch 5, train loss: 3.466, valid rmspe: 2.426\n",
      "new best:2.426433563232422\n"
     ]
    },
    {
     "name": "stderr",
     "output_type": "stream",
     "text": [
      "Training: 100%|██████████| 302/302 [00:14<00:00, 21.10it/s]\n",
      "Evaluating: 100%|██████████| 34/34 [00:01<00:00, 25.74it/s]\n",
      "Training:   0%|          | 0/302 [00:00<?, ?it/s]"
     ]
    },
    {
     "name": "stdout",
     "output_type": "stream",
     "text": [
      "epoch 6, train loss: 2.795, valid rmspe: 0.709\n",
      "new best:0.7089231610298157\n"
     ]
    },
    {
     "name": "stderr",
     "output_type": "stream",
     "text": [
      "Training: 100%|██████████| 302/302 [00:13<00:00, 22.44it/s]\n",
      "Evaluating: 100%|██████████| 34/34 [00:01<00:00, 25.58it/s]\n",
      "Training:   0%|          | 0/302 [00:00<?, ?it/s]"
     ]
    },
    {
     "name": "stdout",
     "output_type": "stream",
     "text": [
      "epoch 7, train loss: 2.619, valid rmspe: 3.411\n"
     ]
    },
    {
     "name": "stderr",
     "output_type": "stream",
     "text": [
      "Training: 100%|██████████| 302/302 [00:12<00:00, 23.54it/s]\n",
      "Evaluating: 100%|██████████| 34/34 [00:01<00:00, 25.36it/s]\n",
      "Training:   0%|          | 0/302 [00:00<?, ?it/s]"
     ]
    },
    {
     "name": "stdout",
     "output_type": "stream",
     "text": [
      "epoch 8, train loss: 1.844, valid rmspe: 1.836\n"
     ]
    },
    {
     "name": "stderr",
     "output_type": "stream",
     "text": [
      "Training: 100%|██████████| 302/302 [00:13<00:00, 23.01it/s]\n",
      "Evaluating: 100%|██████████| 34/34 [00:01<00:00, 25.17it/s]\n",
      "Training:   0%|          | 0/302 [00:00<?, ?it/s]"
     ]
    },
    {
     "name": "stdout",
     "output_type": "stream",
     "text": [
      "epoch 9, train loss: 1.430, valid rmspe: 0.894\n"
     ]
    },
    {
     "name": "stderr",
     "output_type": "stream",
     "text": [
      "Training: 100%|██████████| 302/302 [00:12<00:00, 23.71it/s]\n",
      "Evaluating: 100%|██████████| 34/34 [00:01<00:00, 23.07it/s]\n",
      "Training:   0%|          | 0/302 [00:00<?, ?it/s]"
     ]
    },
    {
     "name": "stdout",
     "output_type": "stream",
     "text": [
      "epoch 10, train loss: 1.363, valid rmspe: 2.194\n"
     ]
    },
    {
     "name": "stderr",
     "output_type": "stream",
     "text": [
      "Training: 100%|██████████| 302/302 [00:13<00:00, 23.11it/s]\n",
      "Evaluating: 100%|██████████| 34/34 [00:01<00:00, 25.91it/s]\n",
      "Training:   0%|          | 0/302 [00:00<?, ?it/s]"
     ]
    },
    {
     "name": "stdout",
     "output_type": "stream",
     "text": [
      "epoch 11, train loss: 1.317, valid rmspe: 0.598\n",
      "new best:0.5980517864227295\n"
     ]
    },
    {
     "name": "stderr",
     "output_type": "stream",
     "text": [
      "Training: 100%|██████████| 302/302 [00:12<00:00, 23.97it/s]\n",
      "Evaluating: 100%|██████████| 34/34 [00:01<00:00, 25.72it/s]\n",
      "Training:   0%|          | 0/302 [00:00<?, ?it/s]"
     ]
    },
    {
     "name": "stdout",
     "output_type": "stream",
     "text": [
      "epoch 12, train loss: 1.058, valid rmspe: 0.756\n"
     ]
    },
    {
     "name": "stderr",
     "output_type": "stream",
     "text": [
      "Training: 100%|██████████| 302/302 [00:12<00:00, 24.03it/s]\n",
      "Evaluating: 100%|██████████| 34/34 [00:01<00:00, 25.95it/s]\n",
      "Training:   0%|          | 0/302 [00:00<?, ?it/s]"
     ]
    },
    {
     "name": "stdout",
     "output_type": "stream",
     "text": [
      "epoch 13, train loss: 0.938, valid rmspe: 0.653\n"
     ]
    },
    {
     "name": "stderr",
     "output_type": "stream",
     "text": [
      "Training: 100%|██████████| 302/302 [00:13<00:00, 22.34it/s]\n",
      "Evaluating: 100%|██████████| 34/34 [00:01<00:00, 25.69it/s]\n",
      "Training:   0%|          | 0/302 [00:00<?, ?it/s]"
     ]
    },
    {
     "name": "stdout",
     "output_type": "stream",
     "text": [
      "epoch 14, train loss: 0.670, valid rmspe: 0.473\n",
      "new best:0.4728221297264099\n"
     ]
    },
    {
     "name": "stderr",
     "output_type": "stream",
     "text": [
      "Training: 100%|██████████| 302/302 [00:12<00:00, 23.86it/s]\n",
      "Evaluating: 100%|██████████| 34/34 [00:01<00:00, 25.11it/s]\n",
      "Training:   0%|          | 0/302 [00:00<?, ?it/s]"
     ]
    },
    {
     "name": "stdout",
     "output_type": "stream",
     "text": [
      "epoch 15, train loss: 0.570, valid rmspe: 0.265\n",
      "new best:0.26464933156967163\n"
     ]
    },
    {
     "name": "stderr",
     "output_type": "stream",
     "text": [
      "Training: 100%|██████████| 302/302 [00:13<00:00, 22.78it/s]\n",
      "Evaluating: 100%|██████████| 34/34 [00:01<00:00, 25.86it/s]\n",
      "Training:   0%|          | 0/302 [00:00<?, ?it/s]"
     ]
    },
    {
     "name": "stdout",
     "output_type": "stream",
     "text": [
      "epoch 16, train loss: 0.643, valid rmspe: 1.404\n"
     ]
    },
    {
     "name": "stderr",
     "output_type": "stream",
     "text": [
      "Training: 100%|██████████| 302/302 [00:12<00:00, 23.39it/s]\n",
      "Evaluating: 100%|██████████| 34/34 [00:01<00:00, 23.63it/s]\n",
      "Training:   0%|          | 0/302 [00:00<?, ?it/s]"
     ]
    },
    {
     "name": "stdout",
     "output_type": "stream",
     "text": [
      "epoch 17, train loss: 0.666, valid rmspe: 1.215\n"
     ]
    },
    {
     "name": "stderr",
     "output_type": "stream",
     "text": [
      "Training: 100%|██████████| 302/302 [00:13<00:00, 22.85it/s]\n",
      "Evaluating: 100%|██████████| 34/34 [00:01<00:00, 26.12it/s]\n",
      "Training:   0%|          | 0/302 [00:00<?, ?it/s]"
     ]
    },
    {
     "name": "stdout",
     "output_type": "stream",
     "text": [
      "epoch 18, train loss: 0.556, valid rmspe: 0.407\n"
     ]
    },
    {
     "name": "stderr",
     "output_type": "stream",
     "text": [
      "Training: 100%|██████████| 302/302 [00:12<00:00, 24.12it/s]\n",
      "Evaluating: 100%|██████████| 34/34 [00:01<00:00, 26.00it/s]\n",
      "Training:   0%|          | 0/302 [00:00<?, ?it/s]"
     ]
    },
    {
     "name": "stdout",
     "output_type": "stream",
     "text": [
      "epoch 19, train loss: 0.553, valid rmspe: 0.728\n"
     ]
    },
    {
     "name": "stderr",
     "output_type": "stream",
     "text": [
      "Training: 100%|██████████| 302/302 [00:12<00:00, 23.80it/s]\n",
      "Evaluating: 100%|██████████| 34/34 [00:02<00:00, 15.53it/s]\n",
      "Training:   0%|          | 0/302 [00:00<?, ?it/s]"
     ]
    },
    {
     "name": "stdout",
     "output_type": "stream",
     "text": [
      "epoch 20, train loss: 0.467, valid rmspe: 0.226\n",
      "new best:0.22584238648414612\n"
     ]
    },
    {
     "name": "stderr",
     "output_type": "stream",
     "text": [
      "Training: 100%|██████████| 302/302 [00:12<00:00, 24.02it/s]\n",
      "Evaluating: 100%|██████████| 34/34 [00:01<00:00, 25.02it/s]\n",
      "Training:   0%|          | 0/302 [00:00<?, ?it/s]"
     ]
    },
    {
     "name": "stdout",
     "output_type": "stream",
     "text": [
      "epoch 21, train loss: 0.473, valid rmspe: 0.716\n"
     ]
    },
    {
     "name": "stderr",
     "output_type": "stream",
     "text": [
      "Training: 100%|██████████| 302/302 [00:12<00:00, 23.86it/s]\n",
      "Evaluating: 100%|██████████| 34/34 [00:01<00:00, 25.35it/s]\n",
      "Training:   0%|          | 0/302 [00:00<?, ?it/s]"
     ]
    },
    {
     "name": "stdout",
     "output_type": "stream",
     "text": [
      "epoch 22, train loss: 0.478, valid rmspe: 0.431\n"
     ]
    },
    {
     "name": "stderr",
     "output_type": "stream",
     "text": [
      "Training: 100%|██████████| 302/302 [00:16<00:00, 18.17it/s]\n",
      "Evaluating: 100%|██████████| 34/34 [00:01<00:00, 20.94it/s]\n",
      "Training:   0%|          | 0/302 [00:00<?, ?it/s]"
     ]
    },
    {
     "name": "stdout",
     "output_type": "stream",
     "text": [
      "epoch 23, train loss: 0.527, valid rmspe: 0.334\n"
     ]
    },
    {
     "name": "stderr",
     "output_type": "stream",
     "text": [
      "Training: 100%|██████████| 302/302 [00:16<00:00, 18.14it/s]\n",
      "Evaluating: 100%|██████████| 34/34 [00:02<00:00, 14.98it/s]\n",
      "Training:   0%|          | 0/302 [00:00<?, ?it/s]"
     ]
    },
    {
     "name": "stdout",
     "output_type": "stream",
     "text": [
      "epoch 24, train loss: 0.399, valid rmspe: 0.559\n"
     ]
    },
    {
     "name": "stderr",
     "output_type": "stream",
     "text": [
      "Training: 100%|██████████| 302/302 [00:16<00:00, 17.81it/s]\n",
      "Evaluating: 100%|██████████| 34/34 [00:01<00:00, 22.04it/s]\n",
      "Training:   0%|          | 0/302 [00:00<?, ?it/s]"
     ]
    },
    {
     "name": "stdout",
     "output_type": "stream",
     "text": [
      "epoch 25, train loss: 0.433, valid rmspe: 0.784\n"
     ]
    },
    {
     "name": "stderr",
     "output_type": "stream",
     "text": [
      "Training: 100%|██████████| 302/302 [00:12<00:00, 23.96it/s]\n",
      "Evaluating: 100%|██████████| 34/34 [00:02<00:00, 16.56it/s]\n",
      "Training:   0%|          | 0/302 [00:00<?, ?it/s]"
     ]
    },
    {
     "name": "stdout",
     "output_type": "stream",
     "text": [
      "epoch 26, train loss: 0.510, valid rmspe: 0.636\n"
     ]
    },
    {
     "name": "stderr",
     "output_type": "stream",
     "text": [
      "Training: 100%|██████████| 302/302 [00:12<00:00, 23.87it/s]\n",
      "Evaluating: 100%|██████████| 34/34 [00:01<00:00, 25.85it/s]\n",
      "Training:   0%|          | 0/302 [00:00<?, ?it/s]"
     ]
    },
    {
     "name": "stdout",
     "output_type": "stream",
     "text": [
      "epoch 27, train loss: 0.336, valid rmspe: 0.691\n"
     ]
    },
    {
     "name": "stderr",
     "output_type": "stream",
     "text": [
      "Training: 100%|██████████| 302/302 [00:12<00:00, 24.04it/s]\n",
      "Evaluating: 100%|██████████| 34/34 [00:01<00:00, 26.11it/s]\n",
      "Training:   0%|          | 0/302 [00:00<?, ?it/s]"
     ]
    },
    {
     "name": "stdout",
     "output_type": "stream",
     "text": [
      "epoch 28, train loss: 0.419, valid rmspe: 0.196\n",
      "new best:0.19555743038654327\n"
     ]
    },
    {
     "name": "stderr",
     "output_type": "stream",
     "text": [
      "Training: 100%|██████████| 302/302 [00:13<00:00, 23.03it/s]\n",
      "Evaluating: 100%|██████████| 34/34 [00:01<00:00, 26.04it/s]\n",
      "Training:   0%|          | 0/302 [00:00<?, ?it/s]"
     ]
    },
    {
     "name": "stdout",
     "output_type": "stream",
     "text": [
      "epoch 29, train loss: 0.411, valid rmspe: 0.531\n"
     ]
    },
    {
     "name": "stderr",
     "output_type": "stream",
     "text": [
      "Training: 100%|██████████| 302/302 [00:12<00:00, 23.32it/s]\n",
      "Evaluating: 100%|██████████| 34/34 [00:01<00:00, 26.03it/s]\n",
      "Training:   0%|          | 0/302 [00:00<?, ?it/s]"
     ]
    },
    {
     "name": "stdout",
     "output_type": "stream",
     "text": [
      "epoch 30, train loss: 0.325, valid rmspe: 0.192\n",
      "new best:0.19205337762832642\n"
     ]
    },
    {
     "name": "stderr",
     "output_type": "stream",
     "text": [
      "Training: 100%|██████████| 302/302 [00:13<00:00, 22.88it/s]\n",
      "Evaluating: 100%|██████████| 34/34 [00:01<00:00, 25.73it/s]\n",
      "Training:   0%|          | 0/302 [00:00<?, ?it/s]"
     ]
    },
    {
     "name": "stdout",
     "output_type": "stream",
     "text": [
      "epoch 31, train loss: 0.413, valid rmspe: 0.359\n"
     ]
    },
    {
     "name": "stderr",
     "output_type": "stream",
     "text": [
      "Training: 100%|██████████| 302/302 [00:12<00:00, 23.95it/s]\n",
      "Evaluating: 100%|██████████| 34/34 [00:01<00:00, 25.37it/s]\n",
      "Training:   0%|          | 0/302 [00:00<?, ?it/s]"
     ]
    },
    {
     "name": "stdout",
     "output_type": "stream",
     "text": [
      "epoch 32, train loss: 0.304, valid rmspe: 0.203\n"
     ]
    },
    {
     "name": "stderr",
     "output_type": "stream",
     "text": [
      "Training: 100%|██████████| 302/302 [00:13<00:00, 23.06it/s]\n",
      "Evaluating: 100%|██████████| 34/34 [00:01<00:00, 18.62it/s]\n",
      "Training:   0%|          | 0/302 [00:00<?, ?it/s]"
     ]
    },
    {
     "name": "stdout",
     "output_type": "stream",
     "text": [
      "epoch 33, train loss: 0.311, valid rmspe: 0.234\n"
     ]
    },
    {
     "name": "stderr",
     "output_type": "stream",
     "text": [
      "Training: 100%|██████████| 302/302 [00:12<00:00, 23.96it/s]\n",
      "Evaluating: 100%|██████████| 34/34 [00:01<00:00, 25.95it/s]\n",
      "Training:   0%|          | 0/302 [00:00<?, ?it/s]"
     ]
    },
    {
     "name": "stdout",
     "output_type": "stream",
     "text": [
      "epoch 34, train loss: 0.271, valid rmspe: 0.182\n",
      "new best:0.18230053782463074\n"
     ]
    },
    {
     "name": "stderr",
     "output_type": "stream",
     "text": [
      "Training: 100%|██████████| 302/302 [00:12<00:00, 24.06it/s]\n",
      "Evaluating: 100%|██████████| 34/34 [00:01<00:00, 25.80it/s]\n",
      "Training:   0%|          | 0/302 [00:00<?, ?it/s]"
     ]
    },
    {
     "name": "stdout",
     "output_type": "stream",
     "text": [
      "epoch 35, train loss: 0.269, valid rmspe: 0.186\n"
     ]
    },
    {
     "name": "stderr",
     "output_type": "stream",
     "text": [
      "Training: 100%|██████████| 302/302 [00:13<00:00, 22.86it/s]\n",
      "Evaluating: 100%|██████████| 34/34 [00:01<00:00, 21.56it/s]\n",
      "Training:   0%|          | 0/302 [00:00<?, ?it/s]"
     ]
    },
    {
     "name": "stdout",
     "output_type": "stream",
     "text": [
      "epoch 36, train loss: 0.259, valid rmspe: 0.238\n"
     ]
    },
    {
     "name": "stderr",
     "output_type": "stream",
     "text": [
      "Training: 100%|██████████| 302/302 [00:12<00:00, 24.18it/s]\n",
      "Evaluating: 100%|██████████| 34/34 [00:01<00:00, 26.11it/s]\n",
      "Training:   0%|          | 0/302 [00:00<?, ?it/s]"
     ]
    },
    {
     "name": "stdout",
     "output_type": "stream",
     "text": [
      "epoch 37, train loss: 0.241, valid rmspe: 0.195\n"
     ]
    },
    {
     "name": "stderr",
     "output_type": "stream",
     "text": [
      "Training: 100%|██████████| 302/302 [00:13<00:00, 22.78it/s]\n",
      "Evaluating: 100%|██████████| 34/34 [00:01<00:00, 25.81it/s]\n",
      "Training:   0%|          | 0/302 [00:00<?, ?it/s]"
     ]
    },
    {
     "name": "stdout",
     "output_type": "stream",
     "text": [
      "epoch 38, train loss: 0.235, valid rmspe: 0.183\n"
     ]
    },
    {
     "name": "stderr",
     "output_type": "stream",
     "text": [
      "Training: 100%|██████████| 302/302 [00:12<00:00, 23.83it/s]\n",
      "Evaluating: 100%|██████████| 34/34 [00:01<00:00, 25.34it/s]\n",
      "Training:   0%|          | 0/302 [00:00<?, ?it/s]"
     ]
    },
    {
     "name": "stdout",
     "output_type": "stream",
     "text": [
      "epoch 39, train loss: 0.227, valid rmspe: 0.185\n"
     ]
    },
    {
     "name": "stderr",
     "output_type": "stream",
     "text": [
      "Training: 100%|██████████| 302/302 [00:13<00:00, 22.43it/s]\n",
      "Evaluating: 100%|██████████| 34/34 [00:01<00:00, 25.65it/s]\n",
      "Training:   0%|          | 0/302 [00:00<?, ?it/s]"
     ]
    },
    {
     "name": "stdout",
     "output_type": "stream",
     "text": [
      "epoch 40, train loss: 0.209, valid rmspe: 0.185\n"
     ]
    },
    {
     "name": "stderr",
     "output_type": "stream",
     "text": [
      "Training: 100%|██████████| 302/302 [00:12<00:00, 23.72it/s]\n",
      "Evaluating: 100%|██████████| 34/34 [00:01<00:00, 25.34it/s]\n",
      "Training:   0%|          | 0/302 [00:00<?, ?it/s]"
     ]
    },
    {
     "name": "stdout",
     "output_type": "stream",
     "text": [
      "epoch 41, train loss: 0.219, valid rmspe: 0.289\n"
     ]
    },
    {
     "name": "stderr",
     "output_type": "stream",
     "text": [
      "Training: 100%|██████████| 302/302 [00:13<00:00, 22.42it/s]\n",
      "Evaluating: 100%|██████████| 34/34 [00:01<00:00, 20.64it/s]\n",
      "Training:   0%|          | 0/302 [00:00<?, ?it/s]"
     ]
    },
    {
     "name": "stdout",
     "output_type": "stream",
     "text": [
      "epoch 42, train loss: 0.212, valid rmspe: 0.196\n"
     ]
    },
    {
     "name": "stderr",
     "output_type": "stream",
     "text": [
      "Training: 100%|██████████| 302/302 [00:17<00:00, 17.55it/s]\n",
      "Evaluating: 100%|██████████| 34/34 [00:01<00:00, 20.39it/s]\n",
      "Training:   0%|          | 0/302 [00:00<?, ?it/s]"
     ]
    },
    {
     "name": "stdout",
     "output_type": "stream",
     "text": [
      "epoch 43, train loss: 0.213, valid rmspe: 0.183\n",
      "Epoch    44: reducing learning rate of group 0 to 1.1400e-04.\n"
     ]
    },
    {
     "name": "stderr",
     "output_type": "stream",
     "text": [
      "Training: 100%|██████████| 302/302 [00:17<00:00, 17.13it/s]\n",
      "Evaluating: 100%|██████████| 34/34 [00:01<00:00, 21.52it/s]\n",
      "Training:   0%|          | 0/302 [00:00<?, ?it/s]"
     ]
    },
    {
     "name": "stdout",
     "output_type": "stream",
     "text": [
      "epoch 44, train loss: 0.198, valid rmspe: 0.192\n"
     ]
    },
    {
     "name": "stderr",
     "output_type": "stream",
     "text": [
      "Training: 100%|██████████| 302/302 [00:15<00:00, 19.85it/s]\n",
      "Evaluating: 100%|██████████| 34/34 [00:01<00:00, 25.74it/s]\n",
      "Training:   0%|          | 0/302 [00:00<?, ?it/s]"
     ]
    },
    {
     "name": "stdout",
     "output_type": "stream",
     "text": [
      "epoch 45, train loss: 0.196, valid rmspe: 0.187\n"
     ]
    },
    {
     "name": "stderr",
     "output_type": "stream",
     "text": [
      "Training: 100%|██████████| 302/302 [00:13<00:00, 22.94it/s]\n",
      "Evaluating: 100%|██████████| 34/34 [00:01<00:00, 24.32it/s]\n",
      "Training:   0%|          | 0/302 [00:00<?, ?it/s]"
     ]
    },
    {
     "name": "stdout",
     "output_type": "stream",
     "text": [
      "epoch 46, train loss: 0.197, valid rmspe: 0.185\n"
     ]
    },
    {
     "name": "stderr",
     "output_type": "stream",
     "text": [
      "Training: 100%|██████████| 302/302 [00:12<00:00, 23.88it/s]\n",
      "Evaluating: 100%|██████████| 34/34 [00:01<00:00, 25.79it/s]\n",
      "Training:   0%|          | 0/302 [00:00<?, ?it/s]"
     ]
    },
    {
     "name": "stdout",
     "output_type": "stream",
     "text": [
      "epoch 47, train loss: 0.197, valid rmspe: 0.182\n",
      "new best:0.18190747499465942\n"
     ]
    },
    {
     "name": "stderr",
     "output_type": "stream",
     "text": [
      "Training: 100%|██████████| 302/302 [00:12<00:00, 24.01it/s]\n",
      "Evaluating: 100%|██████████| 34/34 [00:01<00:00, 25.80it/s]\n",
      "Training:   0%|          | 0/302 [00:00<?, ?it/s]"
     ]
    },
    {
     "name": "stdout",
     "output_type": "stream",
     "text": [
      "epoch 48, train loss: 0.197, valid rmspe: 0.181\n",
      "new best:0.18130804598331451\n"
     ]
    },
    {
     "name": "stderr",
     "output_type": "stream",
     "text": [
      "Training: 100%|██████████| 302/302 [00:13<00:00, 22.95it/s]\n",
      "Evaluating: 100%|██████████| 34/34 [00:01<00:00, 21.31it/s]\n"
     ]
    },
    {
     "name": "stdout",
     "output_type": "stream",
     "text": [
      "epoch 49, train loss: 0.196, valid rmspe: 0.186\n"
     ]
    },
    {
     "name": "stderr",
     "output_type": "stream",
     "text": [
      "Training:   0%|          | 0/302 [00:00<?, ?it/s]"
     ]
    },
    {
     "name": "stdout",
     "output_type": "stream",
     "text": [
      "fold 0 train: (386036, 591), valid: (42896, 591)\n"
     ]
    },
    {
     "name": "stderr",
     "output_type": "stream",
     "text": [
      "Training: 100%|██████████| 302/302 [00:13<00:00, 22.64it/s]\n",
      "Evaluating: 100%|██████████| 34/34 [00:01<00:00, 24.71it/s]\n",
      "Training:   0%|          | 0/302 [00:00<?, ?it/s]"
     ]
    },
    {
     "name": "stdout",
     "output_type": "stream",
     "text": [
      "epoch 0, train loss: 33.445, valid rmspe: 13.552\n",
      "new best:13.552135467529297\n"
     ]
    },
    {
     "name": "stderr",
     "output_type": "stream",
     "text": [
      "Training: 100%|██████████| 302/302 [00:12<00:00, 23.90it/s]\n",
      "Evaluating: 100%|██████████| 34/34 [00:01<00:00, 25.78it/s]\n",
      "Training:   0%|          | 0/302 [00:00<?, ?it/s]"
     ]
    },
    {
     "name": "stdout",
     "output_type": "stream",
     "text": [
      "epoch 1, train loss: 8.429, valid rmspe: 4.714\n",
      "new best:4.714221000671387\n"
     ]
    },
    {
     "name": "stderr",
     "output_type": "stream",
     "text": [
      "Training: 100%|██████████| 302/302 [00:12<00:00, 24.00it/s]\n",
      "Evaluating: 100%|██████████| 34/34 [00:01<00:00, 25.47it/s]\n",
      "Training:   0%|          | 0/302 [00:00<?, ?it/s]"
     ]
    },
    {
     "name": "stdout",
     "output_type": "stream",
     "text": [
      "epoch 2, train loss: 5.189, valid rmspe: 1.880\n",
      "new best:1.8802149295806885\n"
     ]
    },
    {
     "name": "stderr",
     "output_type": "stream",
     "text": [
      "Training: 100%|██████████| 302/302 [00:13<00:00, 22.57it/s]\n",
      "Evaluating: 100%|██████████| 34/34 [00:01<00:00, 25.07it/s]\n",
      "Training:   0%|          | 0/302 [00:00<?, ?it/s]"
     ]
    },
    {
     "name": "stdout",
     "output_type": "stream",
     "text": [
      "epoch 3, train loss: 3.612, valid rmspe: 2.886\n"
     ]
    },
    {
     "name": "stderr",
     "output_type": "stream",
     "text": [
      "Training: 100%|██████████| 302/302 [00:12<00:00, 24.10it/s]\n",
      "Evaluating: 100%|██████████| 34/34 [00:01<00:00, 26.13it/s]\n",
      "Training:   0%|          | 0/302 [00:00<?, ?it/s]"
     ]
    },
    {
     "name": "stdout",
     "output_type": "stream",
     "text": [
      "epoch 4, train loss: 2.857, valid rmspe: 3.368\n"
     ]
    },
    {
     "name": "stderr",
     "output_type": "stream",
     "text": [
      "Training: 100%|██████████| 302/302 [00:13<00:00, 22.98it/s]\n",
      "Evaluating: 100%|██████████| 34/34 [00:01<00:00, 25.74it/s]\n",
      "Training:   0%|          | 0/302 [00:00<?, ?it/s]"
     ]
    },
    {
     "name": "stdout",
     "output_type": "stream",
     "text": [
      "epoch 5, train loss: 5.014, valid rmspe: 4.743\n"
     ]
    },
    {
     "name": "stderr",
     "output_type": "stream",
     "text": [
      "Training: 100%|██████████| 302/302 [00:12<00:00, 24.03it/s]\n",
      "Evaluating: 100%|██████████| 34/34 [00:01<00:00, 24.31it/s]\n",
      "Training:   0%|          | 0/302 [00:00<?, ?it/s]"
     ]
    },
    {
     "name": "stdout",
     "output_type": "stream",
     "text": [
      "epoch 6, train loss: 2.262, valid rmspe: 1.410\n",
      "new best:1.4104204177856445\n"
     ]
    },
    {
     "name": "stderr",
     "output_type": "stream",
     "text": [
      "Training: 100%|██████████| 302/302 [00:13<00:00, 22.66it/s]\n",
      "Evaluating: 100%|██████████| 34/34 [00:01<00:00, 25.38it/s]\n",
      "Training:   0%|          | 0/302 [00:00<?, ?it/s]"
     ]
    },
    {
     "name": "stdout",
     "output_type": "stream",
     "text": [
      "epoch 7, train loss: 2.079, valid rmspe: 1.196\n",
      "new best:1.196058750152588\n"
     ]
    },
    {
     "name": "stderr",
     "output_type": "stream",
     "text": [
      "Training: 100%|██████████| 302/302 [00:12<00:00, 23.91it/s]\n",
      "Evaluating: 100%|██████████| 34/34 [00:01<00:00, 25.98it/s]\n",
      "Training:   0%|          | 0/302 [00:00<?, ?it/s]"
     ]
    },
    {
     "name": "stdout",
     "output_type": "stream",
     "text": [
      "epoch 8, train loss: 1.568, valid rmspe: 2.561\n"
     ]
    },
    {
     "name": "stderr",
     "output_type": "stream",
     "text": [
      "Training: 100%|██████████| 302/302 [00:12<00:00, 24.06it/s]\n",
      "Evaluating: 100%|██████████| 34/34 [00:01<00:00, 25.89it/s]\n",
      "Training:   0%|          | 0/302 [00:00<?, ?it/s]"
     ]
    },
    {
     "name": "stdout",
     "output_type": "stream",
     "text": [
      "epoch 9, train loss: 1.490, valid rmspe: 1.157\n",
      "new best:1.1573717594146729\n"
     ]
    },
    {
     "name": "stderr",
     "output_type": "stream",
     "text": [
      "Training: 100%|██████████| 302/302 [00:13<00:00, 22.39it/s]\n",
      "Evaluating: 100%|██████████| 34/34 [00:01<00:00, 26.06it/s]\n",
      "Training:   0%|          | 0/302 [00:00<?, ?it/s]"
     ]
    },
    {
     "name": "stdout",
     "output_type": "stream",
     "text": [
      "epoch 10, train loss: 1.317, valid rmspe: 0.791\n",
      "new best:0.7914056777954102\n"
     ]
    },
    {
     "name": "stderr",
     "output_type": "stream",
     "text": [
      "Training: 100%|██████████| 302/302 [00:13<00:00, 22.28it/s]\n",
      "Evaluating: 100%|██████████| 34/34 [00:01<00:00, 20.80it/s]\n",
      "Training:   0%|          | 0/302 [00:00<?, ?it/s]"
     ]
    },
    {
     "name": "stdout",
     "output_type": "stream",
     "text": [
      "epoch 11, train loss: 0.904, valid rmspe: 1.319\n"
     ]
    },
    {
     "name": "stderr",
     "output_type": "stream",
     "text": [
      "Training: 100%|██████████| 302/302 [00:17<00:00, 17.14it/s]\n",
      "Evaluating: 100%|██████████| 34/34 [00:01<00:00, 20.88it/s]\n",
      "Training:   0%|          | 0/302 [00:00<?, ?it/s]"
     ]
    },
    {
     "name": "stdout",
     "output_type": "stream",
     "text": [
      "epoch 12, train loss: 1.091, valid rmspe: 0.616\n",
      "new best:0.6159008741378784\n"
     ]
    },
    {
     "name": "stderr",
     "output_type": "stream",
     "text": [
      "Training: 100%|██████████| 302/302 [00:16<00:00, 17.99it/s]\n",
      "Evaluating: 100%|██████████| 34/34 [00:02<00:00, 15.62it/s]\n",
      "Training:   0%|          | 0/302 [00:00<?, ?it/s]"
     ]
    },
    {
     "name": "stdout",
     "output_type": "stream",
     "text": [
      "epoch 13, train loss: 0.968, valid rmspe: 1.078\n"
     ]
    },
    {
     "name": "stderr",
     "output_type": "stream",
     "text": [
      "Training: 100%|██████████| 302/302 [00:15<00:00, 19.19it/s]\n",
      "Evaluating: 100%|██████████| 34/34 [00:01<00:00, 25.84it/s]\n",
      "Training:   0%|          | 0/302 [00:00<?, ?it/s]"
     ]
    },
    {
     "name": "stdout",
     "output_type": "stream",
     "text": [
      "epoch 14, train loss: 0.648, valid rmspe: 0.490\n",
      "new best:0.48974084854125977\n"
     ]
    },
    {
     "name": "stderr",
     "output_type": "stream",
     "text": [
      "Training: 100%|██████████| 302/302 [00:12<00:00, 24.09it/s]\n",
      "Evaluating: 100%|██████████| 34/34 [00:01<00:00, 26.08it/s]\n",
      "Training:   0%|          | 0/302 [00:00<?, ?it/s]"
     ]
    },
    {
     "name": "stdout",
     "output_type": "stream",
     "text": [
      "epoch 15, train loss: 1.142, valid rmspe: 0.753\n"
     ]
    },
    {
     "name": "stderr",
     "output_type": "stream",
     "text": [
      "Training: 100%|██████████| 302/302 [00:13<00:00, 22.24it/s]\n",
      "Evaluating: 100%|██████████| 34/34 [00:01<00:00, 25.73it/s]\n",
      "Training:   0%|          | 0/302 [00:00<?, ?it/s]"
     ]
    },
    {
     "name": "stdout",
     "output_type": "stream",
     "text": [
      "epoch 16, train loss: 0.625, valid rmspe: 0.544\n"
     ]
    },
    {
     "name": "stderr",
     "output_type": "stream",
     "text": [
      "Training: 100%|██████████| 302/302 [00:12<00:00, 23.92it/s]\n",
      "Evaluating: 100%|██████████| 34/34 [00:01<00:00, 25.55it/s]\n",
      "Training:   0%|          | 0/302 [00:00<?, ?it/s]"
     ]
    },
    {
     "name": "stdout",
     "output_type": "stream",
     "text": [
      "epoch 17, train loss: 0.540, valid rmspe: 1.434\n"
     ]
    },
    {
     "name": "stderr",
     "output_type": "stream",
     "text": [
      "Training: 100%|██████████| 302/302 [00:13<00:00, 22.93it/s]\n",
      "Evaluating: 100%|██████████| 34/34 [00:01<00:00, 24.79it/s]\n",
      "Training:   0%|          | 0/302 [00:00<?, ?it/s]"
     ]
    },
    {
     "name": "stdout",
     "output_type": "stream",
     "text": [
      "epoch 18, train loss: 0.574, valid rmspe: 0.283\n",
      "new best:0.2833804786205292\n"
     ]
    },
    {
     "name": "stderr",
     "output_type": "stream",
     "text": [
      "Training: 100%|██████████| 302/302 [00:12<00:00, 23.77it/s]\n",
      "Evaluating: 100%|██████████| 34/34 [00:01<00:00, 22.92it/s]\n",
      "Training:   0%|          | 0/302 [00:00<?, ?it/s]"
     ]
    },
    {
     "name": "stdout",
     "output_type": "stream",
     "text": [
      "epoch 19, train loss: 0.614, valid rmspe: 0.292\n"
     ]
    },
    {
     "name": "stderr",
     "output_type": "stream",
     "text": [
      "Training: 100%|██████████| 302/302 [00:13<00:00, 23.06it/s]\n",
      "Evaluating: 100%|██████████| 34/34 [00:01<00:00, 25.56it/s]\n",
      "Training:   0%|          | 0/302 [00:00<?, ?it/s]"
     ]
    },
    {
     "name": "stdout",
     "output_type": "stream",
     "text": [
      "epoch 20, train loss: 0.530, valid rmspe: 0.810\n"
     ]
    },
    {
     "name": "stderr",
     "output_type": "stream",
     "text": [
      "Training: 100%|██████████| 302/302 [00:12<00:00, 23.77it/s]\n",
      "Evaluating: 100%|██████████| 34/34 [00:01<00:00, 25.79it/s]\n",
      "Training:   0%|          | 0/302 [00:00<?, ?it/s]"
     ]
    },
    {
     "name": "stdout",
     "output_type": "stream",
     "text": [
      "epoch 21, train loss: 0.500, valid rmspe: 0.417\n"
     ]
    },
    {
     "name": "stderr",
     "output_type": "stream",
     "text": [
      "Training: 100%|██████████| 302/302 [00:12<00:00, 24.02it/s]\n",
      "Evaluating: 100%|██████████| 34/34 [00:02<00:00, 16.75it/s]\n",
      "Training:   0%|          | 0/302 [00:00<?, ?it/s]"
     ]
    },
    {
     "name": "stdout",
     "output_type": "stream",
     "text": [
      "epoch 22, train loss: 0.433, valid rmspe: 0.201\n",
      "new best:0.20104654133319855\n"
     ]
    },
    {
     "name": "stderr",
     "output_type": "stream",
     "text": [
      "Training: 100%|██████████| 302/302 [00:12<00:00, 23.99it/s]\n",
      "Evaluating: 100%|██████████| 34/34 [00:01<00:00, 25.87it/s]\n",
      "Training:   0%|          | 0/302 [00:00<?, ?it/s]"
     ]
    },
    {
     "name": "stdout",
     "output_type": "stream",
     "text": [
      "epoch 23, train loss: 0.483, valid rmspe: 0.563\n"
     ]
    },
    {
     "name": "stderr",
     "output_type": "stream",
     "text": [
      "Training: 100%|██████████| 302/302 [00:12<00:00, 23.86it/s]\n",
      "Evaluating: 100%|██████████| 34/34 [00:01<00:00, 25.68it/s]\n",
      "Training:   0%|          | 0/302 [00:00<?, ?it/s]"
     ]
    },
    {
     "name": "stdout",
     "output_type": "stream",
     "text": [
      "epoch 24, train loss: 0.476, valid rmspe: 0.436\n"
     ]
    },
    {
     "name": "stderr",
     "output_type": "stream",
     "text": [
      "Training: 100%|██████████| 302/302 [00:13<00:00, 23.01it/s]\n",
      "Evaluating: 100%|██████████| 34/34 [00:01<00:00, 25.50it/s]\n",
      "Training:   0%|          | 0/302 [00:00<?, ?it/s]"
     ]
    },
    {
     "name": "stdout",
     "output_type": "stream",
     "text": [
      "epoch 25, train loss: 0.428, valid rmspe: 0.404\n"
     ]
    },
    {
     "name": "stderr",
     "output_type": "stream",
     "text": [
      "Training: 100%|██████████| 302/302 [00:12<00:00, 23.30it/s]\n",
      "Evaluating: 100%|██████████| 34/34 [00:01<00:00, 25.54it/s]\n",
      "Training:   0%|          | 0/302 [00:00<?, ?it/s]"
     ]
    },
    {
     "name": "stdout",
     "output_type": "stream",
     "text": [
      "epoch 26, train loss: 0.306, valid rmspe: 0.326\n"
     ]
    },
    {
     "name": "stderr",
     "output_type": "stream",
     "text": [
      "Training: 100%|██████████| 302/302 [00:13<00:00, 22.38it/s]\n",
      "Evaluating: 100%|██████████| 34/34 [00:01<00:00, 26.04it/s]\n",
      "Training:   0%|          | 0/302 [00:00<?, ?it/s]"
     ]
    },
    {
     "name": "stdout",
     "output_type": "stream",
     "text": [
      "epoch 27, train loss: 0.369, valid rmspe: 0.695\n"
     ]
    },
    {
     "name": "stderr",
     "output_type": "stream",
     "text": [
      "Training: 100%|██████████| 302/302 [00:12<00:00, 23.70it/s]\n",
      "Evaluating: 100%|██████████| 34/34 [00:01<00:00, 25.36it/s]\n",
      "Training:   0%|          | 0/302 [00:00<?, ?it/s]"
     ]
    },
    {
     "name": "stdout",
     "output_type": "stream",
     "text": [
      "epoch 28, train loss: 0.497, valid rmspe: 0.379\n"
     ]
    },
    {
     "name": "stderr",
     "output_type": "stream",
     "text": [
      "Training: 100%|██████████| 302/302 [00:13<00:00, 22.88it/s]\n",
      "Evaluating: 100%|██████████| 34/34 [00:01<00:00, 24.98it/s]\n",
      "Training:   0%|          | 0/302 [00:00<?, ?it/s]"
     ]
    },
    {
     "name": "stdout",
     "output_type": "stream",
     "text": [
      "epoch 29, train loss: 0.312, valid rmspe: 0.479\n"
     ]
    },
    {
     "name": "stderr",
     "output_type": "stream",
     "text": [
      "Training: 100%|██████████| 302/302 [00:12<00:00, 23.74it/s]\n",
      "Evaluating: 100%|██████████| 34/34 [00:01<00:00, 25.75it/s]\n",
      "Training:   0%|          | 0/302 [00:00<?, ?it/s]"
     ]
    },
    {
     "name": "stdout",
     "output_type": "stream",
     "text": [
      "epoch 30, train loss: 0.402, valid rmspe: 0.265\n"
     ]
    },
    {
     "name": "stderr",
     "output_type": "stream",
     "text": [
      "Training: 100%|██████████| 302/302 [00:15<00:00, 19.32it/s]\n",
      "Evaluating: 100%|██████████| 34/34 [00:01<00:00, 19.17it/s]\n",
      "Training:   0%|          | 0/302 [00:00<?, ?it/s]"
     ]
    },
    {
     "name": "stdout",
     "output_type": "stream",
     "text": [
      "epoch 31, train loss: 0.291, valid rmspe: 0.292\n",
      "Epoch    32: reducing learning rate of group 0 to 1.1400e-04.\n"
     ]
    },
    {
     "name": "stderr",
     "output_type": "stream",
     "text": [
      "Training: 100%|██████████| 302/302 [00:17<00:00, 17.64it/s]\n",
      "Evaluating: 100%|██████████| 34/34 [00:01<00:00, 21.13it/s]\n",
      "Training:   0%|          | 0/302 [00:00<?, ?it/s]"
     ]
    },
    {
     "name": "stdout",
     "output_type": "stream",
     "text": [
      "epoch 32, train loss: 0.214, valid rmspe: 0.261\n"
     ]
    },
    {
     "name": "stderr",
     "output_type": "stream",
     "text": [
      "Training: 100%|██████████| 302/302 [00:17<00:00, 17.61it/s]\n",
      "Evaluating: 100%|██████████| 34/34 [00:01<00:00, 20.61it/s]\n",
      "Training:   0%|          | 0/302 [00:00<?, ?it/s]"
     ]
    },
    {
     "name": "stdout",
     "output_type": "stream",
     "text": [
      "epoch 33, train loss: 0.212, valid rmspe: 0.185\n",
      "new best:0.18478024005889893\n"
     ]
    },
    {
     "name": "stderr",
     "output_type": "stream",
     "text": [
      "Training: 100%|██████████| 302/302 [00:15<00:00, 20.13it/s]\n",
      "Evaluating: 100%|██████████| 34/34 [00:01<00:00, 25.61it/s]\n",
      "Training:   0%|          | 0/302 [00:00<?, ?it/s]"
     ]
    },
    {
     "name": "stdout",
     "output_type": "stream",
     "text": [
      "epoch 34, train loss: 0.212, valid rmspe: 0.190\n"
     ]
    },
    {
     "name": "stderr",
     "output_type": "stream",
     "text": [
      "Training: 100%|██████████| 302/302 [00:13<00:00, 22.32it/s]\n",
      "Evaluating: 100%|██████████| 34/34 [00:01<00:00, 24.28it/s]\n",
      "Training:   0%|          | 0/302 [00:00<?, ?it/s]"
     ]
    },
    {
     "name": "stdout",
     "output_type": "stream",
     "text": [
      "epoch 35, train loss: 0.216, valid rmspe: 0.184\n",
      "new best:0.18384698033332825\n"
     ]
    },
    {
     "name": "stderr",
     "output_type": "stream",
     "text": [
      "Training: 100%|██████████| 302/302 [00:12<00:00, 23.74it/s]\n",
      "Evaluating: 100%|██████████| 34/34 [00:01<00:00, 25.73it/s]\n",
      "Training:   0%|          | 0/302 [00:00<?, ?it/s]"
     ]
    },
    {
     "name": "stdout",
     "output_type": "stream",
     "text": [
      "epoch 36, train loss: 0.213, valid rmspe: 0.195\n"
     ]
    },
    {
     "name": "stderr",
     "output_type": "stream",
     "text": [
      "Training: 100%|██████████| 302/302 [00:12<00:00, 23.82it/s]\n",
      "Evaluating: 100%|██████████| 34/34 [00:01<00:00, 18.04it/s]\n",
      "Training:   0%|          | 0/302 [00:00<?, ?it/s]"
     ]
    },
    {
     "name": "stdout",
     "output_type": "stream",
     "text": [
      "epoch 37, train loss: 0.213, valid rmspe: 0.184\n"
     ]
    },
    {
     "name": "stderr",
     "output_type": "stream",
     "text": [
      "Training: 100%|██████████| 302/302 [00:12<00:00, 23.29it/s]\n",
      "Evaluating: 100%|██████████| 34/34 [00:01<00:00, 25.26it/s]\n",
      "Training:   0%|          | 0/302 [00:00<?, ?it/s]"
     ]
    },
    {
     "name": "stdout",
     "output_type": "stream",
     "text": [
      "epoch 38, train loss: 0.207, valid rmspe: 0.215\n"
     ]
    },
    {
     "name": "stderr",
     "output_type": "stream",
     "text": [
      "Training: 100%|██████████| 302/302 [00:12<00:00, 23.68it/s]\n",
      "Evaluating: 100%|██████████| 34/34 [00:01<00:00, 25.16it/s]\n",
      "Training:   0%|          | 0/302 [00:00<?, ?it/s]"
     ]
    },
    {
     "name": "stdout",
     "output_type": "stream",
     "text": [
      "epoch 39, train loss: 0.205, valid rmspe: 0.193\n"
     ]
    },
    {
     "name": "stderr",
     "output_type": "stream",
     "text": [
      "Training: 100%|██████████| 302/302 [00:13<00:00, 22.79it/s]\n",
      "Evaluating: 100%|██████████| 34/34 [00:01<00:00, 24.27it/s]\n",
      "Training:   0%|          | 0/302 [00:00<?, ?it/s]"
     ]
    },
    {
     "name": "stdout",
     "output_type": "stream",
     "text": [
      "epoch 40, train loss: 0.210, valid rmspe: 0.181\n",
      "new best:0.1812063604593277\n"
     ]
    },
    {
     "name": "stderr",
     "output_type": "stream",
     "text": [
      "Training: 100%|██████████| 302/302 [00:12<00:00, 23.78it/s]\n",
      "Evaluating: 100%|██████████| 34/34 [00:01<00:00, 21.33it/s]\n",
      "Training:   0%|          | 0/302 [00:00<?, ?it/s]"
     ]
    },
    {
     "name": "stdout",
     "output_type": "stream",
     "text": [
      "epoch 41, train loss: 0.206, valid rmspe: 0.207\n"
     ]
    },
    {
     "name": "stderr",
     "output_type": "stream",
     "text": [
      "Training: 100%|██████████| 302/302 [00:13<00:00, 22.87it/s]\n",
      "Evaluating: 100%|██████████| 34/34 [00:01<00:00, 25.92it/s]\n",
      "Training:   0%|          | 0/302 [00:00<?, ?it/s]"
     ]
    },
    {
     "name": "stdout",
     "output_type": "stream",
     "text": [
      "epoch 42, train loss: 0.207, valid rmspe: 0.184\n"
     ]
    },
    {
     "name": "stderr",
     "output_type": "stream",
     "text": [
      "Training: 100%|██████████| 302/302 [00:12<00:00, 23.88it/s]\n",
      "Evaluating: 100%|██████████| 34/34 [00:01<00:00, 25.83it/s]\n",
      "Training:   0%|          | 0/302 [00:00<?, ?it/s]"
     ]
    },
    {
     "name": "stdout",
     "output_type": "stream",
     "text": [
      "epoch 43, train loss: 0.206, valid rmspe: 0.188\n"
     ]
    },
    {
     "name": "stderr",
     "output_type": "stream",
     "text": [
      "Training: 100%|██████████| 302/302 [00:13<00:00, 23.13it/s]\n",
      "Evaluating: 100%|██████████| 34/34 [00:01<00:00, 23.44it/s]\n",
      "Training:   0%|          | 0/302 [00:00<?, ?it/s]"
     ]
    },
    {
     "name": "stdout",
     "output_type": "stream",
     "text": [
      "epoch 44, train loss: 0.209, valid rmspe: 0.185\n"
     ]
    },
    {
     "name": "stderr",
     "output_type": "stream",
     "text": [
      "Training: 100%|██████████| 302/302 [00:12<00:00, 23.66it/s]\n",
      "Evaluating: 100%|██████████| 34/34 [00:01<00:00, 25.68it/s]\n",
      "Training:   0%|          | 0/302 [00:00<?, ?it/s]"
     ]
    },
    {
     "name": "stdout",
     "output_type": "stream",
     "text": [
      "epoch 45, train loss: 0.207, valid rmspe: 0.202\n"
     ]
    },
    {
     "name": "stderr",
     "output_type": "stream",
     "text": [
      "Training: 100%|██████████| 302/302 [00:12<00:00, 24.02it/s]\n",
      "Evaluating: 100%|██████████| 34/34 [00:01<00:00, 24.60it/s]\n",
      "Training:   0%|          | 0/302 [00:00<?, ?it/s]"
     ]
    },
    {
     "name": "stdout",
     "output_type": "stream",
     "text": [
      "epoch 46, train loss: 0.207, valid rmspe: 0.189\n"
     ]
    },
    {
     "name": "stderr",
     "output_type": "stream",
     "text": [
      "Training: 100%|██████████| 302/302 [00:13<00:00, 23.21it/s]\n",
      "Evaluating: 100%|██████████| 34/34 [00:01<00:00, 25.74it/s]\n",
      "Training:   0%|          | 0/302 [00:00<?, ?it/s]"
     ]
    },
    {
     "name": "stdout",
     "output_type": "stream",
     "text": [
      "epoch 47, train loss: 0.204, valid rmspe: 0.185\n"
     ]
    },
    {
     "name": "stderr",
     "output_type": "stream",
     "text": [
      "Training: 100%|██████████| 302/302 [00:12<00:00, 23.73it/s]\n",
      "Evaluating: 100%|██████████| 34/34 [00:01<00:00, 24.86it/s]\n",
      "Training:   0%|          | 0/302 [00:00<?, ?it/s]"
     ]
    },
    {
     "name": "stdout",
     "output_type": "stream",
     "text": [
      "epoch 48, train loss: 0.204, valid rmspe: 0.183\n"
     ]
    },
    {
     "name": "stderr",
     "output_type": "stream",
     "text": [
      "Training: 100%|██████████| 302/302 [00:13<00:00, 22.34it/s]\n",
      "Evaluating: 100%|██████████| 34/34 [00:01<00:00, 25.97it/s]\n"
     ]
    },
    {
     "name": "stdout",
     "output_type": "stream",
     "text": [
      "epoch 49, train loss: 0.198, valid rmspe: 0.192\n",
      "Epoch    50: reducing learning rate of group 0 to 3.4200e-05.\n"
     ]
    },
    {
     "name": "stderr",
     "output_type": "stream",
     "text": [
      "Training:   0%|          | 0/302 [00:00<?, ?it/s]"
     ]
    },
    {
     "name": "stdout",
     "output_type": "stream",
     "text": [
      "fold 0 train: (386036, 591), valid: (42896, 591)\n"
     ]
    },
    {
     "name": "stderr",
     "output_type": "stream",
     "text": [
      "Training: 100%|██████████| 302/302 [00:14<00:00, 20.83it/s]\n",
      "Evaluating: 100%|██████████| 34/34 [00:01<00:00, 20.18it/s]\n",
      "Training:   0%|          | 0/302 [00:00<?, ?it/s]"
     ]
    },
    {
     "name": "stdout",
     "output_type": "stream",
     "text": [
      "epoch 0, train loss: 31.151, valid rmspe: 6.718\n",
      "new best:6.717589378356934\n"
     ]
    },
    {
     "name": "stderr",
     "output_type": "stream",
     "text": [
      "Training: 100%|██████████| 302/302 [00:16<00:00, 18.09it/s]\n",
      "Evaluating: 100%|██████████| 34/34 [00:01<00:00, 21.11it/s]\n",
      "Training:   0%|          | 0/302 [00:00<?, ?it/s]"
     ]
    },
    {
     "name": "stdout",
     "output_type": "stream",
     "text": [
      "epoch 1, train loss: 8.873, valid rmspe: 9.657\n"
     ]
    },
    {
     "name": "stderr",
     "output_type": "stream",
     "text": [
      "Training: 100%|██████████| 302/302 [00:17<00:00, 17.70it/s]\n",
      "Evaluating: 100%|██████████| 34/34 [00:01<00:00, 18.09it/s]\n",
      "Training:   0%|          | 0/302 [00:00<?, ?it/s]"
     ]
    },
    {
     "name": "stdout",
     "output_type": "stream",
     "text": [
      "epoch 2, train loss: 7.172, valid rmspe: 2.419\n",
      "new best:2.4192187786102295\n"
     ]
    },
    {
     "name": "stderr",
     "output_type": "stream",
     "text": [
      "Training: 100%|██████████| 302/302 [00:15<00:00, 18.89it/s]\n",
      "Evaluating: 100%|██████████| 34/34 [00:01<00:00, 26.19it/s]\n",
      "Training:   0%|          | 0/302 [00:00<?, ?it/s]"
     ]
    },
    {
     "name": "stdout",
     "output_type": "stream",
     "text": [
      "epoch 3, train loss: 4.276, valid rmspe: 5.929\n"
     ]
    },
    {
     "name": "stderr",
     "output_type": "stream",
     "text": [
      "Training: 100%|██████████| 302/302 [00:13<00:00, 22.83it/s]\n",
      "Evaluating: 100%|██████████| 34/34 [00:01<00:00, 21.48it/s]\n",
      "Training:   0%|          | 0/302 [00:00<?, ?it/s]"
     ]
    },
    {
     "name": "stdout",
     "output_type": "stream",
     "text": [
      "epoch 4, train loss: 2.696, valid rmspe: 1.634\n",
      "new best:1.6336599588394165\n"
     ]
    },
    {
     "name": "stderr",
     "output_type": "stream",
     "text": [
      "Training: 100%|██████████| 302/302 [00:12<00:00, 23.53it/s]\n",
      "Evaluating: 100%|██████████| 34/34 [00:01<00:00, 25.13it/s]\n",
      "Training:   0%|          | 0/302 [00:00<?, ?it/s]"
     ]
    },
    {
     "name": "stdout",
     "output_type": "stream",
     "text": [
      "epoch 5, train loss: 2.681, valid rmspe: 2.054\n"
     ]
    },
    {
     "name": "stderr",
     "output_type": "stream",
     "text": [
      "Training: 100%|██████████| 302/302 [00:13<00:00, 22.40it/s]\n",
      "Evaluating: 100%|██████████| 34/34 [00:01<00:00, 25.29it/s]\n",
      "Training:   0%|          | 0/302 [00:00<?, ?it/s]"
     ]
    },
    {
     "name": "stdout",
     "output_type": "stream",
     "text": [
      "epoch 6, train loss: 1.697, valid rmspe: 0.782\n",
      "new best:0.7821416258811951\n"
     ]
    },
    {
     "name": "stderr",
     "output_type": "stream",
     "text": [
      "Training: 100%|██████████| 302/302 [00:12<00:00, 23.60it/s]\n",
      "Evaluating: 100%|██████████| 34/34 [00:01<00:00, 21.67it/s]\n",
      "Training:   0%|          | 0/302 [00:00<?, ?it/s]"
     ]
    },
    {
     "name": "stdout",
     "output_type": "stream",
     "text": [
      "epoch 7, train loss: 1.457, valid rmspe: 0.920\n"
     ]
    },
    {
     "name": "stderr",
     "output_type": "stream",
     "text": [
      "Training: 100%|██████████| 302/302 [00:13<00:00, 23.06it/s]\n",
      "Evaluating: 100%|██████████| 34/34 [00:01<00:00, 23.43it/s]\n",
      "Training:   0%|          | 0/302 [00:00<?, ?it/s]"
     ]
    },
    {
     "name": "stdout",
     "output_type": "stream",
     "text": [
      "epoch 8, train loss: 1.857, valid rmspe: 1.468\n"
     ]
    },
    {
     "name": "stderr",
     "output_type": "stream",
     "text": [
      "Training: 100%|██████████| 302/302 [00:12<00:00, 23.87it/s]\n",
      "Evaluating: 100%|██████████| 34/34 [00:01<00:00, 25.30it/s]\n",
      "Training:   0%|          | 0/302 [00:00<?, ?it/s]"
     ]
    },
    {
     "name": "stdout",
     "output_type": "stream",
     "text": [
      "epoch 9, train loss: 1.040, valid rmspe: 0.932\n"
     ]
    },
    {
     "name": "stderr",
     "output_type": "stream",
     "text": [
      "Training: 100%|██████████| 302/302 [00:12<00:00, 23.40it/s]\n",
      "Evaluating: 100%|██████████| 34/34 [00:01<00:00, 25.28it/s]\n",
      "Training:   0%|          | 0/302 [00:00<?, ?it/s]"
     ]
    },
    {
     "name": "stdout",
     "output_type": "stream",
     "text": [
      "epoch 10, train loss: 1.138, valid rmspe: 0.796\n"
     ]
    },
    {
     "name": "stderr",
     "output_type": "stream",
     "text": [
      "Training: 100%|██████████| 302/302 [00:13<00:00, 22.13it/s]\n",
      "Evaluating: 100%|██████████| 34/34 [00:01<00:00, 24.49it/s]\n",
      "Training:   0%|          | 0/302 [00:00<?, ?it/s]"
     ]
    },
    {
     "name": "stdout",
     "output_type": "stream",
     "text": [
      "epoch 11, train loss: 0.787, valid rmspe: 0.936\n"
     ]
    },
    {
     "name": "stderr",
     "output_type": "stream",
     "text": [
      "Training: 100%|██████████| 302/302 [00:12<00:00, 23.76it/s]\n",
      "Evaluating: 100%|██████████| 34/34 [00:01<00:00, 24.83it/s]\n",
      "Training:   0%|          | 0/302 [00:00<?, ?it/s]"
     ]
    },
    {
     "name": "stdout",
     "output_type": "stream",
     "text": [
      "epoch 12, train loss: 0.589, valid rmspe: 0.261\n",
      "new best:0.26066702604293823\n"
     ]
    },
    {
     "name": "stderr",
     "output_type": "stream",
     "text": [
      "Training: 100%|██████████| 302/302 [00:13<00:00, 22.06it/s]\n",
      "Evaluating: 100%|██████████| 34/34 [00:01<00:00, 25.02it/s]\n",
      "Training:   0%|          | 0/302 [00:00<?, ?it/s]"
     ]
    },
    {
     "name": "stdout",
     "output_type": "stream",
     "text": [
      "epoch 13, train loss: 0.547, valid rmspe: 0.535\n"
     ]
    },
    {
     "name": "stderr",
     "output_type": "stream",
     "text": [
      "Training: 100%|██████████| 302/302 [00:12<00:00, 23.40it/s]\n",
      "Evaluating: 100%|██████████| 34/34 [00:01<00:00, 25.54it/s]\n",
      "Training:   0%|          | 0/302 [00:00<?, ?it/s]"
     ]
    },
    {
     "name": "stdout",
     "output_type": "stream",
     "text": [
      "epoch 14, train loss: 0.347, valid rmspe: 0.362\n"
     ]
    },
    {
     "name": "stderr",
     "output_type": "stream",
     "text": [
      "Training: 100%|██████████| 302/302 [00:13<00:00, 22.97it/s]\n",
      "Evaluating: 100%|██████████| 34/34 [00:01<00:00, 25.55it/s]\n",
      "Training:   0%|          | 0/302 [00:00<?, ?it/s]"
     ]
    },
    {
     "name": "stdout",
     "output_type": "stream",
     "text": [
      "epoch 15, train loss: 0.340, valid rmspe: 0.356\n"
     ]
    },
    {
     "name": "stderr",
     "output_type": "stream",
     "text": [
      "Training: 100%|██████████| 302/302 [00:12<00:00, 23.97it/s]\n",
      "Evaluating: 100%|██████████| 34/34 [00:01<00:00, 25.41it/s]\n",
      "Training:   0%|          | 0/302 [00:00<?, ?it/s]"
     ]
    },
    {
     "name": "stdout",
     "output_type": "stream",
     "text": [
      "epoch 16, train loss: 0.342, valid rmspe: 0.517\n"
     ]
    },
    {
     "name": "stderr",
     "output_type": "stream",
     "text": [
      "Training: 100%|██████████| 302/302 [00:12<00:00, 23.55it/s]\n",
      "Evaluating: 100%|██████████| 34/34 [00:01<00:00, 17.98it/s]\n",
      "Training:   0%|          | 0/302 [00:00<?, ?it/s]"
     ]
    },
    {
     "name": "stdout",
     "output_type": "stream",
     "text": [
      "epoch 17, train loss: 0.330, valid rmspe: 0.291\n"
     ]
    },
    {
     "name": "stderr",
     "output_type": "stream",
     "text": [
      "Training: 100%|██████████| 302/302 [00:12<00:00, 23.82it/s]\n",
      "Evaluating: 100%|██████████| 34/34 [00:01<00:00, 25.17it/s]\n",
      "Training:   0%|          | 0/302 [00:00<?, ?it/s]"
     ]
    },
    {
     "name": "stdout",
     "output_type": "stream",
     "text": [
      "epoch 18, train loss: 0.283, valid rmspe: 0.302\n"
     ]
    },
    {
     "name": "stderr",
     "output_type": "stream",
     "text": [
      "Training: 100%|██████████| 302/302 [00:12<00:00, 23.89it/s]\n",
      "Evaluating: 100%|██████████| 34/34 [00:01<00:00, 25.80it/s]\n",
      "Training:   0%|          | 0/302 [00:00<?, ?it/s]"
     ]
    },
    {
     "name": "stdout",
     "output_type": "stream",
     "text": [
      "epoch 19, train loss: 0.251, valid rmspe: 0.184\n",
      "new best:0.18385633826255798\n"
     ]
    },
    {
     "name": "stderr",
     "output_type": "stream",
     "text": [
      "Training: 100%|██████████| 302/302 [00:15<00:00, 18.88it/s]\n",
      "Evaluating: 100%|██████████| 34/34 [00:01<00:00, 20.32it/s]\n",
      "Training:   0%|          | 0/302 [00:00<?, ?it/s]"
     ]
    },
    {
     "name": "stdout",
     "output_type": "stream",
     "text": [
      "epoch 20, train loss: 0.235, valid rmspe: 0.194\n"
     ]
    },
    {
     "name": "stderr",
     "output_type": "stream",
     "text": [
      "Training: 100%|██████████| 302/302 [00:16<00:00, 18.27it/s]\n",
      "Evaluating: 100%|██████████| 34/34 [00:02<00:00, 13.55it/s]\n",
      "Training:   0%|          | 0/302 [00:00<?, ?it/s]"
     ]
    },
    {
     "name": "stdout",
     "output_type": "stream",
     "text": [
      "epoch 21, train loss: 0.208, valid rmspe: 0.188\n"
     ]
    },
    {
     "name": "stderr",
     "output_type": "stream",
     "text": [
      "Training: 100%|██████████| 302/302 [00:16<00:00, 18.38it/s]\n",
      "Evaluating: 100%|██████████| 34/34 [00:01<00:00, 21.03it/s]\n",
      "Training:   0%|          | 0/302 [00:00<?, ?it/s]"
     ]
    },
    {
     "name": "stdout",
     "output_type": "stream",
     "text": [
      "epoch 22, train loss: 0.214, valid rmspe: 0.211\n"
     ]
    },
    {
     "name": "stderr",
     "output_type": "stream",
     "text": [
      "Training: 100%|██████████| 302/302 [00:16<00:00, 18.06it/s]\n",
      "Evaluating: 100%|██████████| 34/34 [00:01<00:00, 25.33it/s]\n",
      "Training:   0%|          | 0/302 [00:00<?, ?it/s]"
     ]
    },
    {
     "name": "stdout",
     "output_type": "stream",
     "text": [
      "epoch 23, train loss: 0.218, valid rmspe: 0.183\n",
      "new best:0.18280474841594696\n"
     ]
    },
    {
     "name": "stderr",
     "output_type": "stream",
     "text": [
      "Training: 100%|██████████| 302/302 [00:12<00:00, 23.73it/s]\n",
      "Evaluating: 100%|██████████| 34/34 [00:01<00:00, 25.73it/s]\n",
      "Training:   0%|          | 0/302 [00:00<?, ?it/s]"
     ]
    },
    {
     "name": "stdout",
     "output_type": "stream",
     "text": [
      "epoch 24, train loss: 0.209, valid rmspe: 0.197\n"
     ]
    },
    {
     "name": "stderr",
     "output_type": "stream",
     "text": [
      "Training: 100%|██████████| 302/302 [00:12<00:00, 23.97it/s]\n",
      "Evaluating: 100%|██████████| 34/34 [00:01<00:00, 23.93it/s]\n",
      "Training:   0%|          | 0/302 [00:00<?, ?it/s]"
     ]
    },
    {
     "name": "stdout",
     "output_type": "stream",
     "text": [
      "epoch 25, train loss: 0.215, valid rmspe: 0.182\n",
      "new best:0.18246382474899292\n"
     ]
    },
    {
     "name": "stderr",
     "output_type": "stream",
     "text": [
      "Training: 100%|██████████| 302/302 [00:13<00:00, 22.70it/s]\n",
      "Evaluating: 100%|██████████| 34/34 [00:01<00:00, 25.57it/s]\n",
      "Training:   0%|          | 0/302 [00:00<?, ?it/s]"
     ]
    },
    {
     "name": "stdout",
     "output_type": "stream",
     "text": [
      "epoch 26, train loss: 0.208, valid rmspe: 0.207\n"
     ]
    },
    {
     "name": "stderr",
     "output_type": "stream",
     "text": [
      "Training: 100%|██████████| 302/302 [00:12<00:00, 23.73it/s]\n",
      "Evaluating: 100%|██████████| 34/34 [00:01<00:00, 25.53it/s]\n",
      "Training:   0%|          | 0/302 [00:00<?, ?it/s]"
     ]
    },
    {
     "name": "stdout",
     "output_type": "stream",
     "text": [
      "epoch 27, train loss: 0.208, valid rmspe: 0.187\n"
     ]
    },
    {
     "name": "stderr",
     "output_type": "stream",
     "text": [
      "Training: 100%|██████████| 302/302 [00:13<00:00, 22.81it/s]\n",
      "Evaluating: 100%|██████████| 34/34 [00:01<00:00, 25.40it/s]\n",
      "Training:   0%|          | 0/302 [00:00<?, ?it/s]"
     ]
    },
    {
     "name": "stdout",
     "output_type": "stream",
     "text": [
      "epoch 28, train loss: 0.211, valid rmspe: 0.221\n"
     ]
    },
    {
     "name": "stderr",
     "output_type": "stream",
     "text": [
      "Training: 100%|██████████| 302/302 [00:12<00:00, 23.68it/s]\n",
      "Evaluating: 100%|██████████| 34/34 [00:01<00:00, 24.98it/s]\n",
      "Training:   0%|          | 0/302 [00:00<?, ?it/s]"
     ]
    },
    {
     "name": "stdout",
     "output_type": "stream",
     "text": [
      "epoch 29, train loss: 0.213, valid rmspe: 0.184\n"
     ]
    },
    {
     "name": "stderr",
     "output_type": "stream",
     "text": [
      "Training: 100%|██████████| 302/302 [00:13<00:00, 22.77it/s]\n",
      "Evaluating: 100%|██████████| 34/34 [00:01<00:00, 25.27it/s]\n",
      "Training:   0%|          | 0/302 [00:00<?, ?it/s]"
     ]
    },
    {
     "name": "stdout",
     "output_type": "stream",
     "text": [
      "epoch 30, train loss: 0.207, valid rmspe: 0.203\n"
     ]
    },
    {
     "name": "stderr",
     "output_type": "stream",
     "text": [
      "Training: 100%|██████████| 302/302 [00:12<00:00, 23.92it/s]\n",
      "Evaluating: 100%|██████████| 34/34 [00:01<00:00, 25.43it/s]\n",
      "Training:   0%|          | 0/302 [00:00<?, ?it/s]"
     ]
    },
    {
     "name": "stdout",
     "output_type": "stream",
     "text": [
      "epoch 31, train loss: 0.212, valid rmspe: 0.182\n",
      "new best:0.18245254456996918\n"
     ]
    },
    {
     "name": "stderr",
     "output_type": "stream",
     "text": [
      "Training: 100%|██████████| 302/302 [00:12<00:00, 23.77it/s]\n",
      "Evaluating: 100%|██████████| 34/34 [00:02<00:00, 16.31it/s]\n",
      "Training:   0%|          | 0/302 [00:00<?, ?it/s]"
     ]
    },
    {
     "name": "stdout",
     "output_type": "stream",
     "text": [
      "epoch 32, train loss: 0.205, valid rmspe: 0.182\n",
      "new best:0.18181416392326355\n"
     ]
    },
    {
     "name": "stderr",
     "output_type": "stream",
     "text": [
      "Training: 100%|██████████| 302/302 [00:12<00:00, 24.02it/s]\n",
      "Evaluating: 100%|██████████| 34/34 [00:01<00:00, 25.07it/s]\n",
      "Training:   0%|          | 0/302 [00:00<?, ?it/s]"
     ]
    },
    {
     "name": "stdout",
     "output_type": "stream",
     "text": [
      "epoch 33, train loss: 0.207, valid rmspe: 0.189\n"
     ]
    },
    {
     "name": "stderr",
     "output_type": "stream",
     "text": [
      "Training: 100%|██████████| 302/302 [00:12<00:00, 23.83it/s]\n",
      "Evaluating: 100%|██████████| 34/34 [00:01<00:00, 25.30it/s]\n",
      "Training:   0%|          | 0/302 [00:00<?, ?it/s]"
     ]
    },
    {
     "name": "stdout",
     "output_type": "stream",
     "text": [
      "epoch 34, train loss: 0.206, valid rmspe: 0.185\n"
     ]
    },
    {
     "name": "stderr",
     "output_type": "stream",
     "text": [
      "Training: 100%|██████████| 302/302 [00:13<00:00, 22.91it/s]\n",
      "Evaluating: 100%|██████████| 34/34 [00:01<00:00, 25.70it/s]\n",
      "Training:   0%|          | 0/302 [00:00<?, ?it/s]"
     ]
    },
    {
     "name": "stdout",
     "output_type": "stream",
     "text": [
      "epoch 35, train loss: 0.209, valid rmspe: 0.189\n"
     ]
    },
    {
     "name": "stderr",
     "output_type": "stream",
     "text": [
      "Training: 100%|██████████| 302/302 [00:13<00:00, 23.08it/s]\n",
      "Evaluating: 100%|██████████| 34/34 [00:01<00:00, 25.58it/s]\n",
      "Training:   0%|          | 0/302 [00:00<?, ?it/s]"
     ]
    },
    {
     "name": "stdout",
     "output_type": "stream",
     "text": [
      "epoch 36, train loss: 0.210, valid rmspe: 0.188\n"
     ]
    },
    {
     "name": "stderr",
     "output_type": "stream",
     "text": [
      "Training: 100%|██████████| 302/302 [00:13<00:00, 22.89it/s]\n",
      "Evaluating: 100%|██████████| 34/34 [00:01<00:00, 25.22it/s]\n",
      "Training:   0%|          | 0/302 [00:00<?, ?it/s]"
     ]
    },
    {
     "name": "stdout",
     "output_type": "stream",
     "text": [
      "epoch 37, train loss: 0.213, valid rmspe: 0.191\n"
     ]
    },
    {
     "name": "stderr",
     "output_type": "stream",
     "text": [
      "Training: 100%|██████████| 302/302 [00:12<00:00, 23.89it/s]\n",
      "Evaluating: 100%|██████████| 34/34 [00:01<00:00, 25.76it/s]\n",
      "Training:   0%|          | 0/302 [00:00<?, ?it/s]"
     ]
    },
    {
     "name": "stdout",
     "output_type": "stream",
     "text": [
      "epoch 38, train loss: 0.209, valid rmspe: 0.183\n"
     ]
    },
    {
     "name": "stderr",
     "output_type": "stream",
     "text": [
      "Training: 100%|██████████| 302/302 [00:13<00:00, 22.38it/s]\n",
      "Evaluating: 100%|██████████| 34/34 [00:01<00:00, 25.80it/s]\n",
      "Training:   0%|          | 0/302 [00:00<?, ?it/s]"
     ]
    },
    {
     "name": "stdout",
     "output_type": "stream",
     "text": [
      "epoch 39, train loss: 0.212, valid rmspe: 0.188\n"
     ]
    },
    {
     "name": "stderr",
     "output_type": "stream",
     "text": [
      "Training: 100%|██████████| 302/302 [00:12<00:00, 23.79it/s]\n",
      "Evaluating: 100%|██████████| 34/34 [00:01<00:00, 25.59it/s]\n",
      "Training:   0%|          | 0/302 [00:00<?, ?it/s]"
     ]
    },
    {
     "name": "stdout",
     "output_type": "stream",
     "text": [
      "epoch 40, train loss: 0.209, valid rmspe: 0.206\n"
     ]
    },
    {
     "name": "stderr",
     "output_type": "stream",
     "text": [
      "Training: 100%|██████████| 302/302 [00:12<00:00, 23.71it/s]\n",
      "Evaluating: 100%|██████████| 34/34 [00:01<00:00, 25.30it/s]\n",
      "Training:   0%|          | 0/302 [00:00<?, ?it/s]"
     ]
    },
    {
     "name": "stdout",
     "output_type": "stream",
     "text": [
      "epoch 41, train loss: 0.211, valid rmspe: 0.201\n",
      "Epoch    42: reducing learning rate of group 0 to 1.1400e-04.\n"
     ]
    },
    {
     "name": "stderr",
     "output_type": "stream",
     "text": [
      "Training: 100%|██████████| 302/302 [00:13<00:00, 22.59it/s]\n",
      "Evaluating: 100%|██████████| 34/34 [00:01<00:00, 22.21it/s]\n",
      "Training:   0%|          | 0/302 [00:00<?, ?it/s]"
     ]
    },
    {
     "name": "stdout",
     "output_type": "stream",
     "text": [
      "epoch 42, train loss: 0.196, valid rmspe: 0.185\n"
     ]
    },
    {
     "name": "stderr",
     "output_type": "stream",
     "text": [
      "Training: 100%|██████████| 302/302 [00:12<00:00, 23.60it/s]\n",
      "Evaluating: 100%|██████████| 34/34 [00:01<00:00, 25.52it/s]\n",
      "Training:   0%|          | 0/302 [00:00<?, ?it/s]"
     ]
    },
    {
     "name": "stdout",
     "output_type": "stream",
     "text": [
      "epoch 43, train loss: 0.195, valid rmspe: 0.184\n"
     ]
    },
    {
     "name": "stderr",
     "output_type": "stream",
     "text": [
      "Training: 100%|██████████| 302/302 [00:13<00:00, 22.74it/s]\n",
      "Evaluating: 100%|██████████| 34/34 [00:01<00:00, 26.09it/s]\n",
      "Training:   0%|          | 0/302 [00:00<?, ?it/s]"
     ]
    },
    {
     "name": "stdout",
     "output_type": "stream",
     "text": [
      "epoch 44, train loss: 0.194, valid rmspe: 0.184\n"
     ]
    },
    {
     "name": "stderr",
     "output_type": "stream",
     "text": [
      "Training: 100%|██████████| 302/302 [00:12<00:00, 23.67it/s]\n",
      "Evaluating: 100%|██████████| 34/34 [00:01<00:00, 22.13it/s]\n",
      "Training:   0%|          | 0/302 [00:00<?, ?it/s]"
     ]
    },
    {
     "name": "stdout",
     "output_type": "stream",
     "text": [
      "epoch 45, train loss: 0.194, valid rmspe: 0.182\n",
      "new best:0.18170525133609772\n"
     ]
    },
    {
     "name": "stderr",
     "output_type": "stream",
     "text": [
      "Training: 100%|██████████| 302/302 [00:13<00:00, 22.90it/s]\n",
      "Evaluating: 100%|██████████| 34/34 [00:01<00:00, 25.51it/s]\n",
      "Training:   0%|          | 0/302 [00:00<?, ?it/s]"
     ]
    },
    {
     "name": "stdout",
     "output_type": "stream",
     "text": [
      "epoch 46, train loss: 0.194, valid rmspe: 0.184\n"
     ]
    },
    {
     "name": "stderr",
     "output_type": "stream",
     "text": [
      "Training: 100%|██████████| 302/302 [00:12<00:00, 24.14it/s]\n",
      "Evaluating: 100%|██████████| 34/34 [00:01<00:00, 25.52it/s]\n",
      "Training:   0%|          | 0/302 [00:00<?, ?it/s]"
     ]
    },
    {
     "name": "stdout",
     "output_type": "stream",
     "text": [
      "epoch 47, train loss: 0.194, valid rmspe: 0.182\n"
     ]
    },
    {
     "name": "stderr",
     "output_type": "stream",
     "text": [
      "Training: 100%|██████████| 302/302 [00:12<00:00, 24.08it/s]\n",
      "Evaluating: 100%|██████████| 34/34 [00:01<00:00, 24.59it/s]\n",
      "Training:   0%|          | 0/302 [00:00<?, ?it/s]"
     ]
    },
    {
     "name": "stdout",
     "output_type": "stream",
     "text": [
      "epoch 48, train loss: 0.195, valid rmspe: 0.183\n"
     ]
    },
    {
     "name": "stderr",
     "output_type": "stream",
     "text": [
      "Training: 100%|██████████| 302/302 [00:13<00:00, 22.43it/s]\n",
      "Evaluating: 100%|██████████| 34/34 [00:01<00:00, 25.53it/s]\n"
     ]
    },
    {
     "name": "stdout",
     "output_type": "stream",
     "text": [
      "epoch 49, train loss: 0.194, valid rmspe: 0.185\n"
     ]
    },
    {
     "name": "stderr",
     "output_type": "stream",
     "text": [
      "Training:   0%|          | 0/302 [00:00<?, ?it/s]"
     ]
    },
    {
     "name": "stdout",
     "output_type": "stream",
     "text": [
      "fold 0 train: (386036, 591), valid: (42896, 591)\n"
     ]
    },
    {
     "name": "stderr",
     "output_type": "stream",
     "text": [
      "Training: 100%|██████████| 302/302 [00:13<00:00, 22.64it/s]\n",
      "Evaluating: 100%|██████████| 34/34 [00:01<00:00, 25.26it/s]\n",
      "Training:   0%|          | 0/302 [00:00<?, ?it/s]"
     ]
    },
    {
     "name": "stdout",
     "output_type": "stream",
     "text": [
      "epoch 0, train loss: 31.107, valid rmspe: 7.231\n",
      "new best:7.230500221252441\n"
     ]
    },
    {
     "name": "stderr",
     "output_type": "stream",
     "text": [
      "Training: 100%|██████████| 302/302 [00:12<00:00, 23.48it/s]\n",
      "Evaluating: 100%|██████████| 34/34 [00:01<00:00, 25.69it/s]\n",
      "Training:   0%|          | 0/302 [00:00<?, ?it/s]"
     ]
    },
    {
     "name": "stdout",
     "output_type": "stream",
     "text": [
      "epoch 1, train loss: 8.856, valid rmspe: 6.785\n",
      "new best:6.785274982452393\n"
     ]
    },
    {
     "name": "stderr",
     "output_type": "stream",
     "text": [
      "Training: 100%|██████████| 302/302 [00:12<00:00, 23.69it/s]\n",
      "Evaluating: 100%|██████████| 34/34 [00:02<00:00, 16.21it/s]\n",
      "Training:   0%|          | 0/302 [00:00<?, ?it/s]"
     ]
    },
    {
     "name": "stdout",
     "output_type": "stream",
     "text": [
      "epoch 2, train loss: 5.506, valid rmspe: 1.750\n",
      "new best:1.7495239973068237\n"
     ]
    },
    {
     "name": "stderr",
     "output_type": "stream",
     "text": [
      "Training: 100%|██████████| 302/302 [00:12<00:00, 23.68it/s]\n",
      "Evaluating: 100%|██████████| 34/34 [00:01<00:00, 25.26it/s]\n",
      "Training:   0%|          | 0/302 [00:00<?, ?it/s]"
     ]
    },
    {
     "name": "stdout",
     "output_type": "stream",
     "text": [
      "epoch 3, train loss: 3.205, valid rmspe: 5.269\n"
     ]
    },
    {
     "name": "stderr",
     "output_type": "stream",
     "text": [
      "Training: 100%|██████████| 302/302 [00:13<00:00, 23.17it/s]\n",
      "Evaluating: 100%|██████████| 34/34 [00:01<00:00, 25.62it/s]\n",
      "Training:   0%|          | 0/302 [00:00<?, ?it/s]"
     ]
    },
    {
     "name": "stdout",
     "output_type": "stream",
     "text": [
      "epoch 4, train loss: 2.869, valid rmspe: 2.831\n"
     ]
    },
    {
     "name": "stderr",
     "output_type": "stream",
     "text": [
      "Training: 100%|██████████| 302/302 [00:13<00:00, 22.81it/s]\n",
      "Evaluating: 100%|██████████| 34/34 [00:01<00:00, 24.83it/s]\n",
      "Training:   0%|          | 0/302 [00:00<?, ?it/s]"
     ]
    },
    {
     "name": "stdout",
     "output_type": "stream",
     "text": [
      "epoch 5, train loss: 3.160, valid rmspe: 1.714\n",
      "new best:1.7139859199523926\n"
     ]
    },
    {
     "name": "stderr",
     "output_type": "stream",
     "text": [
      "Training: 100%|██████████| 302/302 [00:14<00:00, 20.89it/s]\n",
      "Evaluating: 100%|██████████| 34/34 [00:01<00:00, 20.95it/s]\n",
      "Training:   0%|          | 0/302 [00:00<?, ?it/s]"
     ]
    },
    {
     "name": "stdout",
     "output_type": "stream",
     "text": [
      "epoch 6, train loss: 2.212, valid rmspe: 3.982\n"
     ]
    },
    {
     "name": "stderr",
     "output_type": "stream",
     "text": [
      "Training: 100%|██████████| 302/302 [00:17<00:00, 17.42it/s]\n",
      "Evaluating: 100%|██████████| 34/34 [00:01<00:00, 19.23it/s]\n",
      "Training:   0%|          | 0/302 [00:00<?, ?it/s]"
     ]
    },
    {
     "name": "stdout",
     "output_type": "stream",
     "text": [
      "epoch 7, train loss: 2.038, valid rmspe: 1.598\n",
      "new best:1.5982551574707031\n"
     ]
    },
    {
     "name": "stderr",
     "output_type": "stream",
     "text": [
      "Training: 100%|██████████| 302/302 [00:16<00:00, 18.10it/s]\n",
      "Evaluating: 100%|██████████| 34/34 [00:01<00:00, 20.61it/s]\n",
      "Training:   0%|          | 0/302 [00:00<?, ?it/s]"
     ]
    },
    {
     "name": "stdout",
     "output_type": "stream",
     "text": [
      "epoch 8, train loss: 1.204, valid rmspe: 1.253\n",
      "new best:1.2529053688049316\n"
     ]
    },
    {
     "name": "stderr",
     "output_type": "stream",
     "text": [
      "Training: 100%|██████████| 302/302 [00:17<00:00, 17.32it/s]\n",
      "Evaluating: 100%|██████████| 34/34 [00:01<00:00, 20.91it/s]\n",
      "Training:   0%|          | 0/302 [00:00<?, ?it/s]"
     ]
    },
    {
     "name": "stdout",
     "output_type": "stream",
     "text": [
      "epoch 9, train loss: 1.026, valid rmspe: 0.347\n",
      "new best:0.34684890508651733\n"
     ]
    },
    {
     "name": "stderr",
     "output_type": "stream",
     "text": [
      "Training: 100%|██████████| 302/302 [00:13<00:00, 22.84it/s]\n",
      "Evaluating: 100%|██████████| 34/34 [00:01<00:00, 22.92it/s]\n",
      "Training:   0%|          | 0/302 [00:00<?, ?it/s]"
     ]
    },
    {
     "name": "stdout",
     "output_type": "stream",
     "text": [
      "epoch 10, train loss: 0.747, valid rmspe: 0.351\n"
     ]
    },
    {
     "name": "stderr",
     "output_type": "stream",
     "text": [
      "Training: 100%|██████████| 302/302 [00:13<00:00, 22.31it/s]\n",
      "Evaluating: 100%|██████████| 34/34 [00:01<00:00, 25.79it/s]\n",
      "Training:   0%|          | 0/302 [00:00<?, ?it/s]"
     ]
    },
    {
     "name": "stdout",
     "output_type": "stream",
     "text": [
      "epoch 11, train loss: 0.481, valid rmspe: 0.301\n",
      "new best:0.3011411130428314\n"
     ]
    },
    {
     "name": "stderr",
     "output_type": "stream",
     "text": [
      "Training: 100%|██████████| 302/302 [00:12<00:00, 23.86it/s]\n",
      "Evaluating: 100%|██████████| 34/34 [00:01<00:00, 26.16it/s]\n",
      "Training:   0%|          | 0/302 [00:00<?, ?it/s]"
     ]
    },
    {
     "name": "stdout",
     "output_type": "stream",
     "text": [
      "epoch 12, train loss: 0.416, valid rmspe: 0.233\n",
      "new best:0.23277437686920166\n"
     ]
    },
    {
     "name": "stderr",
     "output_type": "stream",
     "text": [
      "Training: 100%|██████████| 302/302 [00:13<00:00, 22.77it/s]\n",
      "Evaluating: 100%|██████████| 34/34 [00:01<00:00, 25.00it/s]\n",
      "Training:   0%|          | 0/302 [00:00<?, ?it/s]"
     ]
    },
    {
     "name": "stdout",
     "output_type": "stream",
     "text": [
      "epoch 13, train loss: 0.387, valid rmspe: 0.330\n"
     ]
    },
    {
     "name": "stderr",
     "output_type": "stream",
     "text": [
      "Training: 100%|██████████| 302/302 [00:12<00:00, 23.30it/s]\n",
      "Evaluating: 100%|██████████| 34/34 [00:01<00:00, 25.53it/s]\n",
      "Training:   0%|          | 0/302 [00:00<?, ?it/s]"
     ]
    },
    {
     "name": "stdout",
     "output_type": "stream",
     "text": [
      "epoch 14, train loss: 0.348, valid rmspe: 0.260\n"
     ]
    },
    {
     "name": "stderr",
     "output_type": "stream",
     "text": [
      "Training: 100%|██████████| 302/302 [00:13<00:00, 22.89it/s]\n",
      "Evaluating: 100%|██████████| 34/34 [00:01<00:00, 25.55it/s]\n",
      "Training:   0%|          | 0/302 [00:00<?, ?it/s]"
     ]
    },
    {
     "name": "stdout",
     "output_type": "stream",
     "text": [
      "epoch 15, train loss: 0.303, valid rmspe: 0.210\n",
      "new best:0.21001020073890686\n"
     ]
    },
    {
     "name": "stderr",
     "output_type": "stream",
     "text": [
      "Training: 100%|██████████| 302/302 [00:12<00:00, 23.74it/s]\n",
      "Evaluating: 100%|██████████| 34/34 [00:01<00:00, 25.95it/s]\n",
      "Training:   0%|          | 0/302 [00:00<?, ?it/s]"
     ]
    },
    {
     "name": "stdout",
     "output_type": "stream",
     "text": [
      "epoch 16, train loss: 0.249, valid rmspe: 0.195\n",
      "new best:0.19526390731334686\n"
     ]
    },
    {
     "name": "stderr",
     "output_type": "stream",
     "text": [
      "Training: 100%|██████████| 302/302 [00:13<00:00, 22.70it/s]\n",
      "Evaluating: 100%|██████████| 34/34 [00:01<00:00, 22.12it/s]\n",
      "Training:   0%|          | 0/302 [00:00<?, ?it/s]"
     ]
    },
    {
     "name": "stdout",
     "output_type": "stream",
     "text": [
      "epoch 17, train loss: 0.215, valid rmspe: 0.192\n",
      "new best:0.1924525648355484\n"
     ]
    },
    {
     "name": "stderr",
     "output_type": "stream",
     "text": [
      "Training: 100%|██████████| 302/302 [00:12<00:00, 23.88it/s]\n",
      "Evaluating: 100%|██████████| 34/34 [00:01<00:00, 25.51it/s]\n",
      "Training:   0%|          | 0/302 [00:00<?, ?it/s]"
     ]
    },
    {
     "name": "stdout",
     "output_type": "stream",
     "text": [
      "epoch 18, train loss: 0.215, valid rmspe: 0.196\n"
     ]
    },
    {
     "name": "stderr",
     "output_type": "stream",
     "text": [
      "Training: 100%|██████████| 302/302 [00:12<00:00, 24.04it/s]\n",
      "Evaluating: 100%|██████████| 34/34 [00:01<00:00, 25.48it/s]\n",
      "Training:   0%|          | 0/302 [00:00<?, ?it/s]"
     ]
    },
    {
     "name": "stdout",
     "output_type": "stream",
     "text": [
      "epoch 19, train loss: 0.205, valid rmspe: 0.184\n",
      "new best:0.18370650708675385\n"
     ]
    },
    {
     "name": "stderr",
     "output_type": "stream",
     "text": [
      "Training: 100%|██████████| 302/302 [00:13<00:00, 22.74it/s]\n",
      "Evaluating: 100%|██████████| 34/34 [00:01<00:00, 22.69it/s]\n",
      "Training:   0%|          | 0/302 [00:00<?, ?it/s]"
     ]
    },
    {
     "name": "stdout",
     "output_type": "stream",
     "text": [
      "epoch 20, train loss: 0.206, valid rmspe: 0.194\n"
     ]
    },
    {
     "name": "stderr",
     "output_type": "stream",
     "text": [
      "Training: 100%|██████████| 302/302 [00:12<00:00, 23.98it/s]\n",
      "Evaluating: 100%|██████████| 34/34 [00:01<00:00, 25.90it/s]\n",
      "Training:   0%|          | 0/302 [00:00<?, ?it/s]"
     ]
    },
    {
     "name": "stdout",
     "output_type": "stream",
     "text": [
      "epoch 21, train loss: 0.208, valid rmspe: 0.188\n"
     ]
    },
    {
     "name": "stderr",
     "output_type": "stream",
     "text": [
      "Training: 100%|██████████| 302/302 [00:13<00:00, 22.78it/s]\n",
      "Evaluating: 100%|██████████| 34/34 [00:01<00:00, 25.74it/s]\n",
      "Training:   0%|          | 0/302 [00:00<?, ?it/s]"
     ]
    },
    {
     "name": "stdout",
     "output_type": "stream",
     "text": [
      "epoch 22, train loss: 0.205, valid rmspe: 0.197\n"
     ]
    },
    {
     "name": "stderr",
     "output_type": "stream",
     "text": [
      "Training: 100%|██████████| 302/302 [00:12<00:00, 24.04it/s]\n",
      "Evaluating: 100%|██████████| 34/34 [00:01<00:00, 25.65it/s]\n",
      "Training:   0%|          | 0/302 [00:00<?, ?it/s]"
     ]
    },
    {
     "name": "stdout",
     "output_type": "stream",
     "text": [
      "epoch 23, train loss: 0.205, valid rmspe: 0.183\n",
      "new best:0.1834103763103485\n"
     ]
    },
    {
     "name": "stderr",
     "output_type": "stream",
     "text": [
      "Training: 100%|██████████| 302/302 [00:13<00:00, 21.91it/s]\n",
      "Evaluating: 100%|██████████| 34/34 [00:01<00:00, 25.51it/s]\n",
      "Training:   0%|          | 0/302 [00:00<?, ?it/s]"
     ]
    },
    {
     "name": "stdout",
     "output_type": "stream",
     "text": [
      "epoch 24, train loss: 0.209, valid rmspe: 0.214\n"
     ]
    },
    {
     "name": "stderr",
     "output_type": "stream",
     "text": [
      "Training: 100%|██████████| 302/302 [00:12<00:00, 23.80it/s]\n",
      "Evaluating: 100%|██████████| 34/34 [00:01<00:00, 25.83it/s]\n",
      "Training:   0%|          | 0/302 [00:00<?, ?it/s]"
     ]
    },
    {
     "name": "stdout",
     "output_type": "stream",
     "text": [
      "epoch 25, train loss: 0.207, valid rmspe: 0.188\n"
     ]
    },
    {
     "name": "stderr",
     "output_type": "stream",
     "text": [
      "Training: 100%|██████████| 302/302 [00:12<00:00, 23.87it/s]\n",
      "Evaluating: 100%|██████████| 34/34 [00:01<00:00, 25.76it/s]\n",
      "Training:   0%|          | 0/302 [00:00<?, ?it/s]"
     ]
    },
    {
     "name": "stdout",
     "output_type": "stream",
     "text": [
      "epoch 26, train loss: 0.203, valid rmspe: 0.183\n",
      "new best:0.1825295239686966\n"
     ]
    },
    {
     "name": "stderr",
     "output_type": "stream",
     "text": [
      "Training: 100%|██████████| 302/302 [00:13<00:00, 22.60it/s]\n",
      "Evaluating: 100%|██████████| 34/34 [00:01<00:00, 25.36it/s]\n",
      "Training:   0%|          | 0/302 [00:00<?, ?it/s]"
     ]
    },
    {
     "name": "stdout",
     "output_type": "stream",
     "text": [
      "epoch 27, train loss: 0.206, valid rmspe: 0.192\n"
     ]
    },
    {
     "name": "stderr",
     "output_type": "stream",
     "text": [
      "Training: 100%|██████████| 302/302 [00:12<00:00, 23.84it/s]\n",
      "Evaluating: 100%|██████████| 34/34 [00:01<00:00, 25.93it/s]\n",
      "Training:   0%|          | 0/302 [00:00<?, ?it/s]"
     ]
    },
    {
     "name": "stdout",
     "output_type": "stream",
     "text": [
      "epoch 28, train loss: 0.207, valid rmspe: 0.205\n"
     ]
    },
    {
     "name": "stderr",
     "output_type": "stream",
     "text": [
      "Training: 100%|██████████| 302/302 [00:13<00:00, 22.87it/s]\n",
      "Evaluating: 100%|██████████| 34/34 [00:01<00:00, 26.13it/s]\n",
      "Training:   0%|          | 0/302 [00:00<?, ?it/s]"
     ]
    },
    {
     "name": "stdout",
     "output_type": "stream",
     "text": [
      "epoch 29, train loss: 0.204, valid rmspe: 0.187\n"
     ]
    },
    {
     "name": "stderr",
     "output_type": "stream",
     "text": [
      "Training: 100%|██████████| 302/302 [00:12<00:00, 23.35it/s]\n",
      "Evaluating: 100%|██████████| 34/34 [00:01<00:00, 20.55it/s]\n",
      "Training:   0%|          | 0/302 [00:00<?, ?it/s]"
     ]
    },
    {
     "name": "stdout",
     "output_type": "stream",
     "text": [
      "epoch 30, train loss: 0.204, valid rmspe: 0.192\n"
     ]
    },
    {
     "name": "stderr",
     "output_type": "stream",
     "text": [
      "Training: 100%|██████████| 302/302 [00:13<00:00, 22.39it/s]\n",
      "Evaluating: 100%|██████████| 34/34 [00:01<00:00, 25.17it/s]\n",
      "Training:   0%|          | 0/302 [00:00<?, ?it/s]"
     ]
    },
    {
     "name": "stdout",
     "output_type": "stream",
     "text": [
      "epoch 31, train loss: 0.207, valid rmspe: 0.183\n"
     ]
    },
    {
     "name": "stderr",
     "output_type": "stream",
     "text": [
      "Training: 100%|██████████| 302/302 [00:12<00:00, 23.48it/s]\n",
      "Evaluating: 100%|██████████| 34/34 [00:01<00:00, 25.40it/s]\n",
      "Training:   0%|          | 0/302 [00:00<?, ?it/s]"
     ]
    },
    {
     "name": "stdout",
     "output_type": "stream",
     "text": [
      "epoch 32, train loss: 0.204, valid rmspe: 0.186\n"
     ]
    },
    {
     "name": "stderr",
     "output_type": "stream",
     "text": [
      "Training: 100%|██████████| 302/302 [00:12<00:00, 23.74it/s]\n",
      "Evaluating: 100%|██████████| 34/34 [00:02<00:00, 16.10it/s]\n",
      "Training:   0%|          | 0/302 [00:00<?, ?it/s]"
     ]
    },
    {
     "name": "stdout",
     "output_type": "stream",
     "text": [
      "epoch 33, train loss: 0.210, valid rmspe: 0.184\n"
     ]
    },
    {
     "name": "stderr",
     "output_type": "stream",
     "text": [
      "Training: 100%|██████████| 302/302 [00:12<00:00, 23.53it/s]\n",
      "Evaluating: 100%|██████████| 34/34 [00:01<00:00, 24.86it/s]\n",
      "Training:   0%|          | 0/302 [00:00<?, ?it/s]"
     ]
    },
    {
     "name": "stdout",
     "output_type": "stream",
     "text": [
      "epoch 34, train loss: 0.203, valid rmspe: 0.183\n"
     ]
    },
    {
     "name": "stderr",
     "output_type": "stream",
     "text": [
      "Training: 100%|██████████| 302/302 [00:12<00:00, 23.42it/s]\n",
      "Evaluating: 100%|██████████| 34/34 [00:01<00:00, 25.64it/s]\n",
      "Training:   0%|          | 0/302 [00:00<?, ?it/s]"
     ]
    },
    {
     "name": "stdout",
     "output_type": "stream",
     "text": [
      "epoch 35, train loss: 0.203, valid rmspe: 0.238\n",
      "Epoch    36: reducing learning rate of group 0 to 1.1400e-04.\n"
     ]
    },
    {
     "name": "stderr",
     "output_type": "stream",
     "text": [
      "Training: 100%|██████████| 302/302 [00:13<00:00, 22.84it/s]\n",
      "Evaluating: 100%|██████████| 34/34 [00:01<00:00, 25.42it/s]\n",
      "Training:   0%|          | 0/302 [00:00<?, ?it/s]"
     ]
    },
    {
     "name": "stdout",
     "output_type": "stream",
     "text": [
      "epoch 36, train loss: 0.196, valid rmspe: 0.182\n",
      "new best:0.18217065930366516\n"
     ]
    },
    {
     "name": "stderr",
     "output_type": "stream",
     "text": [
      "Training: 100%|██████████| 302/302 [00:13<00:00, 23.18it/s]\n",
      "Evaluating: 100%|██████████| 34/34 [00:01<00:00, 26.02it/s]\n",
      "Training:   0%|          | 0/302 [00:00<?, ?it/s]"
     ]
    },
    {
     "name": "stdout",
     "output_type": "stream",
     "text": [
      "epoch 37, train loss: 0.193, valid rmspe: 0.182\n",
      "new best:0.18170450627803802\n"
     ]
    },
    {
     "name": "stderr",
     "output_type": "stream",
     "text": [
      "Training: 100%|██████████| 302/302 [00:13<00:00, 22.36it/s]\n",
      "Evaluating: 100%|██████████| 34/34 [00:01<00:00, 25.51it/s]\n",
      "Training:   0%|          | 0/302 [00:00<?, ?it/s]"
     ]
    },
    {
     "name": "stdout",
     "output_type": "stream",
     "text": [
      "epoch 38, train loss: 0.193, valid rmspe: 0.189\n"
     ]
    },
    {
     "name": "stderr",
     "output_type": "stream",
     "text": [
      "Training: 100%|██████████| 302/302 [00:12<00:00, 23.92it/s]\n",
      "Evaluating: 100%|██████████| 34/34 [00:01<00:00, 25.64it/s]\n",
      "Training:   0%|          | 0/302 [00:00<?, ?it/s]"
     ]
    },
    {
     "name": "stdout",
     "output_type": "stream",
     "text": [
      "epoch 39, train loss: 0.193, valid rmspe: 0.185\n"
     ]
    },
    {
     "name": "stderr",
     "output_type": "stream",
     "text": [
      "Training: 100%|██████████| 302/302 [00:13<00:00, 22.23it/s]\n",
      "Evaluating: 100%|██████████| 34/34 [00:01<00:00, 25.39it/s]\n",
      "Training:   0%|          | 0/302 [00:00<?, ?it/s]"
     ]
    },
    {
     "name": "stdout",
     "output_type": "stream",
     "text": [
      "epoch 40, train loss: 0.193, valid rmspe: 0.182\n"
     ]
    },
    {
     "name": "stderr",
     "output_type": "stream",
     "text": [
      "Training: 100%|██████████| 302/302 [00:13<00:00, 23.15it/s]\n",
      "Evaluating: 100%|██████████| 34/34 [00:01<00:00, 25.96it/s]\n",
      "Training:   0%|          | 0/302 [00:00<?, ?it/s]"
     ]
    },
    {
     "name": "stdout",
     "output_type": "stream",
     "text": [
      "epoch 41, train loss: 0.192, valid rmspe: 0.184\n"
     ]
    },
    {
     "name": "stderr",
     "output_type": "stream",
     "text": [
      "Training: 100%|██████████| 302/302 [00:12<00:00, 23.92it/s]\n",
      "Evaluating: 100%|██████████| 34/34 [00:01<00:00, 25.61it/s]\n",
      "Training:   0%|          | 0/302 [00:00<?, ?it/s]"
     ]
    },
    {
     "name": "stdout",
     "output_type": "stream",
     "text": [
      "epoch 42, train loss: 0.194, valid rmspe: 0.188\n"
     ]
    },
    {
     "name": "stderr",
     "output_type": "stream",
     "text": [
      "Training: 100%|██████████| 302/302 [00:15<00:00, 19.18it/s]\n",
      "Evaluating: 100%|██████████| 34/34 [00:01<00:00, 20.46it/s]\n",
      "Training:   0%|          | 0/302 [00:00<?, ?it/s]"
     ]
    },
    {
     "name": "stdout",
     "output_type": "stream",
     "text": [
      "epoch 43, train loss: 0.194, valid rmspe: 0.182\n"
     ]
    },
    {
     "name": "stderr",
     "output_type": "stream",
     "text": [
      "Training: 100%|██████████| 302/302 [00:16<00:00, 18.19it/s]\n",
      "Evaluating: 100%|██████████| 34/34 [00:02<00:00, 14.75it/s]\n",
      "Training:   0%|          | 0/302 [00:00<?, ?it/s]"
     ]
    },
    {
     "name": "stdout",
     "output_type": "stream",
     "text": [
      "epoch 44, train loss: 0.193, valid rmspe: 0.182\n"
     ]
    },
    {
     "name": "stderr",
     "output_type": "stream",
     "text": [
      "Training: 100%|██████████| 302/302 [00:16<00:00, 18.58it/s]\n",
      "Evaluating: 100%|██████████| 34/34 [00:01<00:00, 20.63it/s]\n",
      "Training:   0%|          | 0/302 [00:00<?, ?it/s]"
     ]
    },
    {
     "name": "stdout",
     "output_type": "stream",
     "text": [
      "epoch 45, train loss: 0.193, valid rmspe: 0.185\n"
     ]
    },
    {
     "name": "stderr",
     "output_type": "stream",
     "text": [
      "Training: 100%|██████████| 302/302 [00:17<00:00, 17.27it/s]\n",
      "Evaluating: 100%|██████████| 34/34 [00:01<00:00, 21.15it/s]\n",
      "Training:   0%|          | 0/302 [00:00<?, ?it/s]"
     ]
    },
    {
     "name": "stdout",
     "output_type": "stream",
     "text": [
      "epoch 46, train loss: 0.194, valid rmspe: 0.186\n",
      "Epoch    47: reducing learning rate of group 0 to 3.4200e-05.\n"
     ]
    },
    {
     "name": "stderr",
     "output_type": "stream",
     "text": [
      "Training: 100%|██████████| 302/302 [00:13<00:00, 22.28it/s]\n",
      "Evaluating: 100%|██████████| 34/34 [00:01<00:00, 25.74it/s]\n",
      "Training:   0%|          | 0/302 [00:00<?, ?it/s]"
     ]
    },
    {
     "name": "stdout",
     "output_type": "stream",
     "text": [
      "epoch 47, train loss: 0.189, valid rmspe: 0.182\n"
     ]
    },
    {
     "name": "stderr",
     "output_type": "stream",
     "text": [
      "Training: 100%|██████████| 302/302 [00:13<00:00, 22.53it/s]\n",
      "Evaluating: 100%|██████████| 34/34 [00:01<00:00, 25.63it/s]\n",
      "Training:   0%|          | 0/302 [00:00<?, ?it/s]"
     ]
    },
    {
     "name": "stdout",
     "output_type": "stream",
     "text": [
      "epoch 48, train loss: 0.189, valid rmspe: 0.182\n"
     ]
    },
    {
     "name": "stderr",
     "output_type": "stream",
     "text": [
      "Training: 100%|██████████| 302/302 [00:12<00:00, 23.93it/s]\n",
      "Evaluating: 100%|██████████| 34/34 [00:01<00:00, 25.31it/s]\n"
     ]
    },
    {
     "name": "stdout",
     "output_type": "stream",
     "text": [
      "epoch 49, train loss: 0.189, valid rmspe: 0.183\n"
     ]
    },
    {
     "name": "stderr",
     "output_type": "stream",
     "text": [
      "Training:   0%|          | 0/302 [00:00<?, ?it/s]"
     ]
    },
    {
     "name": "stdout",
     "output_type": "stream",
     "text": [
      "fold 0 train: (386036, 591), valid: (42896, 591)\n"
     ]
    },
    {
     "name": "stderr",
     "output_type": "stream",
     "text": [
      "Training: 100%|██████████| 302/302 [00:13<00:00, 22.89it/s]\n",
      "Evaluating: 100%|██████████| 34/34 [00:01<00:00, 25.80it/s]\n",
      "Training:   0%|          | 0/302 [00:00<?, ?it/s]"
     ]
    },
    {
     "name": "stdout",
     "output_type": "stream",
     "text": [
      "epoch 0, train loss: 32.531, valid rmspe: 10.042\n",
      "new best:10.041739463806152\n"
     ]
    },
    {
     "name": "stderr",
     "output_type": "stream",
     "text": [
      "Training: 100%|██████████| 302/302 [00:12<00:00, 23.61it/s]\n",
      "Evaluating: 100%|██████████| 34/34 [00:01<00:00, 25.60it/s]\n",
      "Training:   0%|          | 0/302 [00:00<?, ?it/s]"
     ]
    },
    {
     "name": "stdout",
     "output_type": "stream",
     "text": [
      "epoch 1, train loss: 5.759, valid rmspe: 5.931\n",
      "new best:5.930790901184082\n"
     ]
    },
    {
     "name": "stderr",
     "output_type": "stream",
     "text": [
      "Training: 100%|██████████| 302/302 [00:13<00:00, 21.97it/s]\n",
      "Evaluating: 100%|██████████| 34/34 [00:01<00:00, 26.16it/s]\n",
      "Training:   0%|          | 0/302 [00:00<?, ?it/s]"
     ]
    },
    {
     "name": "stdout",
     "output_type": "stream",
     "text": [
      "epoch 2, train loss: 6.079, valid rmspe: 4.910\n",
      "new best:4.910189628601074\n"
     ]
    },
    {
     "name": "stderr",
     "output_type": "stream",
     "text": [
      "Training: 100%|██████████| 302/302 [00:12<00:00, 23.75it/s]\n",
      "Evaluating: 100%|██████████| 34/34 [00:01<00:00, 25.85it/s]\n",
      "Training:   0%|          | 0/302 [00:00<?, ?it/s]"
     ]
    },
    {
     "name": "stdout",
     "output_type": "stream",
     "text": [
      "epoch 3, train loss: 4.646, valid rmspe: 5.013\n"
     ]
    },
    {
     "name": "stderr",
     "output_type": "stream",
     "text": [
      "Training: 100%|██████████| 302/302 [00:12<00:00, 23.88it/s]\n",
      "Evaluating: 100%|██████████| 34/34 [00:01<00:00, 18.27it/s]\n",
      "Training:   0%|          | 0/302 [00:00<?, ?it/s]"
     ]
    },
    {
     "name": "stdout",
     "output_type": "stream",
     "text": [
      "epoch 4, train loss: 2.730, valid rmspe: 1.665\n",
      "new best:1.6648344993591309\n"
     ]
    },
    {
     "name": "stderr",
     "output_type": "stream",
     "text": [
      "Training: 100%|██████████| 302/302 [00:12<00:00, 23.75it/s]\n",
      "Evaluating: 100%|██████████| 34/34 [00:01<00:00, 24.96it/s]\n",
      "Training:   0%|          | 0/302 [00:00<?, ?it/s]"
     ]
    },
    {
     "name": "stdout",
     "output_type": "stream",
     "text": [
      "epoch 5, train loss: 2.925, valid rmspe: 3.358\n"
     ]
    },
    {
     "name": "stderr",
     "output_type": "stream",
     "text": [
      "Training: 100%|██████████| 302/302 [00:12<00:00, 24.10it/s]\n",
      "Evaluating: 100%|██████████| 34/34 [00:01<00:00, 25.61it/s]\n",
      "Training:   0%|          | 0/302 [00:00<?, ?it/s]"
     ]
    },
    {
     "name": "stdout",
     "output_type": "stream",
     "text": [
      "epoch 6, train loss: 3.334, valid rmspe: 1.977\n"
     ]
    },
    {
     "name": "stderr",
     "output_type": "stream",
     "text": [
      "Training: 100%|██████████| 302/302 [00:13<00:00, 22.81it/s]\n",
      "Evaluating: 100%|██████████| 34/34 [00:01<00:00, 24.96it/s]\n",
      "Training:   0%|          | 0/302 [00:00<?, ?it/s]"
     ]
    },
    {
     "name": "stdout",
     "output_type": "stream",
     "text": [
      "epoch 7, train loss: 1.999, valid rmspe: 1.609\n",
      "new best:1.608721375465393\n"
     ]
    },
    {
     "name": "stderr",
     "output_type": "stream",
     "text": [
      "Training: 100%|██████████| 302/302 [00:12<00:00, 24.10it/s]\n",
      "Evaluating: 100%|██████████| 34/34 [00:01<00:00, 23.08it/s]\n",
      "Training:   0%|          | 0/302 [00:00<?, ?it/s]"
     ]
    },
    {
     "name": "stdout",
     "output_type": "stream",
     "text": [
      "epoch 8, train loss: 1.616, valid rmspe: 1.463\n",
      "new best:1.4628543853759766\n"
     ]
    },
    {
     "name": "stderr",
     "output_type": "stream",
     "text": [
      "Training: 100%|██████████| 302/302 [00:13<00:00, 22.58it/s]\n",
      "Evaluating: 100%|██████████| 34/34 [00:01<00:00, 25.22it/s]\n",
      "Training:   0%|          | 0/302 [00:00<?, ?it/s]"
     ]
    },
    {
     "name": "stdout",
     "output_type": "stream",
     "text": [
      "epoch 9, train loss: 1.326, valid rmspe: 0.838\n",
      "new best:0.8381560444831848\n"
     ]
    },
    {
     "name": "stderr",
     "output_type": "stream",
     "text": [
      "Training: 100%|██████████| 302/302 [00:12<00:00, 23.74it/s]\n",
      "Evaluating: 100%|██████████| 34/34 [00:01<00:00, 25.88it/s]\n",
      "Training:   0%|          | 0/302 [00:00<?, ?it/s]"
     ]
    },
    {
     "name": "stdout",
     "output_type": "stream",
     "text": [
      "epoch 10, train loss: 1.128, valid rmspe: 1.289\n"
     ]
    },
    {
     "name": "stderr",
     "output_type": "stream",
     "text": [
      "Training: 100%|██████████| 302/302 [00:13<00:00, 23.12it/s]\n",
      "Evaluating: 100%|██████████| 34/34 [00:01<00:00, 25.76it/s]\n",
      "Training:   0%|          | 0/302 [00:00<?, ?it/s]"
     ]
    },
    {
     "name": "stdout",
     "output_type": "stream",
     "text": [
      "epoch 11, train loss: 0.899, valid rmspe: 0.691\n",
      "new best:0.6905585527420044\n"
     ]
    },
    {
     "name": "stderr",
     "output_type": "stream",
     "text": [
      "Training: 100%|██████████| 302/302 [00:12<00:00, 23.25it/s]\n",
      "Evaluating: 100%|██████████| 34/34 [00:01<00:00, 25.30it/s]\n",
      "Training:   0%|          | 0/302 [00:00<?, ?it/s]"
     ]
    },
    {
     "name": "stdout",
     "output_type": "stream",
     "text": [
      "epoch 12, train loss: 0.586, valid rmspe: 0.317\n",
      "new best:0.3174119293689728\n"
     ]
    },
    {
     "name": "stderr",
     "output_type": "stream",
     "text": [
      "Training: 100%|██████████| 302/302 [00:12<00:00, 24.06it/s]\n",
      "Evaluating: 100%|██████████| 34/34 [00:01<00:00, 18.25it/s]\n",
      "Training:   0%|          | 0/302 [00:00<?, ?it/s]"
     ]
    },
    {
     "name": "stdout",
     "output_type": "stream",
     "text": [
      "epoch 13, train loss: 0.426, valid rmspe: 0.282\n",
      "new best:0.2817445695400238\n"
     ]
    },
    {
     "name": "stderr",
     "output_type": "stream",
     "text": [
      "Training: 100%|██████████| 302/302 [00:12<00:00, 23.73it/s]\n",
      "Evaluating: 100%|██████████| 34/34 [00:01<00:00, 25.11it/s]\n",
      "Training:   0%|          | 0/302 [00:00<?, ?it/s]"
     ]
    },
    {
     "name": "stdout",
     "output_type": "stream",
     "text": [
      "epoch 14, train loss: 0.398, valid rmspe: 0.492\n"
     ]
    },
    {
     "name": "stderr",
     "output_type": "stream",
     "text": [
      "Training: 100%|██████████| 302/302 [00:12<00:00, 23.31it/s]\n",
      "Evaluating: 100%|██████████| 34/34 [00:01<00:00, 25.24it/s]\n",
      "Training:   0%|          | 0/302 [00:00<?, ?it/s]"
     ]
    },
    {
     "name": "stdout",
     "output_type": "stream",
     "text": [
      "epoch 15, train loss: 0.338, valid rmspe: 0.204\n",
      "new best:0.20398908853530884\n"
     ]
    },
    {
     "name": "stderr",
     "output_type": "stream",
     "text": [
      "Training: 100%|██████████| 302/302 [00:13<00:00, 22.42it/s]\n",
      "Evaluating: 100%|██████████| 34/34 [00:01<00:00, 25.42it/s]\n",
      "Training:   0%|          | 0/302 [00:00<?, ?it/s]"
     ]
    },
    {
     "name": "stdout",
     "output_type": "stream",
     "text": [
      "epoch 16, train loss: 0.323, valid rmspe: 0.443\n"
     ]
    },
    {
     "name": "stderr",
     "output_type": "stream",
     "text": [
      "Training: 100%|██████████| 302/302 [00:12<00:00, 23.89it/s]\n",
      "Evaluating: 100%|██████████| 34/34 [00:01<00:00, 25.36it/s]\n",
      "Training:   0%|          | 0/302 [00:00<?, ?it/s]"
     ]
    },
    {
     "name": "stdout",
     "output_type": "stream",
     "text": [
      "epoch 17, train loss: 0.285, valid rmspe: 0.238\n"
     ]
    },
    {
     "name": "stderr",
     "output_type": "stream",
     "text": [
      "Training: 100%|██████████| 302/302 [00:13<00:00, 22.96it/s]\n",
      "Evaluating: 100%|██████████| 34/34 [00:01<00:00, 21.34it/s]\n",
      "Training:   0%|          | 0/302 [00:00<?, ?it/s]"
     ]
    },
    {
     "name": "stdout",
     "output_type": "stream",
     "text": [
      "epoch 18, train loss: 0.230, valid rmspe: 0.187\n",
      "new best:0.18653865158557892\n"
     ]
    },
    {
     "name": "stderr",
     "output_type": "stream",
     "text": [
      "Training: 100%|██████████| 302/302 [00:12<00:00, 24.09it/s]\n",
      "Evaluating: 100%|██████████| 34/34 [00:01<00:00, 25.71it/s]\n",
      "Training:   0%|          | 0/302 [00:00<?, ?it/s]"
     ]
    },
    {
     "name": "stdout",
     "output_type": "stream",
     "text": [
      "epoch 19, train loss: 0.226, valid rmspe: 0.186\n",
      "new best:0.18637098371982574\n"
     ]
    },
    {
     "name": "stderr",
     "output_type": "stream",
     "text": [
      "Training: 100%|██████████| 302/302 [00:13<00:00, 22.66it/s]\n",
      "Evaluating: 100%|██████████| 34/34 [00:01<00:00, 24.61it/s]\n",
      "Training:   0%|          | 0/302 [00:00<?, ?it/s]"
     ]
    },
    {
     "name": "stdout",
     "output_type": "stream",
     "text": [
      "epoch 20, train loss: 0.221, valid rmspe: 0.188\n"
     ]
    },
    {
     "name": "stderr",
     "output_type": "stream",
     "text": [
      "Training: 100%|██████████| 302/302 [00:12<00:00, 24.02it/s]\n",
      "Evaluating: 100%|██████████| 34/34 [00:01<00:00, 24.88it/s]\n",
      "Training:   0%|          | 0/302 [00:00<?, ?it/s]"
     ]
    },
    {
     "name": "stdout",
     "output_type": "stream",
     "text": [
      "epoch 21, train loss: 0.216, valid rmspe: 0.183\n",
      "new best:0.18280167877674103\n"
     ]
    },
    {
     "name": "stderr",
     "output_type": "stream",
     "text": [
      "Training: 100%|██████████| 302/302 [00:12<00:00, 23.57it/s]\n",
      "Evaluating: 100%|██████████| 34/34 [00:01<00:00, 25.72it/s]\n",
      "Training:   0%|          | 0/302 [00:00<?, ?it/s]"
     ]
    },
    {
     "name": "stdout",
     "output_type": "stream",
     "text": [
      "epoch 22, train loss: 0.213, valid rmspe: 0.188\n"
     ]
    },
    {
     "name": "stderr",
     "output_type": "stream",
     "text": [
      "Training: 100%|██████████| 302/302 [00:13<00:00, 22.82it/s]\n",
      "Evaluating: 100%|██████████| 34/34 [00:01<00:00, 25.75it/s]\n",
      "Training:   0%|          | 0/302 [00:00<?, ?it/s]"
     ]
    },
    {
     "name": "stdout",
     "output_type": "stream",
     "text": [
      "epoch 23, train loss: 0.213, valid rmspe: 0.200\n"
     ]
    },
    {
     "name": "stderr",
     "output_type": "stream",
     "text": [
      "Training: 100%|██████████| 302/302 [00:12<00:00, 23.66it/s]\n",
      "Evaluating: 100%|██████████| 34/34 [00:01<00:00, 24.95it/s]\n",
      "Training:   0%|          | 0/302 [00:00<?, ?it/s]"
     ]
    },
    {
     "name": "stdout",
     "output_type": "stream",
     "text": [
      "epoch 24, train loss: 0.212, valid rmspe: 0.184\n"
     ]
    },
    {
     "name": "stderr",
     "output_type": "stream",
     "text": [
      "Training: 100%|██████████| 302/302 [00:13<00:00, 21.91it/s]\n",
      "Evaluating: 100%|██████████| 34/34 [00:01<00:00, 24.92it/s]\n",
      "Training:   0%|          | 0/302 [00:00<?, ?it/s]"
     ]
    },
    {
     "name": "stdout",
     "output_type": "stream",
     "text": [
      "epoch 25, train loss: 0.218, valid rmspe: 0.193\n"
     ]
    },
    {
     "name": "stderr",
     "output_type": "stream",
     "text": [
      "Training: 100%|██████████| 302/302 [00:13<00:00, 23.03it/s]\n",
      "Evaluating: 100%|██████████| 34/34 [00:01<00:00, 25.57it/s]\n",
      "Training:   0%|          | 0/302 [00:00<?, ?it/s]"
     ]
    },
    {
     "name": "stdout",
     "output_type": "stream",
     "text": [
      "epoch 26, train loss: 0.210, valid rmspe: 0.198\n"
     ]
    },
    {
     "name": "stderr",
     "output_type": "stream",
     "text": [
      "Training: 100%|██████████| 302/302 [00:13<00:00, 22.03it/s]\n",
      "Evaluating: 100%|██████████| 34/34 [00:01<00:00, 24.36it/s]\n",
      "Training:   0%|          | 0/302 [00:00<?, ?it/s]"
     ]
    },
    {
     "name": "stdout",
     "output_type": "stream",
     "text": [
      "epoch 27, train loss: 0.207, valid rmspe: 0.182\n",
      "new best:0.18207480013370514\n"
     ]
    },
    {
     "name": "stderr",
     "output_type": "stream",
     "text": [
      "Training: 100%|██████████| 302/302 [00:13<00:00, 22.90it/s]\n",
      "Evaluating: 100%|██████████| 34/34 [00:01<00:00, 25.46it/s]\n",
      "Training:   0%|          | 0/302 [00:00<?, ?it/s]"
     ]
    },
    {
     "name": "stdout",
     "output_type": "stream",
     "text": [
      "epoch 28, train loss: 0.204, valid rmspe: 0.195\n"
     ]
    },
    {
     "name": "stderr",
     "output_type": "stream",
     "text": [
      "Training: 100%|██████████| 302/302 [00:14<00:00, 21.52it/s]\n",
      "Evaluating: 100%|██████████| 34/34 [00:01<00:00, 18.59it/s]\n",
      "Training:   0%|          | 0/302 [00:00<?, ?it/s]"
     ]
    },
    {
     "name": "stdout",
     "output_type": "stream",
     "text": [
      "epoch 29, train loss: 0.210, valid rmspe: 0.182\n",
      "new best:0.18168997764587402\n"
     ]
    },
    {
     "name": "stderr",
     "output_type": "stream",
     "text": [
      "Training: 100%|██████████| 302/302 [00:17<00:00, 17.45it/s]\n",
      "Evaluating: 100%|██████████| 34/34 [00:01<00:00, 20.90it/s]\n",
      "Training:   0%|          | 0/302 [00:00<?, ?it/s]"
     ]
    },
    {
     "name": "stdout",
     "output_type": "stream",
     "text": [
      "epoch 30, train loss: 0.207, valid rmspe: 0.190\n"
     ]
    },
    {
     "name": "stderr",
     "output_type": "stream",
     "text": [
      "Training: 100%|██████████| 302/302 [00:17<00:00, 17.29it/s]\n",
      "Evaluating: 100%|██████████| 34/34 [00:01<00:00, 20.13it/s]\n",
      "Training:   0%|          | 0/302 [00:00<?, ?it/s]"
     ]
    },
    {
     "name": "stdout",
     "output_type": "stream",
     "text": [
      "epoch 31, train loss: 0.207, valid rmspe: 0.194\n"
     ]
    },
    {
     "name": "stderr",
     "output_type": "stream",
     "text": [
      "Training: 100%|██████████| 302/302 [00:16<00:00, 18.12it/s]\n",
      "Evaluating: 100%|██████████| 34/34 [00:01<00:00, 21.44it/s]\n",
      "Training:   0%|          | 0/302 [00:00<?, ?it/s]"
     ]
    },
    {
     "name": "stdout",
     "output_type": "stream",
     "text": [
      "epoch 32, train loss: 0.207, valid rmspe: 0.208\n"
     ]
    },
    {
     "name": "stderr",
     "output_type": "stream",
     "text": [
      "Training: 100%|██████████| 302/302 [00:16<00:00, 18.22it/s]\n",
      "Evaluating: 100%|██████████| 34/34 [00:01<00:00, 25.80it/s]\n",
      "Training:   0%|          | 0/302 [00:00<?, ?it/s]"
     ]
    },
    {
     "name": "stdout",
     "output_type": "stream",
     "text": [
      "epoch 33, train loss: 0.203, valid rmspe: 0.187\n"
     ]
    },
    {
     "name": "stderr",
     "output_type": "stream",
     "text": [
      "Training: 100%|██████████| 302/302 [00:12<00:00, 23.84it/s]\n",
      "Evaluating: 100%|██████████| 34/34 [00:01<00:00, 25.37it/s]\n",
      "Training:   0%|          | 0/302 [00:00<?, ?it/s]"
     ]
    },
    {
     "name": "stdout",
     "output_type": "stream",
     "text": [
      "epoch 34, train loss: 0.207, valid rmspe: 0.184\n"
     ]
    },
    {
     "name": "stderr",
     "output_type": "stream",
     "text": [
      "Training: 100%|██████████| 302/302 [00:13<00:00, 23.04it/s]\n",
      "Evaluating: 100%|██████████| 34/34 [00:01<00:00, 21.71it/s]\n",
      "Training:   0%|          | 0/302 [00:00<?, ?it/s]"
     ]
    },
    {
     "name": "stdout",
     "output_type": "stream",
     "text": [
      "epoch 35, train loss: 0.206, valid rmspe: 0.185\n"
     ]
    },
    {
     "name": "stderr",
     "output_type": "stream",
     "text": [
      "Training: 100%|██████████| 302/302 [00:12<00:00, 24.04it/s]\n",
      "Evaluating: 100%|██████████| 34/34 [00:01<00:00, 25.68it/s]\n",
      "Training:   0%|          | 0/302 [00:00<?, ?it/s]"
     ]
    },
    {
     "name": "stdout",
     "output_type": "stream",
     "text": [
      "epoch 36, train loss: 0.205, valid rmspe: 0.186\n"
     ]
    },
    {
     "name": "stderr",
     "output_type": "stream",
     "text": [
      "Training: 100%|██████████| 302/302 [00:13<00:00, 22.99it/s]\n",
      "Evaluating: 100%|██████████| 34/34 [00:01<00:00, 25.65it/s]\n",
      "Training:   0%|          | 0/302 [00:00<?, ?it/s]"
     ]
    },
    {
     "name": "stdout",
     "output_type": "stream",
     "text": [
      "epoch 37, train loss: 0.206, valid rmspe: 0.195\n"
     ]
    },
    {
     "name": "stderr",
     "output_type": "stream",
     "text": [
      "Training: 100%|██████████| 302/302 [00:12<00:00, 24.03it/s]\n",
      "Evaluating: 100%|██████████| 34/34 [00:01<00:00, 25.87it/s]\n",
      "Training:   0%|          | 0/302 [00:00<?, ?it/s]"
     ]
    },
    {
     "name": "stdout",
     "output_type": "stream",
     "text": [
      "epoch 38, train loss: 0.212, valid rmspe: 0.189\n",
      "Epoch    39: reducing learning rate of group 0 to 1.1400e-04.\n"
     ]
    },
    {
     "name": "stderr",
     "output_type": "stream",
     "text": [
      "Training: 100%|██████████| 302/302 [00:13<00:00, 22.24it/s]\n",
      "Evaluating: 100%|██████████| 34/34 [00:01<00:00, 25.12it/s]\n",
      "Training:   0%|          | 0/302 [00:00<?, ?it/s]"
     ]
    },
    {
     "name": "stdout",
     "output_type": "stream",
     "text": [
      "epoch 39, train loss: 0.196, valid rmspe: 0.181\n",
      "new best:0.18123656511306763\n"
     ]
    },
    {
     "name": "stderr",
     "output_type": "stream",
     "text": [
      "Training: 100%|██████████| 302/302 [00:12<00:00, 23.27it/s]\n",
      "Evaluating: 100%|██████████| 34/34 [00:01<00:00, 25.65it/s]\n",
      "Training:   0%|          | 0/302 [00:00<?, ?it/s]"
     ]
    },
    {
     "name": "stdout",
     "output_type": "stream",
     "text": [
      "epoch 40, train loss: 0.198, valid rmspe: 0.183\n"
     ]
    },
    {
     "name": "stderr",
     "output_type": "stream",
     "text": [
      "Training: 100%|██████████| 302/302 [00:12<00:00, 24.00it/s]\n",
      "Evaluating: 100%|██████████| 34/34 [00:01<00:00, 25.90it/s]\n",
      "Training:   0%|          | 0/302 [00:00<?, ?it/s]"
     ]
    },
    {
     "name": "stdout",
     "output_type": "stream",
     "text": [
      "epoch 41, train loss: 0.195, valid rmspe: 0.181\n"
     ]
    },
    {
     "name": "stderr",
     "output_type": "stream",
     "text": [
      "Training: 100%|██████████| 302/302 [00:13<00:00, 22.92it/s]\n",
      "Evaluating: 100%|██████████| 34/34 [00:01<00:00, 25.68it/s]\n",
      "Training:   0%|          | 0/302 [00:00<?, ?it/s]"
     ]
    },
    {
     "name": "stdout",
     "output_type": "stream",
     "text": [
      "epoch 42, train loss: 0.193, valid rmspe: 0.183\n"
     ]
    },
    {
     "name": "stderr",
     "output_type": "stream",
     "text": [
      "Training: 100%|██████████| 302/302 [00:12<00:00, 24.13it/s]\n",
      "Evaluating: 100%|██████████| 34/34 [00:01<00:00, 25.65it/s]\n",
      "Training:   0%|          | 0/302 [00:00<?, ?it/s]"
     ]
    },
    {
     "name": "stdout",
     "output_type": "stream",
     "text": [
      "epoch 43, train loss: 0.195, valid rmspe: 0.188\n"
     ]
    },
    {
     "name": "stderr",
     "output_type": "stream",
     "text": [
      "Training: 100%|██████████| 302/302 [00:13<00:00, 23.10it/s]\n",
      "Evaluating: 100%|██████████| 34/34 [00:01<00:00, 25.33it/s]\n",
      "Training:   0%|          | 0/302 [00:00<?, ?it/s]"
     ]
    },
    {
     "name": "stdout",
     "output_type": "stream",
     "text": [
      "epoch 44, train loss: 0.194, valid rmspe: 0.182\n"
     ]
    },
    {
     "name": "stderr",
     "output_type": "stream",
     "text": [
      "Training: 100%|██████████| 302/302 [00:12<00:00, 23.88it/s]\n",
      "Evaluating: 100%|██████████| 34/34 [00:01<00:00, 22.50it/s]\n",
      "Training:   0%|          | 0/302 [00:00<?, ?it/s]"
     ]
    },
    {
     "name": "stdout",
     "output_type": "stream",
     "text": [
      "epoch 45, train loss: 0.195, valid rmspe: 0.181\n"
     ]
    },
    {
     "name": "stderr",
     "output_type": "stream",
     "text": [
      "Training: 100%|██████████| 302/302 [00:13<00:00, 23.04it/s]\n",
      "Evaluating: 100%|██████████| 34/34 [00:01<00:00, 25.73it/s]\n",
      "Training:   0%|          | 0/302 [00:00<?, ?it/s]"
     ]
    },
    {
     "name": "stdout",
     "output_type": "stream",
     "text": [
      "epoch 46, train loss: 0.194, valid rmspe: 0.181\n",
      "new best:0.18120650947093964\n"
     ]
    },
    {
     "name": "stderr",
     "output_type": "stream",
     "text": [
      "Training: 100%|██████████| 302/302 [00:12<00:00, 24.11it/s]\n",
      "Evaluating: 100%|██████████| 34/34 [00:01<00:00, 25.69it/s]\n",
      "Training:   0%|          | 0/302 [00:00<?, ?it/s]"
     ]
    },
    {
     "name": "stdout",
     "output_type": "stream",
     "text": [
      "epoch 47, train loss: 0.195, valid rmspe: 0.188\n"
     ]
    },
    {
     "name": "stderr",
     "output_type": "stream",
     "text": [
      "Training: 100%|██████████| 302/302 [00:12<00:00, 23.62it/s]\n",
      "Evaluating: 100%|██████████| 34/34 [00:01<00:00, 18.44it/s]\n",
      "Training:   0%|          | 0/302 [00:00<?, ?it/s]"
     ]
    },
    {
     "name": "stdout",
     "output_type": "stream",
     "text": [
      "epoch 48, train loss: 0.194, valid rmspe: 0.188\n"
     ]
    },
    {
     "name": "stderr",
     "output_type": "stream",
     "text": [
      "Training: 100%|██████████| 302/302 [00:12<00:00, 23.46it/s]\n",
      "Evaluating: 100%|██████████| 34/34 [00:01<00:00, 25.56it/s]\n"
     ]
    },
    {
     "name": "stdout",
     "output_type": "stream",
     "text": [
      "epoch 49, train loss: 0.193, valid rmspe: 0.183\n"
     ]
    },
    {
     "name": "stderr",
     "output_type": "stream",
     "text": [
      "Training:   0%|          | 0/302 [00:00<?, ?it/s]"
     ]
    },
    {
     "name": "stdout",
     "output_type": "stream",
     "text": [
      "fold 0 train: (386036, 591), valid: (42896, 591)\n"
     ]
    },
    {
     "name": "stderr",
     "output_type": "stream",
     "text": [
      "Training: 100%|██████████| 302/302 [00:13<00:00, 22.96it/s]\n",
      "Evaluating: 100%|██████████| 34/34 [00:01<00:00, 25.57it/s]\n",
      "Training:   0%|          | 0/302 [00:00<?, ?it/s]"
     ]
    },
    {
     "name": "stdout",
     "output_type": "stream",
     "text": [
      "epoch 0, train loss: 32.629, valid rmspe: 12.124\n",
      "new best:12.124483108520508\n"
     ]
    },
    {
     "name": "stderr",
     "output_type": "stream",
     "text": [
      "Training: 100%|██████████| 302/302 [00:12<00:00, 24.08it/s]\n",
      "Evaluating: 100%|██████████| 34/34 [00:01<00:00, 26.06it/s]\n",
      "Training:   0%|          | 0/302 [00:00<?, ?it/s]"
     ]
    },
    {
     "name": "stdout",
     "output_type": "stream",
     "text": [
      "epoch 1, train loss: 7.210, valid rmspe: 6.183\n",
      "new best:6.182739734649658\n"
     ]
    },
    {
     "name": "stderr",
     "output_type": "stream",
     "text": [
      "Training: 100%|██████████| 302/302 [00:13<00:00, 22.66it/s]\n",
      "Evaluating: 100%|██████████| 34/34 [00:01<00:00, 22.68it/s]\n",
      "Training:   0%|          | 0/302 [00:00<?, ?it/s]"
     ]
    },
    {
     "name": "stdout",
     "output_type": "stream",
     "text": [
      "epoch 2, train loss: 5.386, valid rmspe: 2.422\n",
      "new best:2.422102451324463\n"
     ]
    },
    {
     "name": "stderr",
     "output_type": "stream",
     "text": [
      "Training: 100%|██████████| 302/302 [00:12<00:00, 23.33it/s]\n",
      "Evaluating: 100%|██████████| 34/34 [00:01<00:00, 25.58it/s]\n",
      "Training:   0%|          | 0/302 [00:00<?, ?it/s]"
     ]
    },
    {
     "name": "stdout",
     "output_type": "stream",
     "text": [
      "epoch 3, train loss: 3.218, valid rmspe: 3.400\n"
     ]
    },
    {
     "name": "stderr",
     "output_type": "stream",
     "text": [
      "Training: 100%|██████████| 302/302 [00:12<00:00, 23.79it/s]\n",
      "Evaluating: 100%|██████████| 34/34 [00:01<00:00, 24.81it/s]\n",
      "Training:   0%|          | 0/302 [00:00<?, ?it/s]"
     ]
    },
    {
     "name": "stdout",
     "output_type": "stream",
     "text": [
      "epoch 4, train loss: 4.277, valid rmspe: 2.749\n"
     ]
    },
    {
     "name": "stderr",
     "output_type": "stream",
     "text": [
      "Training: 100%|██████████| 302/302 [00:13<00:00, 23.00it/s]\n",
      "Evaluating: 100%|██████████| 34/34 [00:01<00:00, 25.86it/s]\n",
      "Training:   0%|          | 0/302 [00:00<?, ?it/s]"
     ]
    },
    {
     "name": "stdout",
     "output_type": "stream",
     "text": [
      "epoch 5, train loss: 3.522, valid rmspe: 2.610\n"
     ]
    },
    {
     "name": "stderr",
     "output_type": "stream",
     "text": [
      "Training: 100%|██████████| 302/302 [00:12<00:00, 23.37it/s]\n",
      "Evaluating: 100%|██████████| 34/34 [00:01<00:00, 24.97it/s]\n",
      "Training:   0%|          | 0/302 [00:00<?, ?it/s]"
     ]
    },
    {
     "name": "stdout",
     "output_type": "stream",
     "text": [
      "epoch 6, train loss: 3.702, valid rmspe: 1.327\n",
      "new best:1.3270846605300903\n"
     ]
    },
    {
     "name": "stderr",
     "output_type": "stream",
     "text": [
      "Training: 100%|██████████| 302/302 [00:13<00:00, 22.89it/s]\n",
      "Evaluating: 100%|██████████| 34/34 [00:01<00:00, 25.70it/s]\n",
      "Training:   0%|          | 0/302 [00:00<?, ?it/s]"
     ]
    },
    {
     "name": "stdout",
     "output_type": "stream",
     "text": [
      "epoch 7, train loss: 1.893, valid rmspe: 0.936\n",
      "new best:0.9363558888435364\n"
     ]
    },
    {
     "name": "stderr",
     "output_type": "stream",
     "text": [
      "Training: 100%|██████████| 302/302 [00:12<00:00, 23.97it/s]\n",
      "Evaluating: 100%|██████████| 34/34 [00:01<00:00, 25.06it/s]\n",
      "Training:   0%|          | 0/302 [00:00<?, ?it/s]"
     ]
    },
    {
     "name": "stdout",
     "output_type": "stream",
     "text": [
      "epoch 8, train loss: 1.585, valid rmspe: 1.018\n"
     ]
    },
    {
     "name": "stderr",
     "output_type": "stream",
     "text": [
      "Training: 100%|██████████| 302/302 [00:13<00:00, 22.74it/s]\n",
      "Evaluating: 100%|██████████| 34/34 [00:01<00:00, 22.17it/s]\n",
      "Training:   0%|          | 0/302 [00:00<?, ?it/s]"
     ]
    },
    {
     "name": "stdout",
     "output_type": "stream",
     "text": [
      "epoch 9, train loss: 1.363, valid rmspe: 1.331\n"
     ]
    },
    {
     "name": "stderr",
     "output_type": "stream",
     "text": [
      "Training: 100%|██████████| 302/302 [00:12<00:00, 23.90it/s]\n",
      "Evaluating: 100%|██████████| 34/34 [00:01<00:00, 25.43it/s]\n",
      "Training:   0%|          | 0/302 [00:00<?, ?it/s]"
     ]
    },
    {
     "name": "stdout",
     "output_type": "stream",
     "text": [
      "epoch 10, train loss: 1.090, valid rmspe: 0.675\n",
      "new best:0.6750298738479614\n"
     ]
    },
    {
     "name": "stderr",
     "output_type": "stream",
     "text": [
      "Training: 100%|██████████| 302/302 [00:13<00:00, 22.81it/s]\n",
      "Evaluating: 100%|██████████| 34/34 [00:01<00:00, 25.72it/s]\n",
      "Training:   0%|          | 0/302 [00:00<?, ?it/s]"
     ]
    },
    {
     "name": "stdout",
     "output_type": "stream",
     "text": [
      "epoch 11, train loss: 0.686, valid rmspe: 0.743\n"
     ]
    },
    {
     "name": "stderr",
     "output_type": "stream",
     "text": [
      "Training: 100%|██████████| 302/302 [00:12<00:00, 23.69it/s]\n",
      "Evaluating: 100%|██████████| 34/34 [00:01<00:00, 23.14it/s]\n",
      "Training:   0%|          | 0/302 [00:00<?, ?it/s]"
     ]
    },
    {
     "name": "stdout",
     "output_type": "stream",
     "text": [
      "epoch 12, train loss: 0.594, valid rmspe: 0.438\n",
      "new best:0.43835508823394775\n"
     ]
    },
    {
     "name": "stderr",
     "output_type": "stream",
     "text": [
      "Training: 100%|██████████| 302/302 [00:12<00:00, 23.48it/s]\n",
      "Evaluating: 100%|██████████| 34/34 [00:01<00:00, 25.44it/s]\n",
      "Training:   0%|          | 0/302 [00:00<?, ?it/s]"
     ]
    },
    {
     "name": "stdout",
     "output_type": "stream",
     "text": [
      "epoch 13, train loss: 0.530, valid rmspe: 0.403\n",
      "new best:0.40292036533355713\n"
     ]
    },
    {
     "name": "stderr",
     "output_type": "stream",
     "text": [
      "Training: 100%|██████████| 302/302 [00:13<00:00, 22.28it/s]\n",
      "Evaluating: 100%|██████████| 34/34 [00:01<00:00, 25.97it/s]\n",
      "Training:   0%|          | 0/302 [00:00<?, ?it/s]"
     ]
    },
    {
     "name": "stdout",
     "output_type": "stream",
     "text": [
      "epoch 14, train loss: 0.488, valid rmspe: 0.211\n",
      "new best:0.2109856754541397\n"
     ]
    },
    {
     "name": "stderr",
     "output_type": "stream",
     "text": [
      "Training: 100%|██████████| 302/302 [00:12<00:00, 23.88it/s]\n",
      "Evaluating: 100%|██████████| 34/34 [00:01<00:00, 24.49it/s]\n",
      "Training:   0%|          | 0/302 [00:00<?, ?it/s]"
     ]
    },
    {
     "name": "stdout",
     "output_type": "stream",
     "text": [
      "epoch 15, train loss: 0.394, valid rmspe: 0.267\n"
     ]
    },
    {
     "name": "stderr",
     "output_type": "stream",
     "text": [
      "Training: 100%|██████████| 302/302 [00:15<00:00, 19.10it/s]\n",
      "Evaluating: 100%|██████████| 34/34 [00:01<00:00, 20.27it/s]\n",
      "Training:   0%|          | 0/302 [00:00<?, ?it/s]"
     ]
    },
    {
     "name": "stdout",
     "output_type": "stream",
     "text": [
      "epoch 16, train loss: 0.377, valid rmspe: 0.210\n",
      "new best:0.21046988666057587\n"
     ]
    },
    {
     "name": "stderr",
     "output_type": "stream",
     "text": [
      "Training: 100%|██████████| 302/302 [00:16<00:00, 17.95it/s]\n",
      "Evaluating: 100%|██████████| 34/34 [00:01<00:00, 19.55it/s]\n",
      "Training:   0%|          | 0/302 [00:00<?, ?it/s]"
     ]
    },
    {
     "name": "stdout",
     "output_type": "stream",
     "text": [
      "epoch 17, train loss: 0.342, valid rmspe: 0.438\n"
     ]
    },
    {
     "name": "stderr",
     "output_type": "stream",
     "text": [
      "Training: 100%|██████████| 302/302 [00:16<00:00, 17.78it/s]\n",
      "Evaluating: 100%|██████████| 34/34 [00:01<00:00, 20.80it/s]\n",
      "Training:   0%|          | 0/302 [00:00<?, ?it/s]"
     ]
    },
    {
     "name": "stdout",
     "output_type": "stream",
     "text": [
      "epoch 18, train loss: 0.366, valid rmspe: 0.333\n"
     ]
    },
    {
     "name": "stderr",
     "output_type": "stream",
     "text": [
      "Training: 100%|██████████| 302/302 [00:17<00:00, 17.55it/s]\n",
      "Evaluating: 100%|██████████| 34/34 [00:01<00:00, 19.95it/s]\n",
      "Training:   0%|          | 0/302 [00:00<?, ?it/s]"
     ]
    },
    {
     "name": "stdout",
     "output_type": "stream",
     "text": [
      "epoch 19, train loss: 0.280, valid rmspe: 0.221\n"
     ]
    },
    {
     "name": "stderr",
     "output_type": "stream",
     "text": [
      "Training: 100%|██████████| 302/302 [00:15<00:00, 20.11it/s]\n",
      "Evaluating: 100%|██████████| 34/34 [00:01<00:00, 22.90it/s]\n",
      "Training:   0%|          | 0/302 [00:00<?, ?it/s]"
     ]
    },
    {
     "name": "stdout",
     "output_type": "stream",
     "text": [
      "epoch 20, train loss: 0.248, valid rmspe: 0.187\n",
      "new best:0.18690165877342224\n"
     ]
    },
    {
     "name": "stderr",
     "output_type": "stream",
     "text": [
      "Training: 100%|██████████| 302/302 [00:13<00:00, 22.57it/s]\n",
      "Evaluating: 100%|██████████| 34/34 [00:01<00:00, 25.43it/s]\n",
      "Training:   0%|          | 0/302 [00:00<?, ?it/s]"
     ]
    },
    {
     "name": "stdout",
     "output_type": "stream",
     "text": [
      "epoch 21, train loss: 0.229, valid rmspe: 0.218\n"
     ]
    },
    {
     "name": "stderr",
     "output_type": "stream",
     "text": [
      "Training: 100%|██████████| 302/302 [00:12<00:00, 23.73it/s]\n",
      "Evaluating: 100%|██████████| 34/34 [00:01<00:00, 25.05it/s]\n",
      "Training:   0%|          | 0/302 [00:00<?, ?it/s]"
     ]
    },
    {
     "name": "stdout",
     "output_type": "stream",
     "text": [
      "epoch 22, train loss: 0.218, valid rmspe: 0.186\n",
      "new best:0.18616600334644318\n"
     ]
    },
    {
     "name": "stderr",
     "output_type": "stream",
     "text": [
      "Training: 100%|██████████| 302/302 [00:12<00:00, 23.73it/s]\n",
      "Evaluating: 100%|██████████| 34/34 [00:01<00:00, 21.95it/s]\n",
      "Training:   0%|          | 0/302 [00:00<?, ?it/s]"
     ]
    },
    {
     "name": "stdout",
     "output_type": "stream",
     "text": [
      "epoch 23, train loss: 0.216, valid rmspe: 0.214\n"
     ]
    },
    {
     "name": "stderr",
     "output_type": "stream",
     "text": [
      "Training: 100%|██████████| 302/302 [00:13<00:00, 22.21it/s]\n",
      "Evaluating: 100%|██████████| 34/34 [00:01<00:00, 25.69it/s]\n",
      "Training:   0%|          | 0/302 [00:00<?, ?it/s]"
     ]
    },
    {
     "name": "stdout",
     "output_type": "stream",
     "text": [
      "epoch 24, train loss: 0.211, valid rmspe: 0.187\n"
     ]
    },
    {
     "name": "stderr",
     "output_type": "stream",
     "text": [
      "Training: 100%|██████████| 302/302 [00:12<00:00, 23.84it/s]\n",
      "Evaluating: 100%|██████████| 34/34 [00:01<00:00, 25.60it/s]\n",
      "Training:   0%|          | 0/302 [00:00<?, ?it/s]"
     ]
    },
    {
     "name": "stdout",
     "output_type": "stream",
     "text": [
      "epoch 25, train loss: 0.209, valid rmspe: 0.200\n"
     ]
    },
    {
     "name": "stderr",
     "output_type": "stream",
     "text": [
      "Training: 100%|██████████| 302/302 [00:13<00:00, 22.55it/s]\n",
      "Evaluating: 100%|██████████| 34/34 [00:01<00:00, 21.19it/s]\n",
      "Training:   0%|          | 0/302 [00:00<?, ?it/s]"
     ]
    },
    {
     "name": "stdout",
     "output_type": "stream",
     "text": [
      "epoch 26, train loss: 0.211, valid rmspe: 0.184\n",
      "new best:0.1841670423746109\n"
     ]
    },
    {
     "name": "stderr",
     "output_type": "stream",
     "text": [
      "Training: 100%|██████████| 302/302 [00:12<00:00, 23.93it/s]\n",
      "Evaluating: 100%|██████████| 34/34 [00:01<00:00, 25.44it/s]\n",
      "Training:   0%|          | 0/302 [00:00<?, ?it/s]"
     ]
    },
    {
     "name": "stdout",
     "output_type": "stream",
     "text": [
      "epoch 27, train loss: 0.210, valid rmspe: 0.201\n"
     ]
    },
    {
     "name": "stderr",
     "output_type": "stream",
     "text": [
      "Training: 100%|██████████| 302/302 [00:13<00:00, 22.83it/s]\n",
      "Evaluating: 100%|██████████| 34/34 [00:01<00:00, 25.56it/s]\n",
      "Training:   0%|          | 0/302 [00:00<?, ?it/s]"
     ]
    },
    {
     "name": "stdout",
     "output_type": "stream",
     "text": [
      "epoch 28, train loss: 0.206, valid rmspe: 0.185\n"
     ]
    },
    {
     "name": "stderr",
     "output_type": "stream",
     "text": [
      "Training: 100%|██████████| 302/302 [00:12<00:00, 23.64it/s]\n",
      "Evaluating: 100%|██████████| 34/34 [00:01<00:00, 25.06it/s]\n",
      "Training:   0%|          | 0/302 [00:00<?, ?it/s]"
     ]
    },
    {
     "name": "stdout",
     "output_type": "stream",
     "text": [
      "epoch 29, train loss: 0.209, valid rmspe: 0.187\n"
     ]
    },
    {
     "name": "stderr",
     "output_type": "stream",
     "text": [
      "Training: 100%|██████████| 302/302 [00:13<00:00, 21.83it/s]\n",
      "Evaluating: 100%|██████████| 34/34 [00:01<00:00, 25.31it/s]\n",
      "Training:   0%|          | 0/302 [00:00<?, ?it/s]"
     ]
    },
    {
     "name": "stdout",
     "output_type": "stream",
     "text": [
      "epoch 30, train loss: 0.206, valid rmspe: 0.186\n"
     ]
    },
    {
     "name": "stderr",
     "output_type": "stream",
     "text": [
      "Training: 100%|██████████| 302/302 [00:12<00:00, 23.85it/s]\n",
      "Evaluating: 100%|██████████| 34/34 [00:01<00:00, 25.67it/s]\n",
      "Training:   0%|          | 0/302 [00:00<?, ?it/s]"
     ]
    },
    {
     "name": "stdout",
     "output_type": "stream",
     "text": [
      "epoch 31, train loss: 0.207, valid rmspe: 0.183\n",
      "new best:0.18282772600650787\n"
     ]
    },
    {
     "name": "stderr",
     "output_type": "stream",
     "text": [
      "Training: 100%|██████████| 302/302 [00:12<00:00, 23.70it/s]\n",
      "Evaluating: 100%|██████████| 34/34 [00:01<00:00, 19.37it/s]\n",
      "Training:   0%|          | 0/302 [00:00<?, ?it/s]"
     ]
    },
    {
     "name": "stdout",
     "output_type": "stream",
     "text": [
      "epoch 32, train loss: 0.207, valid rmspe: 0.188\n"
     ]
    },
    {
     "name": "stderr",
     "output_type": "stream",
     "text": [
      "Training: 100%|██████████| 302/302 [00:13<00:00, 22.90it/s]\n",
      "Evaluating: 100%|██████████| 34/34 [00:01<00:00, 25.71it/s]\n",
      "Training:   0%|          | 0/302 [00:00<?, ?it/s]"
     ]
    },
    {
     "name": "stdout",
     "output_type": "stream",
     "text": [
      "epoch 33, train loss: 0.203, valid rmspe: 0.204\n"
     ]
    },
    {
     "name": "stderr",
     "output_type": "stream",
     "text": [
      "Training: 100%|██████████| 302/302 [00:12<00:00, 23.76it/s]\n",
      "Evaluating: 100%|██████████| 34/34 [00:01<00:00, 24.92it/s]\n",
      "Training:   0%|          | 0/302 [00:00<?, ?it/s]"
     ]
    },
    {
     "name": "stdout",
     "output_type": "stream",
     "text": [
      "epoch 34, train loss: 0.210, valid rmspe: 0.189\n"
     ]
    },
    {
     "name": "stderr",
     "output_type": "stream",
     "text": [
      "Training: 100%|██████████| 302/302 [00:13<00:00, 22.83it/s]\n",
      "Evaluating: 100%|██████████| 34/34 [00:01<00:00, 24.93it/s]\n",
      "Training:   0%|          | 0/302 [00:00<?, ?it/s]"
     ]
    },
    {
     "name": "stdout",
     "output_type": "stream",
     "text": [
      "epoch 35, train loss: 0.221, valid rmspe: 0.188\n"
     ]
    },
    {
     "name": "stderr",
     "output_type": "stream",
     "text": [
      "Training: 100%|██████████| 302/302 [00:12<00:00, 23.61it/s]\n",
      "Evaluating: 100%|██████████| 34/34 [00:01<00:00, 23.56it/s]\n",
      "Training:   0%|          | 0/302 [00:00<?, ?it/s]"
     ]
    },
    {
     "name": "stdout",
     "output_type": "stream",
     "text": [
      "epoch 36, train loss: 0.208, valid rmspe: 0.202\n"
     ]
    },
    {
     "name": "stderr",
     "output_type": "stream",
     "text": [
      "Training: 100%|██████████| 302/302 [00:13<00:00, 22.38it/s]\n",
      "Evaluating: 100%|██████████| 34/34 [00:01<00:00, 25.98it/s]\n",
      "Training:   0%|          | 0/302 [00:00<?, ?it/s]"
     ]
    },
    {
     "name": "stdout",
     "output_type": "stream",
     "text": [
      "epoch 37, train loss: 0.207, valid rmspe: 0.198\n"
     ]
    },
    {
     "name": "stderr",
     "output_type": "stream",
     "text": [
      "Training: 100%|██████████| 302/302 [00:12<00:00, 23.73it/s]\n",
      "Evaluating: 100%|██████████| 34/34 [00:01<00:00, 25.08it/s]\n",
      "Training:   0%|          | 0/302 [00:00<?, ?it/s]"
     ]
    },
    {
     "name": "stdout",
     "output_type": "stream",
     "text": [
      "epoch 38, train loss: 0.204, valid rmspe: 0.191\n"
     ]
    },
    {
     "name": "stderr",
     "output_type": "stream",
     "text": [
      "Training: 100%|██████████| 302/302 [00:13<00:00, 22.82it/s]\n",
      "Evaluating: 100%|██████████| 34/34 [00:01<00:00, 20.95it/s]\n",
      "Training:   0%|          | 0/302 [00:00<?, ?it/s]"
     ]
    },
    {
     "name": "stdout",
     "output_type": "stream",
     "text": [
      "epoch 39, train loss: 0.203, valid rmspe: 0.191\n"
     ]
    },
    {
     "name": "stderr",
     "output_type": "stream",
     "text": [
      "Training: 100%|██████████| 302/302 [00:12<00:00, 23.38it/s]\n",
      "Evaluating: 100%|██████████| 34/34 [00:01<00:00, 25.44it/s]\n",
      "Training:   0%|          | 0/302 [00:00<?, ?it/s]"
     ]
    },
    {
     "name": "stdout",
     "output_type": "stream",
     "text": [
      "epoch 40, train loss: 0.204, valid rmspe: 0.191\n",
      "Epoch    41: reducing learning rate of group 0 to 1.1400e-04.\n"
     ]
    },
    {
     "name": "stderr",
     "output_type": "stream",
     "text": [
      "Training: 100%|██████████| 302/302 [00:12<00:00, 23.51it/s]\n",
      "Evaluating: 100%|██████████| 34/34 [00:01<00:00, 23.99it/s]\n",
      "Training:   0%|          | 0/302 [00:00<?, ?it/s]"
     ]
    },
    {
     "name": "stdout",
     "output_type": "stream",
     "text": [
      "epoch 41, train loss: 0.195, valid rmspe: 0.188\n"
     ]
    },
    {
     "name": "stderr",
     "output_type": "stream",
     "text": [
      "Training: 100%|██████████| 302/302 [00:13<00:00, 22.18it/s]\n",
      "Evaluating: 100%|██████████| 34/34 [00:01<00:00, 20.86it/s]\n",
      "Training:   0%|          | 0/302 [00:00<?, ?it/s]"
     ]
    },
    {
     "name": "stdout",
     "output_type": "stream",
     "text": [
      "epoch 42, train loss: 0.193, valid rmspe: 0.181\n",
      "new best:0.1813657134771347\n"
     ]
    },
    {
     "name": "stderr",
     "output_type": "stream",
     "text": [
      "Training: 100%|██████████| 302/302 [00:12<00:00, 23.46it/s]\n",
      "Evaluating: 100%|██████████| 34/34 [00:01<00:00, 25.01it/s]\n",
      "Training:   0%|          | 0/302 [00:00<?, ?it/s]"
     ]
    },
    {
     "name": "stdout",
     "output_type": "stream",
     "text": [
      "epoch 43, train loss: 0.196, valid rmspe: 0.188\n"
     ]
    },
    {
     "name": "stderr",
     "output_type": "stream",
     "text": [
      "Training: 100%|██████████| 302/302 [00:13<00:00, 22.53it/s]\n",
      "Evaluating: 100%|██████████| 34/34 [00:01<00:00, 25.68it/s]\n",
      "Training:   0%|          | 0/302 [00:00<?, ?it/s]"
     ]
    },
    {
     "name": "stdout",
     "output_type": "stream",
     "text": [
      "epoch 44, train loss: 0.197, valid rmspe: 0.186\n"
     ]
    },
    {
     "name": "stderr",
     "output_type": "stream",
     "text": [
      "Training: 100%|██████████| 302/302 [00:12<00:00, 23.84it/s]\n",
      "Evaluating: 100%|██████████| 34/34 [00:01<00:00, 22.80it/s]\n",
      "Training:   0%|          | 0/302 [00:00<?, ?it/s]"
     ]
    },
    {
     "name": "stdout",
     "output_type": "stream",
     "text": [
      "epoch 45, train loss: 0.195, valid rmspe: 0.184\n"
     ]
    },
    {
     "name": "stderr",
     "output_type": "stream",
     "text": [
      "Training: 100%|██████████| 302/302 [00:13<00:00, 22.81it/s]\n",
      "Evaluating: 100%|██████████| 34/34 [00:01<00:00, 24.68it/s]\n",
      "Training:   0%|          | 0/302 [00:00<?, ?it/s]"
     ]
    },
    {
     "name": "stdout",
     "output_type": "stream",
     "text": [
      "epoch 46, train loss: 0.193, valid rmspe: 0.189\n"
     ]
    },
    {
     "name": "stderr",
     "output_type": "stream",
     "text": [
      "Training: 100%|██████████| 302/302 [00:12<00:00, 23.72it/s]\n",
      "Evaluating: 100%|██████████| 34/34 [00:01<00:00, 24.35it/s]\n",
      "Training:   0%|          | 0/302 [00:00<?, ?it/s]"
     ]
    },
    {
     "name": "stdout",
     "output_type": "stream",
     "text": [
      "epoch 47, train loss: 0.194, valid rmspe: 0.183\n"
     ]
    },
    {
     "name": "stderr",
     "output_type": "stream",
     "text": [
      "Training: 100%|██████████| 302/302 [00:13<00:00, 22.37it/s]\n",
      "Evaluating: 100%|██████████| 34/34 [00:01<00:00, 22.80it/s]\n",
      "Training:   0%|          | 0/302 [00:00<?, ?it/s]"
     ]
    },
    {
     "name": "stdout",
     "output_type": "stream",
     "text": [
      "epoch 48, train loss: 0.193, valid rmspe: 0.183\n"
     ]
    },
    {
     "name": "stderr",
     "output_type": "stream",
     "text": [
      "Training: 100%|██████████| 302/302 [00:12<00:00, 23.35it/s]\n",
      "Evaluating: 100%|██████████| 34/34 [00:01<00:00, 25.19it/s]\n"
     ]
    },
    {
     "name": "stdout",
     "output_type": "stream",
     "text": [
      "epoch 49, train loss: 0.193, valid rmspe: 0.192\n"
     ]
    },
    {
     "name": "stderr",
     "output_type": "stream",
     "text": [
      "Training:   0%|          | 0/302 [00:00<?, ?it/s]"
     ]
    },
    {
     "name": "stdout",
     "output_type": "stream",
     "text": [
      "fold 0 train: (386036, 591), valid: (42896, 591)\n"
     ]
    },
    {
     "name": "stderr",
     "output_type": "stream",
     "text": [
      "Training: 100%|██████████| 302/302 [00:13<00:00, 22.96it/s]\n",
      "Evaluating: 100%|██████████| 34/34 [00:01<00:00, 25.87it/s]\n",
      "Training:   0%|          | 0/302 [00:00<?, ?it/s]"
     ]
    },
    {
     "name": "stdout",
     "output_type": "stream",
     "text": [
      "epoch 0, train loss: 39.311, valid rmspe: 8.752\n",
      "new best:8.75162124633789\n"
     ]
    },
    {
     "name": "stderr",
     "output_type": "stream",
     "text": [
      "Training: 100%|██████████| 302/302 [00:12<00:00, 23.51it/s]\n",
      "Evaluating: 100%|██████████| 34/34 [00:01<00:00, 25.69it/s]\n",
      "Training:   0%|          | 0/302 [00:00<?, ?it/s]"
     ]
    },
    {
     "name": "stdout",
     "output_type": "stream",
     "text": [
      "epoch 1, train loss: 7.640, valid rmspe: 2.339\n",
      "new best:2.339479684829712\n"
     ]
    },
    {
     "name": "stderr",
     "output_type": "stream",
     "text": [
      "Training: 100%|██████████| 302/302 [00:13<00:00, 22.68it/s]\n",
      "Evaluating: 100%|██████████| 34/34 [00:01<00:00, 19.70it/s]\n",
      "Training:   0%|          | 0/302 [00:00<?, ?it/s]"
     ]
    },
    {
     "name": "stdout",
     "output_type": "stream",
     "text": [
      "epoch 2, train loss: 5.291, valid rmspe: 2.516\n"
     ]
    },
    {
     "name": "stderr",
     "output_type": "stream",
     "text": [
      "Training: 100%|██████████| 302/302 [00:16<00:00, 18.30it/s]\n",
      "Evaluating: 100%|██████████| 34/34 [00:01<00:00, 20.69it/s]\n",
      "Training:   0%|          | 0/302 [00:00<?, ?it/s]"
     ]
    },
    {
     "name": "stdout",
     "output_type": "stream",
     "text": [
      "epoch 3, train loss: 4.819, valid rmspe: 2.580\n"
     ]
    },
    {
     "name": "stderr",
     "output_type": "stream",
     "text": [
      "Training: 100%|██████████| 302/302 [00:17<00:00, 17.22it/s]\n",
      "Evaluating: 100%|██████████| 34/34 [00:01<00:00, 19.73it/s]\n",
      "Training:   0%|          | 0/302 [00:00<?, ?it/s]"
     ]
    },
    {
     "name": "stdout",
     "output_type": "stream",
     "text": [
      "epoch 4, train loss: 3.633, valid rmspe: 3.208\n"
     ]
    },
    {
     "name": "stderr",
     "output_type": "stream",
     "text": [
      "Training: 100%|██████████| 302/302 [00:16<00:00, 18.63it/s]\n",
      "Evaluating: 100%|██████████| 34/34 [00:01<00:00, 17.56it/s]\n",
      "Training:   0%|          | 0/302 [00:00<?, ?it/s]"
     ]
    },
    {
     "name": "stdout",
     "output_type": "stream",
     "text": [
      "epoch 5, train loss: 2.766, valid rmspe: 4.645\n"
     ]
    },
    {
     "name": "stderr",
     "output_type": "stream",
     "text": [
      "Training: 100%|██████████| 302/302 [00:17<00:00, 17.65it/s]\n",
      "Evaluating: 100%|██████████| 34/34 [00:01<00:00, 20.84it/s]\n",
      "Training:   0%|          | 0/302 [00:00<?, ?it/s]"
     ]
    },
    {
     "name": "stdout",
     "output_type": "stream",
     "text": [
      "epoch 6, train loss: 2.509, valid rmspe: 1.727\n",
      "new best:1.7265748977661133\n"
     ]
    },
    {
     "name": "stderr",
     "output_type": "stream",
     "text": [
      "Training: 100%|██████████| 302/302 [00:14<00:00, 20.37it/s]\n",
      "Evaluating: 100%|██████████| 34/34 [00:01<00:00, 25.25it/s]\n",
      "Training:   0%|          | 0/302 [00:00<?, ?it/s]"
     ]
    },
    {
     "name": "stdout",
     "output_type": "stream",
     "text": [
      "epoch 7, train loss: 2.212, valid rmspe: 2.225\n"
     ]
    },
    {
     "name": "stderr",
     "output_type": "stream",
     "text": [
      "Training: 100%|██████████| 302/302 [00:13<00:00, 22.82it/s]\n",
      "Evaluating: 100%|██████████| 34/34 [00:01<00:00, 24.99it/s]\n",
      "Training:   0%|          | 0/302 [00:00<?, ?it/s]"
     ]
    },
    {
     "name": "stdout",
     "output_type": "stream",
     "text": [
      "epoch 8, train loss: 1.923, valid rmspe: 1.299\n",
      "new best:1.2986750602722168\n"
     ]
    },
    {
     "name": "stderr",
     "output_type": "stream",
     "text": [
      "Training: 100%|██████████| 302/302 [00:12<00:00, 23.40it/s]\n",
      "Evaluating: 100%|██████████| 34/34 [00:01<00:00, 25.17it/s]\n",
      "Training:   0%|          | 0/302 [00:00<?, ?it/s]"
     ]
    },
    {
     "name": "stdout",
     "output_type": "stream",
     "text": [
      "epoch 9, train loss: 1.282, valid rmspe: 1.021\n",
      "new best:1.0208702087402344\n"
     ]
    },
    {
     "name": "stderr",
     "output_type": "stream",
     "text": [
      "Training: 100%|██████████| 302/302 [00:13<00:00, 22.36it/s]\n",
      "Evaluating: 100%|██████████| 34/34 [00:01<00:00, 25.98it/s]\n",
      "Training:   0%|          | 0/302 [00:00<?, ?it/s]"
     ]
    },
    {
     "name": "stdout",
     "output_type": "stream",
     "text": [
      "epoch 10, train loss: 0.889, valid rmspe: 1.553\n"
     ]
    },
    {
     "name": "stderr",
     "output_type": "stream",
     "text": [
      "Training: 100%|██████████| 302/302 [00:12<00:00, 23.95it/s]\n",
      "Evaluating: 100%|██████████| 34/34 [00:01<00:00, 24.76it/s]\n",
      "Training:   0%|          | 0/302 [00:00<?, ?it/s]"
     ]
    },
    {
     "name": "stdout",
     "output_type": "stream",
     "text": [
      "epoch 11, train loss: 0.804, valid rmspe: 0.515\n",
      "new best:0.515268087387085\n"
     ]
    },
    {
     "name": "stderr",
     "output_type": "stream",
     "text": [
      "Training: 100%|██████████| 302/302 [00:13<00:00, 22.35it/s]\n",
      "Evaluating: 100%|██████████| 34/34 [00:01<00:00, 25.62it/s]\n",
      "Training:   0%|          | 0/302 [00:00<?, ?it/s]"
     ]
    },
    {
     "name": "stdout",
     "output_type": "stream",
     "text": [
      "epoch 12, train loss: 0.700, valid rmspe: 0.520\n"
     ]
    },
    {
     "name": "stderr",
     "output_type": "stream",
     "text": [
      "Training: 100%|██████████| 302/302 [00:12<00:00, 23.30it/s]\n",
      "Evaluating: 100%|██████████| 34/34 [00:01<00:00, 25.31it/s]\n",
      "Training:   0%|          | 0/302 [00:00<?, ?it/s]"
     ]
    },
    {
     "name": "stdout",
     "output_type": "stream",
     "text": [
      "epoch 13, train loss: 0.537, valid rmspe: 0.416\n",
      "new best:0.416485995054245\n"
     ]
    },
    {
     "name": "stderr",
     "output_type": "stream",
     "text": [
      "Training: 100%|██████████| 302/302 [00:12<00:00, 23.91it/s]\n",
      "Evaluating: 100%|██████████| 34/34 [00:01<00:00, 18.98it/s]\n",
      "Training:   0%|          | 0/302 [00:00<?, ?it/s]"
     ]
    },
    {
     "name": "stdout",
     "output_type": "stream",
     "text": [
      "epoch 14, train loss: 0.492, valid rmspe: 0.270\n",
      "new best:0.2698100805282593\n"
     ]
    },
    {
     "name": "stderr",
     "output_type": "stream",
     "text": [
      "Training: 100%|██████████| 302/302 [00:12<00:00, 23.81it/s]\n",
      "Evaluating: 100%|██████████| 34/34 [00:01<00:00, 25.90it/s]\n",
      "Training:   0%|          | 0/302 [00:00<?, ?it/s]"
     ]
    },
    {
     "name": "stdout",
     "output_type": "stream",
     "text": [
      "epoch 15, train loss: 0.382, valid rmspe: 0.241\n",
      "new best:0.2408493459224701\n"
     ]
    },
    {
     "name": "stderr",
     "output_type": "stream",
     "text": [
      "Training: 100%|██████████| 302/302 [00:12<00:00, 23.77it/s]\n",
      "Evaluating: 100%|██████████| 34/34 [00:01<00:00, 22.06it/s]\n",
      "Training:   0%|          | 0/302 [00:00<?, ?it/s]"
     ]
    },
    {
     "name": "stdout",
     "output_type": "stream",
     "text": [
      "epoch 16, train loss: 0.405, valid rmspe: 0.215\n",
      "new best:0.2148500233888626\n"
     ]
    },
    {
     "name": "stderr",
     "output_type": "stream",
     "text": [
      "Training: 100%|██████████| 302/302 [00:13<00:00, 22.94it/s]\n",
      "Evaluating: 100%|██████████| 34/34 [00:01<00:00, 25.79it/s]\n",
      "Training:   0%|          | 0/302 [00:00<?, ?it/s]"
     ]
    },
    {
     "name": "stdout",
     "output_type": "stream",
     "text": [
      "epoch 17, train loss: 0.431, valid rmspe: 0.304\n"
     ]
    },
    {
     "name": "stderr",
     "output_type": "stream",
     "text": [
      "Training: 100%|██████████| 302/302 [00:12<00:00, 23.87it/s]\n",
      "Evaluating: 100%|██████████| 34/34 [00:01<00:00, 25.71it/s]\n",
      "Training:   0%|          | 0/302 [00:00<?, ?it/s]"
     ]
    },
    {
     "name": "stdout",
     "output_type": "stream",
     "text": [
      "epoch 18, train loss: 0.359, valid rmspe: 0.267\n"
     ]
    },
    {
     "name": "stderr",
     "output_type": "stream",
     "text": [
      "Training: 100%|██████████| 302/302 [00:13<00:00, 22.78it/s]\n",
      "Evaluating: 100%|██████████| 34/34 [00:01<00:00, 21.28it/s]\n",
      "Training:   0%|          | 0/302 [00:00<?, ?it/s]"
     ]
    },
    {
     "name": "stdout",
     "output_type": "stream",
     "text": [
      "epoch 19, train loss: 0.406, valid rmspe: 0.227\n"
     ]
    },
    {
     "name": "stderr",
     "output_type": "stream",
     "text": [
      "Training: 100%|██████████| 302/302 [00:12<00:00, 23.72it/s]\n",
      "Evaluating: 100%|██████████| 34/34 [00:01<00:00, 25.47it/s]\n",
      "Training:   0%|          | 0/302 [00:00<?, ?it/s]"
     ]
    },
    {
     "name": "stdout",
     "output_type": "stream",
     "text": [
      "epoch 20, train loss: 0.396, valid rmspe: 0.241\n"
     ]
    },
    {
     "name": "stderr",
     "output_type": "stream",
     "text": [
      "Training: 100%|██████████| 302/302 [00:13<00:00, 22.54it/s]\n",
      "Evaluating: 100%|██████████| 34/34 [00:01<00:00, 25.39it/s]\n",
      "Training:   0%|          | 0/302 [00:00<?, ?it/s]"
     ]
    },
    {
     "name": "stdout",
     "output_type": "stream",
     "text": [
      "epoch 21, train loss: 0.279, valid rmspe: 0.186\n",
      "new best:0.18571218848228455\n"
     ]
    },
    {
     "name": "stderr",
     "output_type": "stream",
     "text": [
      "Training: 100%|██████████| 302/302 [00:12<00:00, 24.09it/s]\n",
      "Evaluating: 100%|██████████| 34/34 [00:01<00:00, 25.06it/s]\n",
      "Training:   0%|          | 0/302 [00:00<?, ?it/s]"
     ]
    },
    {
     "name": "stdout",
     "output_type": "stream",
     "text": [
      "epoch 22, train loss: 0.285, valid rmspe: 0.261\n"
     ]
    },
    {
     "name": "stderr",
     "output_type": "stream",
     "text": [
      "Training: 100%|██████████| 302/302 [00:12<00:00, 23.37it/s]\n",
      "Evaluating: 100%|██████████| 34/34 [00:01<00:00, 25.84it/s]\n",
      "Training:   0%|          | 0/302 [00:00<?, ?it/s]"
     ]
    },
    {
     "name": "stdout",
     "output_type": "stream",
     "text": [
      "epoch 23, train loss: 0.306, valid rmspe: 0.192\n"
     ]
    },
    {
     "name": "stderr",
     "output_type": "stream",
     "text": [
      "Training: 100%|██████████| 302/302 [00:13<00:00, 23.07it/s]\n",
      "Evaluating: 100%|██████████| 34/34 [00:01<00:00, 26.22it/s]\n",
      "Training:   0%|          | 0/302 [00:00<?, ?it/s]"
     ]
    },
    {
     "name": "stdout",
     "output_type": "stream",
     "text": [
      "epoch 24, train loss: 0.243, valid rmspe: 0.279\n"
     ]
    },
    {
     "name": "stderr",
     "output_type": "stream",
     "text": [
      "Training: 100%|██████████| 302/302 [00:12<00:00, 23.78it/s]\n",
      "Evaluating: 100%|██████████| 34/34 [00:01<00:00, 25.53it/s]\n",
      "Training:   0%|          | 0/302 [00:00<?, ?it/s]"
     ]
    },
    {
     "name": "stdout",
     "output_type": "stream",
     "text": [
      "epoch 25, train loss: 0.228, valid rmspe: 0.188\n"
     ]
    },
    {
     "name": "stderr",
     "output_type": "stream",
     "text": [
      "Training: 100%|██████████| 302/302 [00:13<00:00, 22.61it/s]\n",
      "Evaluating: 100%|██████████| 34/34 [00:01<00:00, 25.13it/s]\n",
      "Training:   0%|          | 0/302 [00:00<?, ?it/s]"
     ]
    },
    {
     "name": "stdout",
     "output_type": "stream",
     "text": [
      "epoch 26, train loss: 0.233, valid rmspe: 0.202\n"
     ]
    },
    {
     "name": "stderr",
     "output_type": "stream",
     "text": [
      "Training: 100%|██████████| 302/302 [00:12<00:00, 23.97it/s]\n",
      "Evaluating: 100%|██████████| 34/34 [00:01<00:00, 25.22it/s]\n",
      "Training:   0%|          | 0/302 [00:00<?, ?it/s]"
     ]
    },
    {
     "name": "stdout",
     "output_type": "stream",
     "text": [
      "epoch 27, train loss: 0.215, valid rmspe: 0.183\n",
      "new best:0.18315120041370392\n"
     ]
    },
    {
     "name": "stderr",
     "output_type": "stream",
     "text": [
      "Training: 100%|██████████| 302/302 [00:13<00:00, 23.00it/s]\n",
      "Evaluating: 100%|██████████| 34/34 [00:01<00:00, 25.68it/s]\n",
      "Training:   0%|          | 0/302 [00:00<?, ?it/s]"
     ]
    },
    {
     "name": "stdout",
     "output_type": "stream",
     "text": [
      "epoch 28, train loss: 0.214, valid rmspe: 0.196\n"
     ]
    },
    {
     "name": "stderr",
     "output_type": "stream",
     "text": [
      "Training: 100%|██████████| 302/302 [00:12<00:00, 23.97it/s]\n",
      "Evaluating: 100%|██████████| 34/34 [00:01<00:00, 21.24it/s]\n",
      "Training:   0%|          | 0/302 [00:00<?, ?it/s]"
     ]
    },
    {
     "name": "stdout",
     "output_type": "stream",
     "text": [
      "epoch 29, train loss: 0.209, valid rmspe: 0.232\n"
     ]
    },
    {
     "name": "stderr",
     "output_type": "stream",
     "text": [
      "Training: 100%|██████████| 302/302 [00:13<00:00, 22.67it/s]\n",
      "Evaluating: 100%|██████████| 34/34 [00:01<00:00, 25.59it/s]\n",
      "Training:   0%|          | 0/302 [00:00<?, ?it/s]"
     ]
    },
    {
     "name": "stdout",
     "output_type": "stream",
     "text": [
      "epoch 30, train loss: 0.218, valid rmspe: 0.190\n"
     ]
    },
    {
     "name": "stderr",
     "output_type": "stream",
     "text": [
      "Training: 100%|██████████| 302/302 [00:12<00:00, 23.85it/s]\n",
      "Evaluating: 100%|██████████| 34/34 [00:01<00:00, 25.15it/s]\n",
      "Training:   0%|          | 0/302 [00:00<?, ?it/s]"
     ]
    },
    {
     "name": "stdout",
     "output_type": "stream",
     "text": [
      "epoch 31, train loss: 0.213, valid rmspe: 0.188\n"
     ]
    },
    {
     "name": "stderr",
     "output_type": "stream",
     "text": [
      "Training: 100%|██████████| 302/302 [00:12<00:00, 23.82it/s]\n",
      "Evaluating: 100%|██████████| 34/34 [00:01<00:00, 25.44it/s]\n",
      "Training:   0%|          | 0/302 [00:00<?, ?it/s]"
     ]
    },
    {
     "name": "stdout",
     "output_type": "stream",
     "text": [
      "epoch 32, train loss: 0.210, valid rmspe: 0.186\n"
     ]
    },
    {
     "name": "stderr",
     "output_type": "stream",
     "text": [
      "Training: 100%|██████████| 302/302 [00:13<00:00, 22.43it/s]\n",
      "Evaluating: 100%|██████████| 34/34 [00:01<00:00, 26.11it/s]\n",
      "Training:   0%|          | 0/302 [00:00<?, ?it/s]"
     ]
    },
    {
     "name": "stdout",
     "output_type": "stream",
     "text": [
      "epoch 33, train loss: 0.210, valid rmspe: 0.187\n"
     ]
    },
    {
     "name": "stderr",
     "output_type": "stream",
     "text": [
      "Training: 100%|██████████| 302/302 [00:12<00:00, 23.94it/s]\n",
      "Evaluating: 100%|██████████| 34/34 [00:01<00:00, 24.83it/s]\n",
      "Training:   0%|          | 0/302 [00:00<?, ?it/s]"
     ]
    },
    {
     "name": "stdout",
     "output_type": "stream",
     "text": [
      "epoch 34, train loss: 0.208, valid rmspe: 0.183\n"
     ]
    },
    {
     "name": "stderr",
     "output_type": "stream",
     "text": [
      "Training: 100%|██████████| 302/302 [00:13<00:00, 23.06it/s]\n",
      "Evaluating: 100%|██████████| 34/34 [00:01<00:00, 25.71it/s]\n",
      "Training:   0%|          | 0/302 [00:00<?, ?it/s]"
     ]
    },
    {
     "name": "stdout",
     "output_type": "stream",
     "text": [
      "epoch 35, train loss: 0.212, valid rmspe: 0.200\n"
     ]
    },
    {
     "name": "stderr",
     "output_type": "stream",
     "text": [
      "Training: 100%|██████████| 302/302 [00:12<00:00, 23.45it/s]\n",
      "Evaluating: 100%|██████████| 34/34 [00:01<00:00, 24.66it/s]\n",
      "Training:   0%|          | 0/302 [00:00<?, ?it/s]"
     ]
    },
    {
     "name": "stdout",
     "output_type": "stream",
     "text": [
      "epoch 36, train loss: 0.213, valid rmspe: 0.208\n",
      "Epoch    37: reducing learning rate of group 0 to 1.1400e-04.\n"
     ]
    },
    {
     "name": "stderr",
     "output_type": "stream",
     "text": [
      "Training: 100%|██████████| 302/302 [00:13<00:00, 22.78it/s]\n",
      "Evaluating: 100%|██████████| 34/34 [00:01<00:00, 25.66it/s]\n",
      "Training:   0%|          | 0/302 [00:00<?, ?it/s]"
     ]
    },
    {
     "name": "stdout",
     "output_type": "stream",
     "text": [
      "epoch 37, train loss: 0.197, valid rmspe: 0.181\n",
      "new best:0.1813957840204239\n"
     ]
    },
    {
     "name": "stderr",
     "output_type": "stream",
     "text": [
      "Training: 100%|██████████| 302/302 [00:12<00:00, 24.02it/s]\n",
      "Evaluating: 100%|██████████| 34/34 [00:01<00:00, 25.25it/s]\n",
      "Training:   0%|          | 0/302 [00:00<?, ?it/s]"
     ]
    },
    {
     "name": "stdout",
     "output_type": "stream",
     "text": [
      "epoch 38, train loss: 0.196, valid rmspe: 0.182\n"
     ]
    },
    {
     "name": "stderr",
     "output_type": "stream",
     "text": [
      "Training: 100%|██████████| 302/302 [00:13<00:00, 22.93it/s]\n",
      "Evaluating: 100%|██████████| 34/34 [00:01<00:00, 21.11it/s]\n",
      "Training:   0%|          | 0/302 [00:00<?, ?it/s]"
     ]
    },
    {
     "name": "stdout",
     "output_type": "stream",
     "text": [
      "epoch 39, train loss: 0.196, valid rmspe: 0.183\n"
     ]
    },
    {
     "name": "stderr",
     "output_type": "stream",
     "text": [
      "Training: 100%|██████████| 302/302 [00:12<00:00, 23.37it/s]\n",
      "Evaluating: 100%|██████████| 34/34 [00:01<00:00, 20.73it/s]\n",
      "Training:   0%|          | 0/302 [00:00<?, ?it/s]"
     ]
    },
    {
     "name": "stdout",
     "output_type": "stream",
     "text": [
      "epoch 40, train loss: 0.195, valid rmspe: 0.185\n"
     ]
    },
    {
     "name": "stderr",
     "output_type": "stream",
     "text": [
      "Training: 100%|██████████| 302/302 [00:17<00:00, 17.66it/s]\n",
      "Evaluating: 100%|██████████| 34/34 [00:01<00:00, 17.39it/s]\n",
      "Training:   0%|          | 0/302 [00:00<?, ?it/s]"
     ]
    },
    {
     "name": "stdout",
     "output_type": "stream",
     "text": [
      "epoch 41, train loss: 0.195, valid rmspe: 0.183\n"
     ]
    },
    {
     "name": "stderr",
     "output_type": "stream",
     "text": [
      "Training: 100%|██████████| 302/302 [00:16<00:00, 18.36it/s]\n",
      "Evaluating: 100%|██████████| 34/34 [00:01<00:00, 20.01it/s]\n",
      "Training:   0%|          | 0/302 [00:00<?, ?it/s]"
     ]
    },
    {
     "name": "stdout",
     "output_type": "stream",
     "text": [
      "epoch 42, train loss: 0.195, valid rmspe: 0.183\n"
     ]
    },
    {
     "name": "stderr",
     "output_type": "stream",
     "text": [
      "Training: 100%|██████████| 302/302 [00:17<00:00, 16.85it/s]\n",
      "Evaluating: 100%|██████████| 34/34 [00:01<00:00, 20.80it/s]\n",
      "Training:   0%|          | 0/302 [00:00<?, ?it/s]"
     ]
    },
    {
     "name": "stdout",
     "output_type": "stream",
     "text": [
      "epoch 43, train loss: 0.194, valid rmspe: 0.183\n"
     ]
    },
    {
     "name": "stderr",
     "output_type": "stream",
     "text": [
      "Training: 100%|██████████| 302/302 [00:17<00:00, 17.56it/s]\n",
      "Evaluating: 100%|██████████| 34/34 [00:01<00:00, 21.00it/s]\n",
      "Training:   0%|          | 0/302 [00:00<?, ?it/s]"
     ]
    },
    {
     "name": "stdout",
     "output_type": "stream",
     "text": [
      "epoch 44, train loss: 0.194, valid rmspe: 0.183\n"
     ]
    },
    {
     "name": "stderr",
     "output_type": "stream",
     "text": [
      "Training: 100%|██████████| 302/302 [00:14<00:00, 20.26it/s]\n",
      "Evaluating: 100%|██████████| 34/34 [00:01<00:00, 25.72it/s]\n",
      "Training:   0%|          | 0/302 [00:00<?, ?it/s]"
     ]
    },
    {
     "name": "stdout",
     "output_type": "stream",
     "text": [
      "epoch 45, train loss: 0.195, valid rmspe: 0.183\n"
     ]
    },
    {
     "name": "stderr",
     "output_type": "stream",
     "text": [
      "Training: 100%|██████████| 302/302 [00:12<00:00, 23.89it/s]\n",
      "Evaluating: 100%|██████████| 34/34 [00:01<00:00, 22.01it/s]\n",
      "Training:   0%|          | 0/302 [00:00<?, ?it/s]"
     ]
    },
    {
     "name": "stdout",
     "output_type": "stream",
     "text": [
      "epoch 46, train loss: 0.195, valid rmspe: 0.181\n",
      "new best:0.18086549639701843\n"
     ]
    },
    {
     "name": "stderr",
     "output_type": "stream",
     "text": [
      "Training: 100%|██████████| 302/302 [00:13<00:00, 22.92it/s]\n",
      "Evaluating: 100%|██████████| 34/34 [00:01<00:00, 25.77it/s]\n",
      "Training:   0%|          | 0/302 [00:00<?, ?it/s]"
     ]
    },
    {
     "name": "stdout",
     "output_type": "stream",
     "text": [
      "epoch 47, train loss: 0.194, valid rmspe: 0.181\n",
      "new best:0.18071645498275757\n"
     ]
    },
    {
     "name": "stderr",
     "output_type": "stream",
     "text": [
      "Training: 100%|██████████| 302/302 [00:12<00:00, 23.67it/s]\n",
      "Evaluating: 100%|██████████| 34/34 [00:01<00:00, 25.39it/s]\n",
      "Training:   0%|          | 0/302 [00:00<?, ?it/s]"
     ]
    },
    {
     "name": "stdout",
     "output_type": "stream",
     "text": [
      "epoch 48, train loss: 0.194, valid rmspe: 0.181\n"
     ]
    },
    {
     "name": "stderr",
     "output_type": "stream",
     "text": [
      "Training: 100%|██████████| 302/302 [00:13<00:00, 23.07it/s]\n",
      "Evaluating: 100%|██████████| 34/34 [00:01<00:00, 25.72it/s]\n"
     ]
    },
    {
     "name": "stdout",
     "output_type": "stream",
     "text": [
      "epoch 49, train loss: 0.196, valid rmspe: 0.188\n",
      "scores(sorted): [0.18033889, 0.18071645, 0.18120636, 0.18120651, 0.18130805, 0.18136571, 0.18159615, 0.1817045, 0.18170525, 0.18218175]\n",
      "total 3 models will be used.\n"
     ]
    }
   ],
   "source": [
    "device = torch.device('cuda' if torch.cuda.is_available() else 'cpu')\n",
    "print(device)\n",
    "\n",
    "del df, df_train\n",
    "gc.collect()\n",
    "\n",
    "def get_top_n_models(models, scores, top_n):\n",
    "    if len(models) <= top_n:\n",
    "        print('number of models are less than top_n. all models will be used')\n",
    "        return models\n",
    "    sorted_ = [(y, x) for y, x in sorted(zip(scores, models), key=lambda pair: pair[0])]\n",
    "    print(f'scores(sorted): {[y for y, _ in sorted_]}')\n",
    "    return [x for _, x in sorted_][:top_n]\n",
    "\n",
    "\n",
    "if PREDICT_MLP:\n",
    "    model_paths = []\n",
    "    scores = []\n",
    "    \n",
    "    if SHORTCUT_NN_IN_1ST_STAGE and IS_1ST_STAGE:\n",
    "        print('shortcut to save quota...')\n",
    "        epochs = 3\n",
    "        valid_th = 100\n",
    "    else:\n",
    "        epochs = 30\n",
    "        valid_th = NN_VALID_TH\n",
    "    \n",
    "    for i in range(NN_NUM_MODELS):\n",
    "        # MLP\n",
    "        nn_losses, nn_preds, scaler = train_nn(X, y, \n",
    "                                               [folds[-1]], \n",
    "                                               device=device, \n",
    "                                               batch_size=512,\n",
    "                                               mlp_bn=True,\n",
    "                                               mlp_hidden=256,\n",
    "                                               mlp_dropout=0.0,\n",
    "                                               emb_dim=30,\n",
    "                                               epochs=epochs,\n",
    "                                               lr=0.002,\n",
    "                                               max_lr=0.0055,\n",
    "                                               weight_decay=1e-7,\n",
    "                                               model_path='mlp_fold_{}' + f\"_seed{i}.pth\",\n",
    "                                               seed=i)\n",
    "        if nn_losses[0] < NN_VALID_TH:\n",
    "            print(f'model of seed {i} added.')\n",
    "            scores.append(nn_losses[0])\n",
    "            model_paths.append(f'artifacts/mlp_fold_0_seed{i}.pth')\n",
    "            np.save(f'pred_mlp_seed{i}.npy', nn_preds[0])\n",
    "\n",
    "    model_paths = get_top_n_models(model_paths, scores, NN_MODEL_TOP_N)\n",
    "    mlp_model = [torch.load(path, device) for path in model_paths]\n",
    "    print(f'total {len(mlp_model)} models will be used.')\n",
    "if PREDICT_CNN:\n",
    "    model_paths = []\n",
    "    scores = []\n",
    "        \n",
    "    if SHORTCUT_NN_IN_1ST_STAGE and IS_1ST_STAGE:\n",
    "        print('shortcut to save quota...')\n",
    "        epochs = 3\n",
    "        valid_th = 100\n",
    "    else:\n",
    "        epochs = 50\n",
    "        valid_th = NN_VALID_TH\n",
    "\n",
    "    for i in range(NN_NUM_MODELS):\n",
    "        nn_losses, nn_preds, scaler = train_nn(X, y, \n",
    "                                               [folds[-1]], \n",
    "                                               device=device, \n",
    "                                               cnn_hidden=8*128,\n",
    "                                               batch_size=1280,\n",
    "                                               model_type='cnn',\n",
    "                                               emb_dim=30,\n",
    "                                               epochs=epochs, #epochs,\n",
    "                                               cnn_channel1=128,\n",
    "                                               cnn_channel2=3*128,\n",
    "                                               cnn_channel3=3*128,\n",
    "                                               lr=0.00038, #0.0011,\n",
    "                                               max_lr=0.0013,\n",
    "                                               weight_decay=6.5e-6,\n",
    "                                               optimizer_type='adam',\n",
    "                                               scheduler_type='reduce',\n",
    "                                               model_path='cnn_fold_{}' + f\"_seed{i}.pth\",\n",
    "                                               seed=i,\n",
    "                                               cnn_dropout=0.0,\n",
    "                                               cnn_weight_norm=True,\n",
    "                                               cnn_leaky_relu=False,\n",
    "                                               patience=8,\n",
    "                                               factor=0.3)\n",
    "        if nn_losses[0] < valid_th:\n",
    "            model_paths.append(f'artifacts/cnn_fold_0_seed{i}.pth')\n",
    "            scores.append(nn_losses[0])\n",
    "            np.save(f'pred_cnn_seed{i}.npy', nn_preds[0])\n",
    "            \n",
    "    model_paths = get_top_n_models(model_paths, scores, NN_MODEL_TOP_N)\n",
    "    cnn_model = [torch.load(path, device) for path in model_paths]\n",
    "    print(f'total {len(cnn_model)} models will be used.')\n",
    "    \n",
    "if PREDICT_TABNET:\n",
    "    tab_model = []\n",
    "    scores = []\n",
    "        \n",
    "    if SHORTCUT_NN_IN_1ST_STAGE and IS_1ST_STAGE:\n",
    "        print('shortcut to save quota...')\n",
    "        epochs = 10\n",
    "        valid_th = 1000\n",
    "    else:\n",
    "        print('train full')\n",
    "        epochs = 250\n",
    "        valid_th = NN_VALID_TH\n",
    "\n",
    "    for i in range(TABNET_NUM_MODELS):\n",
    "        nn_losses, nn_preds, scaler, model = train_tabnet(X, y,  \n",
    "                                                          [folds[-1]], \n",
    "                                                          batch_size=1280,\n",
    "                                                          epochs=epochs, #epochs,\n",
    "                                                          lr=0.04,\n",
    "                                                          patience=50,\n",
    "                                                          factor=0.5,\n",
    "                                                          gamma=1.6,\n",
    "                                                          lambda_sparse=3.55e-6,\n",
    "                                                          seed=i,\n",
    "                                                          n_a=36)\n",
    "        if nn_losses[0] < valid_th:\n",
    "            tab_model.append(model)\n",
    "            scores.append(nn_losses[0])\n",
    "            np.save(f'pred_tab_seed{i}.npy', nn_preds[0])\n",
    "            model.save_model(f'artifacts/tabnet_fold_0_seed{i}')\n",
    "            \n",
    "    tab_model = get_top_n_models(tab_model, scores, TAB_MODEL_TOP_N)\n",
    "    print(f'total {len(tab_model)} models will be used.')"
   ]
  },
  {
   "cell_type": "code",
   "execution_count": 27,
   "id": "8310b139",
   "metadata": {
    "execution": {
     "iopub.execute_input": "2022-01-23T06:57:18.576429Z",
     "iopub.status.busy": "2022-01-23T06:57:18.575179Z",
     "iopub.status.idle": "2022-01-23T06:57:18.578624Z",
     "shell.execute_reply": "2022-01-23T06:57:18.579071Z",
     "shell.execute_reply.started": "2022-01-15T04:57:17.81586Z"
    },
    "papermill": {
     "duration": 25.719783,
     "end_time": "2022-01-23T06:57:18.579245",
     "exception": false,
     "start_time": "2022-01-23T06:56:52.859462",
     "status": "completed"
    },
    "tags": []
   },
   "outputs": [
    {
     "data": {
      "text/plain": [
       "20"
      ]
     },
     "execution_count": 27,
     "metadata": {},
     "output_type": "execute_result"
    }
   ],
   "source": [
    "del X, y\n",
    "gc.collect()"
   ]
  },
  {
   "cell_type": "markdown",
   "id": "5eab5e90",
   "metadata": {
    "papermill": {
     "duration": 25.580305,
     "end_time": "2022-01-23T06:58:09.549193",
     "exception": false,
     "start_time": "2022-01-23T06:57:43.968888",
     "status": "completed"
    },
    "tags": []
   },
   "source": [
    "## Inference"
   ]
  },
  {
   "cell_type": "code",
   "execution_count": 28,
   "id": "4d9627f2",
   "metadata": {
    "execution": {
     "iopub.execute_input": "2022-01-23T06:58:59.994590Z",
     "iopub.status.busy": "2022-01-23T06:58:59.994023Z",
     "iopub.status.idle": "2022-01-23T06:58:59.998606Z",
     "shell.execute_reply": "2022-01-23T06:58:59.998183Z",
     "shell.execute_reply.started": "2022-01-15T04:57:18.009945Z"
    },
    "papermill": {
     "duration": 24.922124,
     "end_time": "2022-01-23T06:58:59.998728",
     "exception": false,
     "start_time": "2022-01-23T06:58:35.076604",
     "status": "completed"
    },
    "tags": []
   },
   "outputs": [
    {
     "name": "stdout",
     "output_type": "stream",
     "text": [
      "(3, 584)\n"
     ]
    }
   ],
   "source": [
    "X_test = get_X(df_test)\n",
    "print(X_test.shape)"
   ]
  },
  {
   "cell_type": "code",
   "execution_count": 29,
   "id": "0b678419",
   "metadata": {
    "execution": {
     "iopub.execute_input": "2022-01-23T06:59:51.678805Z",
     "iopub.status.busy": "2022-01-23T06:59:51.677926Z",
     "iopub.status.idle": "2022-01-23T06:59:52.468053Z",
     "shell.execute_reply": "2022-01-23T06:59:52.468570Z",
     "shell.execute_reply.started": "2022-01-15T04:57:18.025123Z"
    },
    "papermill": {
     "duration": 26.521254,
     "end_time": "2022-01-23T06:59:52.468717",
     "exception": false,
     "start_time": "2022-01-23T06:59:25.947463",
     "status": "completed"
    },
    "tags": []
   },
   "outputs": [
    {
     "name": "stderr",
     "output_type": "stream",
     "text": [
      "Evaluating: 100%|██████████| 1/1 [00:00<00:00,  2.74it/s]\n",
      "Evaluating:   0%|          | 0/1 [00:00<?, ?it/s]"
     ]
    },
    {
     "name": "stdout",
     "output_type": "stream",
     "text": [
      "mlp: (3,)\n"
     ]
    },
    {
     "name": "stderr",
     "output_type": "stream",
     "text": [
      "Evaluating: 100%|██████████| 1/1 [00:00<00:00,  2.76it/s]"
     ]
    },
    {
     "name": "stdout",
     "output_type": "stream",
     "text": [
      "cnn: (3,)\n",
      "prediction will be made by: ['gbdt', 'mlp', 'cnn']\n"
     ]
    },
    {
     "name": "stderr",
     "output_type": "stream",
     "text": [
      "\n"
     ]
    }
   ],
   "source": [
    "df_pred = pd.DataFrame()\n",
    "df_pred['row_id'] = df_test['stock_id'].astype(str) + '-' + df_test['time_id'].astype(str)\n",
    "\n",
    "predictions = {}\n",
    "\n",
    "prediction_weights = {}\n",
    "\n",
    "if PREDICT_GBDT:\n",
    "    gbdt_preds = booster.predict(X_test)\n",
    "    predictions['gbdt'] = gbdt_preds\n",
    "    prediction_weights['gbdt'] = 4\n",
    "\n",
    "\n",
    "if PREDICT_MLP and mlp_model:\n",
    "    try:\n",
    "        mlp_preds = predict_nn(X_test, mlp_model, scaler, device, ensemble_method=ENSEMBLE_METHOD)\n",
    "        print(f'mlp: {mlp_preds.shape}')\n",
    "        predictions['mlp'] = mlp_preds\n",
    "        prediction_weights['mlp'] = 1\n",
    "    except:\n",
    "        print(f'failed to predict mlp: {traceback.format_exc()}')\n",
    "\n",
    "\n",
    "if PREDICT_CNN and cnn_model:\n",
    "    try:\n",
    "        cnn_preds = predict_nn(X_test, cnn_model, scaler, device, ensemble_method=ENSEMBLE_METHOD)\n",
    "        print(f'cnn: {cnn_preds.shape}')\n",
    "        predictions['cnn'] = cnn_preds\n",
    "        prediction_weights['cnn'] = 4\n",
    "    except:\n",
    "        print(f'failed to predict cnn: {traceback.format_exc()}')\n",
    "\n",
    "\n",
    "if PREDICT_TABNET and tab_model:\n",
    "    try:\n",
    "        tab_preds = predict_tabnet(X_test, tab_model, scaler, ensemble_method=ENSEMBLE_METHOD).flatten()\n",
    "        print(f'tab: {tab_preds.shape}')\n",
    "        predictions['tab'] = tab_preds\n",
    "        prediction_weights['tab'] = 1\n",
    "    except:\n",
    "        print(f'failed to predict tab: {traceback.format_exc()}')\n",
    "\n",
    "        \n",
    "overall_preds = None\n",
    "overall_weight = np.sum(list(prediction_weights.values()))\n",
    "\n",
    "print(f'prediction will be made by: {list(prediction_weights.keys())}')\n",
    "\n",
    "for name, preds in predictions.items():\n",
    "    w = prediction_weights[name] / overall_weight\n",
    "    if overall_preds is None:\n",
    "        overall_preds = preds * w\n",
    "    else:\n",
    "        overall_preds += preds * w\n",
    "        \n",
    "df_pred['target'] = np.clip(overall_preds, 0, None)\n"
   ]
  },
  {
   "cell_type": "code",
   "execution_count": 30,
   "id": "d71a77be",
   "metadata": {
    "execution": {
     "iopub.execute_input": "2022-01-23T07:00:43.579503Z",
     "iopub.status.busy": "2022-01-23T07:00:43.578812Z",
     "iopub.status.idle": "2022-01-23T07:00:43.602164Z",
     "shell.execute_reply": "2022-01-23T07:00:43.602580Z",
     "shell.execute_reply.started": "2022-01-15T04:57:18.056985Z"
    },
    "papermill": {
     "duration": 25.584209,
     "end_time": "2022-01-23T07:00:43.602727",
     "exception": false,
     "start_time": "2022-01-23T07:00:18.018518",
     "status": "completed"
    },
    "tags": []
   },
   "outputs": [],
   "source": [
    "sub = pd.read_csv(os.path.join(DATA_DIR, 'optiver-realized-volatility-prediction', 'sample_submission.csv'))\n",
    "submission = pd.merge(sub[['row_id']], df_pred[['row_id', 'target']], how='left')\n",
    "submission['target'] = submission['target'].fillna(0)\n",
    "submission.to_csv('submission.csv', index=False)"
   ]
  }
 ],
 "metadata": {
  "kernelspec": {
   "display_name": "Python 3 (ipykernel)",
   "language": "python",
   "name": "python3"
  },
  "language_info": {
   "codemirror_mode": {
    "name": "ipython",
    "version": 3
   },
   "file_extension": ".py",
   "mimetype": "text/x-python",
   "name": "python",
   "nbconvert_exporter": "python",
   "pygments_lexer": "ipython3",
   "version": "3.9.7"
  },
  "papermill": {
   "default_parameters": {},
   "duration": 16517.385856,
   "end_time": "2022-01-23T07:01:10.301218",
   "environment_variables": {},
   "exception": null,
   "input_path": "__notebook__.ipynb",
   "output_path": "__notebook__.ipynb",
   "parameters": {},
   "start_time": "2022-01-23T02:25:52.915362",
   "version": "2.3.3"
  }
 },
 "nbformat": 4,
 "nbformat_minor": 5
}
